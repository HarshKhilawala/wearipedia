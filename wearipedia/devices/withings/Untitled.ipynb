{
 "cells": [
  {
   "cell_type": "code",
   "execution_count": 1,
   "id": "a18f769d-514a-491b-ad36-30a781e3637f",
   "metadata": {},
   "outputs": [],
   "source": [
    "import wearipedia"
   ]
  },
  {
   "cell_type": "code",
   "execution_count": 2,
   "id": "478227b0-83e4-455d-973b-ce78e2861d44",
   "metadata": {},
   "outputs": [],
   "source": [
    "device = wearipedia.get_device(\"dexcom/pro_cgm\")"
   ]
  },
  {
   "cell_type": "code",
   "execution_count": 3,
   "id": "d6c90b0a-c260-413e-ae65-e926c456ff07",
   "metadata": {},
   "outputs": [
    {
     "ename": "AttributeError",
     "evalue": "module 'wearipedia.devices.dexcom.pro_cgm' has no attribute 'Whoop4'",
     "output_type": "error",
     "traceback": [
      "\u001b[0;31m---------------------------------------------------------------------------\u001b[0m",
      "\u001b[0;31mAttributeError\u001b[0m                            Traceback (most recent call last)",
      "Cell \u001b[0;32mIn [3], line 1\u001b[0m\n\u001b[0;32m----> 1\u001b[0m device \u001b[38;5;241m=\u001b[39m wearipedia\u001b[38;5;241m.\u001b[39mget_device(\u001b[38;5;124m\"\u001b[39m\u001b[38;5;124mdexcom/pro_cgm\u001b[39m\u001b[38;5;124m\"\u001b[39m)\n\u001b[1;32m      3\u001b[0m device\u001b[38;5;241m.\u001b[39mauthorize(auth_tokens)\n\u001b[1;32m      5\u001b[0m \u001b[38;5;28;01mif\u001b[39;00m \u001b[38;5;129;01mnot\u001b[39;00m device\u001b[38;5;241m.\u001b[39mauthorized():\n",
      "File \u001b[0;32m/workspace/wearipedia/wearipedia/__init__.py:66\u001b[0m, in \u001b[0;36mget_device\u001b[0;34m(device_name)\u001b[0m\n\u001b[1;32m     63\u001b[0m     loader \u001b[38;5;241m=\u001b[39m importlib\u001b[38;5;241m.\u001b[39mmachinery\u001b[38;5;241m.\u001b[39mSourceFileLoader(\u001b[38;5;124m\"\u001b[39m\u001b[38;5;124mwearipedia.devices.whoop.whoop_4\u001b[39m\u001b[38;5;124m\"\u001b[39m, module_path)\n\u001b[1;32m     64\u001b[0m     mod \u001b[38;5;241m=\u001b[39m loader\u001b[38;5;241m.\u001b[39mload_module()\n\u001b[0;32m---> 66\u001b[0m \u001b[38;5;28;01mreturn\u001b[39;00m \u001b[38;5;28;43mgetattr\u001b[39;49m\u001b[43m(\u001b[49m\u001b[43mmodule\u001b[49m\u001b[43m,\u001b[49m\u001b[43m \u001b[49m\u001b[38;5;124;43m'\u001b[39;49m\u001b[38;5;124;43mWhoop4\u001b[39;49m\u001b[38;5;124;43m'\u001b[39;49m\u001b[43m)\u001b[49m\n",
      "\u001b[0;31mAttributeError\u001b[0m: module 'wearipedia.devices.dexcom.pro_cgm' has no attribute 'Whoop4'"
     ]
    }
   ],
   "source": [
    "device = wearipedia.get_device(\"dexcom/pro_cgm\")\n",
    "\n",
    "device.authorize(auth_tokens)\n",
    "\n",
    "if not device.authorized():\n",
    "    device.gen_synthetic_data()\n",
    "\n",
    "\n",
    "cycles_df = device.get_data('cycles', params)\n",
    "\n",
    "metrics_df = device.get_data('metrics', params)\n"
   ]
  },
  {
   "cell_type": "code",
   "execution_count": 3,
   "id": "e77b5459-cc49-44d9-9ee2-9b18aa9a5657",
   "metadata": {},
   "outputs": [
    {
     "data": {
      "text/plain": [
       "['__class__',\n",
       " '__delattr__',\n",
       " '__dict__',\n",
       " '__dir__',\n",
       " '__doc__',\n",
       " '__eq__',\n",
       " '__format__',\n",
       " '__ge__',\n",
       " '__getattribute__',\n",
       " '__gt__',\n",
       " '__hash__',\n",
       " '__init__',\n",
       " '__init_subclass__',\n",
       " '__le__',\n",
       " '__lt__',\n",
       " '__module__',\n",
       " '__ne__',\n",
       " '__new__',\n",
       " '__reduce__',\n",
       " '__reduce_ex__',\n",
       " '__repr__',\n",
       " '__setattr__',\n",
       " '__sizeof__',\n",
       " '__str__',\n",
       " '__subclasshook__',\n",
       " '__weakref__',\n",
       " 'authorize',\n",
       " 'authorized',\n",
       " 'gen_synthetic_data',\n",
       " 'get_data']"
      ]
     },
     "execution_count": 3,
     "metadata": {},
     "output_type": "execute_result"
    }
   ],
   "source": [
    "dir(device)"
   ]
  },
  {
   "cell_type": "code",
   "execution_count": null,
   "id": "24595410-5a75-45c9-b85e-450612bb7254",
   "metadata": {},
   "outputs": [],
   "source": []
  }
 ],
 "metadata": {
  "kernelspec": {
   "display_name": "Python 3 (ipykernel)",
   "language": "python",
   "name": "python3"
  },
  "language_info": {
   "codemirror_mode": {
    "name": "ipython",
    "version": 3
   },
   "file_extension": ".py",
   "mimetype": "text/x-python",
   "name": "python",
   "nbconvert_exporter": "python",
   "pygments_lexer": "ipython3",
   "version": "3.10.6"
  }
 },
 "nbformat": 4,
 "nbformat_minor": 5
}
