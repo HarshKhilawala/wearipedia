{
  "nbformat": 4,
  "nbformat_minor": 0,
  "metadata": {
    "colab": {
      "provenance": []
    },
    "kernelspec": {
      "name": "python3",
      "display_name": "Python 3"
    },
    "language_info": {
      "name": "python"
    }
  },
  "cells": [
    {
      "cell_type": "markdown",
      "source": [
        "# Guide to Extracting Data w/ APIs from Google Fit"
      ],
      "metadata": {
        "id": "9mCugrqAkjQp"
      }
    },
    {
      "cell_type": "markdown",
      "source": [
        "\n",
        "<img src='https://i.imgur.com/Oc6P36u.jpg' height=\"500\"> "
      ],
      "metadata": {
        "id": "LfvlPsten9XK"
      }
    },
    {
      "cell_type": "markdown",
      "source": [
        "A picture of the Google Fit Mobile Application"
      ],
      "metadata": {
        "id": "ps4iu7rlohJB"
      }
    },
    {
      "cell_type": "markdown",
      "source": [
        "Google Fit is Google's version of Apple Health. It lets you track your fitness activity and health data from all of your wearable devices like Apple Watches, Samsung Galaxy Watches, Polar Smartwatches, etc. <br>\n",
        "\n",
        "Google Fit is completely free. It also comes preloaded on Android Wear watches and can be downloaded from the Apple App and Google Play stores. <br>\n",
        "\n",
        "We've been using the Google Fit application for the past few weeks and we will show you how to extract its data, visualize your activities and compute correlations between multiple metrics of the data. The Google Fit API allows the users to extract all kinds of data on workouts and medical health. However, for this notebook, we will be focusing on metrics of the participant's daily summary and activities such as steps, heart rate, workouts, etc.\n",
        "\n"
      ],
      "metadata": {
        "id": "FEUVgmeOolGN"
      }
    },
    {
      "cell_type": "markdown",
      "source": [
        "We will be able to extract the following parameters:\n",
        "\n",
        "Parameter Name  | Sampling Frequency \n",
        "-------------------|------------------\n",
        "Sleep Duration |  Daily\n",
        "Reproductive Health (Period Flow) |  Daily\n",
        "[Move Minutes](https://developers.google.com/fit/datatypes/aggregate#move_minutes_summary) |  Daily\n",
        "[Speed](https://developers.google.com/fit/datatypes/aggregate#speed_summary) |  Daily\n",
        "Energy Expended |  Daily\n",
        "Blood Glucose      |  Per Minute \n",
        "Oxygen Saturation |  Per Minute \n",
        "Steps |  Per Minute \n",
        "Blood Pressure |  Per Minute \n",
        "Body Temperature |  Per Minute\n",
        "Calories Consumed |  Per Minute\n",
        "Heart Rate |  Every 5 seconds "
      ],
      "metadata": {
        "id": "rdCdPDGjpVvr"
      }
    },
    {
      "cell_type": "markdown",
      "source": [
        "In this guide, we sequentially cover the following five topics to extract data from the Google Fit API:\n",
        "\n",
        "1. **Setup**<br>\n",
        "   1.1 Setup and usage guidelines for the participant. <br>\n",
        "2. **Authentication/Authorization**<br>\n",
        "   2.1 Setup and usage guidelines for the researcher.<br>\n",
        "3. **Data extraction**<br>\n",
        "  3.1 Extracting Data from the Google Fit API<br>\n",
        "4. **Data visualization & analysis** <br>\n",
        "  4.1 Visualizing participant's Weekly Step Activity! <br>\n",
        "  4.2 Visualizing participant's Weekly Heart Activity! <br>\n",
        "  4.3 Visualizing participant's Detailed Heart Rate Breakdown!<br>\n",
        "5. **Data Analysis** <br>\n",
        "  5.1 Analyzing correlation between Heart Rate and Number of Steps! <br>\n",
        "  5.2 Outlier Detection!\n"
      ],
      "metadata": {
        "id": "7mt-S-HJpDXn"
      }
    },
    {
      "cell_type": "markdown",
      "source": [
        "Before starting, note that the Google Fit access token necessary to extract data only lasts for 1 hour. Thus, the researcher should fetch the data as soon as the participant provides the token.\n"
      ],
      "metadata": {
        "id": "5TK3bD61pfcW"
      }
    },
    {
      "cell_type": "markdown",
      "source": [
        "#1. Setup\n",
        "Relevant libraries are imported below"
      ],
      "metadata": {
        "id": "lO4eld2Wptxc"
      }
    },
    {
      "cell_type": "code",
      "source": [
        "pip install fsspec"
      ],
      "metadata": {
        "colab": {
          "base_uri": "https://localhost:8080/"
        },
        "id": "6TXQ9MsvZGu3",
        "outputId": "df5e8c04-37d3-4cd5-93ab-72d61b0cf33f"
      },
      "execution_count": null,
      "outputs": [
        {
          "output_type": "stream",
          "name": "stdout",
          "text": [
            "Looking in indexes: https://pypi.org/simple, https://us-python.pkg.dev/colab-wheels/public/simple/\n",
            "Requirement already satisfied: fsspec in /usr/local/lib/python3.8/dist-packages (2022.11.0)\n"
          ]
        }
      ]
    },
    {
      "cell_type": "code",
      "execution_count": null,
      "metadata": {
        "id": "yQsYYugQ3Lnz"
      },
      "outputs": [],
      "source": [
        "import requests\n",
        "import urllib3\n",
        "import os\n",
        "import json\n",
        "import httplib2\n",
        "import requests\n",
        "import datetime\n",
        "import matplotlib.pyplot as plt\n",
        "import numpy as np\n",
        "import pandas as pd\n",
        "from datetime import datetime\n",
        "from pandas.io.json import json_normalize\n",
        "import time\n",
        "from datetime import datetime, timedelta, date\n",
        "from apiclient.discovery import build\n",
        "from oauth2client.client import OAuth2WebServerFlow, flow_from_clientsecrets\n",
        "from oauth2client.file import Storage\n",
        "from scipy.signal import savgol_filter\n",
        "from sklearn.covariance import EllipticEnvelope\n",
        "import seaborn as sns\n",
        "import copy"
      ]
    },
    {
      "cell_type": "markdown",
      "source": [
        "##1.1 Setup and usage, participant:"
      ],
      "metadata": {
        "id": "WiLBjVQIroGi"
      }
    },
    {
      "cell_type": "markdown",
      "source": [
        "Note: These steps are to be followed by the participants from their account to grant the researcher with the access token."
      ],
      "metadata": {
        "id": "88tKPADCrq8F"
      }
    },
    {
      "cell_type": "markdown",
      "source": [
        "Step 1: Go to this link: https://developers.google.com/oauthplayground/"
      ],
      "metadata": {
        "id": "0inXTjIgrq6l"
      }
    },
    {
      "cell_type": "markdown",
      "source": [
        "Step 2: Choose fitness API v1 in the Select & authorize APIs menu\n",
        "<br>\n",
        "<img src='https://i.imgur.com/odrvr9v.png' width=\"500\" height=\"550\"> "
      ],
      "metadata": {
        "id": "jBK_eLksrwE7"
      }
    },
    {
      "cell_type": "markdown",
      "source": [
        "Step 3: Select all the different datatypes that you the researcher wants you to grant access to and click authorize APIs. Your clinical study coordinator might have more details regarding what sorts of health data they require. <br>\n",
        "<img src='https://i.imgur.com/L5PM8lB.png' width=\"450\" height=\"550\"> "
      ],
      "metadata": {
        "id": "g3tjZb82rzVv"
      }
    },
    {
      "cell_type": "markdown",
      "source": [
        "Step 4: Login with your account (the one the participant has connected with their Google Fit Account). <br>\n",
        "<img src='https://i.imgur.com/LEY8CnQ.png' width=\"400\" height=\"500\"> "
      ],
      "metadata": {
        "id": "1DADFxNzr2iJ"
      }
    },
    {
      "cell_type": "markdown",
      "source": [
        "Step 5: Click on ‘Continue’ \n",
        "<br>\n",
        "<img src=\"https://i.imgur.com/RLUtPeu.png\" height=\"500\" width=\"300\">"
      ],
      "metadata": {
        "id": "eEz022-5rzT7"
      }
    },
    {
      "cell_type": "markdown",
      "source": [
        "Step 6: Click on the exchange authorization code for tokens in Step2.\n",
        "<br>\n",
        "<img src=\"https://i.imgur.com/9KpZbJZ.png\">"
      ],
      "metadata": {
        "id": "z7J4cm1nsBCc"
      }
    },
    {
      "cell_type": "markdown",
      "source": [
        "Step 7: Copy and paste the access token from the Google Developer Playground and paste in the box in part section **2.1**. <br>\n",
        "<img src=\"https://i.imgur.com/Gv7PRGI.png\">"
      ],
      "metadata": {
        "id": "IjfPIJ6LsC-N"
      }
    },
    {
      "cell_type": "markdown",
      "source": [
        "#2. Authentication/Authorization\n",
        "To obtain access to data, authorization is required."
      ],
      "metadata": {
        "id": "kAHFZU25qovV"
      }
    },
    {
      "cell_type": "markdown",
      "source": [
        "Google Fit uses external devices to extract recorded activities, but it requires the participant to provide access tokens to access Google's API and read fitness data from their account."
      ],
      "metadata": {
        "id": "xPdyyCKTqrQb"
      }
    },
    {
      "cell_type": "markdown",
      "source": [
        "##2.1 Setup and usage, researcher:"
      ],
      "metadata": {
        "id": "m6zN3GawsHCa"
      }
    },
    {
      "cell_type": "code",
      "source": [
        "#@title Enter the Participant's Access Token\n",
        "\n",
        "google_access_token = 'ya29.a0AX9GBdXaNyTiM9YmEXioeS-tUAN32dQpG-VG3dRAWeJhZTIbPAm2qtEVBf3q-HSEpslo7MiNQUqs37BJ5PUCK5iVzkyjkurdhWGA_OcfypXzrQSU5AHwfT6vG2a3ap1UcpsDOEiws9xPmLii96ZsWqD_3ocDaCgYKAYISARESFQHUCsbCaIJ2jbngr-oJW3yWy0UXAw0163' #@param {type:\"string\"}\n",
        "\n",
        "print('Access Token: '+google_access_token)"
      ],
      "metadata": {
        "colab": {
          "base_uri": "https://localhost:8080/"
        },
        "id": "p9vBA6i9pvKZ",
        "outputId": "5585c216-8b60-4633-d38a-2b73e3623e3e"
      },
      "execution_count": null,
      "outputs": [
        {
          "output_type": "stream",
          "name": "stdout",
          "text": [
            "Access Token: ya29.a0AX9GBdXaNyTiM9YmEXioeS-tUAN32dQpG-VG3dRAWeJhZTIbPAm2qtEVBf3q-HSEpslo7MiNQUqs37BJ5PUCK5iVzkyjkurdhWGA_OcfypXzrQSU5AHwfT6vG2a3ap1UcpsDOEiws9xPmLii96ZsWqD_3ocDaCgYKAYISARESFQHUCsbCaIJ2jbngr-oJW3yWy0UXAw0163\n"
          ]
        }
      ]
    },
    {
      "cell_type": "markdown",
      "source": [
        "#3. Data extraction"
      ],
      "metadata": {
        "id": "340yyni_x3nP"
      }
    },
    {
      "cell_type": "markdown",
      "source": [
        "Data can be extracted via an [official API](https://developers.google.com/fit), which is documented [here](https://developers.google.com/fit/rest).<br><br>\n",
        "\n",
        "We go into a bit of detail as to how this works below. This is not strictly necessary for extracting your data once, but it can be useful if you want to extend this notebook for your own usage. <br><br>\n",
        "\n",
        "The figure below shows how data is uploaded to Google servers. Google Fit automatically syncs with your fitness devices and Apple Health to sync your data.<br>\n",
        "\n",
        "<img src=\"https://i.imgur.com/1O0Mg3G.png\" height=\"500\">"
      ],
      "metadata": {
        "id": "QBEiG6eIx52f"
      }
    },
    {
      "cell_type": "markdown",
      "source": [
        "The next few lines create a post request to the Google Fit API and requests your data."
      ],
      "metadata": {
        "id": "UHiqZXSj2LEp"
      }
    },
    {
      "cell_type": "markdown",
      "source": [
        "To Extract Data from Google Fit, please enter a start date below. <br>"
      ],
      "metadata": {
        "id": "_EU8KN8s2P3f"
      }
    },
    {
      "cell_type": "code",
      "source": [
        "#@title Enter your Start Date\n",
        "\n",
        "year_string = '2022' #@param {type:\"string\"}\n",
        "month_string = '05' #@param {type:\"string\"}\n",
        "day_string = '16' #@param{type:\"string\"}\n",
        "\n",
        "print('Date is: '+year_string+'/'+month_string+'/'+day_string)"
      ],
      "metadata": {
        "colab": {
          "base_uri": "https://localhost:8080/"
        },
        "id": "B1rs7mTqsIdj",
        "outputId": "031ac18d-b913-4e64-c32d-fc4b26fd0aea"
      },
      "execution_count": null,
      "outputs": [
        {
          "output_type": "stream",
          "name": "stdout",
          "text": [
            "Date is: 2022/05/16\n"
          ]
        }
      ]
    },
    {
      "cell_type": "markdown",
      "source": [
        "Next, put in your end date."
      ],
      "metadata": {
        "id": "9vdvLwgk2WCk"
      }
    },
    {
      "cell_type": "code",
      "source": [
        "#@title Enter your Start Date\n",
        "\n",
        "end_year_string = '2022' #@param {type:\"string\"}\n",
        "end_month_string = '06' #@param {type:\"string\"}\n",
        "end_day_string = '15' #@param{type:\"string\"}\n",
        "\n",
        "x = datetime.now()\n",
        "end_time = int(datetime(int(end_year_string), int(end_month_string), \n",
        "                         int(end_day_string)).timestamp()*1000)\n",
        "start_time =int(datetime(int(year_string), int(month_string), \n",
        "                         int(day_string)).timestamp()*1000)\n",
        "\n",
        "\n",
        "print('Date is: '+end_year_string+'/'+end_month_string+'/'+end_day_string)"
      ],
      "metadata": {
        "id": "fFi9aU992SOf",
        "colab": {
          "base_uri": "https://localhost:8080/"
        },
        "outputId": "0c78febd-1ccf-460d-8aaf-f5f1ef6f480a"
      },
      "execution_count": null,
      "outputs": [
        {
          "output_type": "stream",
          "name": "stdout",
          "text": [
            "Date is: 2022/06/15\n"
          ]
        }
      ]
    },
    {
      "cell_type": "markdown",
      "source": [
        "The code below does a post request to the Google Fit API requesting your daily step data.\n"
      ],
      "metadata": {
        "id": "m8wX_fmD2eXx"
      }
    },
    {
      "cell_type": "code",
      "source": [
        "\n",
        "api_url = \"https://www.googleapis.com/fitness/v1/users/me/dataset:aggregate\"\n",
        "\n",
        "g_access_token = google_access_token\n",
        "\n",
        "\n",
        "headers = {\n",
        "  \"Authorization\": \"Bearer {}\".format(g_access_token),\n",
        "  \"Content-Type\": \"application/json;encoding=utf-8\"\n",
        "  }\n",
        "\n",
        "body = {\n",
        "  \"aggregateBy\": [{\n",
        "    \"dataTypeName\": \"com.google.step_count.delta\",\n",
        "    \"dataSourceId\": \"derived:com.google.step_count.delta:com.google.android.gms:estimated_steps\"\n",
        "  }],\n",
        "  \"bucketByTime\": { \"durationMillis\": 86400000 },\n",
        "  \"startTimeMillis\": start_time,\n",
        "  \"endTimeMillis\": end_time\n",
        "}\n",
        "\n",
        "response = requests.post(api_url, data=json.dumps(body), headers=headers)"
      ],
      "metadata": {
        "id": "rUg9TdZq2X-j"
      },
      "execution_count": null,
      "outputs": []
    },
    {
      "cell_type": "code",
      "source": [
        "steps = pd.read_json(response.text)"
      ],
      "metadata": {
        "id": "bMqSEtvu2gcI"
      },
      "execution_count": null,
      "outputs": []
    },
    {
      "cell_type": "markdown",
      "source": [
        "The code below does a post request to the Google Fit API requesting your daily heart_rate data."
      ],
      "metadata": {
        "id": "LpVtyIfO7LZD"
      }
    },
    {
      "cell_type": "code",
      "source": [
        "api_url = \"https://www.googleapis.com/fitness/v1/users/me/dataset:aggregate\"\n",
        "\n",
        "access_token = google_access_token\n",
        "\n",
        "\n",
        "headers = {\n",
        "  \"Authorization\": \"Bearer {}\".format(access_token),\n",
        "  \"Content-Type\": \"application/json;encoding=utf-8\"\n",
        "  }\n",
        "\n",
        "body = {\n",
        "  \"aggregateBy\": [{\n",
        "    \"dataTypeName\": \"com.google.heart_rate.bpm\",\n",
        "    \"dataSourceId\": \"derived:com.google.heart_rate.bpm:com.google.android.gms:merge_heart_rate_bpm\"  }],\n",
        "  \"bucketByTime\": { \"durationMillis\": 86400000 },\n",
        "  \"startTimeMillis\": start_time,\n",
        "  \"endTimeMillis\": end_time\n",
        "}\n",
        "\n",
        "response_hr = requests.post(api_url, data=json.dumps(body), headers=headers)"
      ],
      "metadata": {
        "id": "GQCWOykm7KkT"
      },
      "execution_count": null,
      "outputs": []
    },
    {
      "cell_type": "markdown",
      "source": [
        "#4. Data visualization"
      ],
      "metadata": {
        "id": "lb_ZWGBK3htu"
      }
    },
    {
      "cell_type": "markdown",
      "source": [
        "##4.1 Visualizing participant's Weekly Step Activity!"
      ],
      "metadata": {
        "id": "w2brPK9Q5En5"
      }
    },
    {
      "cell_type": "markdown",
      "source": [
        "Let's say you were interested in knowing how many steps you take in a day. If you had an iPhone you could go onto Apple Health and check out your step count that is being approximated by just your iphone's [built-in accelerometer](https://developer.apple.com/documentation/coremotion/getting_raw_accelerometer_events). You would see your Weekly Steps chart using the following plot: <br>\n",
        "<img src=\"https://i.imgur.com/gG8EbwJ.jpg\" height=\"300\"> <br>\n",
        "Let's recreate this for the your choice of week using the data that we have fetched from the Google Api!\n"
      ],
      "metadata": {
        "id": "Kae-L2tf5Icx"
      }
    },
    {
      "cell_type": "markdown",
      "source": [
        "Below, input the desired start and end dates for the plot above.\n",
        "\n",
        "\n"
      ],
      "metadata": {
        "id": "kH8jqZ4uqQJh"
      }
    },
    {
      "cell_type": "code",
      "source": [
        "#@title Set date range for the chart above\n",
        "\n",
        "start = \"2022-05-24\" #@param {type:\"date\"}\n",
        "end = \"2022-05-30\" #@param {type:\"date\"}"
      ],
      "metadata": {
        "id": "UputGnFiML-f"
      },
      "execution_count": null,
      "outputs": []
    },
    {
      "cell_type": "markdown",
      "source": [
        "Next, we will go over our start and end dates and find a list of all the dates that lie in our date range."
      ],
      "metadata": {
        "id": "S1oh8uifqUdq"
      }
    },
    {
      "cell_type": "code",
      "source": [
        "# A Dictionary to save the list of all the dates between end and start dates\n",
        "step_plot_dates= {}\n",
        "\n",
        "# Saving the end and start dates in a date format from the inputted strings\n",
        "step_plot_start_date = date(int(start.split('-')[0]),int(start.split('-')[1]),\n",
        "                            int(start.split('-')[2]))\n",
        "step_plot_end_date = date(int(end.split('-')[0]),int(end.split('-')[1]),\n",
        "                          int(end.split('-')[2]))\n",
        "\n",
        "# Finding the list of all dates between our start and end dates\n",
        "dates = list(pd.date_range(step_plot_start_date,step_plot_end_date,freq='d'))"
      ],
      "metadata": {
        "id": "iX1oV80h3amS"
      },
      "execution_count": null,
      "outputs": []
    },
    {
      "cell_type": "markdown",
      "source": [
        "Now, we will create a dictionary with all the dates and step counts which will be used in creating our plots. We will also fix the dictionary keys to be in the first three letters of the day name rather than the date."
      ],
      "metadata": {
        "id": "VlblPPfRqq1i"
      }
    },
    {
      "cell_type": "code",
      "source": [
        "# Dictionary to store the stepcount for each date\n",
        "stepcount = {}\n",
        "\n",
        "# Loop to go over each date in our list\n",
        "for date_val in dates:\n",
        "\n",
        "  # Initializing each date in our dictionary as 0\n",
        "  stepcount[date_val.day_name()[:3]+\" (\"+\n",
        "            date_val.to_pydatetime().strftime('%Y-%m-%d')+\")\"] = 0\n",
        "\n",
        "  # Checking each date in the steps dataset to save stepcount\n",
        "  for i in range(len(steps)):\n",
        "      if(date_val.to_pydatetime().strftime('%Y-%m-%d') == datetime.fromtimestamp(int(steps.iloc[i][0]['startTimeMillis'])// 1000).strftime('%Y-%m-%d')):\n",
        "        if len(steps.iloc[16].get('bucket')['dataset'][0]['point']) == 0:\n",
        "          continue\n",
        "        stepcount[date_val.day_name()[:3]+\" (\"+date_val.to_pydatetime().strftime('%Y-%m-%d')+\")\"] = stepcount[date_val.day_name()[:3]+\" (\"+date_val.to_pydatetime().strftime('%Y-%m-%d')+\")\"] +  steps.iloc[i].get('bucket')['dataset'][0]['point'][0]['value'][0]['intVal']"
      ],
      "metadata": {
        "id": "kNJ3gD8c5L71"
      },
      "execution_count": null,
      "outputs": []
    },
    {
      "cell_type": "code",
      "source": [
        "stepcount"
      ],
      "metadata": {
        "id": "Lz7ozkP2SC-C",
        "colab": {
          "base_uri": "https://localhost:8080/"
        },
        "outputId": "9073a04c-d635-4435-f4e5-36af9886779e"
      },
      "execution_count": null,
      "outputs": [
        {
          "output_type": "execute_result",
          "data": {
            "text/plain": [
              "{'Tue (2022-05-24)': 14537,\n",
              " 'Wed (2022-05-25)': 4613,\n",
              " 'Thu (2022-05-26)': 20761,\n",
              " 'Fri (2022-05-27)': 14863,\n",
              " 'Sat (2022-05-28)': 16210,\n",
              " 'Sun (2022-05-29)': 16099,\n",
              " 'Mon (2022-05-30)': 25391}"
            ]
          },
          "metadata": {},
          "execution_count": 12
        }
      ]
    },
    {
      "cell_type": "markdown",
      "source": [
        "If you look at the reference plot above, there is a header with the average statistics. In the next block, we will calculated the average values and the date range for the plot header."
      ],
      "metadata": {
        "id": "nWSJW4rMrcNO"
      }
    },
    {
      "cell_type": "code",
      "source": [
        "# Counts the average steps in our plot and stores that as a formatted text\n",
        "average_steps = '{:,}'.format(int(np.mean(list(stepcount.values()))))\n",
        "\n",
        "# Saving the plot date range in the form of a string\n",
        "date_range_text = (str(step_plot_start_date.day)+' '+\n",
        "step_plot_start_date.strftime(\"%B\")[:3]+' - '+\n",
        " str(step_plot_end_date.day)+' '+step_plot_end_date.strftime(\"%B\")[:3]+\n",
        " ' '+ step_plot_start_date.strftime(\"%Y\"))"
      ],
      "metadata": {
        "id": "R9cYrZzHRuQr"
      },
      "execution_count": null,
      "outputs": []
    },
    {
      "cell_type": "markdown",
      "source": [
        "Now that we have our step count and the required xticks, it is finally time for us to plot our graph!"
      ],
      "metadata": {
        "id": "GpO852D6rCKu"
      }
    },
    {
      "cell_type": "code",
      "source": [
        "# Creating the matptplotlib graph\n",
        "plt1 = plt.figure(figsize=(16,8))\n",
        "ax = plt1.gca()\n",
        "\n",
        "# Adding grid lines to the chart\n",
        "plt.grid(color=\"#a1a1a1\", linestyle='--', linewidth=1, alpha = 0.2)\n",
        "\n",
        "# Plotting our bars\n",
        "plt.bar([key[:3] for key in stepcount.keys()],list(stepcount.values()),\n",
        "        color=\"#FD4B03\")\n",
        "\n",
        "# Setting labels and titles\n",
        "plt.ylabel(\"Step Count\",color=\"#a1a1a1\")\n",
        "\n",
        "# Adding Step header\n",
        "plt.text(0.15,1,\"AVERAGE\",fontsize=14,color='#89898B',\n",
        "         transform=plt1.transFigure,horizontalalignment='center',\n",
        "         weight='light')\n",
        "plt.text(0.155,0.957,average_steps,fontsize=24,transform=plt1.transFigure,\n",
        "         horizontalalignment='center')\n",
        "plt.text(0.215,0.957,'steps',fontsize=18,transform=plt1.transFigure,\n",
        "         horizontalalignment='center',color='#89898B')\n",
        "plt.text(0.183,0.93,date_range_text,fontsize=14,color='#89898B',\n",
        "        transform=plt1.transFigure, horizontalalignment='center', weight='light')\n",
        "\n",
        "\n",
        "# Setting x and y ticks\n",
        "plt.yticks([0,5000,10000,15000,20000,25000])\n",
        "plt.xticks(color=\"#a1a1a1\")\n",
        "\n",
        "plt.show()"
      ],
      "metadata": {
        "id": "F6T-1lHS5NWA",
        "colab": {
          "base_uri": "https://localhost:8080/",
          "height": 563
        },
        "outputId": "9de6d008-9650-4164-82dd-a8b187d5fab0"
      },
      "execution_count": null,
      "outputs": [
        {
          "output_type": "display_data",
          "data": {
            "text/plain": [
              "<Figure size 1152x576 with 1 Axes>"
            ],
            "image/png": "[encoded data removed]"
          },
          "metadata": {}
        }
      ]
    },
    {
      "cell_type": "markdown",
      "source": [
        "<i>Above is a plot we created ourselves!</i>"
      ],
      "metadata": {
        "id": "rcbI-sFbhoMa"
      }
    },
    {
      "cell_type": "markdown",
      "source": [
        "##4.2 Visualizing participant's Weekly Heart Activity!"
      ],
      "metadata": {
        "id": "TPLqlkrd5dWs"
      }
    },
    {
      "cell_type": "markdown",
      "source": [
        "Similar to 4.1, if you were interested in checking out your heart rate values over the week then Apple Health would show your Weekly Heart Rate chart using the following plot: <br>\n",
        "<img src=\"https://i.imgur.com/hS9Q9uP.jpg\" height=\"600\"> <br>\n",
        "Let's recreate this for the your choice of week using the data that we have fetched from the Google Api! <br>\n",
        "\n",
        "First, we will save the data that we fetched from the Google Fit API in the form of a DataFrame for us to easily work with that data!\n"
      ],
      "metadata": {
        "id": "XecrWttl5jva"
      }
    },
    {
      "cell_type": "code",
      "source": [
        "# Saving the heart rate values in a DataFrame\n",
        "heart_rate = pd.read_json(response_hr.text)\n",
        "heart_rate.head()"
      ],
      "metadata": {
        "id": "3ejYCdUt5PIP",
        "colab": {
          "base_uri": "https://localhost:8080/",
          "height": 206
        },
        "outputId": "91a744f2-4532-4463-a0bc-ea00114dc917"
      },
      "execution_count": null,
      "outputs": [
        {
          "output_type": "execute_result",
          "data": {
            "text/plain": [
              "                                              bucket\n",
              "0  {'startTimeMillis': '1652659200000', 'endTimeM...\n",
              "1  {'startTimeMillis': '1652745600000', 'endTimeM...\n",
              "2  {'startTimeMillis': '1652832000000', 'endTimeM...\n",
              "3  {'startTimeMillis': '1652918400000', 'endTimeM...\n",
              "4  {'startTimeMillis': '1653004800000', 'endTimeM..."
            ],
            "text/html": [
              "\n",
              "  <div id=\"df-c12543fc-6b9f-4cc1-a837-3c23c41becd9\">\n",
              "    <div class=\"colab-df-container\">\n",
              "      <div>\n",
              "<style scoped>\n",
              "    .dataframe tbody tr th:only-of-type {\n",
              "        vertical-align: middle;\n",
              "    }\n",
              "\n",
              "    .dataframe tbody tr th {\n",
              "        vertical-align: top;\n",
              "    }\n",
              "\n",
              "    .dataframe thead th {\n",
              "        text-align: right;\n",
              "    }\n",
              "</style>\n",
              "<table border=\"1\" class=\"dataframe\">\n",
              "  <thead>\n",
              "    <tr style=\"text-align: right;\">\n",
              "      <th></th>\n",
              "      <th>bucket</th>\n",
              "    </tr>\n",
              "  </thead>\n",
              "  <tbody>\n",
              "    <tr>\n",
              "      <th>0</th>\n",
              "      <td>{'startTimeMillis': '1652659200000', 'endTimeM...</td>\n",
              "    </tr>\n",
              "    <tr>\n",
              "      <th>1</th>\n",
              "      <td>{'startTimeMillis': '1652745600000', 'endTimeM...</td>\n",
              "    </tr>\n",
              "    <tr>\n",
              "      <th>2</th>\n",
              "      <td>{'startTimeMillis': '1652832000000', 'endTimeM...</td>\n",
              "    </tr>\n",
              "    <tr>\n",
              "      <th>3</th>\n",
              "      <td>{'startTimeMillis': '1652918400000', 'endTimeM...</td>\n",
              "    </tr>\n",
              "    <tr>\n",
              "      <th>4</th>\n",
              "      <td>{'startTimeMillis': '1653004800000', 'endTimeM...</td>\n",
              "    </tr>\n",
              "  </tbody>\n",
              "</table>\n",
              "</div>\n",
              "      <button class=\"colab-df-convert\" onclick=\"convertToInteractive('df-c12543fc-6b9f-4cc1-a837-3c23c41becd9')\"\n",
              "              title=\"Convert this dataframe to an interactive table.\"\n",
              "              style=\"display:none;\">\n",
              "        \n",
              "  <svg xmlns=\"http://www.w3.org/2000/svg\" height=\"24px\"viewBox=\"0 0 24 24\"\n",
              "       width=\"24px\">\n",
              "    <path d=\"M0 0h24v24H0V0z\" fill=\"none\"/>\n",
              "    <path d=\"M18.56 5.44l.94 2.06.94-2.06 2.06-.94-2.06-.94-.94-2.06-.94 2.06-2.06.94zm-11 1L8.5 8.5l.94-2.06 2.06-.94-2.06-.94L8.5 2.5l-.94 2.06-2.06.94zm10 10l.94 2.06.94-2.06 2.06-.94-2.06-.94-.94-2.06-.94 2.06-2.06.94z\"/><path d=\"M17.41 7.96l-1.37-1.37c-.4-.4-.92-.59-1.43-.59-.52 0-1.04.2-1.43.59L10.3 9.45l-7.72 7.72c-.78.78-.78 2.05 0 2.83L4 21.41c.39.39.9.59 1.41.59.51 0 1.02-.2 1.41-.59l7.78-7.78 2.81-2.81c.8-.78.8-2.07 0-2.86zM5.41 20L4 18.59l7.72-7.72 1.47 1.35L5.41 20z\"/>\n",
              "  </svg>\n",
              "      </button>\n",
              "      \n",
              "  <style>\n",
              "    .colab-df-container {\n",
              "      display:flex;\n",
              "      flex-wrap:wrap;\n",
              "      gap: 12px;\n",
              "    }\n",
              "\n",
              "    .colab-df-convert {\n",
              "      background-color: #E8F0FE;\n",
              "      border: none;\n",
              "      border-radius: 50%;\n",
              "      cursor: pointer;\n",
              "      display: none;\n",
              "      fill: #1967D2;\n",
              "      height: 32px;\n",
              "      padding: 0 0 0 0;\n",
              "      width: 32px;\n",
              "    }\n",
              "\n",
              "    .colab-df-convert:hover {\n",
              "      background-color: #E2EBFA;\n",
              "      box-shadow: 0px 1px 2px rgba(60, 64, 67, 0.3), 0px 1px 3px 1px rgba(60, 64, 67, 0.15);\n",
              "      fill: #174EA6;\n",
              "    }\n",
              "\n",
              "    [theme=dark] .colab-df-convert {\n",
              "      background-color: #3B4455;\n",
              "      fill: #D2E3FC;\n",
              "    }\n",
              "\n",
              "    [theme=dark] .colab-df-convert:hover {\n",
              "      background-color: #434B5C;\n",
              "      box-shadow: 0px 1px 3px 1px rgba(0, 0, 0, 0.15);\n",
              "      filter: drop-shadow(0px 1px 2px rgba(0, 0, 0, 0.3));\n",
              "      fill: #FFFFFF;\n",
              "    }\n",
              "  </style>\n",
              "\n",
              "      <script>\n",
              "        const buttonEl =\n",
              "          document.querySelector('#df-c12543fc-6b9f-4cc1-a837-3c23c41becd9 button.colab-df-convert');\n",
              "        buttonEl.style.display =\n",
              "          google.colab.kernel.accessAllowed ? 'block' : 'none';\n",
              "\n",
              "        async function convertToInteractive(key) {\n",
              "          const element = document.querySelector('#df-c12543fc-6b9f-4cc1-a837-3c23c41becd9');\n",
              "          const dataTable =\n",
              "            await google.colab.kernel.invokeFunction('convertToInteractive',\n",
              "                                                     [key], {});\n",
              "          if (!dataTable) return;\n",
              "\n",
              "          const docLinkHtml = 'Like what you see? Visit the ' +\n",
              "            '<a target=\"_blank\" href=https://colab.research.google.com/notebooks/data_table.ipynb>data table notebook</a>'\n",
              "            + ' to learn more about interactive tables.';\n",
              "          element.innerHTML = '';\n",
              "          dataTable['output_type'] = 'display_data';\n",
              "          await google.colab.output.renderOutput(dataTable, element);\n",
              "          const docLink = document.createElement('div');\n",
              "          docLink.innerHTML = docLinkHtml;\n",
              "          element.appendChild(docLink);\n",
              "        }\n",
              "      </script>\n",
              "    </div>\n",
              "  </div>\n",
              "  "
            ]
          },
          "metadata": {},
          "execution_count": 15
        }
      ]
    },
    {
      "cell_type": "markdown",
      "source": [
        "Next, we will create a dictionary to store all the required values with the dates that have to plotted!"
      ],
      "metadata": {
        "id": "kA0amXb5dB9j"
      }
    },
    {
      "cell_type": "code",
      "source": [
        "# Creating a dictionary to save all the heart rate values with the dates\n",
        "heartrate_dict = {}\n",
        "\n",
        "# Traversing through each entry in our DataFrame to save heart\n",
        "# rate values for each date\n",
        "for i in range(heart_rate.size-1):\n",
        "\n",
        "  # Case when there is no data for a specific date\n",
        "  if (len(heart_rate.iloc[i].get('bucket')['dataset'][0]['point'])==0):\n",
        "    continue\n",
        "  else:\n",
        "    heartrate_dict[datetime.fromtimestamp(\n",
        "    int(heart_rate.iloc[i][0]['startTimeMillis'])// 1000).strftime(\n",
        "        '%Y-%m-%d')] = (\n",
        "    heart_rate.iloc[i]['bucket']['dataset'][0]['point'][0]['value'][0]['fpVal'],\n",
        "    heart_rate.iloc[i]['bucket']['dataset'][0]['point'][0]['value'][1]['fpVal'],\n",
        "    heart_rate.iloc[i]['bucket']['dataset'][0]['point'][0]['value'][2]['fpVal'])"
      ],
      "metadata": {
        "id": "ryZSRDSm_9vp"
      },
      "execution_count": null,
      "outputs": []
    },
    {
      "cell_type": "code",
      "source": [
        "# Creating a dictionary to save all the heart rate values with the dates between the specific end and start dates\n",
        "heartrate_dict_weekly = {}\n",
        "\n",
        "# Traversing each date for all the dates between start and end\n",
        "for date_val in dates:\n",
        "  # Initilizing each date with (0,0,0) \n",
        "  heartrate_dict_weekly[date_val.day_name()[:3]+\" (\"+\n",
        "                  date_val.to_pydatetime().strftime('%Y-%m-%d')+\")\"] = (0,0,0)\n",
        "  # Saving actual high, low and avg values for dates that have data avaliable\n",
        "  for key in heartrate_dict.keys():\n",
        "    if (date_val.to_pydatetime().strftime('%Y-%m-%d') == key):\n",
        "      heartrate_dict_weekly[date_val.day_name()[:3]+\" (\"+\n",
        "      date_val.to_pydatetime().strftime('%Y-%m-%d')+\")\"] = heartrate_dict[key]"
      ],
      "metadata": {
        "id": "5a6Moua7AAAw"
      },
      "execution_count": null,
      "outputs": []
    },
    {
      "cell_type": "markdown",
      "source": [
        "If you look at the reference plot above, there is a header with the average statistics. In the next block, we will calculate the range values of your heart rate for the plot header."
      ],
      "metadata": {
        "id": "0NXI_m5sta7j"
      }
    },
    {
      "cell_type": "code",
      "source": [
        "# This will help us find the low to max heart rate values for our chart header\n",
        "bpm_range = str(min([i[2] for i in heartrate_dict_weekly.values()]))+' - '+ str(max([i[1] for i in heartrate_dict_weekly.values()]))\n",
        "bpm_range"
      ],
      "metadata": {
        "id": "9pYobGREe4A7",
        "colab": {
          "base_uri": "https://localhost:8080/",
          "height": 35
        },
        "outputId": "6d0f048b-f8d2-4fd3-c565-d3630e51e178"
      },
      "execution_count": null,
      "outputs": [
        {
          "output_type": "execute_result",
          "data": {
            "text/plain": [
              "'48 - 164'"
            ],
            "application/vnd.google.colaboratory.intrinsic+json": {
              "type": "string"
            }
          },
          "metadata": {},
          "execution_count": 18
        }
      ]
    },
    {
      "cell_type": "markdown",
      "source": [
        "Next, we will use the data we collected above to plot our chart!"
      ],
      "metadata": {
        "id": "O-2or8poe4eS"
      }
    },
    {
      "cell_type": "code",
      "source": [
        "# Initializing the figure\n",
        "plt2 = plt.figure(figsize=(16,8),facecolor='black')\n",
        "ax = plt.gca()\n",
        "ax.set_facecolor('#000000')\n",
        "\n",
        "\n",
        "# Plotting the values\n",
        "x = [key[:3] for key in list(heartrate_dict_weekly.keys())]\n",
        "y = list(heartrate_dict_weekly.values())\n",
        "plt.plot((range(len(x)),range(len(x))),([i[1] for i in y], [i[2] for i in y]),\n",
        "         c='#FD4B03',lw=8,solid_capstyle='round')\n",
        "\n",
        "# Setting y limit to the chart\n",
        "plt.ylim(0,200)\n",
        "\n",
        "# Setting x and y ticks\n",
        "plt.xticks(range(len(x)),x,color=\"#a1a1a1\")\n",
        "plt.yticks(color=\"#a1a1a1\")\n",
        "\n",
        "# Setting labels\n",
        "plt.ylabel('Heart Rate')\n",
        "\n",
        "# Creating grid lines\n",
        "plt.grid(color=\"#a1a1a1\", linestyle='--', linewidth=2, alpha = 0.25)\n",
        "\n",
        "\n",
        "# Adding Heart header\n",
        "plt.text(0.14,1,\"RANGE\",fontsize=14,color='#89898B',transform=plt2.transFigure,\n",
        "         horizontalalignment='center', weight='light')\n",
        "plt.text(0.1625,0.957,bpm_range,fontsize=24,transform=plt2.transFigure, \n",
        "         horizontalalignment='center', color = 'white')\n",
        "plt.text(0.225,0.957,'BPM',fontsize=18,transform=plt2.transFigure, \n",
        "         horizontalalignment='center',color='#89898B')\n",
        "plt.text(0.183,0.93,date_range_text,fontsize=14,color='#89898B',\n",
        "         transform=plt2.transFigure, horizontalalignment='center',\n",
        "         weight='light')\n",
        "\n",
        "plt.show()"
      ],
      "metadata": {
        "id": "0wjB9hfGAB-p",
        "colab": {
          "base_uri": "https://localhost:8080/",
          "height": 563
        },
        "outputId": "82d8a7c8-a28f-4c5a-e89c-afcee57bdc7a"
      },
      "execution_count": null,
      "outputs": [
        {
          "output_type": "display_data",
          "data": {
            "text/plain": [
              "<Figure size 1152x576 with 1 Axes>"
            ],
            "image/png": "[encoded data removed]"
          },
          "metadata": {}
        }
      ]
    },
    {
      "cell_type": "markdown",
      "source": [
        "<i>Above is a plot we created ourselves!</i>"
      ],
      "metadata": {
        "id": "ezO__WP0hmcd"
      }
    },
    {
      "cell_type": "markdown",
      "source": [
        "##4.3 Visualizing participant's Detailed Heart Rate Breakdown\n",
        "\n"
      ],
      "metadata": {
        "id": "JD_exEI7fyUe"
      }
    },
    {
      "cell_type": "markdown",
      "source": [
        "In the vital section of the google app, one can see a detailed breakdown of their Heart Rate. <br> <br>\n",
        "<img src=\"https://i.imgur.com/H2m2P6L.jpg\" width=500> <br>\n",
        "\n",
        "This chart showcases the daily fluctuation of the heart rate of our user on that specific date. The dark pink line showcases the average heart rate value within the interval of 15 minutes. The light pink highlight showcases the varation in that time interval. This would be a great way to visualize if there are specific times during which the heart rate changed the most. This could be a great indicator of a physical exercise. Let's try to access the data in this activity and recreate the plot above to visualize it."
      ],
      "metadata": {
        "id": "spUXJ02uf9hX"
      }
    },
    {
      "cell_type": "markdown",
      "source": [
        "Below, please enter the date for which you want to visualize the detailed heart rate breakdown."
      ],
      "metadata": {
        "id": "63KJMrQLQI5-"
      }
    },
    {
      "cell_type": "code",
      "source": [
        "#@title Enter the Date\n",
        "\n",
        "year_string = '2022' #@param {type:\"string\"}\n",
        "month_string = '06' #@param {type:\"string\"}\n",
        "day_string = '12' #@param{type:\"string\"}\n",
        "\n",
        "print('Date is: '+year_string+'/'+month_string+'/'+day_string)"
      ],
      "metadata": {
        "id": "IG2eS9fnhLjR",
        "colab": {
          "base_uri": "https://localhost:8080/"
        },
        "outputId": "0d2e9a10-a429-4124-e097-a222cee1944a"
      },
      "execution_count": null,
      "outputs": [
        {
          "output_type": "stream",
          "name": "stdout",
          "text": [
            "Date is: 2022/06/12\n"
          ]
        }
      ]
    },
    {
      "cell_type": "code",
      "source": [
        "# The next line finds the millisecond end and start timestamps for our specfic day\n",
        "hr_date =int(datetime(int(year_string), int(month_string), \n",
        "                      int(day_string)).timestamp()*1000)\n",
        "hr_end_date = hr_date+86400000"
      ],
      "metadata": {
        "id": "_ZEeE9l6hN73"
      },
      "execution_count": null,
      "outputs": []
    },
    {
      "cell_type": "markdown",
      "source": [
        "Now, let's use this date and fetch the 24-hr detailed breakdown for it from the Google Fit API."
      ],
      "metadata": {
        "id": "azSZ8b5Lhd5K"
      }
    },
    {
      "cell_type": "code",
      "source": [
        "api_url = \"https://www.googleapis.com/fitness/v1/users/me/dataset:aggregate\"\n",
        "\n",
        "access_token = google_access_token\n",
        "\n",
        "\n",
        "headers = {\n",
        "  \"Authorization\": \"Bearer {}\".format(access_token),\n",
        "  \"Content-Type\": \"application/json;encoding=utf-8\"\n",
        "  }\n",
        "\n",
        "body = {\n",
        "  \"aggregateBy\": [{\n",
        "    \"dataTypeName\": \"com.google.heart_rate.bpm\",\n",
        "    \"dataSourceId\": \"derived:com.google.heart_rate.bpm:com.google.android.gms:merge_heart_rate_bpm\"}],\n",
        "  \"bucketByTime\": { \"durationMillis\": 60000*15 },\n",
        "  \"startTimeMillis\": hr_date,\n",
        "  \"endTimeMillis\": hr_end_date\n",
        "}\n",
        "\n",
        "response_hr = requests.post(api_url, data=json.dumps(body), headers=headers)"
      ],
      "metadata": {
        "id": "DTlt2hgJiU_b"
      },
      "execution_count": null,
      "outputs": []
    },
    {
      "cell_type": "markdown",
      "source": [
        "Now that we have fetched our data, we will save this in a DataFrame for easier access."
      ],
      "metadata": {
        "id": "V3x6V3y0q0KR"
      }
    },
    {
      "cell_type": "code",
      "source": [
        "hr_min = pd.read_json(response_hr.text)\n",
        "hr_min"
      ],
      "metadata": {
        "id": "GX1QixSpEQFt",
        "colab": {
          "base_uri": "https://localhost:8080/",
          "height": 424
        },
        "outputId": "379c7ea8-4eb0-4032-f071-b1b59f10ff5a"
      },
      "execution_count": null,
      "outputs": [
        {
          "output_type": "execute_result",
          "data": {
            "text/plain": [
              "                                               bucket\n",
              "0   {'startTimeMillis': '1654992000000', 'endTimeM...\n",
              "1   {'startTimeMillis': '1654992900000', 'endTimeM...\n",
              "2   {'startTimeMillis': '1654993800000', 'endTimeM...\n",
              "3   {'startTimeMillis': '1654994700000', 'endTimeM...\n",
              "4   {'startTimeMillis': '1654995600000', 'endTimeM...\n",
              "..                                                ...\n",
              "91  {'startTimeMillis': '1655073900000', 'endTimeM...\n",
              "92  {'startTimeMillis': '1655074800000', 'endTimeM...\n",
              "93  {'startTimeMillis': '1655075700000', 'endTimeM...\n",
              "94  {'startTimeMillis': '1655076600000', 'endTimeM...\n",
              "95  {'startTimeMillis': '1655077500000', 'endTimeM...\n",
              "\n",
              "[96 rows x 1 columns]"
            ],
            "text/html": [
              "\n",
              "  <div id=\"df-135ee64f-7897-4244-8102-215b1963e92b\">\n",
              "    <div class=\"colab-df-container\">\n",
              "      <div>\n",
              "<style scoped>\n",
              "    .dataframe tbody tr th:only-of-type {\n",
              "        vertical-align: middle;\n",
              "    }\n",
              "\n",
              "    .dataframe tbody tr th {\n",
              "        vertical-align: top;\n",
              "    }\n",
              "\n",
              "    .dataframe thead th {\n",
              "        text-align: right;\n",
              "    }\n",
              "</style>\n",
              "<table border=\"1\" class=\"dataframe\">\n",
              "  <thead>\n",
              "    <tr style=\"text-align: right;\">\n",
              "      <th></th>\n",
              "      <th>bucket</th>\n",
              "    </tr>\n",
              "  </thead>\n",
              "  <tbody>\n",
              "    <tr>\n",
              "      <th>0</th>\n",
              "      <td>{'startTimeMillis': '1654992000000', 'endTimeM...</td>\n",
              "    </tr>\n",
              "    <tr>\n",
              "      <th>1</th>\n",
              "      <td>{'startTimeMillis': '1654992900000', 'endTimeM...</td>\n",
              "    </tr>\n",
              "    <tr>\n",
              "      <th>2</th>\n",
              "      <td>{'startTimeMillis': '1654993800000', 'endTimeM...</td>\n",
              "    </tr>\n",
              "    <tr>\n",
              "      <th>3</th>\n",
              "      <td>{'startTimeMillis': '1654994700000', 'endTimeM...</td>\n",
              "    </tr>\n",
              "    <tr>\n",
              "      <th>4</th>\n",
              "      <td>{'startTimeMillis': '1654995600000', 'endTimeM...</td>\n",
              "    </tr>\n",
              "    <tr>\n",
              "      <th>...</th>\n",
              "      <td>...</td>\n",
              "    </tr>\n",
              "    <tr>\n",
              "      <th>91</th>\n",
              "      <td>{'startTimeMillis': '1655073900000', 'endTimeM...</td>\n",
              "    </tr>\n",
              "    <tr>\n",
              "      <th>92</th>\n",
              "      <td>{'startTimeMillis': '1655074800000', 'endTimeM...</td>\n",
              "    </tr>\n",
              "    <tr>\n",
              "      <th>93</th>\n",
              "      <td>{'startTimeMillis': '1655075700000', 'endTimeM...</td>\n",
              "    </tr>\n",
              "    <tr>\n",
              "      <th>94</th>\n",
              "      <td>{'startTimeMillis': '1655076600000', 'endTimeM...</td>\n",
              "    </tr>\n",
              "    <tr>\n",
              "      <th>95</th>\n",
              "      <td>{'startTimeMillis': '1655077500000', 'endTimeM...</td>\n",
              "    </tr>\n",
              "  </tbody>\n",
              "</table>\n",
              "<p>96 rows × 1 columns</p>\n",
              "</div>\n",
              "      <button class=\"colab-df-convert\" onclick=\"convertToInteractive('df-135ee64f-7897-4244-8102-215b1963e92b')\"\n",
              "              title=\"Convert this dataframe to an interactive table.\"\n",
              "              style=\"display:none;\">\n",
              "        \n",
              "  <svg xmlns=\"http://www.w3.org/2000/svg\" height=\"24px\"viewBox=\"0 0 24 24\"\n",
              "       width=\"24px\">\n",
              "    <path d=\"M0 0h24v24H0V0z\" fill=\"none\"/>\n",
              "    <path d=\"M18.56 5.44l.94 2.06.94-2.06 2.06-.94-2.06-.94-.94-2.06-.94 2.06-2.06.94zm-11 1L8.5 8.5l.94-2.06 2.06-.94-2.06-.94L8.5 2.5l-.94 2.06-2.06.94zm10 10l.94 2.06.94-2.06 2.06-.94-2.06-.94-.94-2.06-.94 2.06-2.06.94z\"/><path d=\"M17.41 7.96l-1.37-1.37c-.4-.4-.92-.59-1.43-.59-.52 0-1.04.2-1.43.59L10.3 9.45l-7.72 7.72c-.78.78-.78 2.05 0 2.83L4 21.41c.39.39.9.59 1.41.59.51 0 1.02-.2 1.41-.59l7.78-7.78 2.81-2.81c.8-.78.8-2.07 0-2.86zM5.41 20L4 18.59l7.72-7.72 1.47 1.35L5.41 20z\"/>\n",
              "  </svg>\n",
              "      </button>\n",
              "      \n",
              "  <style>\n",
              "    .colab-df-container {\n",
              "      display:flex;\n",
              "      flex-wrap:wrap;\n",
              "      gap: 12px;\n",
              "    }\n",
              "\n",
              "    .colab-df-convert {\n",
              "      background-color: #E8F0FE;\n",
              "      border: none;\n",
              "      border-radius: 50%;\n",
              "      cursor: pointer;\n",
              "      display: none;\n",
              "      fill: #1967D2;\n",
              "      height: 32px;\n",
              "      padding: 0 0 0 0;\n",
              "      width: 32px;\n",
              "    }\n",
              "\n",
              "    .colab-df-convert:hover {\n",
              "      background-color: #E2EBFA;\n",
              "      box-shadow: 0px 1px 2px rgba(60, 64, 67, 0.3), 0px 1px 3px 1px rgba(60, 64, 67, 0.15);\n",
              "      fill: #174EA6;\n",
              "    }\n",
              "\n",
              "    [theme=dark] .colab-df-convert {\n",
              "      background-color: #3B4455;\n",
              "      fill: #D2E3FC;\n",
              "    }\n",
              "\n",
              "    [theme=dark] .colab-df-convert:hover {\n",
              "      background-color: #434B5C;\n",
              "      box-shadow: 0px 1px 3px 1px rgba(0, 0, 0, 0.15);\n",
              "      filter: drop-shadow(0px 1px 2px rgba(0, 0, 0, 0.3));\n",
              "      fill: #FFFFFF;\n",
              "    }\n",
              "  </style>\n",
              "\n",
              "      <script>\n",
              "        const buttonEl =\n",
              "          document.querySelector('#df-135ee64f-7897-4244-8102-215b1963e92b button.colab-df-convert');\n",
              "        buttonEl.style.display =\n",
              "          google.colab.kernel.accessAllowed ? 'block' : 'none';\n",
              "\n",
              "        async function convertToInteractive(key) {\n",
              "          const element = document.querySelector('#df-135ee64f-7897-4244-8102-215b1963e92b');\n",
              "          const dataTable =\n",
              "            await google.colab.kernel.invokeFunction('convertToInteractive',\n",
              "                                                     [key], {});\n",
              "          if (!dataTable) return;\n",
              "\n",
              "          const docLinkHtml = 'Like what you see? Visit the ' +\n",
              "            '<a target=\"_blank\" href=https://colab.research.google.com/notebooks/data_table.ipynb>data table notebook</a>'\n",
              "            + ' to learn more about interactive tables.';\n",
              "          element.innerHTML = '';\n",
              "          dataTable['output_type'] = 'display_data';\n",
              "          await google.colab.output.renderOutput(dataTable, element);\n",
              "          const docLink = document.createElement('div');\n",
              "          docLink.innerHTML = docLinkHtml;\n",
              "          element.appendChild(docLink);\n",
              "        }\n",
              "      </script>\n",
              "    </div>\n",
              "  </div>\n",
              "  "
            ]
          },
          "metadata": {},
          "execution_count": 23
        }
      ]
    },
    {
      "cell_type": "code",
      "source": [
        "# Dictionary to store heart rarte values for each time stamp\n",
        "hr_plot_dict = {}\n",
        "\n",
        "# Going over each datapoint in the dataframe to save it in the dictionary\n",
        "for datapoint in hr_min['bucket']:\n",
        "  hr_plot_dict[datapoint['startTimeMillis']] = datapoint['dataset'][0]['point']\n"
      ],
      "metadata": {
        "id": "rWUrjKLqSDda"
      },
      "execution_count": null,
      "outputs": []
    },
    {
      "cell_type": "code",
      "source": [
        "# Creating a new dictionary by accessing every single \n",
        "# heart rate value from the json values stored in hr_plot_dict\n",
        "\n",
        "hr_plot_dict2 = dict(zip(hr_plot_dict.keys(),[item[0]['value'][0]['fpVal'] if \n",
        "            len(item)!=0 else np.nan for item in list(hr_plot_dict.values())]))\n",
        "\n",
        "# Dictinary for storing the low and high values\n",
        "hr_plot_dict_low_high = dict(zip(hr_plot_dict.keys(),\n",
        "        [(item[0]['value'][1]['fpVal'],item[0]['value'][2]['fpVal'])if\n",
        "    len(item)!=0 else (np.nan,np.nan) for item in list(hr_plot_dict.values())]))"
      ],
      "metadata": {
        "id": "RN0YPtSLUqsz"
      },
      "execution_count": null,
      "outputs": []
    },
    {
      "cell_type": "markdown",
      "source": [
        "Our data should now be stored in the format that we can use to plot the chart that we showed above."
      ],
      "metadata": {
        "id": "e-JrZ2lYrlZ_"
      }
    },
    {
      "cell_type": "markdown",
      "source": [
        "If you look at the reference plot above, there is a header with the average statistics. In the next block, we will calculate the average value of your heart rate for the plot header."
      ],
      "metadata": {
        "id": "s1kqu3nytvx1"
      }
    },
    {
      "cell_type": "code",
      "source": [
        "# Getting the plot header strings\n",
        "hr_day = datetime(int(year_string), int(month_string), int(day_string))\n",
        "hr_date_string = hr_day.strftime(\"%A\")+', '+day_string+' '+hr_day.strftime(\"%B\")\n",
        "\n",
        "# Getting the heart rate average string\n",
        "heart_rate_avg = str(int(np.mean([x for x in list(hr_plot_dict2.values())\n",
        "                  if str(x) != 'nan'])))"
      ],
      "metadata": {
        "id": "JGPOoDI27Obg"
      },
      "execution_count": null,
      "outputs": []
    },
    {
      "cell_type": "markdown",
      "source": [
        "Now, it is finally time for us to plot our chart!"
      ],
      "metadata": {
        "id": "O8uEaYertzbj"
      }
    },
    {
      "cell_type": "code",
      "source": [
        "# Creating a matplotlib plot of size 16,8\n",
        "plt1 = plt.figure(figsize=(16,8), facecolor='#202125')\n",
        "ax = plt1.gca()\n",
        "\n",
        "#Setting the ylimits\n",
        "plt.ylim(30,180)\n",
        "\n",
        "#Setting x and y ticks\n",
        "plt.yticks([30,105,180], color='#74777E',fontsize=16)\n",
        "xticks = [hr_date+t*14400000 for t in np.arange(7)]\n",
        "plt.xticks(xticks,labels=['12','⚫','4','⚫','8','⚫','12',\n",
        "            '⚫','4','⚫','8','⚫','12'],color='#74777E',fontsize=16)\n",
        "\n",
        "# Adding veritcal grids\n",
        "plt.grid(axis=\"y\",alpha=0.5)\n",
        "\n",
        "#Smoothing out the curve\n",
        "y_sf = savgol_filter((list(hr_plot_dict2.values())), 5, 1)\n",
        "\n",
        "#Filling limit lines\n",
        "plt.fill_between([int(tick) for tick in list(hr_plot_dict_low_high.keys())],\n",
        "                 savgol_filter([np.nan if value[0]==np.nan else value[0] for\n",
        "                  value in hr_plot_dict_low_high.values()],5,1),\n",
        "                 savgol_filter([np.nan if value[1]==np.nan else value[1] for\n",
        "                value in hr_plot_dict_low_high.values()],5,1),color='#F38B81',\n",
        "                 alpha=0.3)\n",
        "\n",
        "#Setting background color\n",
        "ax.set_facecolor('#202125')\n",
        "\n",
        "#Setting the color of the x-axis\n",
        "ax.spines['bottom'].set_color('#74777E')\n",
        "ax.spines['left'].set_visible(False)\n",
        "ax.spines['right'].set_visible(False)\n",
        "ax.spines['top'].set_color('#74777E')\n",
        "\n",
        "\n",
        "#Creating the plot\n",
        "plt.plot([int(tick) for tick in list(hr_plot_dict2.keys())],y_sf,\n",
        "         color='#F38B81',lw=2.5)\n",
        "\n",
        "plt.text(0.515,0.935,hr_date_string ,transform=plt1.transFigure, \n",
        "         horizontalalignment='center', fontsize=24, color='white')\n",
        "plt.title(heart_rate_avg+' bpm (average)', fontsize=16, color='white')\n",
        "\n",
        "plt.show()"
      ],
      "metadata": {
        "id": "Y9U_1_HK0-ji",
        "colab": {
          "base_uri": "https://localhost:8080/",
          "height": 538
        },
        "outputId": "f40d1dd1-4b6a-4ffe-b9cf-8b7bb5ddbe39"
      },
      "execution_count": null,
      "outputs": [
        {
          "output_type": "display_data",
          "data": {
            "text/plain": [
              "<Figure size 1152x576 with 1 Axes>"
            ],
            "image/png": "[encoded data removed]"
          },
          "metadata": {}
        }
      ]
    },
    {
      "cell_type": "markdown",
      "source": [
        "#5. Data Analysis"
      ],
      "metadata": {
        "id": "qt1bOMaoqToI"
      }
    },
    {
      "cell_type": "markdown",
      "source": [
        "Data isn't much without some analysis, so we're going to do some in this section.\n",
        "\n",
        "DISCLAIMER: the analyses below may not be 100% biologically or scientifically grounded; the code is here to assist in your process, if you are interested in asking these kinds of questions."
      ],
      "metadata": {
        "id": "Eqd2hbzjOFwM"
      }
    },
    {
      "cell_type": "markdown",
      "source": [
        "##5.1 Analyzing correlation between Heart Rate and Number of Steps!\n"
      ],
      "metadata": {
        "id": "VBIqJxYyFoCQ"
      }
    },
    {
      "cell_type": "markdown",
      "source": [
        "Maybe the average heart rate is correlated with the number of steps you take in that time interval. Let's test if this hypothesis is true. We will do so by plotting a jointplot between those two metrics and finding the correlation."
      ],
      "metadata": {
        "id": "MDlsMLCy6ACz"
      }
    },
    {
      "cell_type": "markdown",
      "source": [
        "But before we get into that, let's clean the dataframes to make sure the data that we have is ready for our analysis! We will first start with our step count dataset!"
      ],
      "metadata": {
        "id": "TOoKF-fQN6p6"
      }
    },
    {
      "cell_type": "code",
      "source": [
        "# Creates a pandas dataframe with the date values inside the json body\n",
        "analysis_df = steps.assign(date=steps.get('bucket').apply(\n",
        "    lambda x: x['startTimeMillis']))\n",
        "\n",
        "# Adds a column for steps to our original df\n",
        "analysis_df = analysis_df.assign(steps = analysis_df.get('bucket').apply(\n",
        "    lambda x: np.nan if len(x['dataset'][0]['point'])==0 else\n",
        "     x['dataset'][0]['point'][0]['value'][0]['intVal']))\n",
        "\n",
        "# Plotting the data frame for reference \n",
        "analysis_df.head()\n"
      ],
      "metadata": {
        "id": "ptfZr0vUFrR4",
        "colab": {
          "base_uri": "https://localhost:8080/",
          "height": 206
        },
        "outputId": "cbdd2ab3-99dc-45e0-d909-786a816c8a92"
      },
      "execution_count": null,
      "outputs": [
        {
          "output_type": "execute_result",
          "data": {
            "text/plain": [
              "                                              bucket           date  steps\n",
              "0  {'startTimeMillis': '1652659200000', 'endTimeM...  1652659200000  18633\n",
              "1  {'startTimeMillis': '1652745600000', 'endTimeM...  1652745600000  12758\n",
              "2  {'startTimeMillis': '1652832000000', 'endTimeM...  1652832000000  11090\n",
              "3  {'startTimeMillis': '1652918400000', 'endTimeM...  1652918400000  13246\n",
              "4  {'startTimeMillis': '1653004800000', 'endTimeM...  1653004800000  13051"
            ],
            "text/html": [
              "\n",
              "  <div id=\"df-4df9b116-401b-49d1-aaa1-914a953b4581\">\n",
              "    <div class=\"colab-df-container\">\n",
              "      <div>\n",
              "<style scoped>\n",
              "    .dataframe tbody tr th:only-of-type {\n",
              "        vertical-align: middle;\n",
              "    }\n",
              "\n",
              "    .dataframe tbody tr th {\n",
              "        vertical-align: top;\n",
              "    }\n",
              "\n",
              "    .dataframe thead th {\n",
              "        text-align: right;\n",
              "    }\n",
              "</style>\n",
              "<table border=\"1\" class=\"dataframe\">\n",
              "  <thead>\n",
              "    <tr style=\"text-align: right;\">\n",
              "      <th></th>\n",
              "      <th>bucket</th>\n",
              "      <th>date</th>\n",
              "      <th>steps</th>\n",
              "    </tr>\n",
              "  </thead>\n",
              "  <tbody>\n",
              "    <tr>\n",
              "      <th>0</th>\n",
              "      <td>{'startTimeMillis': '1652659200000', 'endTimeM...</td>\n",
              "      <td>1652659200000</td>\n",
              "      <td>18633</td>\n",
              "    </tr>\n",
              "    <tr>\n",
              "      <th>1</th>\n",
              "      <td>{'startTimeMillis': '1652745600000', 'endTimeM...</td>\n",
              "      <td>1652745600000</td>\n",
              "      <td>12758</td>\n",
              "    </tr>\n",
              "    <tr>\n",
              "      <th>2</th>\n",
              "      <td>{'startTimeMillis': '1652832000000', 'endTimeM...</td>\n",
              "      <td>1652832000000</td>\n",
              "      <td>11090</td>\n",
              "    </tr>\n",
              "    <tr>\n",
              "      <th>3</th>\n",
              "      <td>{'startTimeMillis': '1652918400000', 'endTimeM...</td>\n",
              "      <td>1652918400000</td>\n",
              "      <td>13246</td>\n",
              "    </tr>\n",
              "    <tr>\n",
              "      <th>4</th>\n",
              "      <td>{'startTimeMillis': '1653004800000', 'endTimeM...</td>\n",
              "      <td>1653004800000</td>\n",
              "      <td>13051</td>\n",
              "    </tr>\n",
              "  </tbody>\n",
              "</table>\n",
              "</div>\n",
              "      <button class=\"colab-df-convert\" onclick=\"convertToInteractive('df-4df9b116-401b-49d1-aaa1-914a953b4581')\"\n",
              "              title=\"Convert this dataframe to an interactive table.\"\n",
              "              style=\"display:none;\">\n",
              "        \n",
              "  <svg xmlns=\"http://www.w3.org/2000/svg\" height=\"24px\"viewBox=\"0 0 24 24\"\n",
              "       width=\"24px\">\n",
              "    <path d=\"M0 0h24v24H0V0z\" fill=\"none\"/>\n",
              "    <path d=\"M18.56 5.44l.94 2.06.94-2.06 2.06-.94-2.06-.94-.94-2.06-.94 2.06-2.06.94zm-11 1L8.5 8.5l.94-2.06 2.06-.94-2.06-.94L8.5 2.5l-.94 2.06-2.06.94zm10 10l.94 2.06.94-2.06 2.06-.94-2.06-.94-.94-2.06-.94 2.06-2.06.94z\"/><path d=\"M17.41 7.96l-1.37-1.37c-.4-.4-.92-.59-1.43-.59-.52 0-1.04.2-1.43.59L10.3 9.45l-7.72 7.72c-.78.78-.78 2.05 0 2.83L4 21.41c.39.39.9.59 1.41.59.51 0 1.02-.2 1.41-.59l7.78-7.78 2.81-2.81c.8-.78.8-2.07 0-2.86zM5.41 20L4 18.59l7.72-7.72 1.47 1.35L5.41 20z\"/>\n",
              "  </svg>\n",
              "      </button>\n",
              "      \n",
              "  <style>\n",
              "    .colab-df-container {\n",
              "      display:flex;\n",
              "      flex-wrap:wrap;\n",
              "      gap: 12px;\n",
              "    }\n",
              "\n",
              "    .colab-df-convert {\n",
              "      background-color: #E8F0FE;\n",
              "      border: none;\n",
              "      border-radius: 50%;\n",
              "      cursor: pointer;\n",
              "      display: none;\n",
              "      fill: #1967D2;\n",
              "      height: 32px;\n",
              "      padding: 0 0 0 0;\n",
              "      width: 32px;\n",
              "    }\n",
              "\n",
              "    .colab-df-convert:hover {\n",
              "      background-color: #E2EBFA;\n",
              "      box-shadow: 0px 1px 2px rgba(60, 64, 67, 0.3), 0px 1px 3px 1px rgba(60, 64, 67, 0.15);\n",
              "      fill: #174EA6;\n",
              "    }\n",
              "\n",
              "    [theme=dark] .colab-df-convert {\n",
              "      background-color: #3B4455;\n",
              "      fill: #D2E3FC;\n",
              "    }\n",
              "\n",
              "    [theme=dark] .colab-df-convert:hover {\n",
              "      background-color: #434B5C;\n",
              "      box-shadow: 0px 1px 3px 1px rgba(0, 0, 0, 0.15);\n",
              "      filter: drop-shadow(0px 1px 2px rgba(0, 0, 0, 0.3));\n",
              "      fill: #FFFFFF;\n",
              "    }\n",
              "  </style>\n",
              "\n",
              "      <script>\n",
              "        const buttonEl =\n",
              "          document.querySelector('#df-4df9b116-401b-49d1-aaa1-914a953b4581 button.colab-df-convert');\n",
              "        buttonEl.style.display =\n",
              "          google.colab.kernel.accessAllowed ? 'block' : 'none';\n",
              "\n",
              "        async function convertToInteractive(key) {\n",
              "          const element = document.querySelector('#df-4df9b116-401b-49d1-aaa1-914a953b4581');\n",
              "          const dataTable =\n",
              "            await google.colab.kernel.invokeFunction('convertToInteractive',\n",
              "                                                     [key], {});\n",
              "          if (!dataTable) return;\n",
              "\n",
              "          const docLinkHtml = 'Like what you see? Visit the ' +\n",
              "            '<a target=\"_blank\" href=https://colab.research.google.com/notebooks/data_table.ipynb>data table notebook</a>'\n",
              "            + ' to learn more about interactive tables.';\n",
              "          element.innerHTML = '';\n",
              "          dataTable['output_type'] = 'display_data';\n",
              "          await google.colab.output.renderOutput(dataTable, element);\n",
              "          const docLink = document.createElement('div');\n",
              "          docLink.innerHTML = docLinkHtml;\n",
              "          element.appendChild(docLink);\n",
              "        }\n",
              "      </script>\n",
              "    </div>\n",
              "  </div>\n",
              "  "
            ]
          },
          "metadata": {},
          "execution_count": 28
        }
      ]
    },
    {
      "cell_type": "code",
      "source": [],
      "metadata": {
        "id": "O7bCm8xxErsT"
      },
      "execution_count": null,
      "outputs": []
    },
    {
      "cell_type": "markdown",
      "source": [
        "Now that we have our step count, we will repeat the process for our heart rate values and drop all the pairs where either of the values are Null (NaN)."
      ],
      "metadata": {
        "id": "1fy-kgbjULCa"
      }
    },
    {
      "cell_type": "code",
      "source": [
        "# Creates a pandas dataframe with the date values inside the json body\n",
        "heart_rate = heart_rate.assign(date=heart_rate.get('bucket').apply(\n",
        "    lambda x: x['startTimeMillis']))\n",
        "\n",
        "# Creates a pandas dataframe with the heart rate values inside the json body\n",
        "heart_rate = heart_rate.assign(heart_rate=heart_rate.get('bucket').apply(\n",
        "    lambda x: np.nan if len(x['dataset'][0]['point'])==0 else \n",
        "    x['dataset'][0]['point'][0]['value'][0]['fpVal']))\n",
        "\n",
        "# Merging our step and heart rate datasets\n",
        "analysis_df = analysis_df.merge(heart_rate, on='date')\n",
        "\n",
        "# Dropping useless columns\n",
        "analysis_df.drop(columns=['bucket_x','bucket_y'],inplace=True)\n",
        "\n",
        "# Dropping all pairs of null values\n",
        "analysis_df_cleaned = analysis_df.dropna()\n",
        "\n",
        "# Replotting the dataframe for reference\n",
        "analysis_df_cleaned"
      ],
      "metadata": {
        "id": "vuhIup1KWDga",
        "colab": {
          "base_uri": "https://localhost:8080/",
          "height": 990
        },
        "outputId": "4e36634e-66e7-4e30-db15-66e6696c9fff"
      },
      "execution_count": null,
      "outputs": [
        {
          "output_type": "execute_result",
          "data": {
            "text/plain": [
              "             date  steps  heart_rate\n",
              "0   1652659200000  18633   89.769157\n",
              "1   1652745600000  12758   94.954825\n",
              "2   1652832000000  11090   88.238903\n",
              "3   1652918400000  13246   91.480209\n",
              "4   1653004800000  13051   74.489754\n",
              "5   1653091200000  21443   94.566438\n",
              "6   1653177600000  14787   96.673788\n",
              "7   1653264000000  11551   78.837029\n",
              "8   1653350400000  14537   90.181782\n",
              "9   1653436800000   4613   82.718568\n",
              "10  1653523200000  20761   98.528083\n",
              "11  1653609600000  14863   89.080873\n",
              "12  1653696000000  16210   97.984748\n",
              "13  1653782400000  16099   93.070104\n",
              "14  1653868800000  25391   86.300234\n",
              "15  1653955200000  12898  105.713722\n",
              "16  1654041600000   5918   82.241429\n",
              "17  1654128000000   9151   86.883444\n",
              "18  1654214400000  16517   92.634469\n",
              "19  1654300800000  10289   97.929036\n",
              "20  1654387200000  21753  102.717752\n",
              "21  1654473600000   8444   81.340798\n",
              "22  1654560000000   8956   83.088298\n",
              "23  1654646400000   8726   85.218919\n",
              "24  1654732800000  19463   96.590269\n",
              "25  1654819200000  11590   81.206461\n",
              "26  1654905600000   9434   79.082207\n",
              "27  1654992000000   9349   80.742584\n",
              "28  1655078400000   5082   81.019277\n",
              "29  1655164800000   1839   76.171007"
            ],
            "text/html": [
              "\n",
              "  <div id=\"df-99368713-72d0-4b62-ab68-38fed32074cc\">\n",
              "    <div class=\"colab-df-container\">\n",
              "      <div>\n",
              "<style scoped>\n",
              "    .dataframe tbody tr th:only-of-type {\n",
              "        vertical-align: middle;\n",
              "    }\n",
              "\n",
              "    .dataframe tbody tr th {\n",
              "        vertical-align: top;\n",
              "    }\n",
              "\n",
              "    .dataframe thead th {\n",
              "        text-align: right;\n",
              "    }\n",
              "</style>\n",
              "<table border=\"1\" class=\"dataframe\">\n",
              "  <thead>\n",
              "    <tr style=\"text-align: right;\">\n",
              "      <th></th>\n",
              "      <th>date</th>\n",
              "      <th>steps</th>\n",
              "      <th>heart_rate</th>\n",
              "    </tr>\n",
              "  </thead>\n",
              "  <tbody>\n",
              "    <tr>\n",
              "      <th>0</th>\n",
              "      <td>1652659200000</td>\n",
              "      <td>18633</td>\n",
              "      <td>89.769157</td>\n",
              "    </tr>\n",
              "    <tr>\n",
              "      <th>1</th>\n",
              "      <td>1652745600000</td>\n",
              "      <td>12758</td>\n",
              "      <td>94.954825</td>\n",
              "    </tr>\n",
              "    <tr>\n",
              "      <th>2</th>\n",
              "      <td>1652832000000</td>\n",
              "      <td>11090</td>\n",
              "      <td>88.238903</td>\n",
              "    </tr>\n",
              "    <tr>\n",
              "      <th>3</th>\n",
              "      <td>1652918400000</td>\n",
              "      <td>13246</td>\n",
              "      <td>91.480209</td>\n",
              "    </tr>\n",
              "    <tr>\n",
              "      <th>4</th>\n",
              "      <td>1653004800000</td>\n",
              "      <td>13051</td>\n",
              "      <td>74.489754</td>\n",
              "    </tr>\n",
              "    <tr>\n",
              "      <th>5</th>\n",
              "      <td>1653091200000</td>\n",
              "      <td>21443</td>\n",
              "      <td>94.566438</td>\n",
              "    </tr>\n",
              "    <tr>\n",
              "      <th>6</th>\n",
              "      <td>1653177600000</td>\n",
              "      <td>14787</td>\n",
              "      <td>96.673788</td>\n",
              "    </tr>\n",
              "    <tr>\n",
              "      <th>7</th>\n",
              "      <td>1653264000000</td>\n",
              "      <td>11551</td>\n",
              "      <td>78.837029</td>\n",
              "    </tr>\n",
              "    <tr>\n",
              "      <th>8</th>\n",
              "      <td>1653350400000</td>\n",
              "      <td>14537</td>\n",
              "      <td>90.181782</td>\n",
              "    </tr>\n",
              "    <tr>\n",
              "      <th>9</th>\n",
              "      <td>1653436800000</td>\n",
              "      <td>4613</td>\n",
              "      <td>82.718568</td>\n",
              "    </tr>\n",
              "    <tr>\n",
              "      <th>10</th>\n",
              "      <td>1653523200000</td>\n",
              "      <td>20761</td>\n",
              "      <td>98.528083</td>\n",
              "    </tr>\n",
              "    <tr>\n",
              "      <th>11</th>\n",
              "      <td>1653609600000</td>\n",
              "      <td>14863</td>\n",
              "      <td>89.080873</td>\n",
              "    </tr>\n",
              "    <tr>\n",
              "      <th>12</th>\n",
              "      <td>1653696000000</td>\n",
              "      <td>16210</td>\n",
              "      <td>97.984748</td>\n",
              "    </tr>\n",
              "    <tr>\n",
              "      <th>13</th>\n",
              "      <td>1653782400000</td>\n",
              "      <td>16099</td>\n",
              "      <td>93.070104</td>\n",
              "    </tr>\n",
              "    <tr>\n",
              "      <th>14</th>\n",
              "      <td>1653868800000</td>\n",
              "      <td>25391</td>\n",
              "      <td>86.300234</td>\n",
              "    </tr>\n",
              "    <tr>\n",
              "      <th>15</th>\n",
              "      <td>1653955200000</td>\n",
              "      <td>12898</td>\n",
              "      <td>105.713722</td>\n",
              "    </tr>\n",
              "    <tr>\n",
              "      <th>16</th>\n",
              "      <td>1654041600000</td>\n",
              "      <td>5918</td>\n",
              "      <td>82.241429</td>\n",
              "    </tr>\n",
              "    <tr>\n",
              "      <th>17</th>\n",
              "      <td>1654128000000</td>\n",
              "      <td>9151</td>\n",
              "      <td>86.883444</td>\n",
              "    </tr>\n",
              "    <tr>\n",
              "      <th>18</th>\n",
              "      <td>1654214400000</td>\n",
              "      <td>16517</td>\n",
              "      <td>92.634469</td>\n",
              "    </tr>\n",
              "    <tr>\n",
              "      <th>19</th>\n",
              "      <td>1654300800000</td>\n",
              "      <td>10289</td>\n",
              "      <td>97.929036</td>\n",
              "    </tr>\n",
              "    <tr>\n",
              "      <th>20</th>\n",
              "      <td>1654387200000</td>\n",
              "      <td>21753</td>\n",
              "      <td>102.717752</td>\n",
              "    </tr>\n",
              "    <tr>\n",
              "      <th>21</th>\n",
              "      <td>1654473600000</td>\n",
              "      <td>8444</td>\n",
              "      <td>81.340798</td>\n",
              "    </tr>\n",
              "    <tr>\n",
              "      <th>22</th>\n",
              "      <td>1654560000000</td>\n",
              "      <td>8956</td>\n",
              "      <td>83.088298</td>\n",
              "    </tr>\n",
              "    <tr>\n",
              "      <th>23</th>\n",
              "      <td>1654646400000</td>\n",
              "      <td>8726</td>\n",
              "      <td>85.218919</td>\n",
              "    </tr>\n",
              "    <tr>\n",
              "      <th>24</th>\n",
              "      <td>1654732800000</td>\n",
              "      <td>19463</td>\n",
              "      <td>96.590269</td>\n",
              "    </tr>\n",
              "    <tr>\n",
              "      <th>25</th>\n",
              "      <td>1654819200000</td>\n",
              "      <td>11590</td>\n",
              "      <td>81.206461</td>\n",
              "    </tr>\n",
              "    <tr>\n",
              "      <th>26</th>\n",
              "      <td>1654905600000</td>\n",
              "      <td>9434</td>\n",
              "      <td>79.082207</td>\n",
              "    </tr>\n",
              "    <tr>\n",
              "      <th>27</th>\n",
              "      <td>1654992000000</td>\n",
              "      <td>9349</td>\n",
              "      <td>80.742584</td>\n",
              "    </tr>\n",
              "    <tr>\n",
              "      <th>28</th>\n",
              "      <td>1655078400000</td>\n",
              "      <td>5082</td>\n",
              "      <td>81.019277</td>\n",
              "    </tr>\n",
              "    <tr>\n",
              "      <th>29</th>\n",
              "      <td>1655164800000</td>\n",
              "      <td>1839</td>\n",
              "      <td>76.171007</td>\n",
              "    </tr>\n",
              "  </tbody>\n",
              "</table>\n",
              "</div>\n",
              "      <button class=\"colab-df-convert\" onclick=\"convertToInteractive('df-99368713-72d0-4b62-ab68-38fed32074cc')\"\n",
              "              title=\"Convert this dataframe to an interactive table.\"\n",
              "              style=\"display:none;\">\n",
              "        \n",
              "  <svg xmlns=\"http://www.w3.org/2000/svg\" height=\"24px\"viewBox=\"0 0 24 24\"\n",
              "       width=\"24px\">\n",
              "    <path d=\"M0 0h24v24H0V0z\" fill=\"none\"/>\n",
              "    <path d=\"M18.56 5.44l.94 2.06.94-2.06 2.06-.94-2.06-.94-.94-2.06-.94 2.06-2.06.94zm-11 1L8.5 8.5l.94-2.06 2.06-.94-2.06-.94L8.5 2.5l-.94 2.06-2.06.94zm10 10l.94 2.06.94-2.06 2.06-.94-2.06-.94-.94-2.06-.94 2.06-2.06.94z\"/><path d=\"M17.41 7.96l-1.37-1.37c-.4-.4-.92-.59-1.43-.59-.52 0-1.04.2-1.43.59L10.3 9.45l-7.72 7.72c-.78.78-.78 2.05 0 2.83L4 21.41c.39.39.9.59 1.41.59.51 0 1.02-.2 1.41-.59l7.78-7.78 2.81-2.81c.8-.78.8-2.07 0-2.86zM5.41 20L4 18.59l7.72-7.72 1.47 1.35L5.41 20z\"/>\n",
              "  </svg>\n",
              "      </button>\n",
              "      \n",
              "  <style>\n",
              "    .colab-df-container {\n",
              "      display:flex;\n",
              "      flex-wrap:wrap;\n",
              "      gap: 12px;\n",
              "    }\n",
              "\n",
              "    .colab-df-convert {\n",
              "      background-color: #E8F0FE;\n",
              "      border: none;\n",
              "      border-radius: 50%;\n",
              "      cursor: pointer;\n",
              "      display: none;\n",
              "      fill: #1967D2;\n",
              "      height: 32px;\n",
              "      padding: 0 0 0 0;\n",
              "      width: 32px;\n",
              "    }\n",
              "\n",
              "    .colab-df-convert:hover {\n",
              "      background-color: #E2EBFA;\n",
              "      box-shadow: 0px 1px 2px rgba(60, 64, 67, 0.3), 0px 1px 3px 1px rgba(60, 64, 67, 0.15);\n",
              "      fill: #174EA6;\n",
              "    }\n",
              "\n",
              "    [theme=dark] .colab-df-convert {\n",
              "      background-color: #3B4455;\n",
              "      fill: #D2E3FC;\n",
              "    }\n",
              "\n",
              "    [theme=dark] .colab-df-convert:hover {\n",
              "      background-color: #434B5C;\n",
              "      box-shadow: 0px 1px 3px 1px rgba(0, 0, 0, 0.15);\n",
              "      filter: drop-shadow(0px 1px 2px rgba(0, 0, 0, 0.3));\n",
              "      fill: #FFFFFF;\n",
              "    }\n",
              "  </style>\n",
              "\n",
              "      <script>\n",
              "        const buttonEl =\n",
              "          document.querySelector('#df-99368713-72d0-4b62-ab68-38fed32074cc button.colab-df-convert');\n",
              "        buttonEl.style.display =\n",
              "          google.colab.kernel.accessAllowed ? 'block' : 'none';\n",
              "\n",
              "        async function convertToInteractive(key) {\n",
              "          const element = document.querySelector('#df-99368713-72d0-4b62-ab68-38fed32074cc');\n",
              "          const dataTable =\n",
              "            await google.colab.kernel.invokeFunction('convertToInteractive',\n",
              "                                                     [key], {});\n",
              "          if (!dataTable) return;\n",
              "\n",
              "          const docLinkHtml = 'Like what you see? Visit the ' +\n",
              "            '<a target=\"_blank\" href=https://colab.research.google.com/notebooks/data_table.ipynb>data table notebook</a>'\n",
              "            + ' to learn more about interactive tables.';\n",
              "          element.innerHTML = '';\n",
              "          dataTable['output_type'] = 'display_data';\n",
              "          await google.colab.output.renderOutput(dataTable, element);\n",
              "          const docLink = document.createElement('div');\n",
              "          docLink.innerHTML = docLinkHtml;\n",
              "          element.appendChild(docLink);\n",
              "        }\n",
              "      </script>\n",
              "    </div>\n",
              "  </div>\n",
              "  "
            ]
          },
          "metadata": {},
          "execution_count": 29
        }
      ]
    },
    {
      "cell_type": "markdown",
      "source": [
        "Now that we have all our required values, let's create a plot to see if there is a correlation between heart rate and steps"
      ],
      "metadata": {
        "id": "DItN06uaYNVV"
      }
    },
    {
      "cell_type": "code",
      "source": [
        "\n",
        "# Setting Seaborn plot style\n",
        "sns.set_style(\"darkgrid\")\n",
        "\n",
        "#Plotting our data\n",
        "plot = sns.jointplot(x='heart_rate', y='steps', data=analysis_df_cleaned,\n",
        "                    kind='reg')\n"
      ],
      "metadata": {
        "id": "7xSLzUr2Mb3r",
        "colab": {
          "base_uri": "https://localhost:8080/",
          "height": 441
        },
        "outputId": "1d12462f-758d-4c55-e800-a99bfa21b0fc"
      },
      "execution_count": null,
      "outputs": [
        {
          "output_type": "display_data",
          "data": {
            "text/plain": [
              "<Figure size 432x432 with 3 Axes>"
            ],
            "image/png": "[encoded data removed]"
          },
          "metadata": {}
        }
      ]
    },
    {
      "cell_type": "markdown",
      "source": [
        "As we can see from the scatterplot above, it looks like there might be a correlation there. Let's compute $R^2$ just to see exactly how correlated.\n",
        "\n",
        "We'll follow [this documentation](https://docs.scipy.org/doc/scipy-0.15.1/reference/generated/scipy.stats.linregress.html) and perform a linear regression to obtain the coefficient of determination ($R^2$)."
      ],
      "metadata": {
        "id": "I4BRD6Xk520m"
      }
    },
    {
      "cell_type": "code",
      "source": [
        "from scipy import stats\n",
        "\n",
        "slope, intercept, r_value, p_value, std_err = stats.linregress(\n",
        "      analysis_df_cleaned.get('heart_rate'), analysis_df_cleaned.get('steps'))\n",
        "\n",
        "print(f'Slope: {slope:.3g}')\n",
        "print(f'Coefficient of determination: {r_value**2:.3g}')\n",
        "print(f'p-value: {p_value:.3g}')"
      ],
      "metadata": {
        "id": "9ICnvVwAbgOy",
        "colab": {
          "base_uri": "https://localhost:8080/"
        },
        "outputId": "eb676e37-aef1-42ac-9c23-6015160af1b8"
      },
      "execution_count": null,
      "outputs": [
        {
          "output_type": "stream",
          "name": "stdout",
          "text": [
            "Slope: 411\n",
            "Coefficient of determination: 0.361\n",
            "p-value: 0.000451\n"
          ]
        }
      ]
    },
    {
      "cell_type": "markdown",
      "source": [
        "As the p value is less than 0.4%, it means that that our result is statistically significant which means there is enough evidence to conclude that there is a correlation between average heart rate and the total number of steps in a day."
      ],
      "metadata": {
        "id": "Fi0FrqOl5rG8"
      }
    },
    {
      "cell_type": "markdown",
      "source": [
        "##5.2 Outlier Detection!\n"
      ],
      "metadata": {
        "id": "W0GcBatj7YEw"
      }
    },
    {
      "cell_type": "markdown",
      "source": [
        "However, even though our p value seems to provide enough statistical significance that there is a correlation between average heart rate and the number of steps in a day, there might be outliers that do not follow this correlation. In this section of our analysis, we will find if there are outliers like that and if they exist, we will visually highlight them in our plot."
      ],
      "metadata": {
        "id": "HAz9qx5DOS5C"
      }
    },
    {
      "cell_type": "markdown",
      "source": [
        "Before finding the individual outlier values, it would be interesting to see the summary of our step count and average heart rate parameters. It will give us a clear idea of what values are typical and which values can be considered atypical based on the data that we recieved from Google Fit."
      ],
      "metadata": {
        "id": "Wo3gd-SuRAsJ"
      }
    },
    {
      "cell_type": "code",
      "source": [
        "analysis_df_cleaned_summary = analysis_df_cleaned.describe().get(\n",
        "                                          ['steps','heart_rate'])\n",
        "analysis_df_cleaned_summary"
      ],
      "metadata": {
        "id": "QW7SofwC7xef",
        "colab": {
          "base_uri": "https://localhost:8080/",
          "height": 300
        },
        "outputId": "e51b4d02-ac84-4d94-fa5b-b80a8af37fba"
      },
      "execution_count": null,
      "outputs": [
        {
          "output_type": "execute_result",
          "data": {
            "text/plain": [
              "              steps  heart_rate\n",
              "count     30.000000   30.000000\n",
              "mean   12948.066667   88.648472\n",
              "std     5557.252962    8.117047\n",
              "min     1839.000000   74.489754\n",
              "25%     9200.500000   81.565956\n",
              "50%    12828.000000   88.659888\n",
              "75%    16182.250000   94.857728\n",
              "max    25391.000000  105.713722"
            ],
            "text/html": [
              "\n",
              "  <div id=\"df-f23f3a8a-5bfe-45c6-b4c4-9cf56c0edc1c\">\n",
              "    <div class=\"colab-df-container\">\n",
              "      <div>\n",
              "<style scoped>\n",
              "    .dataframe tbody tr th:only-of-type {\n",
              "        vertical-align: middle;\n",
              "    }\n",
              "\n",
              "    .dataframe tbody tr th {\n",
              "        vertical-align: top;\n",
              "    }\n",
              "\n",
              "    .dataframe thead th {\n",
              "        text-align: right;\n",
              "    }\n",
              "</style>\n",
              "<table border=\"1\" class=\"dataframe\">\n",
              "  <thead>\n",
              "    <tr style=\"text-align: right;\">\n",
              "      <th></th>\n",
              "      <th>steps</th>\n",
              "      <th>heart_rate</th>\n",
              "    </tr>\n",
              "  </thead>\n",
              "  <tbody>\n",
              "    <tr>\n",
              "      <th>count</th>\n",
              "      <td>30.000000</td>\n",
              "      <td>30.000000</td>\n",
              "    </tr>\n",
              "    <tr>\n",
              "      <th>mean</th>\n",
              "      <td>12948.066667</td>\n",
              "      <td>88.648472</td>\n",
              "    </tr>\n",
              "    <tr>\n",
              "      <th>std</th>\n",
              "      <td>5557.252962</td>\n",
              "      <td>8.117047</td>\n",
              "    </tr>\n",
              "    <tr>\n",
              "      <th>min</th>\n",
              "      <td>1839.000000</td>\n",
              "      <td>74.489754</td>\n",
              "    </tr>\n",
              "    <tr>\n",
              "      <th>25%</th>\n",
              "      <td>9200.500000</td>\n",
              "      <td>81.565956</td>\n",
              "    </tr>\n",
              "    <tr>\n",
              "      <th>50%</th>\n",
              "      <td>12828.000000</td>\n",
              "      <td>88.659888</td>\n",
              "    </tr>\n",
              "    <tr>\n",
              "      <th>75%</th>\n",
              "      <td>16182.250000</td>\n",
              "      <td>94.857728</td>\n",
              "    </tr>\n",
              "    <tr>\n",
              "      <th>max</th>\n",
              "      <td>25391.000000</td>\n",
              "      <td>105.713722</td>\n",
              "    </tr>\n",
              "  </tbody>\n",
              "</table>\n",
              "</div>\n",
              "      <button class=\"colab-df-convert\" onclick=\"convertToInteractive('df-f23f3a8a-5bfe-45c6-b4c4-9cf56c0edc1c')\"\n",
              "              title=\"Convert this dataframe to an interactive table.\"\n",
              "              style=\"display:none;\">\n",
              "        \n",
              "  <svg xmlns=\"http://www.w3.org/2000/svg\" height=\"24px\"viewBox=\"0 0 24 24\"\n",
              "       width=\"24px\">\n",
              "    <path d=\"M0 0h24v24H0V0z\" fill=\"none\"/>\n",
              "    <path d=\"M18.56 5.44l.94 2.06.94-2.06 2.06-.94-2.06-.94-.94-2.06-.94 2.06-2.06.94zm-11 1L8.5 8.5l.94-2.06 2.06-.94-2.06-.94L8.5 2.5l-.94 2.06-2.06.94zm10 10l.94 2.06.94-2.06 2.06-.94-2.06-.94-.94-2.06-.94 2.06-2.06.94z\"/><path d=\"M17.41 7.96l-1.37-1.37c-.4-.4-.92-.59-1.43-.59-.52 0-1.04.2-1.43.59L10.3 9.45l-7.72 7.72c-.78.78-.78 2.05 0 2.83L4 21.41c.39.39.9.59 1.41.59.51 0 1.02-.2 1.41-.59l7.78-7.78 2.81-2.81c.8-.78.8-2.07 0-2.86zM5.41 20L4 18.59l7.72-7.72 1.47 1.35L5.41 20z\"/>\n",
              "  </svg>\n",
              "      </button>\n",
              "      \n",
              "  <style>\n",
              "    .colab-df-container {\n",
              "      display:flex;\n",
              "      flex-wrap:wrap;\n",
              "      gap: 12px;\n",
              "    }\n",
              "\n",
              "    .colab-df-convert {\n",
              "      background-color: #E8F0FE;\n",
              "      border: none;\n",
              "      border-radius: 50%;\n",
              "      cursor: pointer;\n",
              "      display: none;\n",
              "      fill: #1967D2;\n",
              "      height: 32px;\n",
              "      padding: 0 0 0 0;\n",
              "      width: 32px;\n",
              "    }\n",
              "\n",
              "    .colab-df-convert:hover {\n",
              "      background-color: #E2EBFA;\n",
              "      box-shadow: 0px 1px 2px rgba(60, 64, 67, 0.3), 0px 1px 3px 1px rgba(60, 64, 67, 0.15);\n",
              "      fill: #174EA6;\n",
              "    }\n",
              "\n",
              "    [theme=dark] .colab-df-convert {\n",
              "      background-color: #3B4455;\n",
              "      fill: #D2E3FC;\n",
              "    }\n",
              "\n",
              "    [theme=dark] .colab-df-convert:hover {\n",
              "      background-color: #434B5C;\n",
              "      box-shadow: 0px 1px 3px 1px rgba(0, 0, 0, 0.15);\n",
              "      filter: drop-shadow(0px 1px 2px rgba(0, 0, 0, 0.3));\n",
              "      fill: #FFFFFF;\n",
              "    }\n",
              "  </style>\n",
              "\n",
              "      <script>\n",
              "        const buttonEl =\n",
              "          document.querySelector('#df-f23f3a8a-5bfe-45c6-b4c4-9cf56c0edc1c button.colab-df-convert');\n",
              "        buttonEl.style.display =\n",
              "          google.colab.kernel.accessAllowed ? 'block' : 'none';\n",
              "\n",
              "        async function convertToInteractive(key) {\n",
              "          const element = document.querySelector('#df-f23f3a8a-5bfe-45c6-b4c4-9cf56c0edc1c');\n",
              "          const dataTable =\n",
              "            await google.colab.kernel.invokeFunction('convertToInteractive',\n",
              "                                                     [key], {});\n",
              "          if (!dataTable) return;\n",
              "\n",
              "          const docLinkHtml = 'Like what you see? Visit the ' +\n",
              "            '<a target=\"_blank\" href=https://colab.research.google.com/notebooks/data_table.ipynb>data table notebook</a>'\n",
              "            + ' to learn more about interactive tables.';\n",
              "          element.innerHTML = '';\n",
              "          dataTable['output_type'] = 'display_data';\n",
              "          await google.colab.output.renderOutput(dataTable, element);\n",
              "          const docLink = document.createElement('div');\n",
              "          docLink.innerHTML = docLinkHtml;\n",
              "          element.appendChild(docLink);\n",
              "        }\n",
              "      </script>\n",
              "    </div>\n",
              "  </div>\n",
              "  "
            ]
          },
          "metadata": {},
          "execution_count": 32
        }
      ]
    },
    {
      "cell_type": "markdown",
      "source": [
        "To locate the outliers we will be using a supervised as well as unsupervised algorithm called the Elliptic Envelope. In statistical studies, Elliptic Envelope created an imaginary elliptical area around a given dataset where values inside that imaginary area is considered to be normal data, and anything else is assumed to be outliers. It assumes that the given data follows a gaussian distribution.\n",
        "\n",
        "\"The main idea is to define the shape of the data and anomalies are those observations that lie far outside the shape. First a robust estimate of covariance of data is fitted into an ellipse around the central mode. Then, the Mahalanobis distance that is obtained from this estimate is used to define the threshold for determining outliers or anomalies.\" [(S. Shriram and E. Sivasankar ,2019, pp. 221-225)](https://ieeexplore.ieee.org/document/9004325)"
      ],
      "metadata": {
        "id": "ubEJrCpARO_c"
      }
    },
    {
      "cell_type": "code",
      "source": [
        "# Sometimes EllipticEnvelope shows slicing based copy warnings\n",
        "# The next line changes a setting that prevents the error from happening\n",
        "\n",
        "pd.set_option('mode.chained_assignment', None)\n",
        "\n",
        "#create the model, set the contamination as 0.02\n",
        "EE_model = EllipticEnvelope(contamination = 0.02)\n",
        "\n",
        "#implement the model on the data\n",
        "outliers = EE_model.fit_predict(analysis_df_cleaned.get(\n",
        "                                                    [\"steps\", \"heart_rate\"]))\n",
        "\n",
        "#extract the labels\n",
        "analysis_df_cleaned[\"outlier\"] = copy.deepcopy(outliers)\n",
        "\n",
        "#change the labels\n",
        "# We use -1 to mark an outlier and +1 for an inliner\n",
        "analysis_df_cleaned[\"outlier\"] = analysis_df_cleaned[\"outlier\"].apply(\n",
        "                                    lambda x: str(-1) if x == -1 else str(1))\n",
        "\n",
        "#extract the score\n",
        "analysis_df_cleaned[\"EE_scores\"] = EE_model.score_samples(\n",
        "                            analysis_df_cleaned.get([\"steps\", \"heart_rate\"]))\n",
        "\n",
        "#print the value counts for inlier and outliers\n",
        "print(analysis_df_cleaned[\"outlier\"].value_counts())"
      ],
      "metadata": {
        "id": "ZyAiVcsnRLvh",
        "colab": {
          "base_uri": "https://localhost:8080/"
        },
        "outputId": "f527e0c5-80d0-44c1-9a51-883389287be3"
      },
      "execution_count": null,
      "outputs": [
        {
          "output_type": "stream",
          "name": "stdout",
          "text": [
            "1     29\n",
            "-1     1\n",
            "Name: outlier, dtype: int64\n"
          ]
        }
      ]
    },
    {
      "cell_type": "markdown",
      "source": [
        "Below we will replot the analysis_df_cleaned dataframe to see how the two new columns were applied to it!"
      ],
      "metadata": {
        "id": "eZdiGyVsTZPc"
      }
    },
    {
      "cell_type": "code",
      "source": [
        "analysis_df_cleaned.head()"
      ],
      "metadata": {
        "id": "au7PJ0R8TY92",
        "colab": {
          "base_uri": "https://localhost:8080/",
          "height": 206
        },
        "outputId": "332bbe63-9c5c-4eee-e285-67bbeb4fc156"
      },
      "execution_count": null,
      "outputs": [
        {
          "output_type": "execute_result",
          "data": {
            "text/plain": [
              "            date  steps  heart_rate outlier  EE_scores\n",
              "0  1652659200000  18633   89.769157       1  -2.902315\n",
              "1  1652745600000  12758   94.954825       1  -1.520562\n",
              "2  1652832000000  11090   88.238903       1  -0.201505\n",
              "3  1652918400000  13246   91.480209       1  -0.229582\n",
              "4  1653004800000  13051   74.489754       1  -7.682884"
            ],
            "text/html": [
              "\n",
              "  <div id=\"df-5875f38c-eeda-4a12-aeb7-0a45979c6a33\">\n",
              "    <div class=\"colab-df-container\">\n",
              "      <div>\n",
              "<style scoped>\n",
              "    .dataframe tbody tr th:only-of-type {\n",
              "        vertical-align: middle;\n",
              "    }\n",
              "\n",
              "    .dataframe tbody tr th {\n",
              "        vertical-align: top;\n",
              "    }\n",
              "\n",
              "    .dataframe thead th {\n",
              "        text-align: right;\n",
              "    }\n",
              "</style>\n",
              "<table border=\"1\" class=\"dataframe\">\n",
              "  <thead>\n",
              "    <tr style=\"text-align: right;\">\n",
              "      <th></th>\n",
              "      <th>date</th>\n",
              "      <th>steps</th>\n",
              "      <th>heart_rate</th>\n",
              "      <th>outlier</th>\n",
              "      <th>EE_scores</th>\n",
              "    </tr>\n",
              "  </thead>\n",
              "  <tbody>\n",
              "    <tr>\n",
              "      <th>0</th>\n",
              "      <td>1652659200000</td>\n",
              "      <td>18633</td>\n",
              "      <td>89.769157</td>\n",
              "      <td>1</td>\n",
              "      <td>-2.902315</td>\n",
              "    </tr>\n",
              "    <tr>\n",
              "      <th>1</th>\n",
              "      <td>1652745600000</td>\n",
              "      <td>12758</td>\n",
              "      <td>94.954825</td>\n",
              "      <td>1</td>\n",
              "      <td>-1.520562</td>\n",
              "    </tr>\n",
              "    <tr>\n",
              "      <th>2</th>\n",
              "      <td>1652832000000</td>\n",
              "      <td>11090</td>\n",
              "      <td>88.238903</td>\n",
              "      <td>1</td>\n",
              "      <td>-0.201505</td>\n",
              "    </tr>\n",
              "    <tr>\n",
              "      <th>3</th>\n",
              "      <td>1652918400000</td>\n",
              "      <td>13246</td>\n",
              "      <td>91.480209</td>\n",
              "      <td>1</td>\n",
              "      <td>-0.229582</td>\n",
              "    </tr>\n",
              "    <tr>\n",
              "      <th>4</th>\n",
              "      <td>1653004800000</td>\n",
              "      <td>13051</td>\n",
              "      <td>74.489754</td>\n",
              "      <td>1</td>\n",
              "      <td>-7.682884</td>\n",
              "    </tr>\n",
              "  </tbody>\n",
              "</table>\n",
              "</div>\n",
              "      <button class=\"colab-df-convert\" onclick=\"convertToInteractive('df-5875f38c-eeda-4a12-aeb7-0a45979c6a33')\"\n",
              "              title=\"Convert this dataframe to an interactive table.\"\n",
              "              style=\"display:none;\">\n",
              "        \n",
              "  <svg xmlns=\"http://www.w3.org/2000/svg\" height=\"24px\"viewBox=\"0 0 24 24\"\n",
              "       width=\"24px\">\n",
              "    <path d=\"M0 0h24v24H0V0z\" fill=\"none\"/>\n",
              "    <path d=\"M18.56 5.44l.94 2.06.94-2.06 2.06-.94-2.06-.94-.94-2.06-.94 2.06-2.06.94zm-11 1L8.5 8.5l.94-2.06 2.06-.94-2.06-.94L8.5 2.5l-.94 2.06-2.06.94zm10 10l.94 2.06.94-2.06 2.06-.94-2.06-.94-.94-2.06-.94 2.06-2.06.94z\"/><path d=\"M17.41 7.96l-1.37-1.37c-.4-.4-.92-.59-1.43-.59-.52 0-1.04.2-1.43.59L10.3 9.45l-7.72 7.72c-.78.78-.78 2.05 0 2.83L4 21.41c.39.39.9.59 1.41.59.51 0 1.02-.2 1.41-.59l7.78-7.78 2.81-2.81c.8-.78.8-2.07 0-2.86zM5.41 20L4 18.59l7.72-7.72 1.47 1.35L5.41 20z\"/>\n",
              "  </svg>\n",
              "      </button>\n",
              "      \n",
              "  <style>\n",
              "    .colab-df-container {\n",
              "      display:flex;\n",
              "      flex-wrap:wrap;\n",
              "      gap: 12px;\n",
              "    }\n",
              "\n",
              "    .colab-df-convert {\n",
              "      background-color: #E8F0FE;\n",
              "      border: none;\n",
              "      border-radius: 50%;\n",
              "      cursor: pointer;\n",
              "      display: none;\n",
              "      fill: #1967D2;\n",
              "      height: 32px;\n",
              "      padding: 0 0 0 0;\n",
              "      width: 32px;\n",
              "    }\n",
              "\n",
              "    .colab-df-convert:hover {\n",
              "      background-color: #E2EBFA;\n",
              "      box-shadow: 0px 1px 2px rgba(60, 64, 67, 0.3), 0px 1px 3px 1px rgba(60, 64, 67, 0.15);\n",
              "      fill: #174EA6;\n",
              "    }\n",
              "\n",
              "    [theme=dark] .colab-df-convert {\n",
              "      background-color: #3B4455;\n",
              "      fill: #D2E3FC;\n",
              "    }\n",
              "\n",
              "    [theme=dark] .colab-df-convert:hover {\n",
              "      background-color: #434B5C;\n",
              "      box-shadow: 0px 1px 3px 1px rgba(0, 0, 0, 0.15);\n",
              "      filter: drop-shadow(0px 1px 2px rgba(0, 0, 0, 0.3));\n",
              "      fill: #FFFFFF;\n",
              "    }\n",
              "  </style>\n",
              "\n",
              "      <script>\n",
              "        const buttonEl =\n",
              "          document.querySelector('#df-5875f38c-eeda-4a12-aeb7-0a45979c6a33 button.colab-df-convert');\n",
              "        buttonEl.style.display =\n",
              "          google.colab.kernel.accessAllowed ? 'block' : 'none';\n",
              "\n",
              "        async function convertToInteractive(key) {\n",
              "          const element = document.querySelector('#df-5875f38c-eeda-4a12-aeb7-0a45979c6a33');\n",
              "          const dataTable =\n",
              "            await google.colab.kernel.invokeFunction('convertToInteractive',\n",
              "                                                     [key], {});\n",
              "          if (!dataTable) return;\n",
              "\n",
              "          const docLinkHtml = 'Like what you see? Visit the ' +\n",
              "            '<a target=\"_blank\" href=https://colab.research.google.com/notebooks/data_table.ipynb>data table notebook</a>'\n",
              "            + ' to learn more about interactive tables.';\n",
              "          element.innerHTML = '';\n",
              "          dataTable['output_type'] = 'display_data';\n",
              "          await google.colab.output.renderOutput(dataTable, element);\n",
              "          const docLink = document.createElement('div');\n",
              "          docLink.innerHTML = docLinkHtml;\n",
              "          element.appendChild(docLink);\n",
              "        }\n",
              "      </script>\n",
              "    </div>\n",
              "  </div>\n",
              "  "
            ]
          },
          "metadata": {},
          "execution_count": 34
        }
      ]
    },
    {
      "cell_type": "markdown",
      "source": [
        "Now that we have labeled the outliers as -1, let's try to see which values of average heart rate and steps are being identified as outliers by our Elliptic Envelope Algorithm."
      ],
      "metadata": {
        "id": "LUOfVgzxTg0a"
      }
    },
    {
      "cell_type": "code",
      "source": [
        "outlier_df = analysis_df_cleaned[analysis_df_cleaned.get('outlier')=='-1'].get(\n",
        "    ['steps','heart_rate'])\n",
        "outlier_df"
      ],
      "metadata": {
        "id": "TJRWc8j2RiJF",
        "colab": {
          "base_uri": "https://localhost:8080/",
          "height": 81
        },
        "outputId": "090c3aa1-3ca3-472d-fa67-05db21da7da9"
      },
      "execution_count": null,
      "outputs": [
        {
          "output_type": "execute_result",
          "data": {
            "text/plain": [
              "    steps  heart_rate\n",
              "14  25391   86.300234"
            ],
            "text/html": [
              "\n",
              "  <div id=\"df-1f26d361-d8bb-4b6b-833d-3bd43711e69d\">\n",
              "    <div class=\"colab-df-container\">\n",
              "      <div>\n",
              "<style scoped>\n",
              "    .dataframe tbody tr th:only-of-type {\n",
              "        vertical-align: middle;\n",
              "    }\n",
              "\n",
              "    .dataframe tbody tr th {\n",
              "        vertical-align: top;\n",
              "    }\n",
              "\n",
              "    .dataframe thead th {\n",
              "        text-align: right;\n",
              "    }\n",
              "</style>\n",
              "<table border=\"1\" class=\"dataframe\">\n",
              "  <thead>\n",
              "    <tr style=\"text-align: right;\">\n",
              "      <th></th>\n",
              "      <th>steps</th>\n",
              "      <th>heart_rate</th>\n",
              "    </tr>\n",
              "  </thead>\n",
              "  <tbody>\n",
              "    <tr>\n",
              "      <th>14</th>\n",
              "      <td>25391</td>\n",
              "      <td>86.300234</td>\n",
              "    </tr>\n",
              "  </tbody>\n",
              "</table>\n",
              "</div>\n",
              "      <button class=\"colab-df-convert\" onclick=\"convertToInteractive('df-1f26d361-d8bb-4b6b-833d-3bd43711e69d')\"\n",
              "              title=\"Convert this dataframe to an interactive table.\"\n",
              "              style=\"display:none;\">\n",
              "        \n",
              "  <svg xmlns=\"http://www.w3.org/2000/svg\" height=\"24px\"viewBox=\"0 0 24 24\"\n",
              "       width=\"24px\">\n",
              "    <path d=\"M0 0h24v24H0V0z\" fill=\"none\"/>\n",
              "    <path d=\"M18.56 5.44l.94 2.06.94-2.06 2.06-.94-2.06-.94-.94-2.06-.94 2.06-2.06.94zm-11 1L8.5 8.5l.94-2.06 2.06-.94-2.06-.94L8.5 2.5l-.94 2.06-2.06.94zm10 10l.94 2.06.94-2.06 2.06-.94-2.06-.94-.94-2.06-.94 2.06-2.06.94z\"/><path d=\"M17.41 7.96l-1.37-1.37c-.4-.4-.92-.59-1.43-.59-.52 0-1.04.2-1.43.59L10.3 9.45l-7.72 7.72c-.78.78-.78 2.05 0 2.83L4 21.41c.39.39.9.59 1.41.59.51 0 1.02-.2 1.41-.59l7.78-7.78 2.81-2.81c.8-.78.8-2.07 0-2.86zM5.41 20L4 18.59l7.72-7.72 1.47 1.35L5.41 20z\"/>\n",
              "  </svg>\n",
              "      </button>\n",
              "      \n",
              "  <style>\n",
              "    .colab-df-container {\n",
              "      display:flex;\n",
              "      flex-wrap:wrap;\n",
              "      gap: 12px;\n",
              "    }\n",
              "\n",
              "    .colab-df-convert {\n",
              "      background-color: #E8F0FE;\n",
              "      border: none;\n",
              "      border-radius: 50%;\n",
              "      cursor: pointer;\n",
              "      display: none;\n",
              "      fill: #1967D2;\n",
              "      height: 32px;\n",
              "      padding: 0 0 0 0;\n",
              "      width: 32px;\n",
              "    }\n",
              "\n",
              "    .colab-df-convert:hover {\n",
              "      background-color: #E2EBFA;\n",
              "      box-shadow: 0px 1px 2px rgba(60, 64, 67, 0.3), 0px 1px 3px 1px rgba(60, 64, 67, 0.15);\n",
              "      fill: #174EA6;\n",
              "    }\n",
              "\n",
              "    [theme=dark] .colab-df-convert {\n",
              "      background-color: #3B4455;\n",
              "      fill: #D2E3FC;\n",
              "    }\n",
              "\n",
              "    [theme=dark] .colab-df-convert:hover {\n",
              "      background-color: #434B5C;\n",
              "      box-shadow: 0px 1px 3px 1px rgba(0, 0, 0, 0.15);\n",
              "      filter: drop-shadow(0px 1px 2px rgba(0, 0, 0, 0.3));\n",
              "      fill: #FFFFFF;\n",
              "    }\n",
              "  </style>\n",
              "\n",
              "      <script>\n",
              "        const buttonEl =\n",
              "          document.querySelector('#df-1f26d361-d8bb-4b6b-833d-3bd43711e69d button.colab-df-convert');\n",
              "        buttonEl.style.display =\n",
              "          google.colab.kernel.accessAllowed ? 'block' : 'none';\n",
              "\n",
              "        async function convertToInteractive(key) {\n",
              "          const element = document.querySelector('#df-1f26d361-d8bb-4b6b-833d-3bd43711e69d');\n",
              "          const dataTable =\n",
              "            await google.colab.kernel.invokeFunction('convertToInteractive',\n",
              "                                                     [key], {});\n",
              "          if (!dataTable) return;\n",
              "\n",
              "          const docLinkHtml = 'Like what you see? Visit the ' +\n",
              "            '<a target=\"_blank\" href=https://colab.research.google.com/notebooks/data_table.ipynb>data table notebook</a>'\n",
              "            + ' to learn more about interactive tables.';\n",
              "          element.innerHTML = '';\n",
              "          dataTable['output_type'] = 'display_data';\n",
              "          await google.colab.output.renderOutput(dataTable, element);\n",
              "          const docLink = document.createElement('div');\n",
              "          docLink.innerHTML = docLinkHtml;\n",
              "          element.appendChild(docLink);\n",
              "        }\n",
              "      </script>\n",
              "    </div>\n",
              "  </div>\n",
              "  "
            ]
          },
          "metadata": {},
          "execution_count": 35
        }
      ]
    },
    {
      "cell_type": "markdown",
      "source": [
        "Sweet, now that we know that there were outliers in our dataset, let's try to visually see which pair of values are being identified as outliers using a plot. Highlighting these outliers in a bright red color will make it super easy for us to identify them in our plot."
      ],
      "metadata": {
        "id": "edV4gX5mTm3K"
      }
    },
    {
      "cell_type": "code",
      "source": [
        "# Setting Figure Size in Seaborn\n",
        "sns.set(rc={'figure.figsize':(16,8)})\n",
        "\n",
        "# Setting Seaborn plot style\n",
        "sns.set_style(\"darkgrid\")\n",
        "\n",
        "#Plotting our data\n",
        "plot = sns.regplot(x='heart_rate', y='steps', data=analysis_df_cleaned.drop(\n",
        "    outlier_df.index))\n",
        "\n",
        "plt.scatter(outlier_df.get('heart_rate'),outlier_df.get('steps'))\n",
        "plt.scatter(outlier_df.get('heart_rate'),outlier_df.get('steps'),\n",
        "            facecolors='red',alpha=.35, s=500)\n",
        "\n",
        "plt.show()"
      ],
      "metadata": {
        "id": "7lvwwFnPSXE1",
        "colab": {
          "base_uri": "https://localhost:8080/",
          "height": 502
        },
        "outputId": "2c4fabae-335e-42b5-9b3a-aa9e017e41c6"
      },
      "execution_count": null,
      "outputs": [
        {
          "output_type": "display_data",
          "data": {
            "text/plain": [
              "<Figure size 1152x576 with 1 Axes>"
            ],
            "image/png": "[encoded data removed]"
          },
          "metadata": {}
        }
      ]
    },
    {
      "cell_type": "markdown",
      "source": [
        "Thus, the points highlighted in red are ones that seem to not be following the general trend of our dataset. Lastly, let's see what the new p-value is after outlier removal!"
      ],
      "metadata": {
        "id": "HifYp0C7UADv"
      }
    },
    {
      "cell_type": "code",
      "source": [
        "slope, intercept, r_value, p_value, std_err = stats.linregress(\n",
        "    analysis_df_cleaned.drop(outlier_df.index).get('heart_rate'),\n",
        "     analysis_df_cleaned.drop(outlier_df.index).get('steps'))\n",
        "\n",
        "print(f'Slope: {slope:.3g}')\n",
        "print(f'Coefficient of determination: {r_value**2:.3g}')\n",
        "print(f'p-value: {p_value:.3g}')"
      ],
      "metadata": {
        "id": "BxGMfGTX3JgB",
        "colab": {
          "base_uri": "https://localhost:8080/"
        },
        "outputId": "b4f5644d-edcb-4ccd-dafa-44bb73d66deb"
      },
      "execution_count": null,
      "outputs": [
        {
          "output_type": "stream",
          "name": "stdout",
          "text": [
            "Slope: 428\n",
            "Coefficient of determination: 0.475\n",
            "p-value: 3.55e-05\n"
          ]
        }
      ]
    },
    {
      "cell_type": "markdown",
      "source": [
        "Our new p-value after removing any outliers is 3.55e-05 which is much less than 5%. Therefore, after removing the outliers, our result is statistically significant which means that there is enough evidence to imply that that there is a correlation between average heart rate and the total number of steps in a day."
      ],
      "metadata": {
        "id": "YFJiHc7fBQOM"
      }
    },
    {
      "cell_type": "code",
      "source": [
        "api_url2 = \"https://www.googleapis.com/fitness/v1/users/me/dataSources\"\n",
        "g_access_token = google_access_token\n",
        "headers = {\n",
        "  \"Authorization\": \"Bearer {}\".format(g_access_token),\n",
        "  \"Content-Type\": \"application/json;encoding=utf-8\"\n",
        "  }\n",
        "\n",
        "response_data = requests.get(api_url2, headers=headers)\n",
        "print(response_data.text)"
      ],
      "metadata": {
        "colab": {
          "base_uri": "https://localhost:8080/"
        },
        "id": "QqhpSO-nqwhr",
        "outputId": "4afbbbaa-9388-42b2-8c67-b954ead5dd2b"
      },
      "execution_count": null,
      "outputs": [
        {
          "output_type": "stream",
          "name": "stdout",
          "text": [
            "{\n",
            "  \"dataSource\": [\n",
            "    {\n",
            "      \"dataStreamId\": \"derived:com.google.active_minutes:com.google.android.gms:merge_active_minutes\",\n",
            "      \"dataStreamName\": \"merge_active_minutes\",\n",
            "      \"type\": \"derived\",\n",
            "      \"dataType\": {\n",
            "        \"name\": \"com.google.active_minutes\",\n",
            "        \"field\": [\n",
            "          {\n",
            "            \"name\": \"duration\",\n",
            "            \"format\": \"integer\"\n",
            "          }\n",
            "        ]\n",
            "      },\n",
            "      \"application\": {\n",
            "        \"packageName\": \"com.google.android.gms\"\n",
            "      },\n",
            "      \"dataQualityStandard\": []\n",
            "    },\n",
            "    {\n",
            "      \"dataStreamId\": \"derived:com.google.active_minutes:com.google.ios.fit:appleinc.:iphone:702603b8:top_level\",\n",
            "      \"dataStreamName\": \"top_level\",\n",
            "      \"type\": \"derived\",\n",
            "      \"dataType\": {\n",
            "        \"name\": \"com.google.active_minutes\",\n",
            "        \"field\": [\n",
            "          {\n",
            "            \"name\": \"duration\",\n",
            "            \"format\": \"integer\"\n",
            "          }\n",
            "        ]\n",
            "      },\n",
            "      \"device\": {\n",
            "        \"uid\": \"702603b8\",\n",
            "        \"type\": \"phone\",\n",
            "        \"model\": \"iphone\",\n",
            "        \"manufacturer\": \"appleinc.\"\n",
            "      },\n",
            "      \"application\": {\n",
            "        \"packageName\": \"com.google.ios.fit\",\n",
            "        \"version\": \"\",\n",
            "        \"detailsUrl\": \"\"\n",
            "      },\n",
            "      \"dataQualityStandard\": []\n",
            "    },\n",
            "    {\n",
            "      \"dataStreamId\": \"derived:com.google.active_minutes:com.google.ios.fit:appleinc.:watch:9b176ca2:session_activity_segment\",\n",
            "      \"dataStreamName\": \"session_activity_segment\",\n",
            "      \"type\": \"derived\",\n",
            "      \"dataType\": {\n",
            "        \"name\": \"com.google.active_minutes\",\n",
            "        \"field\": [\n",
            "          {\n",
            "            \"name\": \"duration\",\n",
            "            \"format\": \"integer\"\n",
            "          }\n",
            "        ]\n",
            "      },\n",
            "      \"device\": {\n",
            "        \"uid\": \"9b176ca2\",\n",
            "        \"type\": \"watch\",\n",
            "        \"model\": \"watch\",\n",
            "        \"manufacturer\": \"appleinc.\"\n",
            "      },\n",
            "      \"application\": {\n",
            "        \"packageName\": \"com.google.ios.fit\",\n",
            "        \"version\": \"\",\n",
            "        \"detailsUrl\": \"\"\n",
            "      },\n",
            "      \"dataQualityStandard\": []\n",
            "    },\n",
            "    {\n",
            "      \"dataStreamId\": \"derived:com.google.active_minutes:com.google.ios.fit:appleinc.:watch:9b176ca2:top_level\",\n",
            "      \"dataStreamName\": \"top_level\",\n",
            "      \"type\": \"derived\",\n",
            "      \"dataType\": {\n",
            "        \"name\": \"com.google.active_minutes\",\n",
            "        \"field\": [\n",
            "          {\n",
            "            \"name\": \"duration\",\n",
            "            \"format\": \"integer\"\n",
            "          }\n",
            "        ]\n",
            "      },\n",
            "      \"device\": {\n",
            "        \"uid\": \"9b176ca2\",\n",
            "        \"type\": \"watch\",\n",
            "        \"model\": \"watch\",\n",
            "        \"manufacturer\": \"appleinc.\"\n",
            "      },\n",
            "      \"application\": {\n",
            "        \"packageName\": \"com.google.ios.fit\",\n",
            "        \"version\": \"\",\n",
            "        \"detailsUrl\": \"\"\n",
            "      },\n",
            "      \"dataQualityStandard\": []\n",
            "    },\n",
            "    {\n",
            "      \"dataStreamId\": \"derived:com.google.activity.segment:com.google.android.gms:merge_activity_segments\",\n",
            "      \"dataStreamName\": \"merge_activity_segments\",\n",
            "      \"type\": \"derived\",\n",
            "      \"dataType\": {\n",
            "        \"name\": \"com.google.activity.segment\",\n",
            "        \"field\": [\n",
            "          {\n",
            "            \"name\": \"activity\",\n",
            "            \"format\": \"integer\"\n",
            "          }\n",
            "        ]\n",
            "      },\n",
            "      \"application\": {\n",
            "        \"packageName\": \"com.google.android.gms\"\n",
            "      },\n",
            "      \"dataQualityStandard\": []\n",
            "    },\n",
            "    {\n",
            "      \"dataStreamId\": \"derived:com.google.activity.segment:com.google.ios.fit:appleinc.:iphone:702603b8:top_level\",\n",
            "      \"dataStreamName\": \"top_level\",\n",
            "      \"type\": \"derived\",\n",
            "      \"dataType\": {\n",
            "        \"name\": \"com.google.activity.segment\",\n",
            "        \"field\": [\n",
            "          {\n",
            "            \"name\": \"activity\",\n",
            "            \"format\": \"integer\"\n",
            "          }\n",
            "        ]\n",
            "      },\n",
            "      \"device\": {\n",
            "        \"uid\": \"702603b8\",\n",
            "        \"type\": \"phone\",\n",
            "        \"model\": \"iphone\",\n",
            "        \"manufacturer\": \"appleinc.\"\n",
            "      },\n",
            "      \"application\": {\n",
            "        \"packageName\": \"com.google.ios.fit\",\n",
            "        \"version\": \"\",\n",
            "        \"detailsUrl\": \"\"\n",
            "      },\n",
            "      \"dataQualityStandard\": []\n",
            "    },\n",
            "    {\n",
            "      \"dataStreamId\": \"derived:com.google.activity.segment:com.google.ios.fit:appleinc.:watch:9b176ca2:session_activity_segment\",\n",
            "      \"dataStreamName\": \"session_activity_segment\",\n",
            "      \"type\": \"derived\",\n",
            "      \"dataType\": {\n",
            "        \"name\": \"com.google.activity.segment\",\n",
            "        \"field\": [\n",
            "          {\n",
            "            \"name\": \"activity\",\n",
            "            \"format\": \"integer\"\n",
            "          }\n",
            "        ]\n",
            "      },\n",
            "      \"device\": {\n",
            "        \"uid\": \"9b176ca2\",\n",
            "        \"type\": \"watch\",\n",
            "        \"model\": \"watch\",\n",
            "        \"manufacturer\": \"appleinc.\"\n",
            "      },\n",
            "      \"application\": {\n",
            "        \"packageName\": \"com.google.ios.fit\",\n",
            "        \"version\": \"\",\n",
            "        \"detailsUrl\": \"\"\n",
            "      },\n",
            "      \"dataQualityStandard\": []\n",
            "    },\n",
            "    {\n",
            "      \"dataStreamId\": \"derived:com.google.activity.segment:com.google.ios.fit:appleinc.:watch:9b176ca2:top_level\",\n",
            "      \"dataStreamName\": \"top_level\",\n",
            "      \"type\": \"derived\",\n",
            "      \"dataType\": {\n",
            "        \"name\": \"com.google.activity.segment\",\n",
            "        \"field\": [\n",
            "          {\n",
            "            \"name\": \"activity\",\n",
            "            \"format\": \"integer\"\n",
            "          }\n",
            "        ]\n",
            "      },\n",
            "      \"device\": {\n",
            "        \"uid\": \"9b176ca2\",\n",
            "        \"type\": \"watch\",\n",
            "        \"model\": \"watch\",\n",
            "        \"manufacturer\": \"appleinc.\"\n",
            "      },\n",
            "      \"application\": {\n",
            "        \"packageName\": \"com.google.ios.fit\",\n",
            "        \"version\": \"\",\n",
            "        \"detailsUrl\": \"\"\n",
            "      },\n",
            "      \"dataQualityStandard\": []\n",
            "    },\n",
            "    {\n",
            "      \"dataStreamId\": \"derived:com.google.blood_glucose:com.google.android.gms:merged\",\n",
            "      \"dataStreamName\": \"merged\",\n",
            "      \"type\": \"derived\",\n",
            "      \"dataType\": {\n",
            "        \"name\": \"com.google.blood_glucose\",\n",
            "        \"field\": [\n",
            "          {\n",
            "            \"name\": \"blood_glucose_level\",\n",
            "            \"format\": \"floatPoint\"\n",
            "          },\n",
            "          {\n",
            "            \"name\": \"temporal_relation_to_meal\",\n",
            "            \"format\": \"integer\",\n",
            "            \"optional\": true\n",
            "          },\n",
            "          {\n",
            "            \"name\": \"meal_type\",\n",
            "            \"format\": \"integer\",\n",
            "            \"optional\": true\n",
            "          },\n",
            "          {\n",
            "            \"name\": \"temporal_relation_to_sleep\",\n",
            "            \"format\": \"integer\",\n",
            "            \"optional\": true\n",
            "          },\n",
            "          {\n",
            "            \"name\": \"blood_glucose_specimen_source\",\n",
            "            \"format\": \"integer\",\n",
            "            \"optional\": true\n",
            "          }\n",
            "        ]\n",
            "      },\n",
            "      \"application\": {\n",
            "        \"packageName\": \"com.google.android.gms\"\n",
            "      },\n",
            "      \"dataQualityStandard\": []\n",
            "    },\n",
            "    {\n",
            "      \"dataStreamId\": \"derived:com.google.blood_pressure:com.google.android.gms:merged\",\n",
            "      \"dataStreamName\": \"merged\",\n",
            "      \"type\": \"derived\",\n",
            "      \"dataType\": {\n",
            "        \"name\": \"com.google.blood_pressure\",\n",
            "        \"field\": [\n",
            "          {\n",
            "            \"name\": \"blood_pressure_systolic\",\n",
            "            \"format\": \"floatPoint\"\n",
            "          },\n",
            "          {\n",
            "            \"name\": \"blood_pressure_diastolic\",\n",
            "            \"format\": \"floatPoint\"\n",
            "          },\n",
            "          {\n",
            "            \"name\": \"body_position\",\n",
            "            \"format\": \"integer\",\n",
            "            \"optional\": true\n",
            "          },\n",
            "          {\n",
            "            \"name\": \"blood_pressure_measurement_location\",\n",
            "            \"format\": \"integer\",\n",
            "            \"optional\": true\n",
            "          }\n",
            "        ]\n",
            "      },\n",
            "      \"application\": {\n",
            "        \"packageName\": \"com.google.android.gms\"\n",
            "      },\n",
            "      \"dataQualityStandard\": []\n",
            "    },\n",
            "    {\n",
            "      \"dataStreamId\": \"derived:com.google.body.temperature:com.google.android.gms:merged\",\n",
            "      \"dataStreamName\": \"merged\",\n",
            "      \"type\": \"derived\",\n",
            "      \"dataType\": {\n",
            "        \"name\": \"com.google.body.temperature\",\n",
            "        \"field\": [\n",
            "          {\n",
            "            \"name\": \"body_temperature\",\n",
            "            \"format\": \"floatPoint\"\n",
            "          },\n",
            "          {\n",
            "            \"name\": \"body_temperature_measurement_location\",\n",
            "            \"format\": \"integer\",\n",
            "            \"optional\": true\n",
            "          }\n",
            "        ]\n",
            "      },\n",
            "      \"application\": {\n",
            "        \"packageName\": \"com.google.android.gms\"\n",
            "      },\n",
            "      \"dataQualityStandard\": []\n",
            "    },\n",
            "    {\n",
            "      \"dataStreamId\": \"derived:com.google.calories.bmr:com.google.android.gms:merged\",\n",
            "      \"dataStreamName\": \"merged\",\n",
            "      \"type\": \"derived\",\n",
            "      \"dataType\": {\n",
            "        \"name\": \"com.google.calories.bmr\",\n",
            "        \"field\": [\n",
            "          {\n",
            "            \"name\": \"calories\",\n",
            "            \"format\": \"floatPoint\"\n",
            "          }\n",
            "        ]\n",
            "      },\n",
            "      \"application\": {\n",
            "        \"packageName\": \"com.google.android.gms\"\n",
            "      },\n",
            "      \"dataQualityStandard\": []\n",
            "    },\n",
            "    {\n",
            "      \"dataStreamId\": \"derived:com.google.calories.expended:com.google.android.gms:merge_calories_expended\",\n",
            "      \"dataStreamName\": \"merge_calories_expended\",\n",
            "      \"type\": \"derived\",\n",
            "      \"dataType\": {\n",
            "        \"name\": \"com.google.calories.expended\",\n",
            "        \"field\": [\n",
            "          {\n",
            "            \"name\": \"calories\",\n",
            "            \"format\": \"floatPoint\"\n",
            "          }\n",
            "        ]\n",
            "      },\n",
            "      \"application\": {\n",
            "        \"packageName\": \"com.google.android.gms\"\n",
            "      },\n",
            "      \"dataQualityStandard\": []\n",
            "    },\n",
            "    {\n",
            "      \"dataStreamId\": \"derived:com.google.calories.expended:com.google.ios.fit:appleinc.:iphone:702603b8:top_level\",\n",
            "      \"dataStreamName\": \"top_level\",\n",
            "      \"type\": \"derived\",\n",
            "      \"dataType\": {\n",
            "        \"name\": \"com.google.calories.expended\",\n",
            "        \"field\": [\n",
            "          {\n",
            "            \"name\": \"calories\",\n",
            "            \"format\": \"floatPoint\"\n",
            "          }\n",
            "        ]\n",
            "      },\n",
            "      \"device\": {\n",
            "        \"uid\": \"702603b8\",\n",
            "        \"type\": \"phone\",\n",
            "        \"model\": \"iphone\",\n",
            "        \"manufacturer\": \"appleinc.\"\n",
            "      },\n",
            "      \"application\": {\n",
            "        \"packageName\": \"com.google.ios.fit\",\n",
            "        \"version\": \"\",\n",
            "        \"detailsUrl\": \"\"\n",
            "      },\n",
            "      \"dataQualityStandard\": []\n",
            "    },\n",
            "    {\n",
            "      \"dataStreamId\": \"derived:com.google.calories.expended:com.google.ios.fit:appleinc.:watch:9b176ca2:session_activity_segment\",\n",
            "      \"dataStreamName\": \"session_activity_segment\",\n",
            "      \"type\": \"derived\",\n",
            "      \"dataType\": {\n",
            "        \"name\": \"com.google.calories.expended\",\n",
            "        \"field\": [\n",
            "          {\n",
            "            \"name\": \"calories\",\n",
            "            \"format\": \"floatPoint\"\n",
            "          }\n",
            "        ]\n",
            "      },\n",
            "      \"device\": {\n",
            "        \"uid\": \"9b176ca2\",\n",
            "        \"type\": \"watch\",\n",
            "        \"model\": \"watch\",\n",
            "        \"manufacturer\": \"appleinc.\"\n",
            "      },\n",
            "      \"application\": {\n",
            "        \"packageName\": \"com.google.ios.fit\",\n",
            "        \"version\": \"\",\n",
            "        \"detailsUrl\": \"\"\n",
            "      },\n",
            "      \"dataQualityStandard\": []\n",
            "    },\n",
            "    {\n",
            "      \"dataStreamId\": \"derived:com.google.calories.expended:com.google.ios.fit:appleinc.:watch:9b176ca2:top_level\",\n",
            "      \"dataStreamName\": \"top_level\",\n",
            "      \"type\": \"derived\",\n",
            "      \"dataType\": {\n",
            "        \"name\": \"com.google.calories.expended\",\n",
            "        \"field\": [\n",
            "          {\n",
            "            \"name\": \"calories\",\n",
            "            \"format\": \"floatPoint\"\n",
            "          }\n",
            "        ]\n",
            "      },\n",
            "      \"device\": {\n",
            "        \"uid\": \"9b176ca2\",\n",
            "        \"type\": \"watch\",\n",
            "        \"model\": \"watch\",\n",
            "        \"manufacturer\": \"appleinc.\"\n",
            "      },\n",
            "      \"application\": {\n",
            "        \"packageName\": \"com.google.ios.fit\",\n",
            "        \"version\": \"\",\n",
            "        \"detailsUrl\": \"\"\n",
            "      },\n",
            "      \"dataQualityStandard\": []\n",
            "    },\n",
            "    {\n",
            "      \"dataStreamId\": \"derived:com.google.distance.delta:com.google.android.gms:merge_distance_delta\",\n",
            "      \"dataStreamName\": \"merge_distance_delta\",\n",
            "      \"type\": \"derived\",\n",
            "      \"dataType\": {\n",
            "        \"name\": \"com.google.distance.delta\",\n",
            "        \"field\": [\n",
            "          {\n",
            "            \"name\": \"distance\",\n",
            "            \"format\": \"floatPoint\"\n",
            "          }\n",
            "        ]\n",
            "      },\n",
            "      \"application\": {\n",
            "        \"packageName\": \"com.google.android.gms\"\n",
            "      },\n",
            "      \"dataQualityStandard\": []\n",
            "    },\n",
            "    {\n",
            "      \"dataStreamId\": \"derived:com.google.distance.delta:com.google.ios.fit:appleinc.:iphone:702603b8:top_level\",\n",
            "      \"dataStreamName\": \"top_level\",\n",
            "      \"type\": \"derived\",\n",
            "      \"dataType\": {\n",
            "        \"name\": \"com.google.distance.delta\",\n",
            "        \"field\": [\n",
            "          {\n",
            "            \"name\": \"distance\",\n",
            "            \"format\": \"floatPoint\"\n",
            "          }\n",
            "        ]\n",
            "      },\n",
            "      \"device\": {\n",
            "        \"uid\": \"702603b8\",\n",
            "        \"type\": \"phone\",\n",
            "        \"model\": \"iphone\",\n",
            "        \"manufacturer\": \"appleinc.\"\n",
            "      },\n",
            "      \"application\": {\n",
            "        \"packageName\": \"com.google.ios.fit\",\n",
            "        \"version\": \"\",\n",
            "        \"detailsUrl\": \"\"\n",
            "      },\n",
            "      \"dataQualityStandard\": []\n",
            "    },\n",
            "    {\n",
            "      \"dataStreamId\": \"derived:com.google.distance.delta:com.google.ios.fit:appleinc.:watch:9b176ca2:top_level\",\n",
            "      \"dataStreamName\": \"top_level\",\n",
            "      \"type\": \"derived\",\n",
            "      \"dataType\": {\n",
            "        \"name\": \"com.google.distance.delta\",\n",
            "        \"field\": [\n",
            "          {\n",
            "            \"name\": \"distance\",\n",
            "            \"format\": \"floatPoint\"\n",
            "          }\n",
            "        ]\n",
            "      },\n",
            "      \"device\": {\n",
            "        \"uid\": \"9b176ca2\",\n",
            "        \"type\": \"watch\",\n",
            "        \"model\": \"watch\",\n",
            "        \"manufacturer\": \"appleinc.\"\n",
            "      },\n",
            "      \"application\": {\n",
            "        \"packageName\": \"com.google.ios.fit\",\n",
            "        \"version\": \"\",\n",
            "        \"detailsUrl\": \"\"\n",
            "      },\n",
            "      \"dataQualityStandard\": []\n",
            "    },\n",
            "    {\n",
            "      \"dataStreamId\": \"derived:com.google.heart_minutes:com.google.android.gms:merge_heart_minutes\",\n",
            "      \"dataStreamName\": \"merge_heart_minutes\",\n",
            "      \"type\": \"derived\",\n",
            "      \"dataType\": {\n",
            "        \"name\": \"com.google.heart_minutes\",\n",
            "        \"field\": [\n",
            "          {\n",
            "            \"name\": \"intensity\",\n",
            "            \"format\": \"floatPoint\"\n",
            "          }\n",
            "        ]\n",
            "      },\n",
            "      \"application\": {\n",
            "        \"packageName\": \"com.google.android.gms\"\n",
            "      },\n",
            "      \"dataQualityStandard\": []\n",
            "    },\n",
            "    {\n",
            "      \"dataStreamId\": \"derived:com.google.heart_minutes:com.google.ios.fit:appleinc.:iphone:702603b8:top_level\",\n",
            "      \"dataStreamName\": \"top_level\",\n",
            "      \"type\": \"derived\",\n",
            "      \"dataType\": {\n",
            "        \"name\": \"com.google.heart_minutes\",\n",
            "        \"field\": [\n",
            "          {\n",
            "            \"name\": \"intensity\",\n",
            "            \"format\": \"floatPoint\"\n",
            "          }\n",
            "        ]\n",
            "      },\n",
            "      \"device\": {\n",
            "        \"uid\": \"702603b8\",\n",
            "        \"type\": \"phone\",\n",
            "        \"model\": \"iphone\",\n",
            "        \"manufacturer\": \"appleinc.\"\n",
            "      },\n",
            "      \"application\": {\n",
            "        \"packageName\": \"com.google.ios.fit\",\n",
            "        \"version\": \"\",\n",
            "        \"detailsUrl\": \"\"\n",
            "      },\n",
            "      \"dataQualityStandard\": []\n",
            "    },\n",
            "    {\n",
            "      \"dataStreamId\": \"derived:com.google.heart_minutes:com.google.ios.fit:appleinc.:watch:9b176ca2:session_activity_segment\",\n",
            "      \"dataStreamName\": \"session_activity_segment\",\n",
            "      \"type\": \"derived\",\n",
            "      \"dataType\": {\n",
            "        \"name\": \"com.google.heart_minutes\",\n",
            "        \"field\": [\n",
            "          {\n",
            "            \"name\": \"intensity\",\n",
            "            \"format\": \"floatPoint\"\n",
            "          }\n",
            "        ]\n",
            "      },\n",
            "      \"device\": {\n",
            "        \"uid\": \"9b176ca2\",\n",
            "        \"type\": \"watch\",\n",
            "        \"model\": \"watch\",\n",
            "        \"manufacturer\": \"appleinc.\"\n",
            "      },\n",
            "      \"application\": {\n",
            "        \"packageName\": \"com.google.ios.fit\",\n",
            "        \"version\": \"\",\n",
            "        \"detailsUrl\": \"\"\n",
            "      },\n",
            "      \"dataQualityStandard\": []\n",
            "    },\n",
            "    {\n",
            "      \"dataStreamId\": \"derived:com.google.heart_minutes:com.google.ios.fit:appleinc.:watch:9b176ca2:top_level\",\n",
            "      \"dataStreamName\": \"top_level\",\n",
            "      \"type\": \"derived\",\n",
            "      \"dataType\": {\n",
            "        \"name\": \"com.google.heart_minutes\",\n",
            "        \"field\": [\n",
            "          {\n",
            "            \"name\": \"intensity\",\n",
            "            \"format\": \"floatPoint\"\n",
            "          }\n",
            "        ]\n",
            "      },\n",
            "      \"device\": {\n",
            "        \"uid\": \"9b176ca2\",\n",
            "        \"type\": \"watch\",\n",
            "        \"model\": \"watch\",\n",
            "        \"manufacturer\": \"appleinc.\"\n",
            "      },\n",
            "      \"application\": {\n",
            "        \"packageName\": \"com.google.ios.fit\",\n",
            "        \"version\": \"\",\n",
            "        \"detailsUrl\": \"\"\n",
            "      },\n",
            "      \"dataQualityStandard\": []\n",
            "    },\n",
            "    {\n",
            "      \"dataStreamId\": \"derived:com.google.heart_rate.bpm:com.google.android.gms:merge_heart_rate_bpm\",\n",
            "      \"dataStreamName\": \"merge_heart_rate_bpm\",\n",
            "      \"type\": \"derived\",\n",
            "      \"dataType\": {\n",
            "        \"name\": \"com.google.heart_rate.bpm\",\n",
            "        \"field\": [\n",
            "          {\n",
            "            \"name\": \"bpm\",\n",
            "            \"format\": \"floatPoint\"\n",
            "          }\n",
            "        ]\n",
            "      },\n",
            "      \"application\": {\n",
            "        \"packageName\": \"com.google.android.gms\"\n",
            "      },\n",
            "      \"dataQualityStandard\": []\n",
            "    },\n",
            "    {\n",
            "      \"dataStreamId\": \"derived:com.google.heart_rate.bpm:com.google.android.gms:resting_heart_rate\\u003c-merge_heart_rate_bpm\",\n",
            "      \"dataStreamName\": \"resting_heart_rate\\u003c-merge_heart_rate_bpm\",\n",
            "      \"type\": \"derived\",\n",
            "      \"dataType\": {\n",
            "        \"name\": \"com.google.heart_rate.bpm\",\n",
            "        \"field\": [\n",
            "          {\n",
            "            \"name\": \"bpm\",\n",
            "            \"format\": \"floatPoint\"\n",
            "          }\n",
            "        ]\n",
            "      },\n",
            "      \"application\": {\n",
            "        \"packageName\": \"com.google.android.gms\"\n",
            "      },\n",
            "      \"dataQualityStandard\": []\n",
            "    },\n",
            "    {\n",
            "      \"dataStreamId\": \"derived:com.google.heart_rate.bpm:com.google.ios.fit:appleinc.:watch:9b176ca2:top_level\",\n",
            "      \"dataStreamName\": \"top_level\",\n",
            "      \"type\": \"derived\",\n",
            "      \"dataType\": {\n",
            "        \"name\": \"com.google.heart_rate.bpm\",\n",
            "        \"field\": [\n",
            "          {\n",
            "            \"name\": \"bpm\",\n",
            "            \"format\": \"floatPoint\"\n",
            "          }\n",
            "        ]\n",
            "      },\n",
            "      \"device\": {\n",
            "        \"uid\": \"9b176ca2\",\n",
            "        \"type\": \"watch\",\n",
            "        \"model\": \"watch\",\n",
            "        \"manufacturer\": \"appleinc.\"\n",
            "      },\n",
            "      \"application\": {\n",
            "        \"packageName\": \"com.google.ios.fit\",\n",
            "        \"version\": \"\",\n",
            "        \"detailsUrl\": \"\"\n",
            "      },\n",
            "      \"dataQualityStandard\": []\n",
            "    },\n",
            "    {\n",
            "      \"dataStreamId\": \"derived:com.google.height:com.google.android.gms:merge_height\",\n",
            "      \"dataStreamName\": \"merge_height\",\n",
            "      \"type\": \"derived\",\n",
            "      \"dataType\": {\n",
            "        \"name\": \"com.google.height\",\n",
            "        \"field\": [\n",
            "          {\n",
            "            \"name\": \"height\",\n",
            "            \"format\": \"floatPoint\"\n",
            "          }\n",
            "        ]\n",
            "      },\n",
            "      \"application\": {\n",
            "        \"packageName\": \"com.google.android.gms\"\n",
            "      },\n",
            "      \"dataQualityStandard\": []\n",
            "    },\n",
            "    {\n",
            "      \"dataStreamId\": \"derived:com.google.oxygen_saturation:com.google.android.gms:merged\",\n",
            "      \"dataStreamName\": \"merged\",\n",
            "      \"type\": \"derived\",\n",
            "      \"dataType\": {\n",
            "        \"name\": \"com.google.oxygen_saturation\",\n",
            "        \"field\": [\n",
            "          {\n",
            "            \"name\": \"oxygen_saturation\",\n",
            "            \"format\": \"floatPoint\"\n",
            "          },\n",
            "          {\n",
            "            \"name\": \"supplemental_oxygen_flow_rate\",\n",
            "            \"format\": \"floatPoint\"\n",
            "          },\n",
            "          {\n",
            "            \"name\": \"oxygen_therapy_administration_mode\",\n",
            "            \"format\": \"integer\",\n",
            "            \"optional\": true\n",
            "          },\n",
            "          {\n",
            "            \"name\": \"oxygen_saturation_system\",\n",
            "            \"format\": \"integer\",\n",
            "            \"optional\": true\n",
            "          },\n",
            "          {\n",
            "            \"name\": \"oxygen_saturation_measurement_method\",\n",
            "            \"format\": \"integer\",\n",
            "            \"optional\": true\n",
            "          }\n",
            "        ]\n",
            "      },\n",
            "      \"application\": {\n",
            "        \"packageName\": \"com.google.android.gms\"\n",
            "      },\n",
            "      \"dataQualityStandard\": []\n",
            "    },\n",
            "    {\n",
            "      \"dataStreamId\": \"derived:com.google.sleep.segment:com.google.android.gms:merged\",\n",
            "      \"dataStreamName\": \"merged\",\n",
            "      \"type\": \"derived\",\n",
            "      \"dataType\": {\n",
            "        \"name\": \"com.google.sleep.segment\",\n",
            "        \"field\": [\n",
            "          {\n",
            "            \"name\": \"sleep_segment_type\",\n",
            "            \"format\": \"integer\"\n",
            "          }\n",
            "        ]\n",
            "      },\n",
            "      \"application\": {\n",
            "        \"packageName\": \"com.google.android.gms\"\n",
            "      },\n",
            "      \"dataQualityStandard\": []\n",
            "    },\n",
            "    {\n",
            "      \"dataStreamId\": \"derived:com.google.speed:com.google.android.gms:merge_speed\",\n",
            "      \"dataStreamName\": \"merge_speed\",\n",
            "      \"type\": \"derived\",\n",
            "      \"dataType\": {\n",
            "        \"name\": \"com.google.speed\",\n",
            "        \"field\": [\n",
            "          {\n",
            "            \"name\": \"speed\",\n",
            "            \"format\": \"floatPoint\"\n",
            "          }\n",
            "        ]\n",
            "      },\n",
            "      \"application\": {\n",
            "        \"packageName\": \"com.google.android.gms\"\n",
            "      },\n",
            "      \"dataQualityStandard\": []\n",
            "    },\n",
            "    {\n",
            "      \"dataStreamId\": \"derived:com.google.speed:com.google.ios.fit:appleinc.:iphone:702603b8:top_level\",\n",
            "      \"dataStreamName\": \"top_level\",\n",
            "      \"type\": \"derived\",\n",
            "      \"dataType\": {\n",
            "        \"name\": \"com.google.speed\",\n",
            "        \"field\": [\n",
            "          {\n",
            "            \"name\": \"speed\",\n",
            "            \"format\": \"floatPoint\"\n",
            "          }\n",
            "        ]\n",
            "      },\n",
            "      \"device\": {\n",
            "        \"uid\": \"702603b8\",\n",
            "        \"type\": \"phone\",\n",
            "        \"model\": \"iphone\",\n",
            "        \"manufacturer\": \"appleinc.\"\n",
            "      },\n",
            "      \"application\": {\n",
            "        \"packageName\": \"com.google.ios.fit\",\n",
            "        \"version\": \"\",\n",
            "        \"detailsUrl\": \"\"\n",
            "      },\n",
            "      \"dataQualityStandard\": []\n",
            "    },\n",
            "    {\n",
            "      \"dataStreamId\": \"derived:com.google.speed:com.google.ios.fit:appleinc.:watch:9b176ca2:top_level\",\n",
            "      \"dataStreamName\": \"top_level\",\n",
            "      \"type\": \"derived\",\n",
            "      \"dataType\": {\n",
            "        \"name\": \"com.google.speed\",\n",
            "        \"field\": [\n",
            "          {\n",
            "            \"name\": \"speed\",\n",
            "            \"format\": \"floatPoint\"\n",
            "          }\n",
            "        ]\n",
            "      },\n",
            "      \"device\": {\n",
            "        \"uid\": \"9b176ca2\",\n",
            "        \"type\": \"watch\",\n",
            "        \"model\": \"watch\",\n",
            "        \"manufacturer\": \"appleinc.\"\n",
            "      },\n",
            "      \"application\": {\n",
            "        \"packageName\": \"com.google.ios.fit\",\n",
            "        \"version\": \"\",\n",
            "        \"detailsUrl\": \"\"\n",
            "      },\n",
            "      \"dataQualityStandard\": []\n",
            "    },\n",
            "    {\n",
            "      \"dataStreamId\": \"derived:com.google.step_count.delta:com.google.android.gms:estimated_steps\",\n",
            "      \"dataStreamName\": \"estimated_steps\",\n",
            "      \"type\": \"derived\",\n",
            "      \"dataType\": {\n",
            "        \"name\": \"com.google.step_count.delta\",\n",
            "        \"field\": [\n",
            "          {\n",
            "            \"name\": \"steps\",\n",
            "            \"format\": \"integer\"\n",
            "          }\n",
            "        ]\n",
            "      },\n",
            "      \"application\": {\n",
            "        \"packageName\": \"com.google.android.gms\"\n",
            "      },\n",
            "      \"dataQualityStandard\": []\n",
            "    },\n",
            "    {\n",
            "      \"dataStreamId\": \"derived:com.google.step_count.delta:com.google.android.gms:merge_step_deltas\",\n",
            "      \"dataStreamName\": \"merge_step_deltas\",\n",
            "      \"type\": \"derived\",\n",
            "      \"dataType\": {\n",
            "        \"name\": \"com.google.step_count.delta\",\n",
            "        \"field\": [\n",
            "          {\n",
            "            \"name\": \"steps\",\n",
            "            \"format\": \"integer\"\n",
            "          }\n",
            "        ]\n",
            "      },\n",
            "      \"application\": {\n",
            "        \"packageName\": \"com.google.android.gms\"\n",
            "      },\n",
            "      \"dataQualityStandard\": []\n",
            "    },\n",
            "    {\n",
            "      \"dataStreamId\": \"derived:com.google.step_count.delta:com.google.ios.fit:appleinc.:iphone:702603b8:top_level\",\n",
            "      \"dataStreamName\": \"top_level\",\n",
            "      \"type\": \"derived\",\n",
            "      \"dataType\": {\n",
            "        \"name\": \"com.google.step_count.delta\",\n",
            "        \"field\": [\n",
            "          {\n",
            "            \"name\": \"steps\",\n",
            "            \"format\": \"integer\"\n",
            "          }\n",
            "        ]\n",
            "      },\n",
            "      \"device\": {\n",
            "        \"uid\": \"702603b8\",\n",
            "        \"type\": \"phone\",\n",
            "        \"model\": \"iphone\",\n",
            "        \"manufacturer\": \"appleinc.\"\n",
            "      },\n",
            "      \"application\": {\n",
            "        \"packageName\": \"com.google.ios.fit\",\n",
            "        \"version\": \"\",\n",
            "        \"detailsUrl\": \"\"\n",
            "      },\n",
            "      \"dataQualityStandard\": []\n",
            "    },\n",
            "    {\n",
            "      \"dataStreamId\": \"derived:com.google.step_count.delta:com.google.ios.fit:appleinc.:watch:9b176ca2:top_level\",\n",
            "      \"dataStreamName\": \"top_level\",\n",
            "      \"type\": \"derived\",\n",
            "      \"dataType\": {\n",
            "        \"name\": \"com.google.step_count.delta\",\n",
            "        \"field\": [\n",
            "          {\n",
            "            \"name\": \"steps\",\n",
            "            \"format\": \"integer\"\n",
            "          }\n",
            "        ]\n",
            "      },\n",
            "      \"device\": {\n",
            "        \"uid\": \"9b176ca2\",\n",
            "        \"type\": \"watch\",\n",
            "        \"model\": \"watch\",\n",
            "        \"manufacturer\": \"appleinc.\"\n",
            "      },\n",
            "      \"application\": {\n",
            "        \"packageName\": \"com.google.ios.fit\",\n",
            "        \"version\": \"\",\n",
            "        \"detailsUrl\": \"\"\n",
            "      },\n",
            "      \"dataQualityStandard\": []\n",
            "    },\n",
            "    {\n",
            "      \"dataStreamId\": \"derived:com.google.weight:com.google.android.gms:merge_weight\",\n",
            "      \"dataStreamName\": \"merge_weight\",\n",
            "      \"type\": \"derived\",\n",
            "      \"dataType\": {\n",
            "        \"name\": \"com.google.weight\",\n",
            "        \"field\": [\n",
            "          {\n",
            "            \"name\": \"weight\",\n",
            "            \"format\": \"floatPoint\"\n",
            "          }\n",
            "        ]\n",
            "      },\n",
            "      \"application\": {\n",
            "        \"packageName\": \"com.google.android.gms\"\n",
            "      },\n",
            "      \"dataQualityStandard\": []\n",
            "    },\n",
            "    {\n",
            "      \"dataStreamId\": \"derived:com.google.weight:com.google.fitkit:apple:iphone:b186b77d:local_data\",\n",
            "      \"dataStreamName\": \"local_data\",\n",
            "      \"type\": \"derived\",\n",
            "      \"dataType\": {\n",
            "        \"name\": \"com.google.weight\",\n",
            "        \"field\": [\n",
            "          {\n",
            "            \"name\": \"weight\",\n",
            "            \"format\": \"floatPoint\"\n",
            "          }\n",
            "        ]\n",
            "      },\n",
            "      \"device\": {\n",
            "        \"uid\": \"b186b77d\",\n",
            "        \"type\": \"phone\",\n",
            "        \"model\": \"iphone\",\n",
            "        \"manufacturer\": \"apple\"\n",
            "      },\n",
            "      \"application\": {\n",
            "        \"packageName\": \"com.google.fitkit\",\n",
            "        \"version\": \"\",\n",
            "        \"detailsUrl\": \"\"\n",
            "      },\n",
            "      \"dataQualityStandard\": []\n",
            "    },\n",
            "    {\n",
            "      \"dataStreamId\": \"raw:com.google.activity.segment:com.google.android.gms:appleinc.:watch:9b176ca2:session_activity_segment\",\n",
            "      \"dataStreamName\": \"session_activity_segment\",\n",
            "      \"type\": \"raw\",\n",
            "      \"dataType\": {\n",
            "        \"name\": \"com.google.activity.segment\",\n",
            "        \"field\": [\n",
            "          {\n",
            "            \"name\": \"activity\",\n",
            "            \"format\": \"integer\"\n",
            "          }\n",
            "        ]\n",
            "      },\n",
            "      \"device\": {\n",
            "        \"uid\": \"9b176ca2\",\n",
            "        \"type\": \"watch\",\n",
            "        \"model\": \"watch\",\n",
            "        \"manufacturer\": \"appleinc.\"\n",
            "      },\n",
            "      \"application\": {\n",
            "        \"packageName\": \"com.google.android.gms\",\n",
            "        \"version\": \"\",\n",
            "        \"detailsUrl\": \"\"\n",
            "      },\n",
            "      \"dataQualityStandard\": []\n",
            "    },\n",
            "    {\n",
            "      \"dataStreamId\": \"raw:com.google.blood_glucose:com.google.android.apps.fitness:user_input\",\n",
            "      \"dataStreamName\": \"user_input\",\n",
            "      \"type\": \"raw\",\n",
            "      \"dataType\": {\n",
            "        \"name\": \"com.google.blood_glucose\",\n",
            "        \"field\": [\n",
            "          {\n",
            "            \"name\": \"blood_glucose_level\",\n",
            "            \"format\": \"floatPoint\"\n",
            "          },\n",
            "          {\n",
            "            \"name\": \"temporal_relation_to_meal\",\n",
            "            \"format\": \"integer\",\n",
            "            \"optional\": true\n",
            "          },\n",
            "          {\n",
            "            \"name\": \"meal_type\",\n",
            "            \"format\": \"integer\",\n",
            "            \"optional\": true\n",
            "          },\n",
            "          {\n",
            "            \"name\": \"temporal_relation_to_sleep\",\n",
            "            \"format\": \"integer\",\n",
            "            \"optional\": true\n",
            "          },\n",
            "          {\n",
            "            \"name\": \"blood_glucose_specimen_source\",\n",
            "            \"format\": \"integer\",\n",
            "            \"optional\": true\n",
            "          }\n",
            "        ]\n",
            "      },\n",
            "      \"application\": {\n",
            "        \"packageName\": \"com.google.android.apps.fitness\",\n",
            "        \"version\": \"\",\n",
            "        \"detailsUrl\": \"\"\n",
            "      },\n",
            "      \"dataQualityStandard\": []\n",
            "    },\n",
            "    {\n",
            "      \"dataStreamId\": \"raw:com.google.blood_pressure:com.google.android.apps.fitness:user_input\",\n",
            "      \"dataStreamName\": \"user_input\",\n",
            "      \"type\": \"raw\",\n",
            "      \"dataType\": {\n",
            "        \"name\": \"com.google.blood_pressure\",\n",
            "        \"field\": [\n",
            "          {\n",
            "            \"name\": \"blood_pressure_systolic\",\n",
            "            \"format\": \"floatPoint\"\n",
            "          },\n",
            "          {\n",
            "            \"name\": \"blood_pressure_diastolic\",\n",
            "            \"format\": \"floatPoint\"\n",
            "          },\n",
            "          {\n",
            "            \"name\": \"body_position\",\n",
            "            \"format\": \"integer\",\n",
            "            \"optional\": true\n",
            "          },\n",
            "          {\n",
            "            \"name\": \"blood_pressure_measurement_location\",\n",
            "            \"format\": \"integer\",\n",
            "            \"optional\": true\n",
            "          }\n",
            "        ]\n",
            "      },\n",
            "      \"application\": {\n",
            "        \"packageName\": \"com.google.android.apps.fitness\",\n",
            "        \"version\": \"\",\n",
            "        \"detailsUrl\": \"\"\n",
            "      },\n",
            "      \"dataQualityStandard\": []\n",
            "    },\n",
            "    {\n",
            "      \"dataStreamId\": \"raw:com.google.body.temperature:com.google.android.apps.fitness:user_input\",\n",
            "      \"dataStreamName\": \"user_input\",\n",
            "      \"type\": \"raw\",\n",
            "      \"dataType\": {\n",
            "        \"name\": \"com.google.body.temperature\",\n",
            "        \"field\": [\n",
            "          {\n",
            "            \"name\": \"body_temperature\",\n",
            "            \"format\": \"floatPoint\"\n",
            "          },\n",
            "          {\n",
            "            \"name\": \"body_temperature_measurement_location\",\n",
            "            \"format\": \"integer\",\n",
            "            \"optional\": true\n",
            "          }\n",
            "        ]\n",
            "      },\n",
            "      \"application\": {\n",
            "        \"packageName\": \"com.google.android.apps.fitness\",\n",
            "        \"version\": \"\",\n",
            "        \"detailsUrl\": \"\"\n",
            "      },\n",
            "      \"dataQualityStandard\": []\n",
            "    },\n",
            "    {\n",
            "      \"dataStreamId\": \"raw:com.google.calories.expended:com.google.android.gms:appleinc.:watch:9b176ca2:from_device\",\n",
            "      \"dataStreamName\": \"from_device\",\n",
            "      \"type\": \"raw\",\n",
            "      \"dataType\": {\n",
            "        \"name\": \"com.google.calories.expended\",\n",
            "        \"field\": [\n",
            "          {\n",
            "            \"name\": \"calories\",\n",
            "            \"format\": \"floatPoint\"\n",
            "          }\n",
            "        ]\n",
            "      },\n",
            "      \"device\": {\n",
            "        \"uid\": \"9b176ca2\",\n",
            "        \"type\": \"watch\",\n",
            "        \"model\": \"watch\",\n",
            "        \"manufacturer\": \"appleinc.\"\n",
            "      },\n",
            "      \"application\": {\n",
            "        \"packageName\": \"com.google.android.gms\",\n",
            "        \"version\": \"\",\n",
            "        \"detailsUrl\": \"\"\n",
            "      },\n",
            "      \"dataQualityStandard\": []\n",
            "    },\n",
            "    {\n",
            "      \"dataStreamId\": \"raw:com.google.distance.delta:com.google.android.gms:appleinc.:iphone:702603b8:high_fidelity_from_activity\",\n",
            "      \"dataStreamName\": \"high_fidelity_from_activity\",\n",
            "      \"type\": \"raw\",\n",
            "      \"dataType\": {\n",
            "        \"name\": \"com.google.distance.delta\",\n",
            "        \"field\": [\n",
            "          {\n",
            "            \"name\": \"distance\",\n",
            "            \"format\": \"floatPoint\"\n",
            "          }\n",
            "        ]\n",
            "      },\n",
            "      \"device\": {\n",
            "        \"uid\": \"702603b8\",\n",
            "        \"type\": \"phone\",\n",
            "        \"model\": \"iphone\",\n",
            "        \"manufacturer\": \"appleinc.\"\n",
            "      },\n",
            "      \"application\": {\n",
            "        \"packageName\": \"com.google.android.gms\",\n",
            "        \"version\": \"\",\n",
            "        \"detailsUrl\": \"\"\n",
            "      },\n",
            "      \"dataQualityStandard\": []\n",
            "    },\n",
            "    {\n",
            "      \"dataStreamId\": \"raw:com.google.distance.delta:com.google.android.gms:appleinc.:watch:9b176ca2:high_fidelity_from_activity\",\n",
            "      \"dataStreamName\": \"high_fidelity_from_activity\",\n",
            "      \"type\": \"raw\",\n",
            "      \"dataType\": {\n",
            "        \"name\": \"com.google.distance.delta\",\n",
            "        \"field\": [\n",
            "          {\n",
            "            \"name\": \"distance\",\n",
            "            \"format\": \"floatPoint\"\n",
            "          }\n",
            "        ]\n",
            "      },\n",
            "      \"device\": {\n",
            "        \"uid\": \"9b176ca2\",\n",
            "        \"type\": \"watch\",\n",
            "        \"model\": \"watch\",\n",
            "        \"manufacturer\": \"appleinc.\"\n",
            "      },\n",
            "      \"application\": {\n",
            "        \"packageName\": \"com.google.android.gms\",\n",
            "        \"version\": \"\",\n",
            "        \"detailsUrl\": \"\"\n",
            "      },\n",
            "      \"dataQualityStandard\": []\n",
            "    },\n",
            "    {\n",
            "      \"dataStreamId\": \"raw:com.google.heart_rate.bpm:com.google.android.apps.fitness:user_input\",\n",
            "      \"dataStreamName\": \"user_input\",\n",
            "      \"type\": \"raw\",\n",
            "      \"dataType\": {\n",
            "        \"name\": \"com.google.heart_rate.bpm\",\n",
            "        \"field\": [\n",
            "          {\n",
            "            \"name\": \"bpm\",\n",
            "            \"format\": \"floatPoint\"\n",
            "          }\n",
            "        ]\n",
            "      },\n",
            "      \"application\": {\n",
            "        \"packageName\": \"com.google.android.apps.fitness\",\n",
            "        \"version\": \"\",\n",
            "        \"detailsUrl\": \"\"\n",
            "      },\n",
            "      \"dataQualityStandard\": []\n",
            "    },\n",
            "    {\n",
            "      \"dataStreamId\": \"raw:com.google.heart_rate.bpm:com.google.android.gms:appleinc.:watch:9b176ca2:from_device\",\n",
            "      \"dataStreamName\": \"from_device\",\n",
            "      \"type\": \"raw\",\n",
            "      \"dataType\": {\n",
            "        \"name\": \"com.google.heart_rate.bpm\",\n",
            "        \"field\": [\n",
            "          {\n",
            "            \"name\": \"bpm\",\n",
            "            \"format\": \"floatPoint\"\n",
            "          }\n",
            "        ]\n",
            "      },\n",
            "      \"device\": {\n",
            "        \"uid\": \"9b176ca2\",\n",
            "        \"type\": \"watch\",\n",
            "        \"model\": \"watch\",\n",
            "        \"manufacturer\": \"appleinc.\"\n",
            "      },\n",
            "      \"application\": {\n",
            "        \"packageName\": \"com.google.android.gms\",\n",
            "        \"version\": \"\",\n",
            "        \"detailsUrl\": \"\"\n",
            "      },\n",
            "      \"dataQualityStandard\": []\n",
            "    },\n",
            "    {\n",
            "      \"dataStreamId\": \"raw:com.google.height:com.google.android.apps.fitness:user_input\",\n",
            "      \"dataStreamName\": \"user_input\",\n",
            "      \"type\": \"raw\",\n",
            "      \"dataType\": {\n",
            "        \"name\": \"com.google.height\",\n",
            "        \"field\": [\n",
            "          {\n",
            "            \"name\": \"height\",\n",
            "            \"format\": \"floatPoint\"\n",
            "          }\n",
            "        ]\n",
            "      },\n",
            "      \"application\": {\n",
            "        \"packageName\": \"com.google.android.apps.fitness\",\n",
            "        \"version\": \"\",\n",
            "        \"detailsUrl\": \"\"\n",
            "      },\n",
            "      \"dataQualityStandard\": []\n",
            "    },\n",
            "    {\n",
            "      \"dataStreamId\": \"raw:com.google.oxygen_saturation:com.google.android.apps.fitness:user_input\",\n",
            "      \"dataStreamName\": \"user_input\",\n",
            "      \"type\": \"raw\",\n",
            "      \"dataType\": {\n",
            "        \"name\": \"com.google.oxygen_saturation\",\n",
            "        \"field\": [\n",
            "          {\n",
            "            \"name\": \"oxygen_saturation\",\n",
            "            \"format\": \"floatPoint\"\n",
            "          },\n",
            "          {\n",
            "            \"name\": \"supplemental_oxygen_flow_rate\",\n",
            "            \"format\": \"floatPoint\"\n",
            "          },\n",
            "          {\n",
            "            \"name\": \"oxygen_therapy_administration_mode\",\n",
            "            \"format\": \"integer\",\n",
            "            \"optional\": true\n",
            "          },\n",
            "          {\n",
            "            \"name\": \"oxygen_saturation_system\",\n",
            "            \"format\": \"integer\",\n",
            "            \"optional\": true\n",
            "          },\n",
            "          {\n",
            "            \"name\": \"oxygen_saturation_measurement_method\",\n",
            "            \"format\": \"integer\",\n",
            "            \"optional\": true\n",
            "          }\n",
            "        ]\n",
            "      },\n",
            "      \"application\": {\n",
            "        \"packageName\": \"com.google.android.apps.fitness\",\n",
            "        \"version\": \"\",\n",
            "        \"detailsUrl\": \"\"\n",
            "      },\n",
            "      \"dataQualityStandard\": []\n",
            "    },\n",
            "    {\n",
            "      \"dataStreamId\": \"raw:com.google.sleep.segment:com.google.android.apps.fitness:user_input\",\n",
            "      \"dataStreamName\": \"user_input\",\n",
            "      \"type\": \"raw\",\n",
            "      \"dataType\": {\n",
            "        \"name\": \"com.google.sleep.segment\",\n",
            "        \"field\": [\n",
            "          {\n",
            "            \"name\": \"sleep_segment_type\",\n",
            "            \"format\": \"integer\"\n",
            "          }\n",
            "        ]\n",
            "      },\n",
            "      \"application\": {\n",
            "        \"packageName\": \"com.google.android.apps.fitness\",\n",
            "        \"version\": \"\",\n",
            "        \"detailsUrl\": \"\"\n",
            "      },\n",
            "      \"dataQualityStandard\": []\n",
            "    },\n",
            "    {\n",
            "      \"dataStreamId\": \"raw:com.google.step_count.delta:com.google.android.gms:appleinc.:iphone:702603b8:derive_step_deltas\",\n",
            "      \"dataStreamName\": \"derive_step_deltas\",\n",
            "      \"type\": \"raw\",\n",
            "      \"dataType\": {\n",
            "        \"name\": \"com.google.step_count.delta\",\n",
            "        \"field\": [\n",
            "          {\n",
            "            \"name\": \"steps\",\n",
            "            \"format\": \"integer\"\n",
            "          }\n",
            "        ]\n",
            "      },\n",
            "      \"device\": {\n",
            "        \"uid\": \"702603b8\",\n",
            "        \"type\": \"phone\",\n",
            "        \"model\": \"iphone\",\n",
            "        \"manufacturer\": \"appleinc.\"\n",
            "      },\n",
            "      \"application\": {\n",
            "        \"packageName\": \"com.google.android.gms\",\n",
            "        \"version\": \"\",\n",
            "        \"detailsUrl\": \"\"\n",
            "      },\n",
            "      \"dataQualityStandard\": []\n",
            "    },\n",
            "    {\n",
            "      \"dataStreamId\": \"raw:com.google.step_count.delta:com.google.android.gms:appleinc.:watch:9b176ca2:derive_step_deltas\",\n",
            "      \"dataStreamName\": \"derive_step_deltas\",\n",
            "      \"type\": \"raw\",\n",
            "      \"dataType\": {\n",
            "        \"name\": \"com.google.step_count.delta\",\n",
            "        \"field\": [\n",
            "          {\n",
            "            \"name\": \"steps\",\n",
            "            \"format\": \"integer\"\n",
            "          }\n",
            "        ]\n",
            "      },\n",
            "      \"device\": {\n",
            "        \"uid\": \"9b176ca2\",\n",
            "        \"type\": \"watch\",\n",
            "        \"model\": \"watch\",\n",
            "        \"manufacturer\": \"appleinc.\"\n",
            "      },\n",
            "      \"application\": {\n",
            "        \"packageName\": \"com.google.android.gms\",\n",
            "        \"version\": \"\",\n",
            "        \"detailsUrl\": \"\"\n",
            "      },\n",
            "      \"dataQualityStandard\": []\n",
            "    },\n",
            "    {\n",
            "      \"dataStreamId\": \"raw:com.google.weight:com.google.android.apps.fitness:user_input\",\n",
            "      \"dataStreamName\": \"user_input\",\n",
            "      \"type\": \"raw\",\n",
            "      \"dataType\": {\n",
            "        \"name\": \"com.google.weight\",\n",
            "        \"field\": [\n",
            "          {\n",
            "            \"name\": \"weight\",\n",
            "            \"format\": \"floatPoint\"\n",
            "          }\n",
            "        ]\n",
            "      },\n",
            "      \"application\": {\n",
            "        \"packageName\": \"com.google.android.apps.fitness\",\n",
            "        \"version\": \"\",\n",
            "        \"detailsUrl\": \"\"\n",
            "      },\n",
            "      \"dataQualityStandard\": []\n",
            "    }\n",
            "  ]\n",
            "}\n",
            "\n"
          ]
        }
      ]
    },
    {
      "cell_type": "code",
      "source": [],
      "metadata": {
        "id": "z14CL1K1P_rz"
      },
      "execution_count": null,
      "outputs": []
    }
  ]
}