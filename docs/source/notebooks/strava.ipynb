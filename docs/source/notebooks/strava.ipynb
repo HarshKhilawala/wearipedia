{
 "cells": [
  {
   "cell_type": "markdown",
   "id": "b70496e8",
   "metadata": {},
   "source": [
    "# Strava: Guide to data extraction and analysis"
   ]
  },
  {
   "cell_type": "markdown",
   "id": "9f87e689",
   "metadata": {},
   "source": [
    "<img src='https://i.imgur.com/jneRMpU.jpg' height=\"500\"> "
   ]
  },
  {
   "cell_type": "markdown",
   "id": "38ae9032",
   "metadata": {},
   "source": [
    "A picture of the Strava Mobile Application\n"
   ]
  },
  {
   "cell_type": "markdown",
   "id": "9cf65040",
   "metadata": {},
   "source": [
    "Strava is often regarded as the “social network for athletes.” It lets you track your running and riding with GPS, join Challenges, share photos from your activities, and follow friends. <br>\n",
    "\n",
    "Strava follows a fremium model offering a digital service accessible through its mobile applications (iOS and Android). Users also have an option to upgrade and unlock more advanced features like Custom Goals, Training Plans, Race Analysis, etc for a monthly fee of $5-8. <br>\n",
    "\n",
    "We've been using the strava application for the past few weeks and we will show you how to extract its data, visualize your runs and compute correlations between multiple metrics of the data. The Strava API allows the users to extract all sorts of data on athletes, segments, routes, clubs, and gear. However, for this notebook we will be focusing on metrics of the participant's activities like dates, speed, elevation, duration, etc.\n",
    "\n"
   ]
  },
  {
   "cell_type": "markdown",
   "id": "7d8f20a5",
   "metadata": {},
   "source": [
    "We will be able to extract the following parameters:\n",
    "\n",
    "Parameter Name  | Sampling Frequency \n",
    "-------------------|-----------------\n",
    "Moving Time |  Per Activity \n",
    "Elapsed Time |  Per Activity \n",
    "Average Speed |  Per Activity \n",
    "Maximum Speed |  Per Activity \n",
    "Average Cadence |  Per Activity\n",
    "Maximum Cadence |  Per Activity\n",
    "Average Watts |  Per Activity\n",
    "Maximum Watts |  Per Activity\n",
    "Average Heart Rate |  Per Activity\n",
    "Maximum Heartrate |  Per Activity\n",
    "Distance      |  Records every change in user's position\n",
    "Polyline Summary |  Records every change in user's position\n",
    "Total Elevation Gain |  Sampling Frequency depends upon user's fitness tracker\n",
    "Heart Rate  | Sampling Frequency depends upon user's fitness tracker"
   ]
  },
  {
   "cell_type": "markdown",
   "id": "f03f1a22",
   "metadata": {},
   "source": [
    "In this guide, we sequentially cover the following **five** topics to extract data from Cronometer servers:\n",
    "\n",
    "1. **Set up**<br>\n",
    "2. **Authentication/Authorization**<br>\n",
    "   - Requires only client_id, client_secret and refresh_token.<br>\n",
    "3. **Data extraction**<br>\n",
    "  - We get data via wearipedia in a couple lines of code<br>\n",
    "4. **Data Exporting**\n",
    "    - We export all of this data to file formats compatible by R, Excel, and MatLab.\n",
    "5. **Adherence**\n",
    "    - We simulate non-adherence by dynamically removing datapoints from our simulated data.\n",
    "6. **Visualization**\n",
    "    - We create a simple plot to visualize our data.\n",
    "7. **Advanced visualization**\n",
    "    - 7.1 Visualizing participant's Overall Activity!<br>\n",
    "    - 7.2 Visualizing participant's Weekly Summary!<br>\n",
    "    - 7.3 Visualizing Participant's Runs!<br>\n",
    "8. **Data Analysis** <br>\n",
    "  - 8.1  Analyzing correlation between Participant's data! <br>\n",
    "9. **Outlier Detection** <br>\n",
    "  - 9.1 Highlighting Outliers!\n",
    "\n",
    "Disclaimer: this notebook is purely for educational purposes. All of the data currently stored in this notebook is purely *synthetic*, meaning randomly generated according to rules we created. Despite this, the end-to-end data extraction pipeline has been tested on our own data, meaning that if you enter your own email and password on your own Colab instance, you can visualize your own *real* data. That being said, we were unable to thoroughly test the timezone functionality, though, since we only have one account, so beware."
   ]
  },
  {
   "cell_type": "markdown",
   "id": "675c5b05",
   "metadata": {},
   "source": [
    "# 1. Setup\n",
    "\n",
    "## Participant Setup\n",
    "\n",
    "Dear Participant,\n",
    "\n",
    "Once you download the strava app, please set it up by following these resources:\n",
    "- Written guide: https://www.runnersworld.com/beginner/g25619156/what-is-strava/\n",
    "- Video guide: https://www.youtube.com/watch?v=LHtCxdrZFJ8&ab_channel=RunWithJ\n",
    "\n",
    "Make sure that your phone is logged to the strava app using the Strava login credentials (email and password) given to you by the data receiver.\n",
    "\n",
    "Best,\n",
    "\n",
    "Wearipedia\n",
    "\n",
    "## Data Receiver Setup\n",
    "\n",
    "Please follow the below steps:\n",
    "\n",
    "1. Create an email address for the participant, for example `foo@email.com`.\n",
    "2. Create a Strava account with the email `foo@email.com` and some random password.\n",
    "3. Keep `foo@email.com` and password stored somewhere safe.\n",
    "4. Distribute the device to the participant and instruct them to follow the participant setup letter above.\n",
    "5. Next, go to https://developers.strava.com/\n",
    "6. Click on \"Create and Manage your App\"\n",
    "<img src='https://i.imgur.com/nBdQDR6.png' width=\"850\" height=\"500\">\n",
    "7. Strava will prompt you to login. Make sure to login with the account that participants' credentials\n",
    "8. Fill out your details:<br>\n",
    "   Here's an example with some dummy information! <br>\n",
    "   <img src='https://i.imgur.com/O9jRXQQ.png' width=\"450\" height=\"400\">\n",
    "9. Next, Strava will ask you to upload a app icon. I personally uploaded the Strava logo in the option. <br>\n",
    "    <img src='https://i.imgur.com/wQHGyL2.png' width=\"600\" height=\"400\"> <br> \n",
    "   Copy and crop the Image to your preference and hit save! <br>\n",
    "    <img src='https://i.imgur.com/kKodoZm.png' width=\"600\" height=\"400\">\n",
    "10. You're done! <br>\n",
    "    <img src='https://i.imgur.com/Svm3FV8.png' width=\"600\" height=\"400\"> <br>\n",
    "    Copy and paste your your client ID, Client Token and Refresh token in the box below and give it to the researcher.\n",
    "11. Install the `wearipedia` Python package to easily extract data from this device via the Strava API.\n"
   ]
  },
  {
   "cell_type": "code",
   "execution_count": 1,
   "id": "e5f0aab9",
   "metadata": {},
   "outputs": [
    {
     "name": "stdout",
     "output_type": "stream",
     "text": [
      "Requirement already satisfied: wearipedia in /Users/saarth/opt/anaconda3/lib/python3.9/site-packages (0.1.0)\n",
      "Requirement already satisfied: scipy<2.0,>=1.6 in /Users/saarth/opt/anaconda3/lib/python3.9/site-packages (from wearipedia) (1.9.3)\n",
      "Requirement already satisfied: garminconnect<0.2.0,>=0.1.48 in /Users/saarth/opt/anaconda3/lib/python3.9/site-packages (from wearipedia) (0.1.49)\n",
      "Requirement already satisfied: beautifulsoup4<5.0.0,>=4.11.1 in /Users/saarth/opt/anaconda3/lib/python3.9/site-packages (from wearipedia) (4.11.1)\n",
      "Requirement already satisfied: polyline<2.0.0,>=1.4.0 in /Users/saarth/opt/anaconda3/lib/python3.9/site-packages (from wearipedia) (1.4.0)\n",
      "Requirement already satisfied: rich<13.0.0,>=12.6.0 in /Users/saarth/opt/anaconda3/lib/python3.9/site-packages (from wearipedia) (12.6.0)\n",
      "Requirement already satisfied: typer[all]<0.7.0,>=0.6.1 in /Users/saarth/opt/anaconda3/lib/python3.9/site-packages (from wearipedia) (0.6.1)\n",
      "Requirement already satisfied: myfitnesspal<3.0.0,>=2.0.1 in /Users/saarth/opt/anaconda3/lib/python3.9/site-packages (from wearipedia) (2.0.1)\n",
      "Requirement already satisfied: pandas<2.0,>=1.1 in /Users/saarth/opt/anaconda3/lib/python3.9/site-packages (from wearipedia) (1.5.2)\n",
      "Requirement already satisfied: tqdm<5.0.0,>=4.64.1 in /Users/saarth/opt/anaconda3/lib/python3.9/site-packages (from wearipedia) (4.64.1)\n",
      "Requirement already satisfied: wget<4.0,>=3.2 in /Users/saarth/opt/anaconda3/lib/python3.9/site-packages (from wearipedia) (3.2)\n",
      "Requirement already satisfied: soupsieve>1.2 in /Users/saarth/opt/anaconda3/lib/python3.9/site-packages (from beautifulsoup4<5.0.0,>=4.11.1->wearipedia) (2.3.1)\n",
      "Requirement already satisfied: cloudscraper in /Users/saarth/opt/anaconda3/lib/python3.9/site-packages (from garminconnect<0.2.0,>=0.1.48->wearipedia) (1.2.66)\n",
      "Requirement already satisfied: requests in /Users/saarth/opt/anaconda3/lib/python3.9/site-packages (from garminconnect<0.2.0,>=0.1.48->wearipedia) (2.28.2)\n",
      "Requirement already satisfied: blessed<2.0,>=1.8.5 in /Users/saarth/opt/anaconda3/lib/python3.9/site-packages (from myfitnesspal<3.0.0,>=2.0.1->wearipedia) (1.19.1)\n",
      "Requirement already satisfied: measurement<4.0,>=3.2.0 in /Users/saarth/opt/anaconda3/lib/python3.9/site-packages (from myfitnesspal<3.0.0,>=2.0.1->wearipedia) (3.2.0)\n",
      "Requirement already satisfied: python-dateutil<3,>=2.4 in /Users/saarth/opt/anaconda3/lib/python3.9/site-packages (from myfitnesspal<3.0.0,>=2.0.1->wearipedia) (2.8.2)\n",
      "Requirement already satisfied: browser-cookie3<1,>=0.16.1 in /Users/saarth/opt/anaconda3/lib/python3.9/site-packages (from myfitnesspal<3.0.0,>=2.0.1->wearipedia) (0.16.3)\n",
      "Requirement already satisfied: lxml<5,>=4.2.5 in /Users/saarth/opt/anaconda3/lib/python3.9/site-packages (from myfitnesspal<3.0.0,>=2.0.1->wearipedia) (4.9.1)\n",
      "Requirement already satisfied: numpy>=1.20.3 in /Users/saarth/opt/anaconda3/lib/python3.9/site-packages (from pandas<2.0,>=1.1->wearipedia) (1.21.2)\n",
      "Requirement already satisfied: pytz>=2020.1 in /Users/saarth/opt/anaconda3/lib/python3.9/site-packages (from pandas<2.0,>=1.1->wearipedia) (2022.1)\n",
      "Requirement already satisfied: six>=1.8.0 in /Users/saarth/opt/anaconda3/lib/python3.9/site-packages (from polyline<2.0.0,>=1.4.0->wearipedia) (1.16.0)\n",
      "Requirement already satisfied: pygments<3.0.0,>=2.6.0 in /Users/saarth/opt/anaconda3/lib/python3.9/site-packages (from rich<13.0.0,>=12.6.0->wearipedia) (2.11.2)\n",
      "Requirement already satisfied: commonmark<0.10.0,>=0.9.0 in /Users/saarth/opt/anaconda3/lib/python3.9/site-packages (from rich<13.0.0,>=12.6.0->wearipedia) (0.9.1)\n",
      "Requirement already satisfied: click<9.0.0,>=7.1.1 in /Users/saarth/opt/anaconda3/lib/python3.9/site-packages (from typer[all]<0.7.0,>=0.6.1->wearipedia) (8.0.4)\n",
      "Requirement already satisfied: shellingham<2.0.0,>=1.3.0 in /Users/saarth/opt/anaconda3/lib/python3.9/site-packages (from typer[all]<0.7.0,>=0.6.1->wearipedia) (1.5.0)\n",
      "Requirement already satisfied: colorama<0.5.0,>=0.4.3 in /Users/saarth/opt/anaconda3/lib/python3.9/site-packages (from typer[all]<0.7.0,>=0.6.1->wearipedia) (0.4.5)\n",
      "Requirement already satisfied: wcwidth>=0.1.4 in /Users/saarth/opt/anaconda3/lib/python3.9/site-packages (from blessed<2.0,>=1.8.5->myfitnesspal<3.0.0,>=2.0.1->wearipedia) (0.2.5)\n",
      "Requirement already satisfied: keyring in /Users/saarth/opt/anaconda3/lib/python3.9/site-packages (from browser-cookie3<1,>=0.16.1->myfitnesspal<3.0.0,>=2.0.1->wearipedia) (23.13.1)\n",
      "Requirement already satisfied: SecretStorage in /Users/saarth/opt/anaconda3/lib/python3.9/site-packages (from browser-cookie3<1,>=0.16.1->myfitnesspal<3.0.0,>=2.0.1->wearipedia) (3.3.3)\n",
      "Requirement already satisfied: lz4 in /Users/saarth/opt/anaconda3/lib/python3.9/site-packages (from browser-cookie3<1,>=0.16.1->myfitnesspal<3.0.0,>=2.0.1->wearipedia) (3.1.3)\n",
      "Requirement already satisfied: pycryptodomex in /Users/saarth/opt/anaconda3/lib/python3.9/site-packages (from browser-cookie3<1,>=0.16.1->myfitnesspal<3.0.0,>=2.0.1->wearipedia) (3.16.0)\n",
      "Requirement already satisfied: sympy>=0.7.3 in /Users/saarth/opt/anaconda3/lib/python3.9/site-packages (from measurement<4.0,>=3.2.0->myfitnesspal<3.0.0,>=2.0.1->wearipedia) (1.10.1)\n",
      "Requirement already satisfied: urllib3<1.27,>=1.21.1 in /Users/saarth/opt/anaconda3/lib/python3.9/site-packages (from requests->garminconnect<0.2.0,>=0.1.48->wearipedia) (1.26.7)\n",
      "Requirement already satisfied: certifi>=2017.4.17 in /Users/saarth/opt/anaconda3/lib/python3.9/site-packages (from requests->garminconnect<0.2.0,>=0.1.48->wearipedia) (2022.9.24)\n",
      "Requirement already satisfied: idna<4,>=2.5 in /Users/saarth/opt/anaconda3/lib/python3.9/site-packages (from requests->garminconnect<0.2.0,>=0.1.48->wearipedia) (3.3)\n",
      "Requirement already satisfied: charset-normalizer<4,>=2 in /Users/saarth/opt/anaconda3/lib/python3.9/site-packages (from requests->garminconnect<0.2.0,>=0.1.48->wearipedia) (2.0.4)\n",
      "Requirement already satisfied: pyparsing>=2.4.7 in /Users/saarth/opt/anaconda3/lib/python3.9/site-packages (from cloudscraper->garminconnect<0.2.0,>=0.1.48->wearipedia) (3.0.9)\n",
      "Requirement already satisfied: requests-toolbelt>=0.9.1 in /Users/saarth/opt/anaconda3/lib/python3.9/site-packages (from cloudscraper->garminconnect<0.2.0,>=0.1.48->wearipedia) (0.10.1)\n",
      "Requirement already satisfied: mpmath>=0.19 in /Users/saarth/opt/anaconda3/lib/python3.9/site-packages (from sympy>=0.7.3->measurement<4.0,>=3.2.0->myfitnesspal<3.0.0,>=2.0.1->wearipedia) (1.2.1)\n",
      "Requirement already satisfied: jaraco.classes in /Users/saarth/opt/anaconda3/lib/python3.9/site-packages (from keyring->browser-cookie3<1,>=0.16.1->myfitnesspal<3.0.0,>=2.0.1->wearipedia) (3.2.3)\n",
      "Requirement already satisfied: importlib-metadata>=4.11.4 in /Users/saarth/opt/anaconda3/lib/python3.9/site-packages (from keyring->browser-cookie3<1,>=0.16.1->myfitnesspal<3.0.0,>=2.0.1->wearipedia) (4.13.0)\n",
      "Requirement already satisfied: cryptography>=2.0 in /Users/saarth/opt/anaconda3/lib/python3.9/site-packages (from SecretStorage->browser-cookie3<1,>=0.16.1->myfitnesspal<3.0.0,>=2.0.1->wearipedia) (37.0.1)\n",
      "Requirement already satisfied: jeepney>=0.6 in /Users/saarth/opt/anaconda3/lib/python3.9/site-packages (from SecretStorage->browser-cookie3<1,>=0.16.1->myfitnesspal<3.0.0,>=2.0.1->wearipedia) (0.8.0)\n",
      "Requirement already satisfied: cffi>=1.12 in /Users/saarth/opt/anaconda3/lib/python3.9/site-packages (from cryptography>=2.0->SecretStorage->browser-cookie3<1,>=0.16.1->myfitnesspal<3.0.0,>=2.0.1->wearipedia) (1.15.1)\n",
      "Requirement already satisfied: zipp>=0.5 in /Users/saarth/opt/anaconda3/lib/python3.9/site-packages (from importlib-metadata>=4.11.4->keyring->browser-cookie3<1,>=0.16.1->myfitnesspal<3.0.0,>=2.0.1->wearipedia) (3.8.0)\n",
      "Requirement already satisfied: more-itertools in /Users/saarth/opt/anaconda3/lib/python3.9/site-packages (from jaraco.classes->keyring->browser-cookie3<1,>=0.16.1->myfitnesspal<3.0.0,>=2.0.1->wearipedia) (9.0.0)\n",
      "Requirement already satisfied: pycparser in /Users/saarth/opt/anaconda3/lib/python3.9/site-packages (from cffi>=1.12->cryptography>=2.0->SecretStorage->browser-cookie3<1,>=0.16.1->myfitnesspal<3.0.0,>=2.0.1->wearipedia) (2.21)\n",
      "Requirement already satisfied: openpyxl in /Users/saarth/opt/anaconda3/lib/python3.9/site-packages (3.0.10)\n",
      "Requirement already satisfied: et_xmlfile in /Users/saarth/opt/anaconda3/lib/python3.9/site-packages (from openpyxl) (1.1.0)\n"
     ]
    }
   ],
   "source": [
    "!pip install wearipedia\n",
    "!pip install openpyxl"
   ]
  },
  {
   "cell_type": "markdown",
   "id": "fe816960",
   "metadata": {},
   "source": [
    "# 2. Authentication/Authorization\n",
    "\n",
    "To obtain access to data, authorization is required. All you'll need to do here is just put in your client id, client secret token and refresh token for your Strava account. We'll use this to extract the data in the sections below."
   ]
  },
  {
   "cell_type": "code",
   "execution_count": 2,
   "id": "08fbee4b",
   "metadata": {},
   "outputs": [],
   "source": [
    "#@title Enter Strava API credentials\n",
    "client_id = \"83434\" #@param {type:\"string\"}\n",
    "client_secret = \"\" #@param {type:\"string\"}\n",
    "refresh_token = \"\" #@param {type:\"string\"}"
   ]
  },
  {
   "cell_type": "markdown",
   "id": "23fec1a3",
   "metadata": {},
   "source": [
    "# 3. Data Extraction\n",
    "\n",
    "Data can be extracted via [wearipedia](https://github.com/Stanford-Health/wearipedia/), our open-source Python package that unifies dozens of complex wearable device APIs into one simple, common interface.\n",
    "\n",
    "First, we'll set a date range and then extract all of the data within that date range. You can select whether you would like synthetic data or not with the checkbox."
   ]
  },
  {
   "cell_type": "code",
   "execution_count": 4,
   "id": "97175015",
   "metadata": {},
   "outputs": [],
   "source": [
    "#@title Enter start and end dates (in the format yyyy-mm-dd)\n",
    "\n",
    "#set start and end dates - this will give you all the data from 2000-01-01 (January 1st, 2000) to 2100-02-03 (February 3rd, 2100), for example\n",
    "start_date='2022-03-01' #@param {type:\"string\"}\n",
    "end_date='2022-06-17' #@param {type:\"string\"}\n",
    "synthetic = True #@param {type:\"boolean\"}"
   ]
  },
  {
   "cell_type": "code",
   "execution_count": 5,
   "id": "fdd01256",
   "metadata": {},
   "outputs": [],
   "source": [
    "import wearipedia\n",
    "\n",
    "device = wearipedia.get_device(\"strava/strava\")\n",
    "\n",
    "if not synthetic:\n",
    "    device.authenticate({\n",
    "    'client_id':client_id,\n",
    "    'client_secret':client_secret,\n",
    "    'refresh_token':refresh_token\n",
    "    })\n",
    "\n",
    "params = {\"start_date\": start_date, \"end_date\": end_date}\n",
    "\n",
    "distance = device.get_data(\"distance\", params=params)\n",
    "moving_time = device.get_data(\"moving_time\", params=params)\n",
    "elapsed_time = device.get_data(\"elapsed_time\", params=params)\n",
    "total_elevation_gain = device.get_data(\"total_elevation_gain\", params=params)\n",
    "average_speed = device.get_data(\"average_speed\", params=params)\n",
    "max_speed = device.get_data(\"max_speed\", params=params)\n",
    "average_heartrate = device.get_data(\"average_heartrate\", params=params)\n",
    "max_heartrate = device.get_data(\"max_heartrate\", params=params)\n",
    "map_summary_polyline = device.get_data(\"map_summary_polyline\", params=params)\n",
    "elev_high = device.get_data(\"elev_high\", params=params)\n",
    "elev_low = device.get_data(\"elev_low\", params=params)\n",
    "average_cadence = device.get_data(\"average_cadence\", params=params)\n",
    "average_watts = device.get_data(\"average_watts\", params=params)\n",
    "kilojoules = device.get_data(\"kilojoules\", params=params)\n"
   ]
  },
  {
   "cell_type": "markdown",
   "id": "44bbc267",
   "metadata": {},
   "source": [
    "# 4. Data Exporting\n",
    "\n",
    "In this section, we export all of this data to formats compatible with popular scientific computing software (R, Excel, Google Sheets, Matlab). Specifically, we will first export to JSON, which can be read by R and Matlab. Then, we will export to CSV, which can be consumed by Excel, Google Sheets, and every other popular programming language.\n",
    "\n",
    "## Exporting to JSON (R, Matlab, etc.)\n",
    "\n",
    "Exporting to JSON is fairly simple. We export each datatype separately and also export a complete version that includes all simultaneously."
   ]
  },
  {
   "cell_type": "code",
   "execution_count": 34,
   "id": "41ab6600",
   "metadata": {},
   "outputs": [],
   "source": [
    "import json\n",
    "\n",
    "def datacleanup(data):\n",
    "    for d in data:\n",
    "        d['start_date'] = str(d['start_date'])\n",
    "    return data\n",
    "\n",
    "json.dump(datacleanup(distance), open(\"distance.json\", \"w\"))\n",
    "json.dump(datacleanup(moving_time), open(\"moving_time.json\", \"w\"))\n",
    "json.dump(datacleanup(elapsed_time), open(\"elapsed_time.json\", \"w\"))\n",
    "json.dump(datacleanup(total_elevation_gain), open(\"total_elevation_gain.json\", \"w\"))\n",
    "json.dump(datacleanup(average_speed), open(\"average_speed.json\", \"w\"))\n",
    "json.dump(datacleanup(max_speed), open(\"max_speed.json\", \"w\"))\n",
    "json.dump(datacleanup(average_heartrate), open(\"average_heartrate.json\", \"w\"))\n",
    "json.dump(datacleanup(max_heartrate), open(\"max_heartrate.json\", \"w\"))\n",
    "json.dump(datacleanup(map_summary_polyline), open(\"map_summary_polyline.json\", \"w\"))\n",
    "json.dump(datacleanup(elev_high), open(\"elev_high.json\", \"w\"))\n",
    "json.dump(datacleanup(elev_low), open(\"elev_low.json\", \"w\"))\n",
    "json.dump(datacleanup(average_cadence), open(\"average_cadence.json\", \"w\"))\n",
    "json.dump(datacleanup(average_watts), open(\"average_watts.json\", \"w\"))\n",
    "json.dump(datacleanup(kilojoules), open(\"kilojoules.json\", \"w\"))\n",
    "\n",
    "\n",
    "complete = {\n",
    "    \"distance\": distance,\n",
    "    'moving_time':moving_time,\n",
    "    'elapsed_time':elapsed_time,\n",
    "    'total_elevation_gain':total_elevation_gain,\n",
    "    'average_speed':average_speed,\n",
    "    'max_speed':max_speed,\n",
    "    'average_heartrate':average_heartrate,\n",
    "    'max_heartrate':max_heartrate,\n",
    "    'map_summary_polyline':map_summary_polyline,\n",
    "    'elev_high':elev_high,\n",
    "    'elev_low':elev_low,\n",
    "    'average_cadence':average_cadence,\n",
    "    'average_watts':average_watts,\n",
    "    'kilojoules':kilojoules\n",
    "}\n",
    "\n",
    "json.dump(complete, open(\"complete.json\", \"w\"))"
   ]
  },
  {
   "cell_type": "markdown",
   "id": "59a25f19",
   "metadata": {},
   "source": [
    "Feel free to open the file viewer (see left pane) to look at the outputs!\n",
    "\n",
    "## Exporting to CSV and XLSX (Excel, Google Sheets, R, Matlab, etc.)\n",
    "\n",
    "Exporting to CSV/XLSX requires a bit more processing, since they enforce a pretty restrictive schema.\n",
    "\n",
    "We will thus export steps, heart rates, and breath rates all as separate files."
   ]
  },
  {
   "cell_type": "code",
   "execution_count": 35,
   "id": "169bb66b",
   "metadata": {},
   "outputs": [],
   "source": [
    "import pandas as pd\n",
    "\n",
    "distance_df = pd.DataFrame.from_dict(complete['distance'])\n",
    "distance_df.to_csv('distance.csv')\n",
    "distance_df.to_excel('distance.xlsx')\n",
    "\n",
    "moving_time_df = pd.DataFrame.from_dict(complete['moving_time'])\n",
    "moving_time_df.to_csv('moving_time.csv')\n",
    "moving_time_df.to_excel('moving_time.xlsx')\n",
    "\n",
    "elapsed_time_df = pd.DataFrame.from_dict(complete['elapsed_time'])\n",
    "elapsed_time_df.to_csv('elapsed_time.csv')\n",
    "elapsed_time_df.to_excel('elapsed_time.xlsx')\n",
    "\n",
    "total_elevation_gain_df = pd.DataFrame.from_dict(complete['total_elevation_gain'])\n",
    "total_elevation_gain_df.to_csv('total_elevation_gain.csv')\n",
    "total_elevation_gain_df.to_excel('total_elevation_gain.xlsx')\n",
    "\n",
    "average_speed_df = pd.DataFrame.from_dict(complete['average_speed'])\n",
    "average_speed_df.to_csv('average_speed.csv')\n",
    "average_speed_df.to_excel('average_speed.xlsx')\n",
    "\n",
    "max_speed_df = pd.DataFrame.from_dict(complete['max_speed'])\n",
    "max_speed_df.to_csv('max_speed.csv')\n",
    "max_speed_df.to_excel('max_speed.xlsx')\n",
    "\n",
    "average_heartrate_df = pd.DataFrame.from_dict(complete['average_heartrate'])\n",
    "average_heartrate_df.to_csv('average_heartrate.csv')\n",
    "average_heartrate_df.to_excel('average_heartrate.xlsx')\n",
    "\n",
    "max_heartrate_df = pd.DataFrame.from_dict(complete['max_heartrate'])\n",
    "max_heartrate_df.to_csv('max_heartrate.csv')\n",
    "max_heartrate_df.to_excel('max_heartrate.xlsx')\n",
    "\n",
    "map_summary_polyline_df = pd.DataFrame.from_dict(complete['map_summary_polyline'])\n",
    "map_summary_polyline_df.to_csv('map_summary_polyline.csv')\n",
    "map_summary_polyline_df.to_excel('map_summary_polyline.xlsx')\n",
    "\n",
    "elev_high_df = pd.DataFrame.from_dict(complete['elev_high'])\n",
    "elev_high_df.to_csv('elev_high.csv')\n",
    "elev_high_df.to_excel('elev_high.xlsx')\n",
    "\n",
    "elev_low_df = pd.DataFrame.from_dict(complete['elev_low'])\n",
    "elev_low_df.to_csv('elev_low.csv')\n",
    "elev_low_df.to_excel('elev_low.xlsx')\n",
    "\n",
    "average_cadence_df = pd.DataFrame.from_dict(complete['average_cadence'])\n",
    "average_cadence_df.to_csv('average_cadence.csv')\n",
    "average_cadence_df.to_excel('average_cadence.xlsx')\n",
    "\n",
    "average_watts_df = pd.DataFrame.from_dict(complete['average_watts'])\n",
    "average_watts_df.to_csv('average_watts.csv')\n",
    "average_watts_df.to_excel('average_watts.xlsx')\n",
    "\n",
    "kilojoules_df = pd.DataFrame.from_dict(complete['kilojoules'])\n",
    "kilojoules_df.to_csv('kilojoules.csv')\n",
    "kilojoules_df.to_excel('kilojoules.xlsx')\n"
   ]
  },
  {
   "cell_type": "markdown",
   "id": "b4b30043",
   "metadata": {},
   "source": [
    "Again, feel free to look at the output files and download them."
   ]
  },
  {
   "cell_type": "markdown",
   "id": "f8a7b240",
   "metadata": {},
   "source": [
    "# 5. Adherence\n",
    "\n",
    "The device simulator already automatically randomly deletes small chunks of the day. In this section, we will simulate non-adherence over longer periods of time from the participant (day-level and week-level).\n",
    "\n",
    "Then, we will detect this non-adherence and give a Pandas DataFrame that concisely describes when the participant has had their device on and off throughout the entirety of the time period, allowing you to calculate how long they've had it on/off etc.\n",
    "\n",
    "We will first delete a certain % of blocks either at the day level or week level, with user input."
   ]
  },
  {
   "cell_type": "code",
   "execution_count": 36,
   "id": "350a67b3",
   "metadata": {},
   "outputs": [],
   "source": [
    "#@title Non-adherence simulation\n",
    "block_level = \"day\" #@param [\"day\", \"week\"]\n",
    "adherence_percent = 0.89 #@param {type:\"slider\", min:0, max:1, step:0.01}"
   ]
  },
  {
   "cell_type": "code",
   "execution_count": 37,
   "id": "857c9908",
   "metadata": {},
   "outputs": [],
   "source": [
    "complete = {\n",
    "    \"distance\": distance,\n",
    "    'moving_time':moving_time,\n",
    "    'elapsed_time':elapsed_time,\n",
    "    'total_elevation_gain':total_elevation_gain,\n",
    "    'average_speed':average_speed,\n",
    "    'max_speed':max_speed,\n",
    "    'average_heartrate':average_heartrate,\n",
    "    'max_heartrate':max_heartrate,\n",
    "    'map_summary_polyline':map_summary_polyline,\n",
    "    'elev_high':elev_high,\n",
    "    'elev_low':elev_low,\n",
    "    'average_cadence':average_cadence,\n",
    "    'average_watts':average_watts,\n",
    "    'kilojoules':kilojoules\n",
    "}"
   ]
  },
  {
   "cell_type": "code",
   "execution_count": 38,
   "id": "9c189e75",
   "metadata": {},
   "outputs": [],
   "source": [
    "import numpy as np\n",
    "\n",
    "if block_level == \"day\":\n",
    "    block_length = 1\n",
    "elif block_level == \"week\":\n",
    "    block_length = 7\n",
    "\n",
    "\n",
    "\n",
    "# This function will randomly remove datapoints from the \n",
    "# data we have recieved from Cronometer based on the\n",
    "# adherence_percent\n",
    "\n",
    "def AdherenceSimulator(data):\n",
    "\n",
    "  num_blocks = len(data) // block_length\n",
    "  num_blocks_to_keep = int(adherence_percent * num_blocks)\n",
    "  idxes = np.random.choice(np.arange(num_blocks), replace=False, \n",
    "  size=num_blocks_to_keep)\n",
    "\n",
    "  adhered_data = []\n",
    "\n",
    "  for i in range(len(data)):\n",
    "      if i in idxes:\n",
    "          start = i * block_length\n",
    "          end = (i + 1) * block_length\n",
    "          for j in range(i,i+1):\n",
    "            adhered_data.append(data[j])\n",
    "  \n",
    "  return adhered_data\n",
    "\n",
    "\n",
    "# Adding adherence for distance\n",
    "\n",
    "distance = AdherenceSimulator(distance)\n",
    "\n",
    "# Adding adherence for moving_time\n",
    "\n",
    "moving_time = AdherenceSimulator(moving_time)\n",
    "\n",
    "# Adding adherence for elapsed_time\n",
    "\n",
    "elapsed_time = AdherenceSimulator(elapsed_time)\n",
    "\n",
    "# Adding adherence for total_elevation_gain\n",
    "\n",
    "total_elevation_gain = AdherenceSimulator(total_elevation_gain)\n",
    "\n",
    "# Adding adherence for average_speed\n",
    "\n",
    "average_speed = AdherenceSimulator(average_speed)\n",
    "\n",
    "# Adding adherence for max_speed\n",
    "\n",
    "max_speed = AdherenceSimulator(max_speed)\n",
    "\n",
    "# Adding adherence for average_heartrate\n",
    "\n",
    "average_heartrate = AdherenceSimulator(average_heartrate)\n",
    "\n",
    "# Adding adherence for max_heartrate\n",
    "\n",
    "max_heartrate = AdherenceSimulator(max_heartrate)\n",
    "\n",
    "# Adding adherence for map_summary_polyline\n",
    "\n",
    "map_summary_polyline = AdherenceSimulator(map_summary_polyline)\n",
    "\n",
    "# Adding adherence for elev_high\n",
    "\n",
    "elev_high = AdherenceSimulator(elev_high)\n",
    "\n",
    "# Adding adherence for elev_low\n",
    "\n",
    "elev_low = AdherenceSimulator(elev_low)\n",
    "\n",
    "# Adding adherence for average_cadence\n",
    "\n",
    "average_cadence = AdherenceSimulator(average_cadence)\n",
    "\n",
    "# Adding adherence for average_watts\n",
    "\n",
    "average_watts = AdherenceSimulator(average_watts)\n",
    "\n",
    "# Adding adherence for kilojoules\n",
    "\n",
    "kilojoules = AdherenceSimulator(kilojoules)\n"
   ]
  },
  {
   "cell_type": "markdown",
   "id": "c617a06c",
   "metadata": {},
   "source": [
    "And now we have significantly fewer datapoints! This will give us a more realistic situation, where participants may take off their device for days or weeks at a time.\n",
    "\n",
    "Now let's detect non-adherence. We will return a Pandas DataFrame sampled at every day."
   ]
  },
  {
   "cell_type": "code",
   "execution_count": 39,
   "id": "35f1ddb5",
   "metadata": {},
   "outputs": [],
   "source": [
    "distance_df = pd.DataFrame.from_dict(distance)\n",
    "moving_time_df = pd.DataFrame.from_dict(moving_time)\n",
    "elapsed_time_df = pd.DataFrame.from_dict(elapsed_time)\n",
    "total_elevation_gain_df = pd.DataFrame.from_dict(total_elevation_gain)\n",
    "average_speed_df = pd.DataFrame.from_dict(average_speed)\n",
    "max_speed_df = pd.DataFrame.from_dict(max_speed)\n",
    "average_heartrate_df = pd.DataFrame.from_dict(average_heartrate)\n",
    "max_heartrate_df = pd.DataFrame.from_dict(max_heartrate)\n",
    "map_summary_polyline_df = pd.DataFrame.from_dict(map_summary_polyline)\n",
    "elev_high_df = pd.DataFrame.from_dict(elev_high)\n",
    "elev_low_df = pd.DataFrame.from_dict(elev_low)\n",
    "average_cadence_df = pd.DataFrame.from_dict(average_cadence)\n",
    "average_watts_df = pd.DataFrame.from_dict(average_watts)\n",
    "kilojoules_df = pd.DataFrame.from_dict(kilojoules)"
   ]
  },
  {
   "cell_type": "markdown",
   "id": "c6ee7ad7",
   "metadata": {},
   "source": [
    "We can plot this out, and we get adherence at one-day frequency throughout the entirety of the data collection period. For this chart we will plot Energy consumed over the time period from the dailySummary dataframe."
   ]
  },
  {
   "cell_type": "code",
   "execution_count": 40,
   "id": "b4153da9",
   "metadata": {},
   "outputs": [
    {
     "data": {
      "image/png": "[encoded data removed]",
      "text/plain": [
       "<Figure size 1200x600 with 1 Axes>"
      ]
     },
     "metadata": {},
     "output_type": "display_data"
    }
   ],
   "source": [
    "distance_df_daily = distance_df.assign(start_date = distance_df.get('start_date').apply(lambda x: x[:10]))\n",
    "distance_df_daily = distance_df_daily.groupby('start_date').sum(numeric_only=True)\n",
    "\n",
    "import matplotlib.pyplot as plt\n",
    "import datetime\n",
    "\n",
    "dates = pd.date_range(start_date,end_date)\n",
    "\n",
    "energy = []\n",
    "\n",
    "for d in dates:\n",
    "    res = distance_df_daily[distance_df_daily.index == datetime.datetime.strftime(d,\n",
    "    '%Y-%m-%d')]['distance']\n",
    "    if len(res) == 0:\n",
    "        energy.append(None)\n",
    "    else:\n",
    "        energy.append(res.iloc[0])\n",
    "\n",
    "plt.figure(figsize=(12, 6))\n",
    "plt.plot(dates, energy)\n",
    "plt.show()"
   ]
  },
  {
   "cell_type": "markdown",
   "id": "22f206e8",
   "metadata": {},
   "source": [
    "## 6. Visualization\n",
    "\n",
    "We've extracted lots of data, but what does it look like?\n",
    "\n",
    "In this section, we will be visualizing our three kinds of data in a simple, customizable plot! This plot is intended to provide a starter example for plotting, whereas later examples emphasize deep control and aesthetics."
   ]
  },
  {
   "cell_type": "code",
   "execution_count": 41,
   "id": "c5870d43",
   "metadata": {},
   "outputs": [
    {
     "data": {
      "image/png": "[encoded data removed]",
      "text/plain": [
       "<Figure size 1500x800 with 1 Axes>"
      ]
     },
     "metadata": {},
     "output_type": "display_data"
    }
   ],
   "source": [
    "#@title Basic Plot\n",
    "feature = \"average_speed\" #@param ['moving_time', 'elapsed_time','total_elevation_gain','average_speed']\n",
    "start_date = \"2022-03-04\" #@param {type:\"date\"}\n",
    "time_interval = \"full time\" #@param [\"one week\", \"full time\"]\n",
    "smoothness = 0.02 #@param {type:\"slider\", min:0, max:1, step:0.01}\n",
    "smooth_plot = True #@param {type:\"boolean\"}\n",
    "\n",
    "import matplotlib.dates as mdates\n",
    "import matplotlib.pyplot as plt\n",
    "from datetime import datetime, timedelta\n",
    "\n",
    "start_date = datetime.strptime(start_date, '%Y-%m-%d')\n",
    "\n",
    "if time_interval == \"one week\":\n",
    "    day_idxes = [i for i,d in enumerate(dates) if d >= start_date and d <= start_date + timedelta(days=7)]\n",
    "    end_date = start_date + timedelta(days=7)\n",
    "elif time_interval == \"full time\":\n",
    "    day_idxes = [i for i,d in enumerate(dates) if d >= start_date]\n",
    "    end_date = dates[-1]\n",
    "\n",
    "if feature == \"moving_time\":\n",
    "    moving_time_daily = moving_time_df.assign(start_date = moving_time_df.get('start_date').apply(lambda x: x[:10]))\n",
    "    moving_time_daily = moving_time_daily.groupby('start_date').sum(numeric_only=True)\n",
    "    concat_moving_time = []\n",
    "    for i,d in enumerate(dates):\n",
    "        day = d.strftime('%Y-%m-%d')\n",
    "        if i in day_idxes:\n",
    "            mt = moving_time_daily[moving_time_daily.index==day]\n",
    "            if len(mt) != 0:\n",
    "                concat_moving_time += [(day,mt.iloc[0].moving_time)]\n",
    "            else:\n",
    "                concat_moving_time += [(day,None)]\n",
    "    ts = [x[0] for x in concat_moving_time]\n",
    "\n",
    "    day_arr = [x[1] for x in concat_moving_time]\n",
    "\n",
    "    sigma = 200 * smoothness\n",
    "\n",
    "    title_fillin = \"Moving Time\"\n",
    "\n",
    "if feature == \"elapsed_time\":\n",
    "    elapsed_time_daily = elapsed_time_df.assign(start_date = elapsed_time_df.get('start_date').apply(lambda x: x[:10]))\n",
    "    elapsed_time_daily = elapsed_time_daily.groupby('start_date').sum(numeric_only=True)\n",
    "    concat_elapsed_time = []\n",
    "    for i,d in enumerate(dates):\n",
    "        day = d.strftime('%Y-%m-%d')\n",
    "        if i in day_idxes:\n",
    "            et = elapsed_time_daily[elapsed_time_daily.index==day]\n",
    "            if len(et) != 0:\n",
    "                concat_elapsed_time += [(day,et.iloc[0].elapsed_time)]\n",
    "            else:\n",
    "                concat_elapsed_time += [(day,None)]\n",
    "    ts = [x[0] for x in concat_elapsed_time]\n",
    "\n",
    "    day_arr = [x[1] for x in concat_elapsed_time]\n",
    "\n",
    "    sigma = 200 * smoothness\n",
    "\n",
    "    title_fillin = \"Elpased Time\"\n",
    "\n",
    "if feature == \"total_elevation_gain\":\n",
    "    total_elevation_gain_daily = total_elevation_gain_df.assign(start_date = total_elevation_gain_df.get('start_date').apply(lambda x: x[:10]))\n",
    "    total_elevation_gain_daily = total_elevation_gain_daily.groupby('start_date').sum(numeric_only=True)\n",
    "    concat_total_elevation_gain = []\n",
    "    for i,d in enumerate(dates):\n",
    "        day = d.strftime('%Y-%m-%d')\n",
    "        if i in day_idxes:\n",
    "            et = total_elevation_gain_daily[total_elevation_gain_daily.index==day]\n",
    "            if len(et) != 0:\n",
    "                concat_total_elevation_gain += [(day,et.iloc[0].total_elevation_gain)]\n",
    "            else:\n",
    "                concat_total_elevation_gain += [(day,None)]\n",
    "    ts = [x[0] for x in concat_total_elevation_gain]\n",
    "\n",
    "    day_arr = [x[1] for x in concat_total_elevation_gain]\n",
    "\n",
    "    sigma = 200 * smoothness\n",
    "\n",
    "    title_fillin = \"Total Elevation Gain\"\n",
    "\n",
    "if feature == \"average_speed\":\n",
    "    average_speed_daily = average_speed_df.assign(start_date = average_speed_df.get('start_date').apply(lambda x: x[:10]))\n",
    "    average_speed_daily = average_speed_daily.groupby('start_date').sum(numeric_only=True)\n",
    "    concat_average_speed = []\n",
    "    for i,d in enumerate(dates):\n",
    "        day = d.strftime('%Y-%m-%d')\n",
    "        if i in day_idxes:\n",
    "            et = average_speed_daily[average_speed_daily.index==day]\n",
    "            if len(et) != 0:\n",
    "                concat_average_speed += [(day,et.iloc[0].average_speed)]\n",
    "            else:\n",
    "                concat_average_speed += [(day,None)]\n",
    "    ts = [x[0] for x in concat_average_speed]\n",
    "\n",
    "    day_arr = [x[1] for x in concat_average_speed]\n",
    "\n",
    "    sigma = 200 * smoothness\n",
    "\n",
    "    title_fillin = \"Average Speed\"\n",
    "    \n",
    "with plt.style.context('ggplot'):\n",
    "    fig, ax = plt.subplots(figsize=(15, 8))\n",
    "\n",
    "    if smooth_plot:\n",
    "        def to_numpy(day_arr):\n",
    "            arr_nonone = [x for x in day_arr if x is not None]\n",
    "            mean_val = int(np.mean(arr_nonone))\n",
    "            for i,x in enumerate(day_arr):\n",
    "                if x is None:\n",
    "                    day_arr[i] = mean_val\n",
    "\n",
    "            return np.array(day_arr)\n",
    "\n",
    "        none_idxes = [i for i,x in enumerate(day_arr) if x is None]\n",
    "        day_arr = to_numpy(day_arr)\n",
    "        from scipy.ndimage import gaussian_filter\n",
    "        day_arr = list(gaussian_filter(day_arr, sigma=sigma))\n",
    "        for i, x in enumerate(day_arr):\n",
    "            if i in none_idxes:\n",
    "                day_arr[i] = None\n",
    "\n",
    "    plt.plot(ts, day_arr)\n",
    "    start_date_str = start_date.strftime('%Y-%m-%d')\n",
    "    end_date_str = end_date.strftime('%Y-%m-%d')\n",
    "    plt.title(f\"{title_fillin} from {start_date_str} to {end_date_str}\",\n",
    "              fontsize=20)\n",
    "    plt.xlabel(\"Date\")\n",
    "    plt.xticks(ts[::int(len(ts)/8)])\n",
    "    plt.ylabel(title_fillin)"
   ]
  },
  {
   "cell_type": "markdown",
   "id": "6eb3667d",
   "metadata": {},
   "source": [
    "This plot allows you to quickly scan your data at many different time scales (week and full) and for different kinds of measurements (heart rate and weight), which enables easy and fast data exploration.\n",
    "\n",
    "Furthermore, the smoothness parameter makes it easy to look for patterns in long-term trends."
   ]
  },
  {
   "cell_type": "markdown",
   "id": "1b3da7f9",
   "metadata": {},
   "source": [
    "# 7. Advanced Visualization\n",
    "\n",
    "Now we'll do some more advanced plotting that at times features hardcore matplotlib hacking with the benefit of aesthetic quality."
   ]
  },
  {
   "cell_type": "markdown",
   "id": "45b4f134",
   "metadata": {},
   "source": [
    "## 7.1 Visualizing participant's Overall Activity!"
   ]
  },
  {
   "cell_type": "markdown",
   "id": "645c3133",
   "metadata": {},
   "source": [
    "Whenever our participant is curious and logs into Strava to check their overall summary, the Strava app would present their data in the form of a barchart. It should look something similar to this: <br>\n",
    "<img src=\"https://i.imgur.com/cr5VYpu.png\" height=\"300\">\n",
    " <br>\n",
    "<i>Above is a plot from the app! </i><br> <br>\n",
    "\n",
    "Now that we have user's data, let's try to recreate the chart above using our python skills!"
   ]
  },
  {
   "cell_type": "code",
   "execution_count": 42,
   "id": "925077c4",
   "metadata": {},
   "outputs": [
    {
     "data": {
      "text/html": [
       "<div>\n",
       "<style scoped>\n",
       "    .dataframe tbody tr th:only-of-type {\n",
       "        vertical-align: middle;\n",
       "    }\n",
       "\n",
       "    .dataframe tbody tr th {\n",
       "        vertical-align: top;\n",
       "    }\n",
       "\n",
       "    .dataframe thead th {\n",
       "        text-align: right;\n",
       "    }\n",
       "</style>\n",
       "<table border=\"1\" class=\"dataframe\">\n",
       "  <thead>\n",
       "    <tr style=\"text-align: right;\">\n",
       "      <th></th>\n",
       "      <th>name</th>\n",
       "      <th>id</th>\n",
       "      <th>start_date</th>\n",
       "      <th>total_elevation_gain</th>\n",
       "      <th>distance</th>\n",
       "      <th>moving_time</th>\n",
       "    </tr>\n",
       "  </thead>\n",
       "  <tbody>\n",
       "    <tr>\n",
       "      <th>0</th>\n",
       "      <td>Morning Run</td>\n",
       "      <td>7170552790</td>\n",
       "      <td>2022-05-19T13:56:56Z</td>\n",
       "      <td>62.339</td>\n",
       "      <td>4584.1</td>\n",
       "      <td>1994</td>\n",
       "    </tr>\n",
       "    <tr>\n",
       "      <th>1</th>\n",
       "      <td>Morning Run</td>\n",
       "      <td>7154793821</td>\n",
       "      <td>2022-05-16T15:40:51Z</td>\n",
       "      <td>68.901</td>\n",
       "      <td>2898.4</td>\n",
       "      <td>1252</td>\n",
       "    </tr>\n",
       "    <tr>\n",
       "      <th>2</th>\n",
       "      <td>Afternoon Run</td>\n",
       "      <td>7154793774</td>\n",
       "      <td>2022-05-16T00:19:48Z</td>\n",
       "      <td>29.529</td>\n",
       "      <td>2747.3</td>\n",
       "      <td>1049</td>\n",
       "    </tr>\n",
       "    <tr>\n",
       "      <th>3</th>\n",
       "      <td>Morning Run</td>\n",
       "      <td>7154793791</td>\n",
       "      <td>2022-05-14T17:31:06Z</td>\n",
       "      <td>154.207</td>\n",
       "      <td>4472.2</td>\n",
       "      <td>1822</td>\n",
       "    </tr>\n",
       "    <tr>\n",
       "      <th>4</th>\n",
       "      <td>Afternoon Ride</td>\n",
       "      <td>7127406869</td>\n",
       "      <td>2022-05-03T14:06:34Z</td>\n",
       "      <td>0.000</td>\n",
       "      <td>0.0</td>\n",
       "      <td>6</td>\n",
       "    </tr>\n",
       "    <tr>\n",
       "      <th>5</th>\n",
       "      <td>Morning Run</td>\n",
       "      <td>7127406894</td>\n",
       "      <td>2022-05-03T13:43:13Z</td>\n",
       "      <td>0.000</td>\n",
       "      <td>1320.5</td>\n",
       "      <td>632</td>\n",
       "    </tr>\n",
       "  </tbody>\n",
       "</table>\n",
       "</div>"
      ],
      "text/plain": [
       "             name          id            start_date  total_elevation_gain  \\\n",
       "0     Morning Run  7170552790  2022-05-19T13:56:56Z                62.339   \n",
       "1     Morning Run  7154793821  2022-05-16T15:40:51Z                68.901   \n",
       "2   Afternoon Run  7154793774  2022-05-16T00:19:48Z                29.529   \n",
       "3     Morning Run  7154793791  2022-05-14T17:31:06Z               154.207   \n",
       "4  Afternoon Ride  7127406869  2022-05-03T14:06:34Z                 0.000   \n",
       "5     Morning Run  7127406894  2022-05-03T13:43:13Z                 0.000   \n",
       "\n",
       "   distance  moving_time  \n",
       "0    4584.1         1994  \n",
       "1    2898.4         1252  \n",
       "2    2747.3         1049  \n",
       "3    4472.2         1822  \n",
       "4       0.0            6  \n",
       "5    1320.5          632  "
      ]
     },
     "execution_count": 42,
     "metadata": {},
     "output_type": "execute_result"
    }
   ],
   "source": [
    "elevation_df = total_elevation_gain_df.assign(total_elevation_gain \n",
    "  = total_elevation_gain_df['total_elevation_gain'].apply(lambda elevation: elevation*3.281))\n",
    "elevation_df = elevation_df.merge(distance_df.get(['distance','start_date']),on='start_date')\n",
    "elevation_df = elevation_df.merge(moving_time_df.get(['moving_time','start_date']),on='start_date')\n",
    "elevation_df"
   ]
  },
  {
   "cell_type": "code",
   "execution_count": 43,
   "id": "a6dcef62",
   "metadata": {},
   "outputs": [
    {
     "name": "stdout",
     "output_type": "stream",
     "text": [
      "mv: rename MusticaPro-SemiBold.otf to /usr/share/fonts/truetype/: No such file or directory\n",
      "zsh:1: command not found: fc-cache\n"
     ]
    },
    {
     "name": "stderr",
     "output_type": "stream",
     "text": [
      "findfont: Font family 'mustica-pro' not found.\n",
      "findfont: Font family 'mustica-pro' not found.\n"
     ]
    },
    {
     "data": {
      "image/png": "[encoded data removed]",
      "text/plain": [
       "<Figure size 1600x400 with 1 Axes>"
      ]
     },
     "metadata": {},
     "output_type": "display_data"
    }
   ],
   "source": [
    "from datetime import datetime, timedelta, date\n",
    "import seaborn as sns\n",
    "\n",
    "#@title Set date range for the chart above\n",
    "\n",
    "start = \"2022-04-25\" #@param {type:\"date\"}\n",
    "end = \"2022-05-25\" #@param {type:\"date\"}\n",
    "\n",
    "#Converting all the elevation gains from metres to feet\n",
    "elevation_df = total_elevation_gain_df.assign(total_elevation_gain \n",
    "  = total_elevation_gain_df['total_elevation_gain'].apply(lambda elevation: elevation*3.281))\n",
    "elevation_df = elevation_df.merge(distance_df.get(['distance','start_date']),on='start_date')\n",
    "elevation_df = elevation_df.merge(moving_time_df.get(['moving_time','start_date']),on='start_date')\n",
    "\n",
    "#Function that converts data into a date time object\n",
    "datefixer = lambda date: datetime.fromisoformat(date[0:10])\n",
    "\n",
    "#Applying datefixer function to every column of elevation_df\n",
    "elevation_df = elevation_df.assign(date \n",
    "                          = elevation_df.get('start_date').apply(datefixer))\n",
    "\n",
    "#Dictionary to store dates froms start to end date along with elevations\n",
    "date_etime = {}\n",
    "\n",
    "#Starting date of our chart\n",
    "start_date = date(int(start.split('-')[0]),int(start.split('-')[1]),\n",
    "                  int(start.split('-')[2]))\n",
    "\n",
    "#Ending date of our chart\n",
    "end_date = date(int(end.split('-')[0]),int(end.split('-')[1]),\n",
    "                int(end.split('-')[2]))\n",
    "\n",
    "#A list of all dates between start and end date\n",
    "dates = list(pd.date_range(start_date,end_date-timedelta(days=1),freq='d'))\n",
    "\n",
    "# Storing toal distance, time and elevation\n",
    "total_distance = 0\n",
    "total_time = 0\n",
    "total_elevation = 0\n",
    "\n",
    "#Loop to find the elevation for each date within the Data Frame\n",
    "for date_val in dates:\n",
    "  #Initializes the current date in the dictionary as zero\n",
    "  date_etime[str(date_val.day)+\" \"+str(date_val.month_name())[:3]] = 0\n",
    "  for actvity_index in range(len(elevation_df)):\n",
    "    #Checks if the current date is in the activity DataFrame\n",
    "      if(date_val == elevation_df.iloc[actvity_index].get('date')):\n",
    "        #Storing total time, distance and elevation\n",
    "        total_distance = (total_distance \n",
    "        + elevation_df.iloc[actvity_index].get('distance'))\n",
    "        total_time = (total_time +\n",
    "               elevation_df.iloc[actvity_index].get('moving_time'))\n",
    "        total_elevation = (total_elevation +\n",
    "               elevation_df.iloc[actvity_index].get('total_elevation_gain'))\n",
    "        #Stores the elevation of current date in dictionary\n",
    "        date_etime[(str(date_val.day)+\" \"+\n",
    "                  str(date_val.month_name())[:3])] = (date_etime[\n",
    "                  str(date_val.day)+\" \"+str(date_val.month_name())[:3]] +\n",
    "                  elevation_df.iloc[actvity_index].get('total_elevation_gain'))\n",
    "#Resetting seaborn to prevent interference with matplotlib plots\n",
    "sns.reset_orig()\n",
    "\n",
    "\n",
    "# custom font\n",
    "# https://stackoverflow.com/questions/35668219/how-to-set-up-a-custom-font-with-custom-path-to-matplotlib-global-font\n",
    "# download the font and unzip (quiet so it does not print)\n",
    "!wget -q 'https://dl.dafont.com/dl/?f=mustica_pro'\n",
    "!unzip -qo \"index.html?f=mustica_pro\"\n",
    "\n",
    "# move to directory where fonts should be kept\n",
    "!mv MusticaPro-SemiBold.otf /usr/share/fonts/truetype/\n",
    "\n",
    "# build cache, redirect to /dev/null to suppress stdout output\n",
    "!fc-cache -f -v > /dev/null\n",
    "\n",
    "import matplotlib as mpl\n",
    "import matplotlib.font_manager as fm\n",
    "\n",
    "# try and except, just in case something fails we fallback onto the\n",
    "# default font\n",
    "try:\n",
    "    fe = fm.FontEntry(\n",
    "        #font name\n",
    "        fname='/usr/share/fonts/truetype/MusticaPro-SemiBold.otf',\n",
    "        name='mustica-pro')\n",
    "    fm.fontManager.ttflist.insert(0, fe) # or append is fine\n",
    "    mpl.rcParams['font.family'] = fe.name # = 'your custom ttf font name'\n",
    "except:\n",
    "    pass\n",
    "\n",
    "#Creating a matplotlib plot of size 16,4\n",
    "plt1 = plt.figure(figsize=(16,4))\n",
    "ax = plt1.gca()\n",
    "\n",
    "#Plotting a bar chart with our data in the dictionary\n",
    "plt.bar(date_etime.keys(),date_etime.values(),color=\"#0098DB\", width=0.9)\n",
    "\n",
    "#Adding the title to the chart\n",
    "plt.title( \"$\\\\bf{\"+str(round(total_distance / 1609,1))+\"}$mi  |  \"+\n",
    "          \"$\\\\bf{\"+str(round(total_time/3600))+\"}$h \"+\"$\\\\bf{\"+\n",
    "          str(round(total_time%60))+\"}$m  |  \"\n",
    "          +\"$\\\\bf{\"+str(round(total_elevation))+\"}$ft\")\n",
    "\n",
    "#Only showing xticks for one day/week\n",
    "ax.set_xticks(ax.get_xticks()[::7])\n",
    "\n",
    "#Limiting the y-axis based on our reference chart\n",
    "plt.ylim((0,350))\n",
    "plt.ylabel(\"Total Elevation Gain (Feet)\",color=\"#a1a1a1\")\n",
    "\n",
    "# Removing the spines on top, left and right\n",
    "ax.spines['top'].set_visible(False)\n",
    "ax.spines['right'].set_visible(False)\n",
    "ax.spines['left'].set_visible(False)\n",
    "\n",
    "ax.tick_params(left=False, bottom=True)\n",
    "\n",
    "#Setting the bottom spine to be the same color as the reference chart\n",
    "ax.spines['bottom'].set_color('#0098DB')\n",
    "plt.show()"
   ]
  },
  {
   "cell_type": "markdown",
   "id": "04c96606",
   "metadata": {},
   "source": [
    "## 7.2 Visualizing participant's Weekly Summary!"
   ]
  },
  {
   "cell_type": "markdown",
   "id": "617a9da7",
   "metadata": {},
   "source": [
    "If our participant is curious about a more detailed breakdown of their runs, Strava would show you their weekly summary using the following chart: <br>\n",
    "<img src=\"https://trailingclosure.com/content/images/2020/12/IMG_6409.jpg\" height=\"300\">\n",
    " <br>\n",
    "Again, Let's try to recreate it using the data we have fetched from the Strava API<br><br>\n",
    "<b>Note:</b> Weekly summary includes all the runs, walks and rides walks recorded by the participant."
   ]
  },
  {
   "cell_type": "markdown",
   "id": "7ef03022",
   "metadata": {},
   "source": [
    "Enter the dates for the start and end dates for this chart below! "
   ]
  },
  {
   "cell_type": "code",
   "execution_count": 44,
   "id": "34eb7b18",
   "metadata": {},
   "outputs": [
    {
     "data": {
      "image/png": "[encoded data removed]",
      "text/plain": [
       "<Figure size 1600x800 with 1 Axes>"
      ]
     },
     "metadata": {},
     "output_type": "display_data"
    }
   ],
   "source": [
    "#@title Set date range for the chart above\n",
    "\n",
    "start = \"2022-04-27\" #@param {type:\"date\"}\n",
    "end = \"2022-05-04\" #@param {type:\"date\"}\n",
    "\n",
    "#Function that converts data into a date time object\n",
    "datefixer = lambda date: datetime.fromisoformat(date[0:10])\n",
    "\n",
    "#Applying datefixer function to every column of df_strava_summary\n",
    "df_strava_summary = elevation_df.assign(date \n",
    "                                =elevation_df.get('start_date').apply(datefixer))\n",
    "\n",
    "#Dictionary to store the hourly frequency\n",
    "date_etime = {}\n",
    "\n",
    "#Starting date of our chart\n",
    "start_date = date(int(start.split('-')[0]),\n",
    "                  int(start.split('-')[1]),int(start.split('-')[2]))\n",
    "\n",
    "#Ending date of our chart\n",
    "end_date = date(int(end.split('-')[0]),\n",
    "                int(end.split('-')[1]),int(end.split('-')[2]))\n",
    "\n",
    "#Creating a list of dates between start and end date\n",
    "dates = list(pd.date_range(start_date,end_date-timedelta(days=1),freq='d'))\n",
    "\n",
    "# Storing toal distance, time and elevation\n",
    "total_distance = 0\n",
    "total_time = 0\n",
    "total_elevation = 0\n",
    "\n",
    "for date_val in dates:\n",
    "  date_etime[str(date_val.day)+\" \"+str(date_val.month_name())[:3]] = 0\n",
    "  for actvity_index in range(len(df_strava_summary)):\n",
    "    #Checks if the current date is in the activity DataFrame\n",
    "      if(date_val == df_strava_summary.iloc[actvity_index].get('date')):\n",
    "\n",
    "        #Storing total time, distance and elevation\n",
    "\n",
    "        total_distance = (total_distance +\n",
    "                          df_strava_summary.iloc[actvity_index].get('distance'))\n",
    "        \n",
    "        total_time = (total_time +\n",
    "                      df_strava_summary.iloc[actvity_index].get('moving_time'))\n",
    "        \n",
    "        total_elevation = (total_elevation +\n",
    "              df_strava_summary.iloc[actvity_index].get('total_elevation_gain'))\n",
    "        \n",
    "        #Stores the elevation of moving time in dictionary\n",
    "        date_etime[str(date_val.day)+\" \"\n",
    "        +str(date_val.month_name())[:3]] = (date_etime[str(date_val.day)\n",
    "        +\" \"+str(date_val.month_name())[:3]] +\n",
    "         df_strava_summary.iloc[actvity_index].get('moving_time')/60)\n",
    "\n",
    "#Resetting seaborn to prevent interference with matplotlib plots\n",
    "sns.reset_orig()\n",
    "\n",
    "# Creating a matplotlib plot of size 16,8\n",
    "plt1 = plt.figure(figsize=(16,8))\n",
    "ax = plt1.gca()\n",
    "\n",
    "\n",
    "plt.plot(list(date_etime.keys()),list(date_etime.values()),color=\"#FC5200\",\n",
    "         marker='o', fillstyle='none', lw=3, markerfacecolor='white', ms=20, \n",
    "         mew=3, markeredgecolor='#FC5200')\n",
    "\n",
    "plt.fill_between(list(date_etime.keys()),\n",
    "                 list(date_etime.values()), facecolor='#FC5200',alpha=0.1)\n",
    "\n",
    "\n",
    "\n",
    "# Adding veritcal grids\n",
    "plt.grid(axis=\"x\")\n",
    "\n",
    "# Hiding the y-ticks\n",
    "ax.axes.get_yaxis().set_visible(False)\n",
    "\n",
    "#Adding the title to the chart\n",
    "plt.suptitle(list(date_etime.keys())[0]+\" - \"+\n",
    "             list(date_etime.keys())[-1],fontsize=24,x=0.195)\n",
    "#Adding the subtitle to the chart\n",
    "plt.title( \"$\\\\bf{\"+str(round(total_distance / 1609,1))+\"}$mi  |  \"+\n",
    "          \"$\\\\bf{\"+str(round(total_time/3600))+\"}$h \"+\"$\\\\bf{\"+\n",
    "          str(round(total_time%60))+\"}$m  |  \"+\"$\\\\bf{\"+\n",
    "          str(round(total_elevation))+\"}$ft\",fontsize=18,loc='left')\n",
    "\n",
    "# Removing the spines on top, left and right\n",
    "ax.spines['top'].set_visible(False)\n",
    "ax.spines['right'].set_visible(False)\n",
    "ax.spines['left'].set_visible(False)"
   ]
  },
  {
   "cell_type": "markdown",
   "id": "9dd8c005",
   "metadata": {},
   "source": [
    "<i>Above is a plot we created ourselves!</i>"
   ]
  },
  {
   "cell_type": "markdown",
   "id": "9be8cea0",
   "metadata": {},
   "source": [
    "## 7.3 Visualizing Participant's Runs!"
   ]
  },
  {
   "cell_type": "markdown",
   "id": "ce720159",
   "metadata": {},
   "source": [
    "Strava's website and app allows the user to visualize the routes for all their activities recorded synced on the Strava application. It is a very interesting feature as it lets the participants view the exact route they took during their activity on an actual map.\n",
    "\n",
    "<img src=\"https://blog.strava.com/wp-content/uploads/2020/03/03-Save-Sync-Share.png\"> <br>\n",
    "\n",
    "\n",
    "Let's try to recreate the plots using the participant's data! <br> <br>\n",
    "Here's a reference to how our overall result will look like\n",
    "\n",
    "<img src=\"https://cf.veloviewer.com/img/veloviewer-strava-segments-homepage.png\" width=700>"
   ]
  },
  {
   "cell_type": "markdown",
   "id": "03750fa0",
   "metadata": {},
   "source": [
    "Interestingly, Strava provides us with this route data in the form of polylines. In the df_strava dataframe we can see a column called summary_polyline for all the individual activities. We will be using this column for our plot! <br>\n",
    "\n",
    "Polyline is a encoded format that store coordinate location and it has to be decoded before it can be used. If we have a closer look into it, it is a bunch of characters that make no sense to an average reader."
   ]
  },
  {
   "cell_type": "code",
   "execution_count": 45,
   "id": "5d90c263",
   "metadata": {},
   "outputs": [
    {
     "data": {
      "text/html": [
       "<div style=\"width:100%;\"><div style=\"position:relative;width:100%;height:0;padding-bottom:60%;\"><span style=\"color:#565656\">Make this Notebook Trusted to load map: File -> Trust Notebook</span><iframe srcdoc=\"&lt;!DOCTYPE html&gt;\n",
       "&lt;html&gt;\n",
       "&lt;head&gt;\n",
       "    \n",
       "    &lt;meta http-equiv=&quot;content-type&quot; content=&quot;text/html; charset=UTF-8&quot; /&gt;\n",
       "    \n",
       "        &lt;script&gt;\n",
       "            L_NO_TOUCH = false;\n",
       "            L_DISABLE_3D = false;\n",
       "        &lt;/script&gt;\n",
       "    \n",
       "    &lt;style&gt;html, body {width: 100%;height: 100%;margin: 0;padding: 0;}&lt;/style&gt;\n",
       "    &lt;style&gt;#map {position:absolute;top:0;bottom:0;right:0;left:0;}&lt;/style&gt;\n",
       "    &lt;script src=&quot;https://cdn.jsdelivr.net/npm/leaflet@1.9.3/dist/leaflet.js&quot;&gt;&lt;/script&gt;\n",
       "    &lt;script src=&quot;https://code.jquery.com/jquery-1.12.4.min.js&quot;&gt;&lt;/script&gt;\n",
       "    &lt;script src=&quot;https://cdn.jsdelivr.net/npm/bootstrap@5.2.2/dist/js/bootstrap.bundle.min.js&quot;&gt;&lt;/script&gt;\n",
       "    &lt;script src=&quot;https://cdnjs.cloudflare.com/ajax/libs/Leaflet.awesome-markers/2.0.2/leaflet.awesome-markers.js&quot;&gt;&lt;/script&gt;\n",
       "    &lt;link rel=&quot;stylesheet&quot; href=&quot;https://cdn.jsdelivr.net/npm/leaflet@1.9.3/dist/leaflet.css&quot;/&gt;\n",
       "    &lt;link rel=&quot;stylesheet&quot; href=&quot;https://cdn.jsdelivr.net/npm/bootstrap@5.2.2/dist/css/bootstrap.min.css&quot;/&gt;\n",
       "    &lt;link rel=&quot;stylesheet&quot; href=&quot;https://netdna.bootstrapcdn.com/bootstrap/3.0.0/css/bootstrap.min.css&quot;/&gt;\n",
       "    &lt;link rel=&quot;stylesheet&quot; href=&quot;https://cdn.jsdelivr.net/npm/@fortawesome/fontawesome-free@6.2.0/css/all.min.css&quot;/&gt;\n",
       "    &lt;link rel=&quot;stylesheet&quot; href=&quot;https://cdnjs.cloudflare.com/ajax/libs/Leaflet.awesome-markers/2.0.2/leaflet.awesome-markers.css&quot;/&gt;\n",
       "    &lt;link rel=&quot;stylesheet&quot; href=&quot;https://cdn.jsdelivr.net/gh/python-visualization/folium/folium/templates/leaflet.awesome.rotate.min.css&quot;/&gt;\n",
       "    \n",
       "            &lt;meta name=&quot;viewport&quot; content=&quot;width=device-width,\n",
       "                initial-scale=1.0, maximum-scale=1.0, user-scalable=no&quot; /&gt;\n",
       "            &lt;style&gt;\n",
       "                #map_6c1656b0a8287a4fba4306acf4a9b517 {\n",
       "                    position: relative;\n",
       "                    width: 100.0%;\n",
       "                    height: 100.0%;\n",
       "                    left: 0.0%;\n",
       "                    top: 0.0%;\n",
       "                }\n",
       "                .leaflet-container { font-size: 1rem; }\n",
       "            &lt;/style&gt;\n",
       "        \n",
       "&lt;/head&gt;\n",
       "&lt;body&gt;\n",
       "    \n",
       "    \n",
       "            &lt;div class=&quot;folium-map&quot; id=&quot;map_6c1656b0a8287a4fba4306acf4a9b517&quot; &gt;&lt;/div&gt;\n",
       "        \n",
       "&lt;/body&gt;\n",
       "&lt;script&gt;\n",
       "    \n",
       "    \n",
       "            var map_6c1656b0a8287a4fba4306acf4a9b517 = L.map(\n",
       "                &quot;map_6c1656b0a8287a4fba4306acf4a9b517&quot;,\n",
       "                {\n",
       "                    center: [37.43116907142858, -122.16495857142857],\n",
       "                    crs: L.CRS.EPSG3857,\n",
       "                    zoom: 13,\n",
       "                    zoomControl: true,\n",
       "                    preferCanvas: false,\n",
       "                }\n",
       "            );\n",
       "\n",
       "            \n",
       "\n",
       "        \n",
       "    \n",
       "            var tile_layer_99844e0930586d74bcc609b4cd6a58ab = L.tileLayer(\n",
       "                &quot;https://{s}.tile.openstreetmap.org/{z}/{x}/{y}.png&quot;,\n",
       "                {&quot;attribution&quot;: &quot;Data by \\u0026copy; \\u003ca target=\\&quot;_blank\\&quot; href=\\&quot;http://openstreetmap.org\\&quot;\\u003eOpenStreetMap\\u003c/a\\u003e, under \\u003ca target=\\&quot;_blank\\&quot; href=\\&quot;http://www.openstreetmap.org/copyright\\&quot;\\u003eODbL\\u003c/a\\u003e.&quot;, &quot;detectRetina&quot;: false, &quot;maxNativeZoom&quot;: 18, &quot;maxZoom&quot;: 18, &quot;minZoom&quot;: 0, &quot;noWrap&quot;: false, &quot;opacity&quot;: 1, &quot;subdomains&quot;: &quot;abc&quot;, &quot;tms&quot;: false}\n",
       "            ).addTo(map_6c1656b0a8287a4fba4306acf4a9b517);\n",
       "        \n",
       "    \n",
       "            var poly_line_ac530cacef2373deca78c87875e7acfa = L.polyline(\n",
       "                [[37.42404, -122.16659], [37.42403, -122.16664], [37.42408, -122.1667], [37.42415, -122.16674], [37.42423, -122.16675], [37.4245, -122.16671], [37.42476, -122.16661], [37.42489, -122.1666], [37.42519, -122.16652], [37.42544, -122.16637], [37.42559, -122.16621], [37.42581, -122.16615], [37.42597, -122.16605], [37.42611, -122.16599], [37.4265, -122.16591], [37.42665, -122.16585], [37.42692, -122.16569], [37.42707, -122.16567], [37.42754, -122.1655], [37.42769, -122.16542], [37.42795, -122.16524], [37.42829, -122.16519], [37.42865, -122.16509], [37.42882, -122.16507], [37.4291, -122.16495], [37.42939, -122.16489], [37.42961, -122.16481], [37.42981, -122.16475], [37.4301, -122.16472], [37.43073, -122.16451], [37.431, -122.16438], [37.43143, -122.16423], [37.43155, -122.16399], [37.43158, -122.16397], [37.43179, -122.16406], [37.43186, -122.16429], [37.43188, -122.16433], [37.43195, -122.16437], [37.43209, -122.16429], [37.43233, -122.1642], [37.4324, -122.16413], [37.43248, -122.16404], [37.43276, -122.16399], [37.43305, -122.16388], [37.43311, -122.16389], [37.43319, -122.16395], [37.43328, -122.164], [37.43338, -122.164], [37.43346, -122.16394], [37.43364, -122.16376], [37.43396, -122.16361], [37.43403, -122.1636], [37.43423, -122.16361], [37.43474, -122.16355], [37.43508, -122.16358], [37.43523, -122.16357], [37.43534, -122.16355], [37.43564, -122.16341], [37.43572, -122.16339], [37.43582, -122.16339], [37.43594, -122.16334], [37.43604, -122.16337], [37.43613, -122.16346], [37.43623, -122.16366], [37.43618, -122.16378], [37.43617, -122.16383], [37.43619, -122.16388], [37.43624, -122.16393], [37.43643, -122.16404], [37.43653, -122.16416], [37.43668, -122.16441], [37.43681, -122.16468], [37.43713, -122.1652], [37.43719, -122.16534], [37.43733, -122.16556], [37.43729, -122.16559], [37.43692, -122.16562], [37.43658, -122.16567], [37.43617, -122.16566], [37.43592, -122.16569], [37.4356, -122.16567], [37.43538, -122.16569], [37.43528, -122.16572], [37.4351, -122.16583], [37.43483, -122.16589], [37.43456, -122.16598], [37.43447, -122.16596], [37.43441, -122.16589], [37.43436, -122.16578], [37.43434, -122.16568], [37.43436, -122.16557], [37.43442, -122.16548], [37.43451, -122.16541], [37.43466, -122.16533], [37.43484, -122.16529], [37.43492, -122.16524], [37.43504, -122.1651], [37.4351, -122.16498], [37.43511, -122.16491], [37.4351, -122.16477], [37.43504, -122.16464], [37.43484, -122.16427], [37.4345, -122.16371], [37.43448, -122.16361], [37.4345, -122.16358], [37.43458, -122.16354], [37.43475, -122.16354], [37.43512, -122.16357], [37.4353, -122.16353], [37.43574, -122.1634], [37.43586, -122.16338], [37.43594, -122.16341], [37.43602, -122.16353], [37.4362, -122.16389], [37.43629, -122.16398], [37.43642, -122.16407], [37.4365, -122.16415], [37.4367, -122.16453], [37.43691, -122.16485], [37.43705, -122.16514], [37.43718, -122.16534], [37.43722, -122.16544], [37.43718, -122.16552], [37.4371, -122.16558], [37.43702, -122.16561], [37.43661, -122.16567], [37.43641, -122.16566], [37.43555, -122.16571], [37.43536, -122.1657], [37.43506, -122.16584], [37.43462, -122.16596], [37.43453, -122.16597], [37.43447, -122.16595], [37.43438, -122.16585], [37.43436, -122.16575], [37.43436, -122.16566], [37.4344, -122.16539], [37.43446, -122.16532], [37.4345, -122.16531], [37.43473, -122.16536], [37.43483, -122.16533], [37.43492, -122.16527], [37.435, -122.16518], [37.43506, -122.16506], [37.4351, -122.16493], [37.43509, -122.16487], [37.43504, -122.16465], [37.43496, -122.16448], [37.43475, -122.16411], [37.43441, -122.16361], [37.43433, -122.16354], [37.43407, -122.16349], [37.43382, -122.16354], [37.43353, -122.16359], [37.43303, -122.16372], [37.43269, -122.16384], [37.43247, -122.16397], [37.43226, -122.16411], [37.4318, -122.16432], [37.43157, -122.16453], [37.43148, -122.1645], [37.4314, -122.16445], [37.43131, -122.16441], [37.43122, -122.1644], [37.43107, -122.16448], [37.43095, -122.1645], [37.43081, -122.16457], [37.4303, -122.16461], [37.43011, -122.16466], [37.42988, -122.16477], [37.42954, -122.16489], [37.42937, -122.16493], [37.42916, -122.16504], [37.42901, -122.16509], [37.42891, -122.16509], [37.42878, -122.16502], [37.42867, -122.165], [37.4282, -122.16516], [37.42784, -122.16521], [37.42725, -122.16542], [37.42701, -122.16547], [37.42661, -122.16565], [37.42638, -122.16573], [37.42627, -122.16577], [37.42611, -122.16579], [37.42585, -122.16592], [37.42566, -122.16605], [37.42549, -122.16609], [37.42525, -122.16618], [37.42499, -122.16624], [37.42481, -122.16626], [37.42457, -122.16634], [37.42425, -122.16642], [37.42411, -122.16648], [37.424, -122.16651]],\n",
       "                {&quot;bubblingMouseEvents&quot;: true, &quot;color&quot;: &quot;red&quot;, &quot;dashArray&quot;: null, &quot;dashOffset&quot;: null, &quot;fill&quot;: false, &quot;fillColor&quot;: &quot;red&quot;, &quot;fillOpacity&quot;: 0.2, &quot;fillRule&quot;: &quot;evenodd&quot;, &quot;lineCap&quot;: &quot;round&quot;, &quot;lineJoin&quot;: &quot;round&quot;, &quot;noClip&quot;: false, &quot;opacity&quot;: 1.0, &quot;smoothFactor&quot;: 1.0, &quot;stroke&quot;: true, &quot;weight&quot;: 3}\n",
       "            ).addTo(map_6c1656b0a8287a4fba4306acf4a9b517);\n",
       "        \n",
       "    \n",
       "            var poly_line_089daa00365d2db71b4cc3476ddf5e65 = L.polyline(\n",
       "                [[37.42551, -122.16618], [37.42576, -122.16613], [37.42582, -122.16609], [37.42587, -122.16602], [37.4259, -122.16601], [37.42631, -122.16589], [37.42647, -122.16587], [37.42683, -122.16577], [37.42693, -122.1657], [37.4273, -122.16558], [37.42743, -122.16553], [37.42762, -122.16548], [37.42785, -122.16536], [37.42797, -122.16527], [37.42812, -122.16529], [37.42825, -122.16526], [37.4284, -122.16526], [37.42861, -122.16518], [37.42876, -122.16514], [37.42911, -122.16499], [37.42922, -122.16497], [37.42935, -122.16492], [37.42946, -122.16491], [37.42979, -122.16479], [37.42996, -122.16477], [37.43013, -122.1647], [37.43042, -122.16462], [37.43069, -122.16446], [37.43088, -122.16437], [37.43113, -122.1643], [37.43128, -122.16424], [37.43145, -122.16412], [37.43154, -122.16393], [37.43157, -122.16391], [37.43167, -122.16398], [37.43177, -122.16403], [37.43185, -122.1643], [37.43204, -122.1645], [37.43228, -122.1647], [37.43246, -122.16492], [37.43255, -122.165], [37.43269, -122.16505], [37.43314, -122.16538], [37.43329, -122.16559], [37.43352, -122.16599], [37.43357, -122.16604], [37.43367, -122.1661], [37.4337, -122.16613], [37.43374, -122.16625], [37.43376, -122.16628], [37.43379, -122.16629], [37.43388, -122.16627], [37.43392, -122.16624], [37.43412, -122.16589], [37.43429, -122.1657], [37.43432, -122.16561], [37.43436, -122.16542], [37.43445, -122.16526], [37.43461, -122.16509], [37.43502, -122.16477], [37.43528, -122.16444], [37.43546, -122.16434], [37.43561, -122.16407], [37.43569, -122.16402], [37.43594, -122.16408], [37.4361, -122.16408], [37.43633, -122.16403], [37.43641, -122.16407], [37.43649, -122.16413], [37.43695, -122.16491], [37.43711, -122.16524], [37.43733, -122.16554], [37.43735, -122.16555], [37.43736, -122.16553], [37.43717, -122.16505], [37.43705, -122.16486], [37.43676, -122.16428], [37.43663, -122.16406], [37.43652, -122.16393], [37.43631, -122.16378], [37.43628, -122.16374], [37.43616, -122.16352], [37.43604, -122.16332], [37.43594, -122.16324], [37.43582, -122.16321], [37.43569, -122.16324], [37.43527, -122.16339], [37.43511, -122.16342], [37.43495, -122.16342], [37.43473, -122.16339], [37.43428, -122.1634], [37.43397, -122.16342], [37.43365, -122.16347], [37.43341, -122.16357], [37.43308, -122.16363], [37.43285, -122.16376], [37.4326, -122.16387], [37.43222, -122.16406], [37.43192, -122.16418], [37.43174, -122.16427], [37.43159, -122.1644], [37.43154, -122.16442], [37.43146, -122.16442], [37.43126, -122.16433], [37.43114, -122.16432], [37.43108, -122.16434], [37.43089, -122.1644], [37.43065, -122.16452], [37.43039, -122.16457], [37.42987, -122.16475], [37.42963, -122.16485], [37.4295, -122.16488], [37.42917, -122.165], [37.42876, -122.16512], [37.42851, -122.16525], [37.42828, -122.16532], [37.42806, -122.16544], [37.42805, -122.16544], [37.42804, -122.16534], [37.42796, -122.16528], [37.42783, -122.16525], [37.42769, -122.16528], [37.42742, -122.16538], [37.42728, -122.16546], [37.42713, -122.16548], [37.42687, -122.16556], [37.42676, -122.16562], [37.42644, -122.16574], [37.4259, -122.16588], [37.42571, -122.16599], [37.42552, -122.16607], [37.42532, -122.16612], [37.42503, -122.16625], [37.42458, -122.16634], [37.42428, -122.1665], [37.42383, -122.16664], [37.42374, -122.1667], [37.42364, -122.16682], [37.42362, -122.16684], [37.42354, -122.16659]],\n",
       "                {&quot;bubblingMouseEvents&quot;: true, &quot;color&quot;: &quot;red&quot;, &quot;dashArray&quot;: null, &quot;dashOffset&quot;: null, &quot;fill&quot;: false, &quot;fillColor&quot;: &quot;red&quot;, &quot;fillOpacity&quot;: 0.2, &quot;fillRule&quot;: &quot;evenodd&quot;, &quot;lineCap&quot;: &quot;round&quot;, &quot;lineJoin&quot;: &quot;round&quot;, &quot;noClip&quot;: false, &quot;opacity&quot;: 1.0, &quot;smoothFactor&quot;: 1.0, &quot;stroke&quot;: true, &quot;weight&quot;: 3}\n",
       "            ).addTo(map_6c1656b0a8287a4fba4306acf4a9b517);\n",
       "        \n",
       "    \n",
       "            var poly_line_8984f535144990a8f3078fe8036950c6 = L.polyline(\n",
       "                [[37.42369, -122.16543], [37.42365, -122.16537], [37.42361, -122.16522], [37.42362, -122.16519], [37.42367, -122.16515], [37.42381, -122.16514], [37.42415, -122.16503], [37.42436, -122.16499], [37.42451, -122.16492], [37.42471, -122.16492], [37.42497, -122.16478], [37.42518, -122.16477], [37.42545, -122.16464], [37.42564, -122.16452], [37.4258, -122.16445], [37.42612, -122.16446], [37.4262, -122.16445], [37.42637, -122.16439], [37.42652, -122.16437], [37.42662, -122.16432], [37.4268, -122.16419], [37.42714, -122.16411], [37.42734, -122.164], [37.42753, -122.16395], [37.42758, -122.16397], [37.42762, -122.16401], [37.42763, -122.16401], [37.42783, -122.16419], [37.428, -122.16492], [37.42815, -122.16502], [37.42828, -122.16515], [37.42834, -122.16515], [37.42868, -122.16503], [37.42893, -122.16497], [37.42906, -122.16499], [37.42915, -122.16506], [37.42919, -122.16507], [37.4293, -122.16506], [37.42948, -122.16502], [37.42958, -122.16504], [37.42962, -122.16504], [37.42975, -122.165], [37.42991, -122.16488], [37.43003, -122.16483], [37.4302, -122.16482], [37.43047, -122.16475], [37.43083, -122.16463], [37.43102, -122.16455], [37.43119, -122.16449], [37.43126, -122.16449], [37.4314, -122.16456], [37.43156, -122.1646], [37.43176, -122.16479], [37.43183, -122.16482], [37.43188, -122.16482], [37.43193, -122.16479], [37.43197, -122.16475], [37.43203, -122.16462], [37.43206, -122.1646], [37.43217, -122.16467], [37.43237, -122.16476], [37.43249, -122.16488], [37.43266, -122.16502], [37.43294, -122.16519], [37.43312, -122.16535], [37.4332, -122.16545], [37.43343, -122.16589], [37.4335, -122.16596], [37.43363, -122.16599], [37.43373, -122.16596], [37.43379, -122.16597], [37.43394, -122.16605], [37.43399, -122.16603], [37.43406, -122.16589], [37.4342, -122.1657], [37.43429, -122.16549], [37.43432, -122.16546], [37.43442, -122.16544], [37.4346, -122.16545], [37.43478, -122.1655], [37.43528, -122.16551], [37.43565, -122.16568], [37.43577, -122.1657], [37.43616, -122.16567], [37.43639, -122.16567], [37.43662, -122.16564], [37.43695, -122.16559], [37.43717, -122.16549], [37.43728, -122.16548], [37.43738, -122.16552], [37.43748, -122.16565], [37.43759, -122.16574], [37.43762, -122.16573], [37.43766, -122.16568], [37.43771, -122.1654], [37.43786, -122.16516], [37.43794, -122.16513], [37.43817, -122.16525], [37.43832, -122.16525], [37.43845, -122.16516], [37.43876, -122.16483], [37.43884, -122.16478], [37.43887, -122.16479], [37.43888, -122.16488], [37.43884, -122.16561], [37.43882, -122.16566], [37.43886, -122.16544], [37.43891, -122.1649], [37.43894, -122.16435], [37.4389, -122.16422], [37.43868, -122.16399], [37.43863, -122.16389], [37.43861, -122.16372], [37.43861, -122.16367], [37.43863, -122.16364], [37.43871, -122.16367], [37.439, -122.16384], [37.43931, -122.16403], [37.43946, -122.16423], [37.43978, -122.16455], [37.44015, -122.165], [37.43999, -122.16473], [37.43977, -122.16447], [37.43913, -122.16379], [37.43903, -122.16373], [37.4389, -122.16368], [37.43856, -122.16361], [37.43835, -122.16352], [37.43827, -122.16351], [37.43823, -122.16356], [37.43814, -122.16387], [37.43808, -122.16401], [37.438, -122.16413], [37.4379, -122.16422], [37.43781, -122.16424], [37.43767, -122.16424], [37.43758, -122.16422], [37.43742, -122.16414], [37.43733, -122.16413], [37.43705, -122.16418], [37.43693, -122.16411], [37.43685, -122.16397], [37.43682, -122.16394], [37.43678, -122.16394], [37.4367, -122.16399], [37.43658, -122.16414], [37.43652, -122.16419], [37.43623, -122.16435], [37.43605, -122.16442], [37.43588, -122.16451], [37.43552, -122.16475], [37.43543, -122.16486], [37.43536, -122.16491], [37.43518, -122.16495], [37.43513, -122.16497], [37.4349, -122.1652], [37.43469, -122.16535], [37.43457, -122.16554], [37.43434, -122.16585], [37.43423, -122.16611], [37.43417, -122.16617], [37.43386, -122.16627], [37.43368, -122.16628], [37.43347, -122.16633], [37.43336, -122.16638], [37.43326, -122.1664], [37.43308, -122.16649], [37.43286, -122.16653], [37.43274, -122.16652], [37.43248, -122.16662], [37.43229, -122.16664], [37.43195, -122.16675], [37.43181, -122.16678], [37.4315, -122.16692], [37.43121, -122.16702], [37.43102, -122.16706], [37.43099, -122.16708], [37.43091, -122.1672], [37.43087, -122.16723], [37.43067, -122.16732], [37.43045, -122.16747], [37.4304, -122.16749], [37.43023, -122.16753], [37.42994, -122.16756], [37.42989, -122.16757], [37.4298, -122.16765], [37.42959, -122.16776], [37.42904, -122.16793], [37.42885, -122.16802], [37.42855, -122.16813], [37.42833, -122.16822], [37.42806, -122.16831], [37.42763, -122.16841], [37.42706, -122.16861], [37.42662, -122.1688], [37.42628, -122.16889], [37.42611, -122.16891], [37.42593, -122.169], [37.42574, -122.16904], [37.42555, -122.16911], [37.42545, -122.16911], [37.4254, -122.16906], [37.42536, -122.16892], [37.42533, -122.16865], [37.42527, -122.16843], [37.42523, -122.16834], [37.42497, -122.16814], [37.42479, -122.16808], [37.42476, -122.16805], [37.42465, -122.16779], [37.42451, -122.1676], [37.42442, -122.16744], [37.42438, -122.16726], [37.42436, -122.16709], [37.42429, -122.16697]],\n",
       "                {&quot;bubblingMouseEvents&quot;: true, &quot;color&quot;: &quot;red&quot;, &quot;dashArray&quot;: null, &quot;dashOffset&quot;: null, &quot;fill&quot;: false, &quot;fillColor&quot;: &quot;red&quot;, &quot;fillOpacity&quot;: 0.2, &quot;fillRule&quot;: &quot;evenodd&quot;, &quot;lineCap&quot;: &quot;round&quot;, &quot;lineJoin&quot;: &quot;round&quot;, &quot;noClip&quot;: false, &quot;opacity&quot;: 1.0, &quot;smoothFactor&quot;: 1.0, &quot;stroke&quot;: true, &quot;weight&quot;: 3}\n",
       "            ).addTo(map_6c1656b0a8287a4fba4306acf4a9b517);\n",
       "        \n",
       "    \n",
       "            var poly_line_8669ba28a01e77f9c44ddc35c96b061d = L.polyline(\n",
       "                [[37.42584, -122.16629], [37.42613, -122.16625], [37.42652, -122.16613], [37.42669, -122.16611], [37.4268, -122.16606], [37.42689, -122.16599], [37.42698, -122.16588], [37.42702, -122.16578], [37.42702, -122.16574], [37.42691, -122.16551], [37.42688, -122.16537], [37.42682, -122.16522], [37.42678, -122.165], [37.42672, -122.16489], [37.4267, -122.1648], [37.4267, -122.16465], [37.42675, -122.16455], [37.42682, -122.16449], [37.42692, -122.16442], [37.42712, -122.16435], [37.42728, -122.1642], [37.42743, -122.16413], [37.42765, -122.16414], [37.42795, -122.16409], [37.42806, -122.16401], [37.42814, -122.16397], [37.42827, -122.16394], [37.42857, -122.16384], [37.42868, -122.16382], [37.42889, -122.16372], [37.429, -122.16369], [37.42928, -122.16345], [37.42967, -122.16334], [37.4297, -122.16332], [37.42972, -122.16324], [37.42967, -122.16309], [37.42944, -122.16278], [37.42929, -122.16254], [37.4293, -122.16251], [37.42943, -122.16232], [37.42956, -122.16219], [37.42966, -122.162], [37.42977, -122.1619], [37.42979, -122.1619], [37.42981, -122.16193], [37.42987, -122.16209], [37.43011, -122.16255], [37.43028, -122.16276], [37.43044, -122.16292], [37.43074, -122.16318], [37.43093, -122.16331], [37.43107, -122.16344], [37.43115, -122.1636], [37.43129, -122.16384], [37.43134, -122.16389], [37.43154, -122.16405], [37.43171, -122.1641], [37.43177, -122.16415], [37.43188, -122.16436], [37.43192, -122.16441], [37.43197, -122.16443], [37.43202, -122.16443], [37.43217, -122.16435], [37.43245, -122.16428], [37.4325, -122.16427], [37.43255, -122.16429], [37.43259, -122.16432], [37.43259, -122.16442], [37.43251, -122.16465], [37.43252, -122.16485], [37.43255, -122.16492], [37.43258, -122.16496], [37.43268, -122.16505], [37.43273, -122.16506], [37.43274, -122.16505], [37.43271, -122.16501], [37.43255, -122.16493], [37.43242, -122.16477], [37.43219, -122.16462], [37.43205, -122.16451], [37.43198, -122.1644], [37.43191, -122.16437], [37.43186, -122.16439], [37.43175, -122.16456], [37.4317, -122.1646], [37.43159, -122.16458], [37.43148, -122.1645], [37.43143, -122.16448], [37.43137, -122.16449], [37.43128, -122.16448], [37.43115, -122.16452], [37.431, -122.16451], [37.43092, -122.16456], [37.43086, -122.16463], [37.43073, -122.1647], [37.43065, -122.16472], [37.43051, -122.16473], [37.43036, -122.1648], [37.42997, -122.16495], [37.42985, -122.16498], [37.42972, -122.16504], [37.42953, -122.16506], [37.42941, -122.16511], [37.42929, -122.16512], [37.42911, -122.16523], [37.42892, -122.16531], [37.42857, -122.16539], [37.4285, -122.16536], [37.42835, -122.16527], [37.4283, -122.16526], [37.42809, -122.16528], [37.42807, -122.16526], [37.42805, -122.16515], [37.42804, -122.16496], [37.428, -122.16476], [37.4279, -122.16449], [37.42787, -122.16442], [37.42772, -122.16432], [37.42756, -122.16413], [37.42747, -122.16409], [37.42725, -122.16412], [37.42705, -122.16416], [37.42676, -122.16428], [37.42657, -122.16442], [37.42637, -122.16449], [37.42613, -122.16449], [37.42597, -122.16452], [37.42576, -122.16459], [37.42562, -122.16459], [37.42541, -122.1647], [37.42499, -122.16483], [37.4245, -122.16491], [37.42384, -122.16514], [37.42368, -122.16517], [37.42364, -122.1652], [37.42357, -122.16529], [37.42356, -122.16534], [37.42358, -122.16555], [37.42369, -122.16585], [37.42371, -122.16605], [37.42376, -122.16614], [37.42389, -122.16632]],\n",
       "                {&quot;bubblingMouseEvents&quot;: true, &quot;color&quot;: &quot;red&quot;, &quot;dashArray&quot;: null, &quot;dashOffset&quot;: null, &quot;fill&quot;: false, &quot;fillColor&quot;: &quot;red&quot;, &quot;fillOpacity&quot;: 0.2, &quot;fillRule&quot;: &quot;evenodd&quot;, &quot;lineCap&quot;: &quot;round&quot;, &quot;lineJoin&quot;: &quot;round&quot;, &quot;noClip&quot;: false, &quot;opacity&quot;: 1.0, &quot;smoothFactor&quot;: 1.0, &quot;stroke&quot;: true, &quot;weight&quot;: 3}\n",
       "            ).addTo(map_6c1656b0a8287a4fba4306acf4a9b517);\n",
       "        \n",
       "    \n",
       "            var poly_line_b7973a44dc798620c0ac390192a083a7 = L.polyline(\n",
       "                [[37.4238, -122.16663], [37.42382, -122.1666], [37.42386, -122.16658], [37.42399, -122.16662], [37.42411, -122.16663], [37.4243, -122.16654], [37.4244, -122.16653], [37.42451, -122.16654], [37.42455, -122.16653], [37.42464, -122.16649], [37.42479, -122.16646], [37.42531, -122.16626], [37.42556, -122.1662], [37.42574, -122.16622], [37.42586, -122.16622], [37.42609, -122.16618], [37.42628, -122.16611], [37.42642, -122.16605], [37.42653, -122.1659], [37.42662, -122.16584], [37.42684, -122.16574], [37.42702, -122.16564], [37.4275, -122.16553], [37.42784, -122.16532], [37.42823, -122.1652], [37.42847, -122.1651], [37.42894, -122.16495], [37.42939, -122.16486], [37.42979, -122.16471], [37.43028, -122.16462], [37.43057, -122.16454], [37.43068, -122.16447], [37.43083, -122.16433], [37.43091, -122.1643], [37.43104, -122.16429], [37.43134, -122.16416], [37.43142, -122.16406], [37.43151, -122.16392], [37.43154, -122.16391], [37.43166, -122.16394], [37.43174, -122.164], [37.43177, -122.16405], [37.43181, -122.16425], [37.43184, -122.1643], [37.43212, -122.16465], [37.43228, -122.16474], [37.43244, -122.16489], [37.43265, -122.16505], [37.43294, -122.16524], [37.4332, -122.1655], [37.43397, -122.16654], [37.43406, -122.16653], [37.43419, -122.16657], [37.43432, -122.16666], [37.43454, -122.1667], [37.43458, -122.16669], [37.43481, -122.16661], [37.43501, -122.16657], [37.43519, -122.16645], [37.43529, -122.16636], [37.43548, -122.16627], [37.43539, -122.16626], [37.43521, -122.16633], [37.43478, -122.16643], [37.4346, -122.1665], [37.43447, -122.16652], [37.43434, -122.16649], [37.43414, -122.16647], [37.43381, -122.16629], [37.43352, -122.16636], [37.43339, -122.16641], [37.43334, -122.16641], [37.43321, -122.16636], [37.43288, -122.16648], [37.43272, -122.16651], [37.43223, -122.16667], [37.43186, -122.16677], [37.43177, -122.16684], [37.4316, -122.16694], [37.43147, -122.16696], [37.43121, -122.16705], [37.43104, -122.16704], [37.43093, -122.16699], [37.43067, -122.16696], [37.43039, -122.16687], [37.43031, -122.16682], [37.4302, -122.16669], [37.43013, -122.16665], [37.43003, -122.16665], [37.42999, -122.16668], [37.42954, -122.16518], [37.42954, -122.16511], [37.42949, -122.16503], [37.42944, -122.16502], [37.4288, -122.16522], [37.42848, -122.16536], [37.42835, -122.1654], [37.42818, -122.16536], [37.42798, -122.16526], [37.42788, -122.16527], [37.42751, -122.16547], [37.42729, -122.16552], [37.42701, -122.16555], [37.42651, -122.16578], [37.4263, -122.16587], [37.42595, -122.16597], [37.42577, -122.16606], [37.42546, -122.16612], [37.42505, -122.16625], [37.4248, -122.16629], [37.42411, -122.16658], [37.42407, -122.16659], [37.42399, -122.16656], [37.42394, -122.16652], [37.4239, -122.16644]],\n",
       "                {&quot;bubblingMouseEvents&quot;: true, &quot;color&quot;: &quot;red&quot;, &quot;dashArray&quot;: null, &quot;dashOffset&quot;: null, &quot;fill&quot;: false, &quot;fillColor&quot;: &quot;red&quot;, &quot;fillOpacity&quot;: 0.2, &quot;fillRule&quot;: &quot;evenodd&quot;, &quot;lineCap&quot;: &quot;round&quot;, &quot;lineJoin&quot;: &quot;round&quot;, &quot;noClip&quot;: false, &quot;opacity&quot;: 1.0, &quot;smoothFactor&quot;: 1.0, &quot;stroke&quot;: true, &quot;weight&quot;: 3}\n",
       "            ).addTo(map_6c1656b0a8287a4fba4306acf4a9b517);\n",
       "        \n",
       "&lt;/script&gt;\n",
       "&lt;/html&gt;\" style=\"position:absolute;width:100%;height:100%;left:0;top:0;border:none !important;\" allowfullscreen webkitallowfullscreen mozallowfullscreen></iframe></div></div>"
      ],
      "text/plain": [
       "<folium.folium.Map at 0x7f851e6e83a0>"
      ]
     },
     "metadata": {},
     "output_type": "display_data"
    }
   ],
   "source": [
    "import polyline\n",
    "import folium\n",
    "\n",
    "#Dictionary to save the coordinates of the first ride\n",
    "my_ride = map_summary_polyline_df.iloc[1].get(['map.summary_polyline']).apply(polyline.decode)['map.summary_polyline']\n",
    "\n",
    "#Select one activity to find the centroid of the map.\n",
    "centroid = [\n",
    "    np.mean([coord[0] for coord in my_ride]), \n",
    "    np.mean([coord[1] for coord in my_ride])\n",
    "  ]\n",
    "\n",
    "#Creating a map \n",
    "m = folium.Map(location=centroid, zoom_start=13)\n",
    "\n",
    "# Plot all rides on map\n",
    "for i in range(len(map_summary_polyline_df.head())):\n",
    "    if len(map_summary_polyline_df.iloc[i].get(['map.summary_polyline'])['map.summary_polyline']) == 0:\n",
    "        continue\n",
    "\n",
    "    # Polyline.decode is a function that helps us decode this polyline data to coordinates\n",
    "    my_ride = map_summary_polyline_df.iloc[i].get(['map.summary_polyline']).apply(polyline.decode)['map.summary_polyline']\n",
    "    # We plot the route on the map.\n",
    "    folium.PolyLine(my_ride, color='red').add_to(m)\n",
    "display(m)"
   ]
  },
  {
   "cell_type": "markdown",
   "id": "72662856",
   "metadata": {},
   "source": [
    "# 8. Data Analysis"
   ]
  },
  {
   "cell_type": "markdown",
   "id": "537ccc99",
   "metadata": {},
   "source": [
    "Now that we have found, the weekly summary for the participant's activity time, let's plot some graphs to see if there is a correlation between the various metrics of the participants data."
   ]
  },
  {
   "cell_type": "markdown",
   "id": "922d9a21",
   "metadata": {},
   "source": [
    "In order to focus on the just the runs, we will have to clean the dataframe and only keep activities of the type 'Run'."
   ]
  },
  {
   "cell_type": "code",
   "execution_count": 46,
   "id": "fcbcd807",
   "metadata": {},
   "outputs": [
    {
     "data": {
      "text/html": [
       "<div>\n",
       "<style scoped>\n",
       "    .dataframe tbody tr th:only-of-type {\n",
       "        vertical-align: middle;\n",
       "    }\n",
       "\n",
       "    .dataframe tbody tr th {\n",
       "        vertical-align: top;\n",
       "    }\n",
       "\n",
       "    .dataframe thead th {\n",
       "        text-align: right;\n",
       "    }\n",
       "</style>\n",
       "<table border=\"1\" class=\"dataframe\">\n",
       "  <thead>\n",
       "    <tr style=\"text-align: right;\">\n",
       "      <th></th>\n",
       "      <th>name</th>\n",
       "      <th>id</th>\n",
       "      <th>start_date</th>\n",
       "      <th>max_speed</th>\n",
       "      <th>max_heartrate</th>\n",
       "    </tr>\n",
       "  </thead>\n",
       "  <tbody>\n",
       "    <tr>\n",
       "      <th>0</th>\n",
       "      <td>Morning Run</td>\n",
       "      <td>7795133796</td>\n",
       "      <td>2022-05-21T16:16:08Z</td>\n",
       "      <td>3.7</td>\n",
       "      <td>177.0</td>\n",
       "    </tr>\n",
       "    <tr>\n",
       "      <th>1</th>\n",
       "      <td>Afternoon Run</td>\n",
       "      <td>7795133787</td>\n",
       "      <td>2022-05-20T21:52:46Z</td>\n",
       "      <td>4.0</td>\n",
       "      <td>186.0</td>\n",
       "    </tr>\n",
       "    <tr>\n",
       "      <th>2</th>\n",
       "      <td>Morning Run</td>\n",
       "      <td>7170552790</td>\n",
       "      <td>2022-05-19T13:56:56Z</td>\n",
       "      <td>4.2</td>\n",
       "      <td>159.0</td>\n",
       "    </tr>\n",
       "    <tr>\n",
       "      <th>3</th>\n",
       "      <td>Morning Run</td>\n",
       "      <td>7154793791</td>\n",
       "      <td>2022-05-14T17:31:06Z</td>\n",
       "      <td>3.7</td>\n",
       "      <td>156.0</td>\n",
       "    </tr>\n",
       "    <tr>\n",
       "      <th>4</th>\n",
       "      <td>Morning Run</td>\n",
       "      <td>7127406894</td>\n",
       "      <td>2022-05-03T13:43:13Z</td>\n",
       "      <td>3.5</td>\n",
       "      <td>174.0</td>\n",
       "    </tr>\n",
       "    <tr>\n",
       "      <th>6</th>\n",
       "      <td>Lunch Run</td>\n",
       "      <td>7056276906</td>\n",
       "      <td>2022-04-28T18:40:55Z</td>\n",
       "      <td>3.7</td>\n",
       "      <td>NaN</td>\n",
       "    </tr>\n",
       "  </tbody>\n",
       "</table>\n",
       "</div>"
      ],
      "text/plain": [
       "            name          id            start_date  max_speed  max_heartrate\n",
       "0    Morning Run  7795133796  2022-05-21T16:16:08Z        3.7          177.0\n",
       "1  Afternoon Run  7795133787  2022-05-20T21:52:46Z        4.0          186.0\n",
       "2    Morning Run  7170552790  2022-05-19T13:56:56Z        4.2          159.0\n",
       "3    Morning Run  7154793791  2022-05-14T17:31:06Z        3.7          156.0\n",
       "4    Morning Run  7127406894  2022-05-03T13:43:13Z        3.5          174.0\n",
       "6      Lunch Run  7056276906  2022-04-28T18:40:55Z        3.7            NaN"
      ]
     },
     "execution_count": 46,
     "metadata": {},
     "output_type": "execute_result"
    }
   ],
   "source": [
    "strava_df = max_speed_df.merge(max_heartrate_df.get(['start_date','max_heartrate']),on='start_date')\n",
    "\n",
    "def filterRuns(data):\n",
    "    dataframe = []\n",
    "    for i in range(len(data)):\n",
    "        name = data.iloc[i].get('name')\n",
    "        if 'run' in name.lower():\n",
    "            dataframe.append(True)\n",
    "        else:\n",
    "            dataframe.append(False)\n",
    "    return dataframe\n",
    "\n",
    "\n",
    "strava_df = strava_df[filterRuns(strava_df)]\n",
    "strava_df"
   ]
  },
  {
   "cell_type": "code",
   "execution_count": 47,
   "id": "d155c0c4",
   "metadata": {},
   "outputs": [],
   "source": [
    "# We will drop the null values and only get the columns we need\n",
    "df_runs_cleaned = strava_df.get(['max_speed','max_heartrate']).dropna()"
   ]
  },
  {
   "cell_type": "markdown",
   "id": "ed50a304",
   "metadata": {},
   "source": [
    "As the strava api returns the max_speed values in meters/second and our above plots use miles, we will convert max speed to km/hour to maintain consistency."
   ]
  },
  {
   "cell_type": "code",
   "execution_count": 48,
   "id": "4b7928f0",
   "metadata": {},
   "outputs": [],
   "source": [
    "df_runs_cleaned = df_runs_cleaned.assign(max_speed =\n",
    "                    df_runs_cleaned.get('max_speed').apply(lambda x: x*3.6))"
   ]
  },
  {
   "cell_type": "markdown",
   "id": "dfbfab58",
   "metadata": {},
   "source": [
    "Let's plot the cleaned Data Frame below!"
   ]
  },
  {
   "cell_type": "code",
   "execution_count": 49,
   "id": "85938c27",
   "metadata": {},
   "outputs": [
    {
     "data": {
      "text/html": [
       "<div>\n",
       "<style scoped>\n",
       "    .dataframe tbody tr th:only-of-type {\n",
       "        vertical-align: middle;\n",
       "    }\n",
       "\n",
       "    .dataframe tbody tr th {\n",
       "        vertical-align: top;\n",
       "    }\n",
       "\n",
       "    .dataframe thead th {\n",
       "        text-align: right;\n",
       "    }\n",
       "</style>\n",
       "<table border=\"1\" class=\"dataframe\">\n",
       "  <thead>\n",
       "    <tr style=\"text-align: right;\">\n",
       "      <th></th>\n",
       "      <th>max_speed</th>\n",
       "      <th>max_heartrate</th>\n",
       "    </tr>\n",
       "  </thead>\n",
       "  <tbody>\n",
       "    <tr>\n",
       "      <th>0</th>\n",
       "      <td>13.32</td>\n",
       "      <td>177.0</td>\n",
       "    </tr>\n",
       "    <tr>\n",
       "      <th>1</th>\n",
       "      <td>14.40</td>\n",
       "      <td>186.0</td>\n",
       "    </tr>\n",
       "    <tr>\n",
       "      <th>2</th>\n",
       "      <td>15.12</td>\n",
       "      <td>159.0</td>\n",
       "    </tr>\n",
       "    <tr>\n",
       "      <th>3</th>\n",
       "      <td>13.32</td>\n",
       "      <td>156.0</td>\n",
       "    </tr>\n",
       "    <tr>\n",
       "      <th>4</th>\n",
       "      <td>12.60</td>\n",
       "      <td>174.0</td>\n",
       "    </tr>\n",
       "  </tbody>\n",
       "</table>\n",
       "</div>"
      ],
      "text/plain": [
       "   max_speed  max_heartrate\n",
       "0      13.32          177.0\n",
       "1      14.40          186.0\n",
       "2      15.12          159.0\n",
       "3      13.32          156.0\n",
       "4      12.60          174.0"
      ]
     },
     "execution_count": 49,
     "metadata": {},
     "output_type": "execute_result"
    }
   ],
   "source": [
    "df_runs_cleaned"
   ]
  },
  {
   "cell_type": "markdown",
   "id": "4f2820d5",
   "metadata": {},
   "source": [
    "Maybe the heart rate is correlated with how fast you run. Let's test if this hypothesis is true. We will do so by plotting a scatterplot between those two metrics and finding the correlation."
   ]
  },
  {
   "cell_type": "markdown",
   "id": "8be82bd2",
   "metadata": {},
   "source": [
    "First, we will plot a chart to see if there is a visual correlation between a partcipant's max heart rate and their max speed."
   ]
  },
  {
   "cell_type": "code",
   "execution_count": 50,
   "id": "0f0abe31",
   "metadata": {},
   "outputs": [
    {
     "data": {
      "text/plain": [
       "Text(0.5, 0, 'Maximum Speed (km/hr)')"
      ]
     },
     "execution_count": 50,
     "metadata": {},
     "output_type": "execute_result"
    },
    {
     "data": {
      "image/png": "[encoded data removed]",
      "text/plain": [
       "<Figure size 1600x800 with 1 Axes>"
      ]
     },
     "metadata": {},
     "output_type": "display_data"
    }
   ],
   "source": [
    "# Setting Figure Size in Seaborn\n",
    "sns.set(rc={'figure.figsize':(16,8)})\n",
    "\n",
    "# Setting Seaborn plot style\n",
    "sns.set_style(\"darkgrid\")\n",
    "\n",
    "#Plotting our data\n",
    "plot = sns.regplot(data=df_runs_cleaned, x=\"max_speed\", y=\"max_heartrate\")\n",
    "\n",
    "#Renaming x and y labels\n",
    "plot.set_ylabel(\"Maximum Heart Rate (bpm)\", fontsize = 16)\n",
    "plot.set_xlabel(\"Maximum Speed (km/hr)\", fontsize = 16)\n"
   ]
  },
  {
   "cell_type": "markdown",
   "id": "43467c5f",
   "metadata": {},
   "source": [
    "As we can see from the scatterplot above, our regression line hints that there might be a correlation between maximum speed and maximum heart rate. Let's compute $R^2$ just to see exactly how correlated.\n",
    "\n",
    "We'll follow [this documentation](https://docs.scipy.org/doc/scipy-0.15.1/reference/generated/scipy.stats.linregress.html) and perform a linear regression to obtain the coefficient of determination."
   ]
  },
  {
   "cell_type": "code",
   "execution_count": 51,
   "id": "29b76987",
   "metadata": {},
   "outputs": [
    {
     "name": "stdout",
     "output_type": "stream",
     "text": [
      "Slope: -1.57\n",
      "Coefficient of determination: 0.0154\n",
      "p-value: 0.842\n"
     ]
    }
   ],
   "source": [
    "from scipy import stats\n",
    "\n",
    "slope, intercept, r_value, p_value, std_err = stats.linregress(\n",
    "    df_runs_cleaned.get('max_speed'), df_runs_cleaned.get('max_heartrate'))\n",
    "\n",
    "print(f'Slope: {slope:.3g}')\n",
    "print(f'Coefficient of determination: {r_value**2:.3g}')\n",
    "print(f'p-value: {p_value:.3g}')"
   ]
  },
  {
   "cell_type": "markdown",
   "id": "23cb6fee",
   "metadata": {},
   "source": [
    "As we can see that the p-value is slightly over 30% which means that there is not enough evidence to convincingly conclude that that there is a correlation between heart rate and speed. Let's try to locate the outliers in this data and find points that might be skewing our dataset and preventing us from gathering enough evidence to prove our correlation."
   ]
  },
  {
   "cell_type": "markdown",
   "id": "dbd9a666",
   "metadata": {},
   "source": [
    "## 9.0 Outlier Detection"
   ]
  },
  {
   "cell_type": "markdown",
   "id": "511819b5",
   "metadata": {},
   "source": [
    "Before finding the individual outlier values, it would be interesting to see the summary of our max_speed and max_heartrate parameters. It will give us a clear idea of what values are typical and which values can be considered atypical based on the data that we recieved from Strava."
   ]
  },
  {
   "cell_type": "code",
   "execution_count": 52,
   "id": "5b5df96f",
   "metadata": {},
   "outputs": [
    {
     "data": {
      "text/html": [
       "<div>\n",
       "<style scoped>\n",
       "    .dataframe tbody tr th:only-of-type {\n",
       "        vertical-align: middle;\n",
       "    }\n",
       "\n",
       "    .dataframe tbody tr th {\n",
       "        vertical-align: top;\n",
       "    }\n",
       "\n",
       "    .dataframe thead th {\n",
       "        text-align: right;\n",
       "    }\n",
       "</style>\n",
       "<table border=\"1\" class=\"dataframe\">\n",
       "  <thead>\n",
       "    <tr style=\"text-align: right;\">\n",
       "      <th></th>\n",
       "      <th>max_speed</th>\n",
       "      <th>max_heartrate</th>\n",
       "    </tr>\n",
       "  </thead>\n",
       "  <tbody>\n",
       "    <tr>\n",
       "      <th>count</th>\n",
       "      <td>5.000000</td>\n",
       "      <td>5.00000</td>\n",
       "    </tr>\n",
       "    <tr>\n",
       "      <th>mean</th>\n",
       "      <td>13.752000</td>\n",
       "      <td>170.40000</td>\n",
       "    </tr>\n",
       "    <tr>\n",
       "      <th>std</th>\n",
       "      <td>0.998959</td>\n",
       "      <td>12.62141</td>\n",
       "    </tr>\n",
       "    <tr>\n",
       "      <th>min</th>\n",
       "      <td>12.600000</td>\n",
       "      <td>156.00000</td>\n",
       "    </tr>\n",
       "    <tr>\n",
       "      <th>25%</th>\n",
       "      <td>13.320000</td>\n",
       "      <td>159.00000</td>\n",
       "    </tr>\n",
       "    <tr>\n",
       "      <th>50%</th>\n",
       "      <td>13.320000</td>\n",
       "      <td>174.00000</td>\n",
       "    </tr>\n",
       "    <tr>\n",
       "      <th>75%</th>\n",
       "      <td>14.400000</td>\n",
       "      <td>177.00000</td>\n",
       "    </tr>\n",
       "    <tr>\n",
       "      <th>max</th>\n",
       "      <td>15.120000</td>\n",
       "      <td>186.00000</td>\n",
       "    </tr>\n",
       "  </tbody>\n",
       "</table>\n",
       "</div>"
      ],
      "text/plain": [
       "       max_speed  max_heartrate\n",
       "count   5.000000        5.00000\n",
       "mean   13.752000      170.40000\n",
       "std     0.998959       12.62141\n",
       "min    12.600000      156.00000\n",
       "25%    13.320000      159.00000\n",
       "50%    13.320000      174.00000\n",
       "75%    14.400000      177.00000\n",
       "max    15.120000      186.00000"
      ]
     },
     "execution_count": 52,
     "metadata": {},
     "output_type": "execute_result"
    }
   ],
   "source": [
    "df_runs_cleaned_summary = df_runs_cleaned.describe().get(\n",
    "    ['max_speed','max_heartrate'])\n",
    "df_runs_cleaned_summary"
   ]
  },
  {
   "cell_type": "markdown",
   "id": "dc81bcf2",
   "metadata": {},
   "source": [
    "To locate the outliers we will be using a supervised as well as unsupervised algorithm called the Elliptic Envelope. In statistical studies, Elliptic Envelope created an imaginary elliptical area around a given dataset where values inside that imaginary area is considered to be normal data, and anything else is assumed to be outliers. It assumes that the given Data follows a gaussian distribution.\n",
    "\n",
    "\"The main idea is to define the shape of the data and anomalies are those observations that lie far outside the shape. First a robust estimate of covariance of data is fitted into an ellipse around the central mode. Then, the Mahalanobis distance that is obtained from this estimate is used to define the threshold for determining outliers or anomalies.\" [(S. Shriram and E. Sivasankar ,2019, pp. 221-225)](https://ieeexplore.ieee.org/document/9004325)"
   ]
  },
  {
   "cell_type": "code",
   "execution_count": 53,
   "id": "78697539",
   "metadata": {},
   "outputs": [
    {
     "name": "stdout",
     "output_type": "stream",
     "text": [
      "1     4\n",
      "-1    1\n",
      "Name: outlier, dtype: int64\n"
     ]
    },
    {
     "name": "stderr",
     "output_type": "stream",
     "text": [
      "/Users/saarth/opt/anaconda3/lib/python3.9/site-packages/sklearn/base.py:441: UserWarning: X does not have valid feature names, but EllipticEnvelope was fitted with feature names\n",
      "  warnings.warn(\n",
      "/Users/saarth/opt/anaconda3/lib/python3.9/site-packages/sklearn/base.py:441: UserWarning: X does not have valid feature names, but EllipticEnvelope was fitted with feature names\n",
      "  warnings.warn(\n"
     ]
    }
   ],
   "source": [
    "from sklearn.covariance import EllipticEnvelope\n",
    "\n",
    "#create the model, set the contamination as 0.02\n",
    "EE_model = EllipticEnvelope(contamination = 0.02)\n",
    "\n",
    "#implement the model on the data\n",
    "outliers = EE_model.fit_predict(df_runs_cleaned[[\"max_speed\", \"max_heartrate\"]])\n",
    "\n",
    "#extract the labels\n",
    "df_runs_cleaned[\"outlier\"] = outliers\n",
    "\n",
    "#change the labels\n",
    "# We use -1 to mark an outlier and +1 for an inliner\n",
    "df_runs_cleaned[\"outlier\"] = df_runs_cleaned[\"outlier\"].apply(\n",
    "    lambda x: str(-1) if x == -1 else str(1))\n",
    "\n",
    "#extract the score\n",
    "df_runs_cleaned[\"EE_scores\"] = EE_model.score_samples(\n",
    "    df_runs_cleaned[[\"max_speed\", \"max_heartrate\"]])\n",
    "\n",
    "#print the value counts for inlier and outliers\n",
    "print(df_runs_cleaned[\"outlier\"].value_counts())"
   ]
  },
  {
   "cell_type": "markdown",
   "id": "19ce0fd8",
   "metadata": {},
   "source": [
    "Below we will replot the df_runs_cleaned dataframe to see how the two new columns were applied to it!"
   ]
  },
  {
   "cell_type": "code",
   "execution_count": 54,
   "id": "f292c728",
   "metadata": {},
   "outputs": [
    {
     "data": {
      "text/html": [
       "<div>\n",
       "<style scoped>\n",
       "    .dataframe tbody tr th:only-of-type {\n",
       "        vertical-align: middle;\n",
       "    }\n",
       "\n",
       "    .dataframe tbody tr th {\n",
       "        vertical-align: top;\n",
       "    }\n",
       "\n",
       "    .dataframe thead th {\n",
       "        text-align: right;\n",
       "    }\n",
       "</style>\n",
       "<table border=\"1\" class=\"dataframe\">\n",
       "  <thead>\n",
       "    <tr style=\"text-align: right;\">\n",
       "      <th></th>\n",
       "      <th>max_speed</th>\n",
       "      <th>max_heartrate</th>\n",
       "      <th>outlier</th>\n",
       "      <th>EE_scores</th>\n",
       "    </tr>\n",
       "  </thead>\n",
       "  <tbody>\n",
       "    <tr>\n",
       "      <th>0</th>\n",
       "      <td>13.32</td>\n",
       "      <td>177.0</td>\n",
       "      <td>1</td>\n",
       "      <td>-0.236364</td>\n",
       "    </tr>\n",
       "    <tr>\n",
       "      <th>1</th>\n",
       "      <td>14.40</td>\n",
       "      <td>186.0</td>\n",
       "      <td>1</td>\n",
       "      <td>-2.624880</td>\n",
       "    </tr>\n",
       "    <tr>\n",
       "      <th>2</th>\n",
       "      <td>15.12</td>\n",
       "      <td>159.0</td>\n",
       "      <td>-1</td>\n",
       "      <td>-15.545455</td>\n",
       "    </tr>\n",
       "    <tr>\n",
       "      <th>3</th>\n",
       "      <td>13.32</td>\n",
       "      <td>156.0</td>\n",
       "      <td>1</td>\n",
       "      <td>-2.982775</td>\n",
       "    </tr>\n",
       "    <tr>\n",
       "      <th>4</th>\n",
       "      <td>12.60</td>\n",
       "      <td>174.0</td>\n",
       "      <td>1</td>\n",
       "      <td>-2.155981</td>\n",
       "    </tr>\n",
       "  </tbody>\n",
       "</table>\n",
       "</div>"
      ],
      "text/plain": [
       "   max_speed  max_heartrate outlier  EE_scores\n",
       "0      13.32          177.0       1  -0.236364\n",
       "1      14.40          186.0       1  -2.624880\n",
       "2      15.12          159.0      -1 -15.545455\n",
       "3      13.32          156.0       1  -2.982775\n",
       "4      12.60          174.0       1  -2.155981"
      ]
     },
     "execution_count": 54,
     "metadata": {},
     "output_type": "execute_result"
    }
   ],
   "source": [
    "df_runs_cleaned"
   ]
  },
  {
   "cell_type": "markdown",
   "id": "01de6e15",
   "metadata": {},
   "source": [
    "Now that we have labeled the outliers as -1, let's try to see which values of max heartrate and max speed are being considered as outliers by our Elliptic Envelope Algorithm."
   ]
  },
  {
   "cell_type": "code",
   "execution_count": 55,
   "id": "62439842",
   "metadata": {},
   "outputs": [
    {
     "data": {
      "text/html": [
       "<div>\n",
       "<style scoped>\n",
       "    .dataframe tbody tr th:only-of-type {\n",
       "        vertical-align: middle;\n",
       "    }\n",
       "\n",
       "    .dataframe tbody tr th {\n",
       "        vertical-align: top;\n",
       "    }\n",
       "\n",
       "    .dataframe thead th {\n",
       "        text-align: right;\n",
       "    }\n",
       "</style>\n",
       "<table border=\"1\" class=\"dataframe\">\n",
       "  <thead>\n",
       "    <tr style=\"text-align: right;\">\n",
       "      <th></th>\n",
       "      <th>max_heartrate</th>\n",
       "      <th>max_speed</th>\n",
       "    </tr>\n",
       "  </thead>\n",
       "  <tbody>\n",
       "    <tr>\n",
       "      <th>2</th>\n",
       "      <td>159.0</td>\n",
       "      <td>15.12</td>\n",
       "    </tr>\n",
       "  </tbody>\n",
       "</table>\n",
       "</div>"
      ],
      "text/plain": [
       "   max_heartrate  max_speed\n",
       "2          159.0      15.12"
      ]
     },
     "execution_count": 55,
     "metadata": {},
     "output_type": "execute_result"
    }
   ],
   "source": [
    "outlier_df = df_runs_cleaned[df_runs_cleaned.get('outlier')=='-1'].get(\n",
    "    ['max_heartrate','max_speed'])\n",
    "outlier_df"
   ]
  },
  {
   "cell_type": "markdown",
   "id": "f29ca36a",
   "metadata": {},
   "source": [
    "Using the dataframe above, we can highlight these outlier values in our original scatterplot in order to visually asses which pair/s of max speed and max heart rate values are not following the general trend seen in our scatterplot."
   ]
  },
  {
   "cell_type": "code",
   "execution_count": 56,
   "id": "ef579e0c",
   "metadata": {},
   "outputs": [
    {
     "data": {
      "text/html": [
       "<div>\n",
       "<style scoped>\n",
       "    .dataframe tbody tr th:only-of-type {\n",
       "        vertical-align: middle;\n",
       "    }\n",
       "\n",
       "    .dataframe tbody tr th {\n",
       "        vertical-align: top;\n",
       "    }\n",
       "\n",
       "    .dataframe thead th {\n",
       "        text-align: right;\n",
       "    }\n",
       "</style>\n",
       "<table border=\"1\" class=\"dataframe\">\n",
       "  <thead>\n",
       "    <tr style=\"text-align: right;\">\n",
       "      <th></th>\n",
       "      <th>max_speed</th>\n",
       "      <th>max_heartrate</th>\n",
       "      <th>outlier</th>\n",
       "      <th>EE_scores</th>\n",
       "    </tr>\n",
       "  </thead>\n",
       "  <tbody>\n",
       "    <tr>\n",
       "      <th>0</th>\n",
       "      <td>13.32</td>\n",
       "      <td>177.0</td>\n",
       "      <td>1</td>\n",
       "      <td>-0.236364</td>\n",
       "    </tr>\n",
       "    <tr>\n",
       "      <th>1</th>\n",
       "      <td>14.40</td>\n",
       "      <td>186.0</td>\n",
       "      <td>1</td>\n",
       "      <td>-2.624880</td>\n",
       "    </tr>\n",
       "    <tr>\n",
       "      <th>3</th>\n",
       "      <td>13.32</td>\n",
       "      <td>156.0</td>\n",
       "      <td>1</td>\n",
       "      <td>-2.982775</td>\n",
       "    </tr>\n",
       "    <tr>\n",
       "      <th>4</th>\n",
       "      <td>12.60</td>\n",
       "      <td>174.0</td>\n",
       "      <td>1</td>\n",
       "      <td>-2.155981</td>\n",
       "    </tr>\n",
       "  </tbody>\n",
       "</table>\n",
       "</div>"
      ],
      "text/plain": [
       "   max_speed  max_heartrate outlier  EE_scores\n",
       "0      13.32          177.0       1  -0.236364\n",
       "1      14.40          186.0       1  -2.624880\n",
       "3      13.32          156.0       1  -2.982775\n",
       "4      12.60          174.0       1  -2.155981"
      ]
     },
     "execution_count": 56,
     "metadata": {},
     "output_type": "execute_result"
    }
   ],
   "source": [
    "df_runs_cleaned.drop(outlier_df.index)"
   ]
  },
  {
   "cell_type": "code",
   "execution_count": 57,
   "id": "d2cd4290",
   "metadata": {},
   "outputs": [
    {
     "data": {
      "text/plain": [
       "<matplotlib.collections.PathCollection at 0x7f851e001a90>"
      ]
     },
     "execution_count": 57,
     "metadata": {},
     "output_type": "execute_result"
    },
    {
     "data": {
      "image/png": "[encoded data removed]",
      "text/plain": [
       "<Figure size 1600x800 with 1 Axes>"
      ]
     },
     "metadata": {},
     "output_type": "display_data"
    }
   ],
   "source": [
    "# Setting Figure Size in Seaborn\n",
    "sns.set(rc={'figure.figsize':(16,8)})\n",
    "\n",
    "# Setting Seaborn plot style\n",
    "sns.set_style(\"darkgrid\")\n",
    "\n",
    "# Plotting our data\n",
    "# We will calculate the regression line while not accounting for our outliers\n",
    "plot = sns.regplot(data=df_runs_cleaned.drop(outlier_df.index), x=\"max_speed\",\n",
    "                   y=\"max_heartrate\")\n",
    "\n",
    "#Renaming x and y labels\n",
    "plot.set_ylabel(\"Maximum Heart Rate (bpm)\", fontsize = 16)\n",
    "plot.set_xlabel(\"Maximum Speed (km/hr)\", fontsize = 16)\n",
    "\n",
    "# Plotting the outlier and highlighting it\n",
    "plt.scatter(outlier_df.get('max_speed'),outlier_df.get('max_heartrate'))\n",
    "plt.scatter(outlier_df.get('max_speed'),outlier_df.get('max_heartrate'),\n",
    "            facecolors='red',alpha=.35, s=500)"
   ]
  },
  {
   "cell_type": "markdown",
   "id": "d6eb9511",
   "metadata": {},
   "source": [
    "Thus, the points highlighted in red are ones that seem to not be following the general trend of our dataset. Lastly, let's see what the new p-value is after outlier removal!"
   ]
  },
  {
   "cell_type": "code",
   "execution_count": 58,
   "id": "44d7a7e7",
   "metadata": {},
   "outputs": [
    {
     "name": "stdout",
     "output_type": "stream",
     "text": [
      "Slope: 8.01\n",
      "Coefficient of determination: 0.223\n",
      "p-value: 0.528\n"
     ]
    }
   ],
   "source": [
    "slope, intercept, r_value, p_value, std_err = stats.linregress(\n",
    "    df_runs_cleaned.drop(outlier_df.index).get('max_speed'), \n",
    "    df_runs_cleaned.drop(outlier_df.index).get('max_heartrate'))\n",
    "\n",
    "print(f'Slope: {slope:.3g}')\n",
    "print(f'Coefficient of determination: {r_value**2:.3g}')\n",
    "print(f'p-value: {p_value:.3g}')"
   ]
  },
  {
   "cell_type": "markdown",
   "id": "b07fd314",
   "metadata": {},
   "source": [
    "Our new p-value after removing any outliers is 77.8% which is more than  30%. Therefore, after removing the outliers, our result is statistically less significant which means that there is not enough evidence to conclude that that there is a correlation between maximum speed and the maximum heart rate."
   ]
  }
 ],
 "metadata": {
  "kernelspec": {
   "display_name": "Python 3 (ipykernel)",
   "language": "python",
   "name": "python3"
  },
  "language_info": {
   "codemirror_mode": {
    "name": "ipython",
    "version": 3
   },
   "file_extension": ".py",
   "mimetype": "text/x-python",
   "name": "python",
   "nbconvert_exporter": "python",
   "pygments_lexer": "ipython3",
   "version": "3.9.13"
  }
 },
 "nbformat": 4,
 "nbformat_minor": 5
}
