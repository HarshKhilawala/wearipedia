{
  "nbformat": 4,
  "nbformat_minor": 0,
  "metadata": {
    "colab": {
      "provenance": []
    },
    "kernelspec": {
      "name": "python3",
      "display_name": "Python 3"
    },
    "language_info": {
      "name": "python"
    }
  },
  "cells": [
    {
      "cell_type": "markdown",
      "source": [
        "# Guide to Extracting Data w/ APIs from Strava"
      ],
      "metadata": {
        "id": "iYgKx580waCB"
      }
    },
    {
      "cell_type": "markdown",
      "source": [
        "\n",
        "<img src='https://i.imgur.com/jneRMpU.jpg' height=\"500\"> "
      ],
      "metadata": {
        "id": "T2QaPgxBwj41"
      }
    },
    {
      "cell_type": "markdown",
      "source": [
        "A picture of the Strava Mobile Application\n",
        "\n",
        "\n",
        "\n",
        "\n",
        "\n"
      ],
      "metadata": {
        "id": "uG9KBJQ0wuX5"
      }
    },
    {
      "cell_type": "markdown",
      "source": [
        "Strava is often regarded as the “social network for athletes.” It lets you track your running and riding with GPS, join Challenges, share photos from your activities, and follow friends. <br>\n",
        "\n",
        "Strava follows a fremium model offering a digital service accessible through its mobile applications (iOS and Android). Users also have an option to upgrade and unlock more advanced features like Custom Goals, Training Plans, Race Analysis, etc for a monthly fee of $5-8. <br>\n",
        "\n",
        "We've been using the strava application for the past few weeks and we will show you how to extract its data, visualize your runs and compute correlations between multiple metrics of the data. The Strava API allows the users to extract all sorts of data on athletes, segments, routes, clubs, and gear. However, for this notebook we will be focusing on metrics of the participant's activities like dates, speed, elevation, duration, etc.\n",
        "\n"
      ],
      "metadata": {
        "id": "Qd1o2Q3g0568"
      }
    },
    {
      "cell_type": "markdown",
      "source": [
        "We will be able to extract the following parameters:\n",
        "\n",
        "Parameter Name  | Sampling Frequency \n",
        "-------------------|-----------------\n",
        "Moving Time |  Per Activity \n",
        "Elapsed Time |  Per Activity \n",
        "Average Speed |  Per Activity \n",
        "Maximum Speed |  Per Activity \n",
        "Average Cadence |  Per Activity\n",
        "Maximum Cadence |  Per Activity\n",
        "Average Watts |  Per Activity\n",
        "Maximum Watts |  Per Activity\n",
        "Average Heart Rate |  Per Activity\n",
        "Maximum Heartrate |  Per Activity\n",
        "Distance      |  Records every change in user's position\n",
        "Polyline Summary |  Records every change in user's position\n",
        "Total Elevation Gain |  Sampling Frequency depends upon user's fitness tracker\n",
        "Heart Rate  | Sampling Frequency depends upon user's fitness tracker"
      ],
      "metadata": {
        "id": "1Hi86gefNnWz"
      }
    },
    {
      "cell_type": "markdown",
      "source": [
        "In this guide, we sequentially cover the following **five** topics to extract data from the Strava API:\n",
        "\n",
        "1. **Set up**<br>\n",
        "   - 1.1 Setup and usage guidelines for the participant. <br>\n",
        "   - 1.2 Library imports <br>\n",
        "2. **Authentication/Authorization**<br>\n",
        "   - 2.1 Usage and Authentication guidelines for the researcher.<br>\n",
        "3. **Data extraction**<br>\n",
        "  - 3.1 Extracting Data from the Strava API<br>\n",
        "4. **Data visualization & analysis** <br>\n",
        "  - 4.1 Visualizing participant's Overall Activity! <br>\n",
        "  - 4.2 Visualizing participant's Weekly Summary! <br>\n",
        "  - 4.3 Visualizing Participant's Runs! <br>\n",
        "5. **Data Analysis** <br>\n",
        "  - 5.1 Analyzing correlation between Participant's data! <br>\n",
        "  - 5.2 Highlighting Outliers!\n",
        "\n",
        "Note that we are not making any scientific claims here as our sample size is small and the data collection process was not rigorously vetted (it is our own data), only demonstrating that this code could potentially be used to perform rigorous analyses in the future.\n"
      ],
      "metadata": {
        "id": "6RzpU0u_2yBX"
      }
    },
    {
      "cell_type": "markdown",
      "source": [
        "#1. Set up"
      ],
      "metadata": {
        "id": "R6XiUPm43Bez"
      }
    },
    {
      "cell_type": "markdown",
      "source": [
        "##1.1 Setup and usage, participant"
      ],
      "metadata": {
        "id": "Dz578_NF4oeu"
      }
    },
    {
      "cell_type": "markdown",
      "source": [
        "Note: These steps are to be followed by the participants from their account to grant the researcher with the access token."
      ],
      "metadata": {
        "id": "a2R-X1UE4xfm"
      }
    },
    {
      "cell_type": "markdown",
      "source": [
        "Step 1: Make sure that the your coros watch is connected to your strava account. Next, go to https://developers.strava.com/ "
      ],
      "metadata": {
        "id": "u6djlPlq4z2C"
      }
    },
    {
      "cell_type": "markdown",
      "source": [
        "Step 2: Click on \"Create and Manage your App\"\n",
        "\n",
        "<img src='https://i.imgur.com/nBdQDR6.png' width=\"850\" height=\"500\">\n"
      ],
      "metadata": {
        "id": "xPt8mfN4416u"
      }
    },
    {
      "cell_type": "markdown",
      "source": [
        "Step 3: Strava will prompt you to login. Make sure to login with the account that participants have been using to record their runs"
      ],
      "metadata": {
        "id": "PGlHy-v744lY"
      }
    },
    {
      "cell_type": "markdown",
      "source": [
        "Step 4: Fill out your details:<br>\n",
        "Here's an example with some dummy information! <br>\n",
        "<img src='https://i.imgur.com/O9jRXQQ.png' width=\"450\" height=\"400\">\n"
      ],
      "metadata": {
        "id": "j4qNGxXf47MI"
      }
    },
    {
      "cell_type": "markdown",
      "source": [
        "Step 5: Next, Strava will ask you to upload a app icon. I personally uploaded the Strava logo in the option. <br>\n",
        "<img src='https://i.imgur.com/wQHGyL2.png' width=\"600\" height=\"400\"> <br> Copy and crop the Image to your preference and hit save! <br>\n",
        "<img src='https://i.imgur.com/kKodoZm.png' width=\"600\" height=\"400\">\n"
      ],
      "metadata": {
        "id": "zUtg9e1c49Pm"
      }
    },
    {
      "cell_type": "markdown",
      "source": [
        "Step 6: You're done! <br>\n",
        "<img src='https://i.imgur.com/Svm3FV8.png' width=\"600\" height=\"400\"> <br>\n",
        "Copy and paste your your client ID, Client Token and Refresh token in the box below and give it to the researcher.\n",
        "\n"
      ],
      "metadata": {
        "id": "zhGUcNLW4_pV"
      }
    },
    {
      "cell_type": "markdown",
      "source": [
        "## 1.2 Library imports"
      ],
      "metadata": {
        "id": "AoUVPRaazZFL"
      }
    },
    {
      "cell_type": "markdown",
      "source": [
        "Relevant libraries are imported below. Just run the code to import all the libraries."
      ],
      "metadata": {
        "id": "PeQ-LzWMzjEi"
      }
    },
    {
      "cell_type": "code",
      "source": [
        "### Note: if the cell below says that polyline is missing then uncomment the line below and run it!\n",
        "!pip install polyline"
      ],
      "metadata": {
        "id": "eXDOPOuFuGei",
        "colab": {
          "base_uri": "https://localhost:8080/"
        },
        "outputId": "fbb49115-ebd7-4277-b2fc-e970b88076e8"
      },
      "execution_count": null,
      "outputs": [
        {
          "output_type": "stream",
          "name": "stdout",
          "text": [
            "Looking in indexes: https://pypi.org/simple, https://us-python.pkg.dev/colab-wheels/public/simple/\n",
            "Collecting polyline\n",
            "  Downloading polyline-1.4.0-py2.py3-none-any.whl (4.4 kB)\n",
            "Requirement already satisfied: six>=1.8.0 in /usr/local/lib/python3.8/dist-packages (from polyline) (1.15.0)\n",
            "Installing collected packages: polyline\n",
            "Successfully installed polyline-1.4.0\n"
          ]
        }
      ]
    },
    {
      "cell_type": "code",
      "execution_count": null,
      "metadata": {
        "id": "JjwekdmYwTw1"
      },
      "outputs": [],
      "source": [
        "import requests\n",
        "import urllib3\n",
        "import os\n",
        "import json\n",
        "import httplib2\n",
        "import requests\n",
        "import datetime\n",
        "import matplotlib.pyplot as plt\n",
        "import matplotlib\n",
        "import numpy as np\n",
        "import pandas as pd\n",
        "from datetime import datetime\n",
        "from pandas.io.json import json_normalize\n",
        "import time\n",
        "from datetime import datetime, timedelta, date\n",
        "from apiclient.discovery import build\n",
        "from oauth2client.client import OAuth2WebServerFlow, flow_from_clientsecrets\n",
        "from oauth2client.file import Storage\n",
        "import polyline\n",
        "import folium\n",
        "from sklearn.covariance import EllipticEnvelope\n",
        "import seaborn as sns"
      ]
    },
    {
      "cell_type": "markdown",
      "source": [
        "#2. Authentication/Authorization\n",
        "To obtain access to data, authorization is required."
      ],
      "metadata": {
        "id": "FrK8YvVa4fdR"
      }
    },
    {
      "cell_type": "markdown",
      "source": [
        "STRAVA is used to extract recorded activities, but it requires the participant to allow third-party access to STRAVA and record activities on their device."
      ],
      "metadata": {
        "id": "xn8bJg194lWu"
      }
    },
    {
      "cell_type": "markdown",
      "source": [
        "##2.1 Setup and usage, researcher"
      ],
      "metadata": {
        "id": "VNOjXCWy5G7r"
      }
    },
    {
      "cell_type": "code",
      "source": [
        "#@title Enter paricipant's Client ID, Client Secret and Refresh Token\n",
        "\n",
        "client_id = '83434' #@param {type:\"string\"}\n",
        "client_secret = '915c245ef1949c64e9a1e01dfa7a52f78bc4628c' #@param {type:\"string\"}\n",
        "refresh_token = '7c7c2b4ff166f43e7a0d7329a60c379419623766' #@param {type:\"string\"}\n",
        "\n",
        "print('Client ID: '+client_id)\n",
        "print('Client Secret: '+client_secret)\n",
        "print('Refresh Token: '+refresh_token)"
      ],
      "metadata": {
        "colab": {
          "base_uri": "https://localhost:8080/"
        },
        "id": "3_JA3-rt4eYA",
        "outputId": "034cc5a0-1edc-457a-8e32-396ae05dc77b"
      },
      "execution_count": null,
      "outputs": [
        {
          "output_type": "stream",
          "name": "stdout",
          "text": [
            "Client ID: 83434\n",
            "Client Secret: 915c245ef1949c64e9a1e01dfa7a52f78bc4628c\n",
            "Refresh Token: 7c7c2b4ff166f43e7a0d7329a60c379419623766\n"
          ]
        }
      ]
    },
    {
      "cell_type": "markdown",
      "source": [
        "#3. Data extraction"
      ],
      "metadata": {
        "id": "BKA13wNI5UCB"
      }
    },
    {
      "cell_type": "markdown",
      "source": [
        "Strava's data can be extracted via an [official API](https://developers.strava.com/), which is documented [here](https://developers.strava.com/docs/reference/).<br><br>\n",
        "\n",
        "We will go into a bit of detail as to how this works below. This is not strictly necessary for extracting your data once, but it can be necessary if you want to extend this notebook for your own usage. <br><br>\n",
        "\n",
        "Below, the first figure shows how data is uploaded to Strava servers. Strava offers three ways to record an activity: <br>\n",
        "1) Entering data manually <br>\n",
        "2) Recording your run with the Strava app using your phone's GPS location. <br> \n",
        "3) Syncing the data recorded by a fitness tracker, likely a GPS-based smartwatch<br><br>\n",
        "\n",
        "As your phone is synced with Strava, your data gets automatically pushed on to Strava's servers. <br><br>\n",
        "\n",
        "<img src=\"https://i.imgur.com/Ve5xs2i.png\" height=\"500\">"
      ],
      "metadata": {
        "id": "WMoHoSr35XIW"
      }
    },
    {
      "cell_type": "markdown",
      "source": [
        "The next few lines create a post request to the Strava API and requests your data"
      ],
      "metadata": {
        "id": "37joS7LU5XF-"
      }
    },
    {
      "cell_type": "code",
      "source": [
        "urllib3.disable_warnings(urllib3.exceptions.InsecureRequestWarning)\n",
        "\n",
        "# The auth_url specifies the URL to the endpoint that authenticates user credentials\n",
        "auth_url = \"https://www.strava.com/oauth/token\"\n",
        "# URL to access all of participant's activities.\n",
        "activites_url = \"https://www.strava.com/api/v3/athlete/activities\"\n",
        "\n",
        "#payload sends the user's credentials to the API during POST request\n",
        "payload = {\n",
        "    'client_id': client_id,\n",
        "    'client_secret': client_secret,\n",
        "    'refresh_token': refresh_token,\n",
        "    'grant_type': \"refresh_token\",\n",
        "    'f': 'json'\n",
        "}\n",
        "\n",
        "print(\"Requesting Token...\\n\")\n",
        "#POST request to get the participant's ACCESS TOKEN\n",
        "res = requests.post(auth_url, data=payload, verify=False)\n",
        "# saving the participant's ACCESS TOKEN\n",
        "access_token = res.json()['access_token']\n",
        "print(\"Access Token = {}\\n\".format(access_token))\n",
        "\n",
        "#Header that sends the Access Token in the GET request\n",
        "header = {'Authorization': 'Bearer ' + access_token}\n",
        "param = {'per_page': 200, 'page': 1}\n",
        "#GET request to get all your activities from the API\n",
        "my_dataset = requests.get(activites_url, headers=header, params=param).json()"
      ],
      "metadata": {
        "colab": {
          "base_uri": "https://localhost:8080/"
        },
        "id": "rmWcitvS5KaB",
        "outputId": "5ac667cb-7f07-402a-ee83-e40c4ddb2948"
      },
      "execution_count": null,
      "outputs": [
        {
          "output_type": "stream",
          "name": "stdout",
          "text": [
            "Requesting Token...\n",
            "\n",
            "Access Token = 9ad3c5dd8ec6bbde877008818b1d20890f268bbf\n",
            "\n"
          ]
        }
      ]
    },
    {
      "cell_type": "code",
      "source": [
        "my_dataset"
      ],
      "metadata": {
        "colab": {
          "base_uri": "https://localhost:8080/"
        },
        "id": "Nx_zNI4udqHF",
        "outputId": "3a3b1821-9dd3-4e19-897f-2c154ea129e7"
      },
      "execution_count": null,
      "outputs": [
        {
          "output_type": "execute_result",
          "data": {
            "text/plain": [
              "[{'resource_state': 2,\n",
              "  'athlete': {'id': 102185603, 'resource_state': 1},\n",
              "  'name': 'Lunch Ride',\n",
              "  'distance': 0.0,\n",
              "  'moving_time': 185,\n",
              "  'elapsed_time': 185,\n",
              "  'total_elevation_gain': 0,\n",
              "  'type': 'Ride',\n",
              "  'sport_type': 'Ride',\n",
              "  'workout_type': None,\n",
              "  'id': 8228598438,\n",
              "  'start_date': '2022-12-09T19:24:04Z',\n",
              "  'start_date_local': '2022-12-09T11:24:04Z',\n",
              "  'timezone': '(GMT-08:00) PST8PDT',\n",
              "  'utc_offset': -28800.0,\n",
              "  'location_city': None,\n",
              "  'location_state': None,\n",
              "  'location_country': None,\n",
              "  'achievement_count': 0,\n",
              "  'kudos_count': 0,\n",
              "  'comment_count': 0,\n",
              "  'athlete_count': 1,\n",
              "  'photo_count': 0,\n",
              "  'map': {'id': 'a8228598438', 'summary_polyline': '', 'resource_state': 2},\n",
              "  'trainer': True,\n",
              "  'commute': False,\n",
              "  'manual': False,\n",
              "  'private': False,\n",
              "  'visibility': 'everyone',\n",
              "  'flagged': False,\n",
              "  'gear_id': None,\n",
              "  'start_latlng': [],\n",
              "  'end_latlng': [],\n",
              "  'average_speed': 0.0,\n",
              "  'max_speed': 0.0,\n",
              "  'has_heartrate': True,\n",
              "  'average_heartrate': 124.5,\n",
              "  'max_heartrate': 164.0,\n",
              "  'heartrate_opt_out': False,\n",
              "  'display_hide_heartrate_option': True,\n",
              "  'upload_id': 8817478974,\n",
              "  'upload_id_str': '8817478974',\n",
              "  'external_id': '448452049416257536.fit',\n",
              "  'from_accepted_tag': False,\n",
              "  'pr_count': 0,\n",
              "  'total_photo_count': 0,\n",
              "  'has_kudoed': False},\n",
              " {'resource_state': 2,\n",
              "  'athlete': {'id': 102185603, 'resource_state': 1},\n",
              "  'name': 'Evening Ride',\n",
              "  'distance': 261.2,\n",
              "  'moving_time': 117,\n",
              "  'elapsed_time': 798,\n",
              "  'total_elevation_gain': 0.0,\n",
              "  'type': 'Ride',\n",
              "  'sport_type': 'Ride',\n",
              "  'workout_type': None,\n",
              "  'id': 7834503495,\n",
              "  'start_date': '2022-09-19T16:58:24Z',\n",
              "  'start_date_local': '2022-09-19T18:58:24Z',\n",
              "  'timezone': '(GMT+01:00) Europe/Copenhagen',\n",
              "  'utc_offset': 7200.0,\n",
              "  'location_city': None,\n",
              "  'location_state': None,\n",
              "  'location_country': None,\n",
              "  'achievement_count': 0,\n",
              "  'kudos_count': 0,\n",
              "  'comment_count': 0,\n",
              "  'athlete_count': 1,\n",
              "  'photo_count': 0,\n",
              "  'map': {'id': 'a7834503495',\n",
              "   'summary_polyline': 'mnzrIuwlkABDIw@CCAVCCNZr@p@LFIDFFb@NVRGBs@QWk@AF@NCAIDDNBCFJ',\n",
              "   'resource_state': 2},\n",
              "  'trainer': False,\n",
              "  'commute': False,\n",
              "  'manual': False,\n",
              "  'private': False,\n",
              "  'visibility': 'everyone',\n",
              "  'flagged': False,\n",
              "  'gear_id': None,\n",
              "  'start_latlng': [55.682474579662085, 12.522358568385243],\n",
              "  'end_latlng': [55.6822563149035, 12.521871998906136],\n",
              "  'average_speed': 2.233,\n",
              "  'max_speed': 5.4,\n",
              "  'has_heartrate': True,\n",
              "  'average_heartrate': 0.0,\n",
              "  'max_heartrate': 100.0,\n",
              "  'heartrate_opt_out': False,\n",
              "  'display_hide_heartrate_option': True,\n",
              "  'elev_high': 12.0,\n",
              "  'elev_low': 11.0,\n",
              "  'upload_id': 8370803399,\n",
              "  'upload_id_str': '8370803399',\n",
              "  'external_id': '446572212292452352.fit',\n",
              "  'from_accepted_tag': False,\n",
              "  'pr_count': 0,\n",
              "  'total_photo_count': 0,\n",
              "  'has_kudoed': False},\n",
              " {'resource_state': 2,\n",
              "  'athlete': {'id': 102185603, 'resource_state': 1},\n",
              "  'name': 'Morning Ride',\n",
              "  'distance': 7179.0,\n",
              "  'moving_time': 836,\n",
              "  'elapsed_time': 836,\n",
              "  'total_elevation_gain': 46.0,\n",
              "  'type': 'Ride',\n",
              "  'sport_type': 'Ride',\n",
              "  'workout_type': None,\n",
              "  'id': 7834503507,\n",
              "  'start_date': '2022-09-19T08:54:25Z',\n",
              "  'start_date_local': '2022-09-19T10:54:25Z',\n",
              "  'timezone': '(GMT+01:00) Europe/Copenhagen',\n",
              "  'utc_offset': 7200.0,\n",
              "  'location_city': None,\n",
              "  'location_state': None,\n",
              "  'location_country': None,\n",
              "  'achievement_count': 0,\n",
              "  'kudos_count': 0,\n",
              "  'comment_count': 0,\n",
              "  'athlete_count': 1,\n",
              "  'photo_count': 0,\n",
              "  'map': {'id': 'a7834503507',\n",
              "   'summary_polyline': 'urwrIkyriADxDGtB[zEM|@YrA{EdOgBzEaAvCoObg@cEjNs@xBEFI@KK}A}DuCmJ{@eDWiA[qCk@sIIcE]gHQgCUuBQaA[_AW{BQ_AcBoGgAsEi@cCwDwSWsBKuACwAAyG?{RDkGHiFJyC^wGzA{R^}FPkER_RZkh@Bq@BWFQHKLGjDi@pHuA|Dy@r@IvNZ|C@nINpBJNJJPHd@HbAv@bMnAnORnCbAdM~BvXRpCBfAAhBE`Ae@nEOnBaAxYi@dN_BlXGbCHjF',\n",
              "   'resource_state': 2},\n",
              "  'trainer': False,\n",
              "  'commute': False,\n",
              "  'manual': False,\n",
              "  'private': False,\n",
              "  'visibility': 'everyone',\n",
              "  'flagged': False,\n",
              "  'gear_id': None,\n",
              "  'start_latlng': [55.66779803484678, 12.22566694021225],\n",
              "  'end_latlng': [55.66774464212358, 12.224745266139507],\n",
              "  'average_speed': 8.587,\n",
              "  'max_speed': 11.8,\n",
              "  'has_heartrate': True,\n",
              "  'average_heartrate': 145.6,\n",
              "  'max_heartrate': 175.0,\n",
              "  'heartrate_opt_out': False,\n",
              "  'display_hide_heartrate_option': True,\n",
              "  'elev_high': 37.0,\n",
              "  'elev_low': 15.0,\n",
              "  'upload_id': 8370803393,\n",
              "  'upload_id_str': '8370803393',\n",
              "  'external_id': '446572211487145985.fit',\n",
              "  'from_accepted_tag': False,\n",
              "  'pr_count': 0,\n",
              "  'total_photo_count': 0,\n",
              "  'has_kudoed': False},\n",
              " {'resource_state': 2,\n",
              "  'athlete': {'id': 102185603, 'resource_state': 1},\n",
              "  'name': 'Morning Run',\n",
              "  'distance': 4530.4,\n",
              "  'moving_time': 1907,\n",
              "  'elapsed_time': 2450,\n",
              "  'total_elevation_gain': 16.0,\n",
              "  'type': 'Run',\n",
              "  'sport_type': 'Run',\n",
              "  'workout_type': None,\n",
              "  'id': 7795133796,\n",
              "  'start_date': '2022-05-21T16:16:08Z',\n",
              "  'start_date_local': '2022-05-21T09:16:08Z',\n",
              "  'timezone': '(GMT-08:00) America/Los_Angeles',\n",
              "  'utc_offset': -25200.0,\n",
              "  'location_city': None,\n",
              "  'location_state': None,\n",
              "  'location_country': None,\n",
              "  'achievement_count': 7,\n",
              "  'kudos_count': 0,\n",
              "  'comment_count': 0,\n",
              "  'athlete_count': 1,\n",
              "  'photo_count': 0,\n",
              "  'map': {'id': 'a7795133796',\n",
              "   'summary_polyline': 'gklcFdtshV@HIJMFO@u@Gs@SYA{@Oq@]]_@k@K_@S[KmAO]Ku@_@]C}Aa@]Os@c@cAIgASa@Cw@Wy@Kk@Og@Ky@E}Bi@u@YuA]Wo@ECi@PMl@CFMF[Oo@QMMOQw@Iy@UK@OJQHS?OKc@c@_A]MAg@@eBKcAD]AUC{@[OCS?WISDQPSf@HV@HCHIHe@TSV]p@Yt@_AfBKZ[j@FDhADbAHpAAp@D~@Cj@BRDb@Tt@Jt@PPCJMHUBSCUKQQM]Oc@GOIW[KWAM@[JYf@iAbAoBBSCEOGa@?iADc@GwAYWCODOVc@fAQPYPONg@jAi@~@[x@Yf@GRFNNJNDpAJf@AjDHd@Az@ZvAVP@JCPSBS?QGu@KMGAm@HSEQKOQKWGY@KHk@Na@h@iAbAcBNMr@Ip@Hx@HbBXbAVj@Xh@ZzAh@l@h@PENIPGPA\\\\NVBZLdBFd@Hl@TbAV`@Fh@T\\\\HR?XMTC|A^fAHtBh@n@HnAb@l@NTF^Br@Xd@X`@Fn@Pr@Jb@Bn@N~@NZJTD',\n",
              "   'resource_state': 2},\n",
              "  'trainer': False,\n",
              "  'commute': False,\n",
              "  'manual': False,\n",
              "  'private': False,\n",
              "  'visibility': 'everyone',\n",
              "  'flagged': False,\n",
              "  'gear_id': None,\n",
              "  'start_latlng': [37.424042550846934, -122.16658447869122],\n",
              "  'end_latlng': [37.42400089278817, -122.16650283895433],\n",
              "  'average_speed': 2.376,\n",
              "  'max_speed': 3.7,\n",
              "  'average_cadence': 77.0,\n",
              "  'average_watts': 195.3,\n",
              "  'max_watts': 285,\n",
              "  'weighted_average_watts': 191,\n",
              "  'kilojoules': 372.4,\n",
              "  'device_watts': True,\n",
              "  'has_heartrate': True,\n",
              "  'average_heartrate': 140.8,\n",
              "  'max_heartrate': 177.0,\n",
              "  'heartrate_opt_out': False,\n",
              "  'display_hide_heartrate_option': True,\n",
              "  'elev_high': 35.0,\n",
              "  'elev_low': 25.0,\n",
              "  'upload_id': 8326530177,\n",
              "  'upload_id_str': '8326530177',\n",
              "  'external_id': '446402098844696577.fit',\n",
              "  'from_accepted_tag': False,\n",
              "  'pr_count': 3,\n",
              "  'total_photo_count': 0,\n",
              "  'has_kudoed': False},\n",
              " {'resource_state': 2,\n",
              "  'athlete': {'id': 102185603, 'resource_state': 1},\n",
              "  'name': 'Afternoon Run',\n",
              "  'distance': 3647.7,\n",
              "  'moving_time': 1454,\n",
              "  'elapsed_time': 1468,\n",
              "  'total_elevation_gain': 18.0,\n",
              "  'type': 'Run',\n",
              "  'sport_type': 'Run',\n",
              "  'workout_type': None,\n",
              "  'id': 7795133787,\n",
              "  'start_date': '2022-05-20T21:52:46Z',\n",
              "  'start_date_local': '2022-05-20T14:52:46Z',\n",
              "  'timezone': '(GMT-08:00) America/Los_Angeles',\n",
              "  'utc_offset': -25200.0,\n",
              "  'location_city': None,\n",
              "  'location_state': None,\n",
              "  'location_country': None,\n",
              "  'achievement_count': 5,\n",
              "  'kudos_count': 0,\n",
              "  'comment_count': 0,\n",
              "  'athlete_count': 1,\n",
              "  'photo_count': 0,\n",
              "  'map': {'id': 'a7795133787',\n",
              "   'summary_polyline': 'mtlcFrqshVq@IKGIMEAqAW_@CgASSMiAWYIe@Im@WWQ]BYE]?i@O]GeA]UCYIUAaAWa@Ca@My@Ou@_@e@Qq@M]Ka@WQe@ECSLSHOt@e@f@o@f@c@j@QN[HyA`A]h@m@nAIHSJEDGVCDE@QCGEg@eAa@e@EQGe@Q_@_@a@qA_As@aAc@S]u@OIq@J_@?m@IOFOJ{AzC_@`Ak@z@C@ACd@_BVe@x@sBXk@TYh@]DGVk@Vg@ROVEXDrA\\\\^D^?j@ExA@|@B~@Hn@R`AJl@Xp@TjAd@z@Vb@P\\\\XHBN?f@QVAJBd@Jn@Vr@HfBb@n@RXD`AVpAVp@Xl@Lj@V@?@SNKXEZDt@RZN\\\\Br@NTJ~@VjBZd@Td@Nf@Hx@XxAPz@^xAZPJRVBBNq@',\n",
              "   'resource_state': 2},\n",
              "  'trainer': False,\n",
              "  'commute': False,\n",
              "  'manual': False,\n",
              "  'private': False,\n",
              "  'visibility': 'everyone',\n",
              "  'flagged': False,\n",
              "  'gear_id': None,\n",
              "  'start_latlng': [37.42551416158676, -122.1661710832268],\n",
              "  'end_latlng': [37.423544162884355, -122.16658950783312],\n",
              "  'average_speed': 2.509,\n",
              "  'max_speed': 4.0,\n",
              "  'average_cadence': 77.4,\n",
              "  'average_watts': 198.7,\n",
              "  'max_watts': 306,\n",
              "  'weighted_average_watts': 211,\n",
              "  'kilojoules': 288.8,\n",
              "  'device_watts': True,\n",
              "  'has_heartrate': True,\n",
              "  'average_heartrate': 153.7,\n",
              "  'max_heartrate': 186.0,\n",
              "  'heartrate_opt_out': False,\n",
              "  'display_hide_heartrate_option': True,\n",
              "  'elev_high': 37.0,\n",
              "  'elev_low': 19.0,\n",
              "  'upload_id': 8326530175,\n",
              "  'upload_id_str': '8326530175',\n",
              "  'external_id': '446402098844696576.fit',\n",
              "  'from_accepted_tag': False,\n",
              "  'pr_count': 4,\n",
              "  'total_photo_count': 0,\n",
              "  'has_kudoed': False},\n",
              " {'resource_state': 2,\n",
              "  'athlete': {'id': 102185603, 'resource_state': 1},\n",
              "  'name': 'Morning Run',\n",
              "  'distance': 4584.1,\n",
              "  'moving_time': 1994,\n",
              "  'elapsed_time': 2691,\n",
              "  'total_elevation_gain': 19.0,\n",
              "  'type': 'Run',\n",
              "  'sport_type': 'Run',\n",
              "  'workout_type': None,\n",
              "  'id': 7170552790,\n",
              "  'start_date': '2022-05-19T13:56:56Z',\n",
              "  'start_date_local': '2022-05-19T06:56:56Z',\n",
              "  'timezone': '(GMT-08:00) America/Los_Angeles',\n",
              "  'utc_offset': -25200.0,\n",
              "  'location_city': None,\n",
              "  'location_state': None,\n",
              "  'location_country': None,\n",
              "  'achievement_count': 5,\n",
              "  'kudos_count': 0,\n",
              "  'comment_count': 0,\n",
              "  'athlete_count': 1,\n",
              "  'photo_count': 0,\n",
              "  'map': {'id': 'a7170552790',\n",
              "   'summary_polyline': 'ailcF|lshVFKF]AEIG[AcAUi@G]Mg@?s@[i@Au@Ye@W_@M_A@OAa@K]CSIc@YcAOg@Ue@IIBGFA?g@b@a@pC]RYXK?cAWq@KYBQLG@UAc@GSBG?YG_@WWIa@Au@MgAWe@Oa@KM?[L_@Fg@d@MDI?IEGGKYECULg@PWVa@Zw@`@c@^ORm@vAMLYDSEK@]NICM[[e@Qi@EESCc@@c@HcB@iA`@WBmAEm@?m@EaAIk@SUASFSXUPEAGIIw@]o@OEm@V]?YQ}@aAOIE@APFpCBHGk@IkBEmBFYj@m@HSBa@?ICEODy@`@}@d@]f@_A~@iAxA^u@j@s@~BgCRKXIbAMh@QNAFHP|@JZNVRPPBZ?PC^OPAv@HVMN[DEF?NHV\\\\JHx@^b@L`@PfAn@PTLHb@FHBl@l@h@\\\\Vd@l@|@Tr@JJ|@Rb@@h@HTHRBb@Pj@FVAr@Rd@BbATZD|@Zx@Rd@FDBNVFDf@Pj@\\\\HB`@Fx@DH@PNh@TlB`@d@Pz@Tj@Pt@PtARpBf@vAd@bAP`@Bb@Pd@Fd@LR?HIF[Du@Jk@FQr@g@b@KDETs@Ze@P_@Fc@Ba@LW',\n",
              "   'resource_state': 2},\n",
              "  'trainer': False,\n",
              "  'commute': False,\n",
              "  'manual': False,\n",
              "  'private': False,\n",
              "  'visibility': 'everyone',\n",
              "  'flagged': False,\n",
              "  'gear_id': None,\n",
              "  'start_latlng': [37.42369587533176, -122.16542450711131],\n",
              "  'end_latlng': [37.42429920472205, -122.16696778312325],\n",
              "  'average_speed': 2.299,\n",
              "  'max_speed': 4.2,\n",
              "  'average_cadence': 78.4,\n",
              "  'average_watts': 185.7,\n",
              "  'max_watts': 294,\n",
              "  'weighted_average_watts': 185,\n",
              "  'kilojoules': 370.2,\n",
              "  'device_watts': True,\n",
              "  'has_heartrate': True,\n",
              "  'average_heartrate': 144.7,\n",
              "  'max_heartrate': 159.0,\n",
              "  'heartrate_opt_out': False,\n",
              "  'display_hide_heartrate_option': True,\n",
              "  'elev_high': 29.0,\n",
              "  'elev_low': 16.0,\n",
              "  'upload_id': 7635287114,\n",
              "  'upload_id_str': '7635287114',\n",
              "  'external_id': '443720809006006272.fit',\n",
              "  'from_accepted_tag': False,\n",
              "  'pr_count': 1,\n",
              "  'total_photo_count': 0,\n",
              "  'has_kudoed': False},\n",
              " {'resource_state': 2,\n",
              "  'athlete': {'id': 102185603, 'resource_state': 1},\n",
              "  'name': 'Morning Run',\n",
              "  'distance': 2898.4,\n",
              "  'moving_time': 1252,\n",
              "  'elapsed_time': 1268,\n",
              "  'total_elevation_gain': 21.0,\n",
              "  'type': 'Run',\n",
              "  'sport_type': 'Run',\n",
              "  'workout_type': None,\n",
              "  'id': 7154793821,\n",
              "  'start_date': '2022-05-16T15:40:51Z',\n",
              "  'start_date_local': '2022-05-16T08:40:51Z',\n",
              "  'timezone': '(GMT-08:00) America/Los_Angeles',\n",
              "  'utc_offset': -25200.0,\n",
              "  'location_city': None,\n",
              "  'location_state': None,\n",
              "  'location_country': None,\n",
              "  'achievement_count': 1,\n",
              "  'kudos_count': 0,\n",
              "  'comment_count': 0,\n",
              "  'athlete_count': 1,\n",
              "  'photo_count': 0,\n",
              "  'map': {'id': 'a7154793821',\n",
              "   'summary_polyline': 'ovlcFhrshVy@GmAWa@CUIQMQUGS?GTm@D[J]Fk@JUBQ?]ISMKSMg@M_@]]Mk@@{@IUOOGYE{@SUCi@SUEw@o@mAUECCOH]l@}@\\\\o@AEYe@YYSe@USC?CDK^o@zAa@h@_@^{@r@e@X[XO^[n@IHg@^a@HKHUh@GHIBI?]Ow@MIAIBGD?RNl@Af@ELEFSPI@AADG^OX_@l@]ZULULEHBT`@HFTCTOHCJ@PAXF\\\\ANHJLXLNBZ@\\\\LlA\\\\VDXJd@BVHV@b@Td@NdANLE\\\\QHAh@BBCBU@e@Fg@Ru@DM\\\\S^e@PGj@Df@Fx@Vd@Zf@Ln@?^Dh@LZ?h@TrAX`BNbCl@^DFDLP@HCh@Uz@Cf@IPYb@',\n",
              "   'resource_state': 2},\n",
              "  'trainer': False,\n",
              "  'commute': False,\n",
              "  'manual': False,\n",
              "  'private': False,\n",
              "  'visibility': 'everyone',\n",
              "  'flagged': False,\n",
              "  'gear_id': None,\n",
              "  'start_latlng': [37.42584256455302, -122.16628449037671],\n",
              "  'end_latlng': [37.4238941911608, -122.16631785035133],\n",
              "  'average_speed': 2.315,\n",
              "  'max_speed': 4.3,\n",
              "  'average_cadence': 75.0,\n",
              "  'average_watts': 189.0,\n",
              "  'max_watts': 282,\n",
              "  'weighted_average_watts': 194,\n",
              "  'kilojoules': 236.7,\n",
              "  'device_watts': True,\n",
              "  'has_heartrate': True,\n",
              "  'average_heartrate': 145.3,\n",
              "  'max_heartrate': 163.0,\n",
              "  'heartrate_opt_out': False,\n",
              "  'display_hide_heartrate_option': True,\n",
              "  'elev_high': 46.0,\n",
              "  'elev_low': 28.0,\n",
              "  'upload_id': 7618222589,\n",
              "  'upload_id_str': '7618222589',\n",
              "  'external_id': '443655656774336514.fit',\n",
              "  'from_accepted_tag': False,\n",
              "  'pr_count': 0,\n",
              "  'total_photo_count': 0,\n",
              "  'has_kudoed': False},\n",
              " {'resource_state': 2,\n",
              "  'athlete': {'id': 102185603, 'resource_state': 1},\n",
              "  'name': 'Afternoon Run',\n",
              "  'distance': 2747.3,\n",
              "  'moving_time': 1049,\n",
              "  'elapsed_time': 1246,\n",
              "  'total_elevation_gain': 9.0,\n",
              "  'type': 'Run',\n",
              "  'sport_type': 'Run',\n",
              "  'workout_type': None,\n",
              "  'id': 7154793774,\n",
              "  'start_date': '2022-05-16T00:19:48Z',\n",
              "  'start_date_local': '2022-05-15T17:19:48Z',\n",
              "  'timezone': '(GMT-08:00) America/Los_Angeles',\n",
              "  'utc_offset': -25200.0,\n",
              "  'location_city': None,\n",
              "  'location_state': None,\n",
              "  'location_country': None,\n",
              "  'achievement_count': 4,\n",
              "  'kudos_count': 0,\n",
              "  'comment_count': 0,\n",
              "  'athlete_count': 1,\n",
              "  'photo_count': 0,\n",
              "  'map': {'id': 'a7154793774',\n",
              "   'summary_polyline': 'wilcFltshVCEGCYFW@e@QSAU@GAQG]EgBg@q@Kc@BW?m@Ge@M[KU]QKk@Sc@S_BUcAi@mAWo@S}A]yAQoA]aBQy@OUM][OEYA{@YOSQ[EAWDOJEHGf@EHw@dA_@P_@\\\\i@^y@d@s@r@yCnEQAYFYPk@FGAm@Og@Gc@WSQe@QPAb@LtARb@LXBXEf@C`Ac@x@LXHH?XI`AV^D`B^hARPL`@RXBr@P`@ATIr@Ev@QNITYLGR?FDxAkH?MHOHA~Bf@~@ZXF`@Gf@SR@hAf@j@Hv@DbBl@h@PdARb@P|@JpAXp@FhCx@F@NEHGFO',\n",
              "   'resource_state': 2},\n",
              "  'trainer': False,\n",
              "  'commute': False,\n",
              "  'manual': False,\n",
              "  'private': False,\n",
              "  'visibility': 'everyone',\n",
              "  'flagged': False,\n",
              "  'gear_id': None,\n",
              "  'start_latlng': [37.42380584590137, -122.16662454418838],\n",
              "  'end_latlng': [37.42390257306397, -122.16643779538572],\n",
              "  'average_speed': 2.619,\n",
              "  'max_speed': 4.8,\n",
              "  'average_cadence': 78.0,\n",
              "  'average_watts': 210.0,\n",
              "  'max_watts': 352,\n",
              "  'weighted_average_watts': 208,\n",
              "  'kilojoules': 220.3,\n",
              "  'device_watts': True,\n",
              "  'has_heartrate': True,\n",
              "  'average_heartrate': 125.0,\n",
              "  'max_heartrate': 144.0,\n",
              "  'heartrate_opt_out': False,\n",
              "  'display_hide_heartrate_option': True,\n",
              "  'elev_high': 52.0,\n",
              "  'elev_low': 33.0,\n",
              "  'upload_id': 7618222576,\n",
              "  'upload_id_str': '7618222576',\n",
              "  'external_id': '443655656774336513.fit',\n",
              "  'from_accepted_tag': False,\n",
              "  'pr_count': 1,\n",
              "  'total_photo_count': 0,\n",
              "  'has_kudoed': False},\n",
              " {'resource_state': 2,\n",
              "  'athlete': {'id': 102185603, 'resource_state': 1},\n",
              "  'name': 'Morning Run',\n",
              "  'distance': 4472.2,\n",
              "  'moving_time': 1822,\n",
              "  'elapsed_time': 1835,\n",
              "  'total_elevation_gain': 47.0,\n",
              "  'type': 'Run',\n",
              "  'sport_type': 'Run',\n",
              "  'workout_type': None,\n",
              "  'id': 7154793791,\n",
              "  'start_date': '2022-05-14T17:31:06Z',\n",
              "  'start_date_local': '2022-05-14T10:31:06Z',\n",
              "  'timezone': '(GMT-08:00) America/Los_Angeles',\n",
              "  'utc_offset': -25200.0,\n",
              "  'location_city': None,\n",
              "  'location_state': None,\n",
              "  'location_country': None,\n",
              "  'achievement_count': 5,\n",
              "  'kudos_count': 0,\n",
              "  'comment_count': 0,\n",
              "  'athlete_count': 1,\n",
              "  'photo_count': 0,\n",
              "  'map': {'id': 'a7154793791',\n",
              "   'summary_polyline': 'aflcFpzshVALPz@Rb@DFD@hAo@N@HCt@y@HGHAPBPHPh@JR\\\\?FDHHPZHFD?FAZWx@_Al@c@bAcB~CoE^]r@qAn@_AhAuB`@eALOJQd@qANm@x@kEPwAF}@FiCT_ARa@V[^Wn@Qp@_@t@Yh@_@p@w@NOTu@^gA\\\\g@b@_@^U\\\\Kf@EX?VF^Nn@f@l@dAHd@PhBPn@NbABf@Fp@GhAMt@Y`A_@~@u@bAi@`@QRKZGf@U`@QAw@Fs@Cc@DY?FCt@MhAKh@BPFJNRhDA|@Eh@I`@Sd@[^G?KCe@s@YQc@?a@DUM]C]Mm@G_@I_@Cc@McAk@k@c@cAm@y@c@GBKVSn@]z@Qr@U^{@xBSb@_@f@g@z@k@t@w@nAe@n@kApBaBrB_@l@a@^W\\\\_Ar@w@d@y@T}Ah@I@WIG?]NyA^g@Hc@T[FOEIEY_@QOsAOSECIVcABo@My@EIS?u@a@OQAUDa@Bk@JQFCP?rALDAPsADILOXUt@QP@XJLBDI@M',\n",
              "   'resource_state': 2},\n",
              "  'trainer': False,\n",
              "  'commute': False,\n",
              "  'manual': False,\n",
              "  'private': False,\n",
              "  'visibility': 'everyone',\n",
              "  'flagged': False,\n",
              "  'gear_id': None,\n",
              "  'start_latlng': [37.423219196498394, -122.1676045563072],\n",
              "  'end_latlng': [37.42343259975314, -122.1666095405817],\n",
              "  'average_speed': 2.455,\n",
              "  'max_speed': 3.7,\n",
              "  'average_cadence': 77.6,\n",
              "  'average_watts': 200.1,\n",
              "  'max_watts': 346,\n",
              "  'weighted_average_watts': 206,\n",
              "  'kilojoules': 364.6,\n",
              "  'device_watts': True,\n",
              "  'has_heartrate': True,\n",
              "  'average_heartrate': 135.6,\n",
              "  'max_heartrate': 156.0,\n",
              "  'heartrate_opt_out': False,\n",
              "  'display_hide_heartrate_option': True,\n",
              "  'elev_high': 68.0,\n",
              "  'elev_low': 38.0,\n",
              "  'upload_id': 7618222584,\n",
              "  'upload_id_str': '7618222584',\n",
              "  'external_id': '443655656774336512.fit',\n",
              "  'from_accepted_tag': False,\n",
              "  'pr_count': 4,\n",
              "  'total_photo_count': 0,\n",
              "  'has_kudoed': False},\n",
              " {'resource_state': 2,\n",
              "  'athlete': {'id': 102185603, 'resource_state': 1},\n",
              "  'name': 'Afternoon Ride',\n",
              "  'distance': 0.0,\n",
              "  'moving_time': 6,\n",
              "  'elapsed_time': 6,\n",
              "  'total_elevation_gain': 0,\n",
              "  'type': 'Ride',\n",
              "  'sport_type': 'Ride',\n",
              "  'workout_type': None,\n",
              "  'id': 7127406869,\n",
              "  'start_date': '2022-05-03T14:06:34Z',\n",
              "  'start_date_local': '2022-05-03T14:06:34Z',\n",
              "  'timezone': '(GMT+00:00) GMT',\n",
              "  'utc_offset': 0.0,\n",
              "  'location_city': None,\n",
              "  'location_state': None,\n",
              "  'location_country': None,\n",
              "  'achievement_count': 0,\n",
              "  'kudos_count': 0,\n",
              "  'comment_count': 0,\n",
              "  'athlete_count': 1,\n",
              "  'photo_count': 0,\n",
              "  'map': {'id': 'a7127406869', 'summary_polyline': '', 'resource_state': 2},\n",
              "  'trainer': True,\n",
              "  'commute': False,\n",
              "  'manual': False,\n",
              "  'private': False,\n",
              "  'visibility': 'everyone',\n",
              "  'flagged': False,\n",
              "  'gear_id': None,\n",
              "  'start_latlng': [],\n",
              "  'end_latlng': [],\n",
              "  'average_speed': 0.0,\n",
              "  'max_speed': 0.0,\n",
              "  'has_heartrate': True,\n",
              "  'average_heartrate': 167.7,\n",
              "  'max_heartrate': 169.0,\n",
              "  'heartrate_opt_out': False,\n",
              "  'display_hide_heartrate_option': True,\n",
              "  'upload_id': 7588330301,\n",
              "  'upload_id_str': '7588330301',\n",
              "  'external_id': '443537832936505345_1.fit',\n",
              "  'from_accepted_tag': False,\n",
              "  'pr_count': 0,\n",
              "  'total_photo_count': 0,\n",
              "  'has_kudoed': False},\n",
              " {'resource_state': 2,\n",
              "  'athlete': {'id': 102185603, 'resource_state': 1},\n",
              "  'name': 'Morning Run',\n",
              "  'distance': 1320.5,\n",
              "  'moving_time': 632,\n",
              "  'elapsed_time': 1391,\n",
              "  'total_elevation_gain': 0.0,\n",
              "  'type': 'Run',\n",
              "  'sport_type': 'Run',\n",
              "  'workout_type': None,\n",
              "  'id': 7127406894,\n",
              "  'start_date': '2022-05-03T13:43:13Z',\n",
              "  'start_date_local': '2022-05-03T06:43:13Z',\n",
              "  'timezone': '(GMT-08:00) America/Los_Angeles',\n",
              "  'utc_offset': -25200.0,\n",
              "  'location_city': None,\n",
              "  'location_state': None,\n",
              "  'location_country': None,\n",
              "  'achievement_count': 3,\n",
              "  'kudos_count': 0,\n",
              "  'comment_count': 0,\n",
              "  'athlete_count': 1,\n",
              "  'photo_count': 0,\n",
              "  'map': {'id': 'a7127406894',\n",
              "   'summary_polyline': 'utlcFvrshVCQSUYUWMG?YDa@L_@Xq@N_@VQHAh@Ml@Y|B?\\\\Ut@QpAIPG@O?SKmA[s@Fg@O]e@ESBg@\\\\wBE]Oa@?ODcAFSJOHQB_@@o@Hy@GGk@ASIeAUe@OEEKQEYD]?a@DWCIKOMEUCQOI_@LU@O',\n",
              "   'resource_state': 2},\n",
              "  'trainer': False,\n",
              "  'commute': False,\n",
              "  'manual': False,\n",
              "  'private': False,\n",
              "  'visibility': 'everyone',\n",
              "  'flagged': False,\n",
              "  'gear_id': None,\n",
              "  'start_latlng': [37.42555757984519, -122.16635280288756],\n",
              "  'end_latlng': [37.42959916591644, -122.1638361364603],\n",
              "  'average_speed': 2.089,\n",
              "  'max_speed': 3.5,\n",
              "  'average_cadence': 73.7,\n",
              "  'average_watts': 161.8,\n",
              "  'max_watts': 210,\n",
              "  'weighted_average_watts': 137,\n",
              "  'kilojoules': 102.2,\n",
              "  'device_watts': True,\n",
              "  'has_heartrate': True,\n",
              "  'average_heartrate': 120.8,\n",
              "  'max_heartrate': 174.0,\n",
              "  'heartrate_opt_out': False,\n",
              "  'display_hide_heartrate_option': True,\n",
              "  'elev_high': 15.0,\n",
              "  'elev_low': 0.0,\n",
              "  'upload_id': 7588330316,\n",
              "  'upload_id_str': '7588330316',\n",
              "  'external_id': '443537832936505345_0.fit',\n",
              "  'from_accepted_tag': False,\n",
              "  'pr_count': 0,\n",
              "  'total_photo_count': 0,\n",
              "  'has_kudoed': False},\n",
              " {'resource_state': 2,\n",
              "  'athlete': {'id': 102185603, 'resource_state': 1},\n",
              "  'name': 'Afternoon Walk',\n",
              "  'distance': 2229.2,\n",
              "  'moving_time': 1872,\n",
              "  'elapsed_time': 5902,\n",
              "  'total_elevation_gain': 6.0,\n",
              "  'type': 'Walk',\n",
              "  'sport_type': 'Walk',\n",
              "  'id': 7127406851,\n",
              "  'start_date': '2022-05-02T00:33:41Z',\n",
              "  'start_date_local': '2022-05-01T17:33:41Z',\n",
              "  'timezone': '(GMT-08:00) America/Los_Angeles',\n",
              "  'utc_offset': -25200.0,\n",
              "  'location_city': None,\n",
              "  'location_state': None,\n",
              "  'location_country': None,\n",
              "  'achievement_count': 0,\n",
              "  'kudos_count': 0,\n",
              "  'comment_count': 0,\n",
              "  'athlete_count': 1,\n",
              "  'photo_count': 0,\n",
              "  'map': {'id': 'a7127406851',\n",
              "   'summary_polyline': 'akicFdvihVFJj@`@\\\\H^Rf@PPNJR?BSHc@r@O@UIMAKZCRINOFYHI?ODc@Cs@HYAe@QOMQSYUo@y@]]Y]eAy@MYWUM_@Ei@Bc@\\\\i@Rc@PQP[^Yl@AfBzAx@lA`Az@l@n@l@d@VNd@HB@AB\\\\DRJ\\\\BRLL?FGd@{@LKpBwDJKZMv@gAL?TRZRhBjBTKVBJERYRc@V]NWTM\\\\Gp@a@b@{@n@aARm@R_@l@}@Ja@JKJAH?\\\\P\\\\H\\\\VBJEh@Bf@DZ?NBL?JCHG@CE@AE?H@FCDG?II_@MQCGDy@HU_@WKCa@QOMF]R_@Dg@\\\\aB@CHCCBCAOMBHGL',\n",
              "   'resource_state': 2},\n",
              "  'trainer': False,\n",
              "  'commute': False,\n",
              "  'manual': False,\n",
              "  'private': False,\n",
              "  'visibility': 'everyone',\n",
              "  'flagged': False,\n",
              "  'gear_id': None,\n",
              "  'start_latlng': [37.40865589119494, -122.11570951156318],\n",
              "  'end_latlng': [37.40291252732277, -122.11167613975704],\n",
              "  'average_speed': 1.191,\n",
              "  'max_speed': 2.4,\n",
              "  'average_cadence': 53.9,\n",
              "  'has_heartrate': True,\n",
              "  'average_heartrate': 105.6,\n",
              "  'max_heartrate': 117.0,\n",
              "  'heartrate_opt_out': False,\n",
              "  'display_hide_heartrate_option': True,\n",
              "  'elev_high': 25.0,\n",
              "  'elev_low': 20.0,\n",
              "  'upload_id': 7588330209,\n",
              "  'upload_id_str': '7588330209',\n",
              "  'external_id': '443537832936505344.fit',\n",
              "  'from_accepted_tag': False,\n",
              "  'pr_count': 0,\n",
              "  'total_photo_count': 0,\n",
              "  'has_kudoed': False},\n",
              " {'resource_state': 2,\n",
              "  'athlete': {'id': 102185603, 'resource_state': 1},\n",
              "  'name': 'Lunch Run',\n",
              "  'distance': 3512.8,\n",
              "  'moving_time': 1442,\n",
              "  'elapsed_time': 1464,\n",
              "  'total_elevation_gain': 18.0,\n",
              "  'type': 'Run',\n",
              "  'sport_type': 'Run',\n",
              "  'workout_type': None,\n",
              "  'id': 7067738002,\n",
              "  'start_date': '2022-04-29T18:10:53Z',\n",
              "  'start_date_local': '2022-04-29T11:10:53Z',\n",
              "  'timezone': '(GMT-08:00) America/Los_Angeles',\n",
              "  'utc_offset': -25200.0,\n",
              "  'location_city': None,\n",
              "  'location_state': None,\n",
              "  'location_country': None,\n",
              "  'achievement_count': 5,\n",
              "  'kudos_count': 0,\n",
              "  'comment_count': 0,\n",
              "  'athlete_count': 1,\n",
              "  'photo_count': 0,\n",
              "  'map': {'id': 'a7067738002',\n",
              "   'summary_polyline': 'amlcFhushVEGWGOIgA?g@Wu@ISSOYIGo@IUBM?aASWBe@R_@KGJSt@MTWxAGp@Q`@OtABn@Cp@IJE@YKa@G{@U[@kATO?QI[Ys@Sg@_@gAOg@Oc@IQK[GWOOEWBiBQMGEEWm@a@C_@U[GUK_@GyAg@u@IcAUS?m@Gm@MMBWRSDw@Kq@Fm@OK?s@Nw@B}@IgB]aCSI@_@ZUFABBBNEr@]bBcAh@a@v@ApBNn@Pt@HfDt@x@DbAVRCH?`Ch@dBT`Ct@p@JNJHPJJf@JfA^l@@b@Pb@XH@r@Nn@DtA^ZVVDRJt@FTDJ?FEN?l@Pr@Fp@Rx@JLCBI@_ACYFSd@_@^]JQJ_@HI^KFGJk@JITEPo@`@o@POz@Md@AjD|@z@DH@NNPBHCP_@',\n",
              "   'resource_state': 2},\n",
              "  'trainer': False,\n",
              "  'commute': False,\n",
              "  'manual': False,\n",
              "  'private': False,\n",
              "  'visibility': 'everyone',\n",
              "  'flagged': False,\n",
              "  'gear_id': None,\n",
              "  'start_latlng': [37.424339186400175, -122.16676779091358],\n",
              "  'end_latlng': [37.42340418510139, -122.16649780981243],\n",
              "  'average_speed': 2.436,\n",
              "  'max_speed': 4.5,\n",
              "  'average_cadence': 77.0,\n",
              "  'average_watts': 196.5,\n",
              "  'max_watts': 331,\n",
              "  'weighted_average_watts': 200,\n",
              "  'kilojoules': 283.3,\n",
              "  'device_watts': True,\n",
              "  'has_heartrate': True,\n",
              "  'average_heartrate': 121.1,\n",
              "  'max_heartrate': 149.0,\n",
              "  'heartrate_opt_out': False,\n",
              "  'display_hide_heartrate_option': True,\n",
              "  'elev_high': 34.0,\n",
              "  'elev_low': 23.0,\n",
              "  'upload_id': 7523464120,\n",
              "  'upload_id_str': '7523464120',\n",
              "  'external_id': '443286533059936257.fit',\n",
              "  'from_accepted_tag': False,\n",
              "  'pr_count': 5,\n",
              "  'total_photo_count': 0,\n",
              "  'has_kudoed': False},\n",
              " {'resource_state': 2,\n",
              "  'athlete': {'id': 102185603, 'resource_state': 1},\n",
              "  'name': 'Lunch Run',\n",
              "  'distance': 3994.2,\n",
              "  'moving_time': 1767,\n",
              "  'elapsed_time': 1811,\n",
              "  'total_elevation_gain': 30.0,\n",
              "  'type': 'Run',\n",
              "  'sport_type': 'Run',\n",
              "  'workout_type': None,\n",
              "  'id': 7056276906,\n",
              "  'start_date': '2022-04-28T18:40:55Z',\n",
              "  'start_date_local': '2022-04-28T11:40:55Z',\n",
              "  'timezone': '(GMT-08:00) America/Los_Angeles',\n",
              "  'utc_offset': -25200.0,\n",
              "  'location_city': None,\n",
              "  'location_state': None,\n",
              "  'location_country': None,\n",
              "  'achievement_count': 0,\n",
              "  'kudos_count': 0,\n",
              "  'comment_count': 0,\n",
              "  'athlete_count': 1,\n",
              "  'photo_count': 0,\n",
              "  'map': {'id': 'a7056276906',\n",
              "   'summary_polyline': 'iomcFb_shVIA]DMAG@_@Vg@LIAKEe@]G?K\\\\m@^UXa@LKN[PS@CBO|@INSJ]HQRm@Pc@?o@s@MIMG]IUMQCYIKQQOGWCCYNUD]d@_A\\\\OJG@YI]WWOGASBEAMOOc@IKAZCFED]@MDCFGXGBWEaAc@WIO?QDIF?HBDJDJJf@VL@\\\\IL@vAf@n@p@f@P\\\\HJHb@t@HZBx@Hn@?h@Ib@?XDFv@B\\\\HDATONSPEPBj@Rt@?b@Fh@J`@Nz@TfBXLDTNp@P^Db@f@lA\\\\\\\\PjALj@N\\\\@v@T^B^H^LZT`@GFCDYPcCb@q@N_@?OOc@A_@Lg@NoAV{@BaATqAL]^i@Ja@\\\\S^FD@FJPFlANV?^MdANTHb@DtBp@nALb@Rj@PjAXx@LVHBD@RIl@I^?z@DLDBj@JLF@t@',\n",
              "   'resource_state': 2},\n",
              "  'trainer': False,\n",
              "  'commute': False,\n",
              "  'manual': False,\n",
              "  'private': False,\n",
              "  'visibility': 'everyone',\n",
              "  'flagged': False,\n",
              "  'gear_id': None,\n",
              "  'start_latlng': [37.42981583811343, -122.1632145345211],\n",
              "  'end_latlng': [37.42333084344864, -122.16637283563614],\n",
              "  'average_speed': 2.26,\n",
              "  'max_speed': 3.7,\n",
              "  'average_cadence': 77.3,\n",
              "  'average_watts': 182.1,\n",
              "  'max_watts': 246,\n",
              "  'weighted_average_watts': 182,\n",
              "  'kilojoules': 321.8,\n",
              "  'device_watts': True,\n",
              "  'has_heartrate': False,\n",
              "  'heartrate_opt_out': False,\n",
              "  'display_hide_heartrate_option': False,\n",
              "  'elev_high': 34.0,\n",
              "  'elev_low': 13.0,\n",
              "  'upload_id': 7511010994,\n",
              "  'upload_id_str': '7511010994',\n",
              "  'external_id': 'stripped_health_data_102185603_1651173113.fit',\n",
              "  'from_accepted_tag': False,\n",
              "  'pr_count': 0,\n",
              "  'total_photo_count': 0,\n",
              "  'has_kudoed': False}]"
            ]
          },
          "metadata": {},
          "execution_count": 5
        }
      ]
    },
    {
      "cell_type": "code",
      "source": [
        "res.json()"
      ],
      "metadata": {
        "colab": {
          "base_uri": "https://localhost:8080/"
        },
        "id": "URFdd8SJzvjb",
        "outputId": "adbbae38-944c-4a7e-f3d0-8eeb43c1e5e3"
      },
      "execution_count": null,
      "outputs": [
        {
          "output_type": "execute_result",
          "data": {
            "text/plain": [
              "{'token_type': 'Bearer',\n",
              " 'access_token': '9ad3c5dd8ec6bbde877008818b1d20890f268bbf',\n",
              " 'expires_at': 1671097583,\n",
              " 'expires_in': 6462,\n",
              " 'refresh_token': '7c7c2b4ff166f43e7a0d7329a60c379419623766'}"
            ]
          },
          "metadata": {},
          "execution_count": 6
        }
      ]
    },
    {
      "cell_type": "code",
      "source": [
        "res.json()"
      ],
      "metadata": {
        "colab": {
          "base_uri": "https://localhost:8080/"
        },
        "id": "2gqJXyJYz1uw",
        "outputId": "b55a5a2c-7f78-48d3-fce7-d6ff82665a2a"
      },
      "execution_count": null,
      "outputs": [
        {
          "output_type": "execute_result",
          "data": {
            "text/plain": [
              "{'token_type': 'Bearer',\n",
              " 'access_token': '9ad3c5dd8ec6bbde877008818b1d20890f268bbf',\n",
              " 'expires_at': 1671097583,\n",
              " 'expires_in': 6462,\n",
              " 'refresh_token': '7c7c2b4ff166f43e7a0d7329a60c379419623766'}"
            ]
          },
          "metadata": {},
          "execution_count": 7
        }
      ]
    },
    {
      "cell_type": "markdown",
      "source": [
        "As you can see above, my_dataset is not in a human readable format. in order to make it readable and for easy manipulation, we will normalize the results from the API call and store all the information into a pandas Data Frame"
      ],
      "metadata": {
        "id": "JV6nCkPb6Okh"
      }
    },
    {
      "cell_type": "code",
      "source": [
        "str#Normalizes our fetched data from JSON to a pandas DataFrame\n",
        "df_strava = pd.json_normalize(my_dataset)"
      ],
      "metadata": {
        "id": "ACjy6akJ6KIb"
      },
      "execution_count": null,
      "outputs": []
    },
    {
      "cell_type": "markdown",
      "source": [
        "Below, let's plot our DataFrame to see how it compares to the json call from our API!"
      ],
      "metadata": {
        "id": "-Qq42Cqy6myt"
      }
    },
    {
      "cell_type": "code",
      "source": [
        "df_strava"
      ],
      "metadata": {
        "colab": {
          "base_uri": "https://localhost:8080/",
          "height": 814
        },
        "id": "W_7k371z6NFo",
        "outputId": "9163e8ca-ed0a-4090-bd13-6ae48a8a507f"
      },
      "execution_count": null,
      "outputs": [
        {
          "output_type": "execute_result",
          "data": {
            "text/plain": [
              "    resource_state            name  distance  moving_time  elapsed_time  \\\n",
              "0                2      Lunch Ride       0.0          185           185   \n",
              "1                2    Evening Ride     261.2          117           798   \n",
              "2                2    Morning Ride    7179.0          836           836   \n",
              "3                2     Morning Run    4530.4         1907          2450   \n",
              "4                2   Afternoon Run    3647.7         1454          1468   \n",
              "5                2     Morning Run    4584.1         1994          2691   \n",
              "6                2     Morning Run    2898.4         1252          1268   \n",
              "7                2   Afternoon Run    2747.3         1049          1246   \n",
              "8                2     Morning Run    4472.2         1822          1835   \n",
              "9                2  Afternoon Ride       0.0            6             6   \n",
              "10               2     Morning Run    1320.5          632          1391   \n",
              "11               2  Afternoon Walk    2229.2         1872          5902   \n",
              "12               2       Lunch Run    3512.8         1442          1464   \n",
              "13               2       Lunch Run    3994.2         1767          1811   \n",
              "\n",
              "    total_elevation_gain  type sport_type  workout_type          id  ...  \\\n",
              "0                    0.0  Ride       Ride           NaN  8228598438  ...   \n",
              "1                    0.0  Ride       Ride           NaN  7834503495  ...   \n",
              "2                   46.0  Ride       Ride           NaN  7834503507  ...   \n",
              "3                   16.0   Run        Run           NaN  7795133796  ...   \n",
              "4                   18.0   Run        Run           NaN  7795133787  ...   \n",
              "5                   19.0   Run        Run           NaN  7170552790  ...   \n",
              "6                   21.0   Run        Run           NaN  7154793821  ...   \n",
              "7                    9.0   Run        Run           NaN  7154793774  ...   \n",
              "8                   47.0   Run        Run           NaN  7154793791  ...   \n",
              "9                    0.0  Ride       Ride           NaN  7127406869  ...   \n",
              "10                   0.0   Run        Run           NaN  7127406894  ...   \n",
              "11                   6.0  Walk       Walk           NaN  7127406851  ...   \n",
              "12                  18.0   Run        Run           NaN  7067738002  ...   \n",
              "13                  30.0   Run        Run           NaN  7056276906  ...   \n",
              "\n",
              "                                 map.summary_polyline map.resource_state  \\\n",
              "0                                                                      2   \n",
              "1   mnzrIuwlkABDIw@CCAVCCNZr@p@LFIDFFb@NVRGBs@QWk@...                  2   \n",
              "2   urwrIkyriADxDGtB[zEM|@YrA{EdOgBzEaAvCoObg@cEjN...                  2   \n",
              "3   gklcFdtshV@HIJMFO@u@Gs@SYA{@Oq@]]_@k@K_@S[KmAO...                  2   \n",
              "4   mtlcFrqshVq@IKGIMEAqAW_@CgASSMiAWYIe@Im@WWQ]BY...                  2   \n",
              "5   ailcF|lshVFKF]AEIG[AcAUi@G]Mg@?s@[i@Au@Ye@W_@M...                  2   \n",
              "6   ovlcFhrshVy@GmAWa@CUIQMQUGS?GTm@D[J]Fk@JUBQ?]I...                  2   \n",
              "7   wilcFltshVCEGCYFW@e@QSAU@GAQG]EgBg@q@Kc@BW?m@G...                  2   \n",
              "8   aflcFpzshVALPz@Rb@DFD@hAo@N@HCt@y@HGHAPBPHPh@J...                  2   \n",
              "9                                                                      2   \n",
              "10  utlcFvrshVCQSUYUWMG?YDa@L_@Xq@N_@VQHAh@Ml@Y|B?...                  2   \n",
              "11  akicFdvihVFJj@`@\\H^Rf@PPNJR?BSHc@r@O@UIMAKZCRI...                  2   \n",
              "12  amlcFhushVEGWGOIgA?g@Wu@ISSOYIGo@IUBM?aASWBe@R...                  2   \n",
              "13  iomcFb_shVIA]DMAG@_@Vg@LIAKEe@]G?K\\m@^UXa@LKN[...                  2   \n",
              "\n",
              "   elev_high  elev_low average_cadence average_watts max_watts  \\\n",
              "0        NaN       NaN             NaN           NaN       NaN   \n",
              "1       12.0      11.0             NaN           NaN       NaN   \n",
              "2       37.0      15.0             NaN           NaN       NaN   \n",
              "3       35.0      25.0            77.0         195.3     285.0   \n",
              "4       37.0      19.0            77.4         198.7     306.0   \n",
              "5       29.0      16.0            78.4         185.7     294.0   \n",
              "6       46.0      28.0            75.0         189.0     282.0   \n",
              "7       52.0      33.0            78.0         210.0     352.0   \n",
              "8       68.0      38.0            77.6         200.1     346.0   \n",
              "9        NaN       NaN             NaN           NaN       NaN   \n",
              "10      15.0       0.0            73.7         161.8     210.0   \n",
              "11      25.0      20.0            53.9           NaN       NaN   \n",
              "12      34.0      23.0            77.0         196.5     331.0   \n",
              "13      34.0      13.0            77.3         182.1     246.0   \n",
              "\n",
              "    weighted_average_watts  kilojoules  device_watts  \n",
              "0                      NaN         NaN           NaN  \n",
              "1                      NaN         NaN           NaN  \n",
              "2                      NaN         NaN           NaN  \n",
              "3                    191.0       372.4          True  \n",
              "4                    211.0       288.8          True  \n",
              "5                    185.0       370.2          True  \n",
              "6                    194.0       236.7          True  \n",
              "7                    208.0       220.3          True  \n",
              "8                    206.0       364.6          True  \n",
              "9                      NaN         NaN           NaN  \n",
              "10                   137.0       102.2          True  \n",
              "11                     NaN         NaN           NaN  \n",
              "12                   200.0       283.3          True  \n",
              "13                   182.0       321.8          True  \n",
              "\n",
              "[14 rows x 58 columns]"
            ],
            "text/html": [
              "\n",
              "  <div id=\"df-b7e512dc-e1f7-4fb0-85cd-aebab29e01ff\">\n",
              "    <div class=\"colab-df-container\">\n",
              "      <div>\n",
              "<style scoped>\n",
              "    .dataframe tbody tr th:only-of-type {\n",
              "        vertical-align: middle;\n",
              "    }\n",
              "\n",
              "    .dataframe tbody tr th {\n",
              "        vertical-align: top;\n",
              "    }\n",
              "\n",
              "    .dataframe thead th {\n",
              "        text-align: right;\n",
              "    }\n",
              "</style>\n",
              "<table border=\"1\" class=\"dataframe\">\n",
              "  <thead>\n",
              "    <tr style=\"text-align: right;\">\n",
              "      <th></th>\n",
              "      <th>resource_state</th>\n",
              "      <th>name</th>\n",
              "      <th>distance</th>\n",
              "      <th>moving_time</th>\n",
              "      <th>elapsed_time</th>\n",
              "      <th>total_elevation_gain</th>\n",
              "      <th>type</th>\n",
              "      <th>sport_type</th>\n",
              "      <th>workout_type</th>\n",
              "      <th>id</th>\n",
              "      <th>...</th>\n",
              "      <th>map.summary_polyline</th>\n",
              "      <th>map.resource_state</th>\n",
              "      <th>elev_high</th>\n",
              "      <th>elev_low</th>\n",
              "      <th>average_cadence</th>\n",
              "      <th>average_watts</th>\n",
              "      <th>max_watts</th>\n",
              "      <th>weighted_average_watts</th>\n",
              "      <th>kilojoules</th>\n",
              "      <th>device_watts</th>\n",
              "    </tr>\n",
              "  </thead>\n",
              "  <tbody>\n",
              "    <tr>\n",
              "      <th>0</th>\n",
              "      <td>2</td>\n",
              "      <td>Lunch Ride</td>\n",
              "      <td>0.0</td>\n",
              "      <td>185</td>\n",
              "      <td>185</td>\n",
              "      <td>0.0</td>\n",
              "      <td>Ride</td>\n",
              "      <td>Ride</td>\n",
              "      <td>NaN</td>\n",
              "      <td>8228598438</td>\n",
              "      <td>...</td>\n",
              "      <td></td>\n",
              "      <td>2</td>\n",
              "      <td>NaN</td>\n",
              "      <td>NaN</td>\n",
              "      <td>NaN</td>\n",
              "      <td>NaN</td>\n",
              "      <td>NaN</td>\n",
              "      <td>NaN</td>\n",
              "      <td>NaN</td>\n",
              "      <td>NaN</td>\n",
              "    </tr>\n",
              "    <tr>\n",
              "      <th>1</th>\n",
              "      <td>2</td>\n",
              "      <td>Evening Ride</td>\n",
              "      <td>261.2</td>\n",
              "      <td>117</td>\n",
              "      <td>798</td>\n",
              "      <td>0.0</td>\n",
              "      <td>Ride</td>\n",
              "      <td>Ride</td>\n",
              "      <td>NaN</td>\n",
              "      <td>7834503495</td>\n",
              "      <td>...</td>\n",
              "      <td>mnzrIuwlkABDIw@CCAVCCNZr@p@LFIDFFb@NVRGBs@QWk@...</td>\n",
              "      <td>2</td>\n",
              "      <td>12.0</td>\n",
              "      <td>11.0</td>\n",
              "      <td>NaN</td>\n",
              "      <td>NaN</td>\n",
              "      <td>NaN</td>\n",
              "      <td>NaN</td>\n",
              "      <td>NaN</td>\n",
              "      <td>NaN</td>\n",
              "    </tr>\n",
              "    <tr>\n",
              "      <th>2</th>\n",
              "      <td>2</td>\n",
              "      <td>Morning Ride</td>\n",
              "      <td>7179.0</td>\n",
              "      <td>836</td>\n",
              "      <td>836</td>\n",
              "      <td>46.0</td>\n",
              "      <td>Ride</td>\n",
              "      <td>Ride</td>\n",
              "      <td>NaN</td>\n",
              "      <td>7834503507</td>\n",
              "      <td>...</td>\n",
              "      <td>urwrIkyriADxDGtB[zEM|@YrA{EdOgBzEaAvCoObg@cEjN...</td>\n",
              "      <td>2</td>\n",
              "      <td>37.0</td>\n",
              "      <td>15.0</td>\n",
              "      <td>NaN</td>\n",
              "      <td>NaN</td>\n",
              "      <td>NaN</td>\n",
              "      <td>NaN</td>\n",
              "      <td>NaN</td>\n",
              "      <td>NaN</td>\n",
              "    </tr>\n",
              "    <tr>\n",
              "      <th>3</th>\n",
              "      <td>2</td>\n",
              "      <td>Morning Run</td>\n",
              "      <td>4530.4</td>\n",
              "      <td>1907</td>\n",
              "      <td>2450</td>\n",
              "      <td>16.0</td>\n",
              "      <td>Run</td>\n",
              "      <td>Run</td>\n",
              "      <td>NaN</td>\n",
              "      <td>7795133796</td>\n",
              "      <td>...</td>\n",
              "      <td>gklcFdtshV@HIJMFO@u@Gs@SYA{@Oq@]]_@k@K_@S[KmAO...</td>\n",
              "      <td>2</td>\n",
              "      <td>35.0</td>\n",
              "      <td>25.0</td>\n",
              "      <td>77.0</td>\n",
              "      <td>195.3</td>\n",
              "      <td>285.0</td>\n",
              "      <td>191.0</td>\n",
              "      <td>372.4</td>\n",
              "      <td>True</td>\n",
              "    </tr>\n",
              "    <tr>\n",
              "      <th>4</th>\n",
              "      <td>2</td>\n",
              "      <td>Afternoon Run</td>\n",
              "      <td>3647.7</td>\n",
              "      <td>1454</td>\n",
              "      <td>1468</td>\n",
              "      <td>18.0</td>\n",
              "      <td>Run</td>\n",
              "      <td>Run</td>\n",
              "      <td>NaN</td>\n",
              "      <td>7795133787</td>\n",
              "      <td>...</td>\n",
              "      <td>mtlcFrqshVq@IKGIMEAqAW_@CgASSMiAWYIe@Im@WWQ]BY...</td>\n",
              "      <td>2</td>\n",
              "      <td>37.0</td>\n",
              "      <td>19.0</td>\n",
              "      <td>77.4</td>\n",
              "      <td>198.7</td>\n",
              "      <td>306.0</td>\n",
              "      <td>211.0</td>\n",
              "      <td>288.8</td>\n",
              "      <td>True</td>\n",
              "    </tr>\n",
              "    <tr>\n",
              "      <th>5</th>\n",
              "      <td>2</td>\n",
              "      <td>Morning Run</td>\n",
              "      <td>4584.1</td>\n",
              "      <td>1994</td>\n",
              "      <td>2691</td>\n",
              "      <td>19.0</td>\n",
              "      <td>Run</td>\n",
              "      <td>Run</td>\n",
              "      <td>NaN</td>\n",
              "      <td>7170552790</td>\n",
              "      <td>...</td>\n",
              "      <td>ailcF|lshVFKF]AEIG[AcAUi@G]Mg@?s@[i@Au@Ye@W_@M...</td>\n",
              "      <td>2</td>\n",
              "      <td>29.0</td>\n",
              "      <td>16.0</td>\n",
              "      <td>78.4</td>\n",
              "      <td>185.7</td>\n",
              "      <td>294.0</td>\n",
              "      <td>185.0</td>\n",
              "      <td>370.2</td>\n",
              "      <td>True</td>\n",
              "    </tr>\n",
              "    <tr>\n",
              "      <th>6</th>\n",
              "      <td>2</td>\n",
              "      <td>Morning Run</td>\n",
              "      <td>2898.4</td>\n",
              "      <td>1252</td>\n",
              "      <td>1268</td>\n",
              "      <td>21.0</td>\n",
              "      <td>Run</td>\n",
              "      <td>Run</td>\n",
              "      <td>NaN</td>\n",
              "      <td>7154793821</td>\n",
              "      <td>...</td>\n",
              "      <td>ovlcFhrshVy@GmAWa@CUIQMQUGS?GTm@D[J]Fk@JUBQ?]I...</td>\n",
              "      <td>2</td>\n",
              "      <td>46.0</td>\n",
              "      <td>28.0</td>\n",
              "      <td>75.0</td>\n",
              "      <td>189.0</td>\n",
              "      <td>282.0</td>\n",
              "      <td>194.0</td>\n",
              "      <td>236.7</td>\n",
              "      <td>True</td>\n",
              "    </tr>\n",
              "    <tr>\n",
              "      <th>7</th>\n",
              "      <td>2</td>\n",
              "      <td>Afternoon Run</td>\n",
              "      <td>2747.3</td>\n",
              "      <td>1049</td>\n",
              "      <td>1246</td>\n",
              "      <td>9.0</td>\n",
              "      <td>Run</td>\n",
              "      <td>Run</td>\n",
              "      <td>NaN</td>\n",
              "      <td>7154793774</td>\n",
              "      <td>...</td>\n",
              "      <td>wilcFltshVCEGCYFW@e@QSAU@GAQG]EgBg@q@Kc@BW?m@G...</td>\n",
              "      <td>2</td>\n",
              "      <td>52.0</td>\n",
              "      <td>33.0</td>\n",
              "      <td>78.0</td>\n",
              "      <td>210.0</td>\n",
              "      <td>352.0</td>\n",
              "      <td>208.0</td>\n",
              "      <td>220.3</td>\n",
              "      <td>True</td>\n",
              "    </tr>\n",
              "    <tr>\n",
              "      <th>8</th>\n",
              "      <td>2</td>\n",
              "      <td>Morning Run</td>\n",
              "      <td>4472.2</td>\n",
              "      <td>1822</td>\n",
              "      <td>1835</td>\n",
              "      <td>47.0</td>\n",
              "      <td>Run</td>\n",
              "      <td>Run</td>\n",
              "      <td>NaN</td>\n",
              "      <td>7154793791</td>\n",
              "      <td>...</td>\n",
              "      <td>aflcFpzshVALPz@Rb@DFD@hAo@N@HCt@y@HGHAPBPHPh@J...</td>\n",
              "      <td>2</td>\n",
              "      <td>68.0</td>\n",
              "      <td>38.0</td>\n",
              "      <td>77.6</td>\n",
              "      <td>200.1</td>\n",
              "      <td>346.0</td>\n",
              "      <td>206.0</td>\n",
              "      <td>364.6</td>\n",
              "      <td>True</td>\n",
              "    </tr>\n",
              "    <tr>\n",
              "      <th>9</th>\n",
              "      <td>2</td>\n",
              "      <td>Afternoon Ride</td>\n",
              "      <td>0.0</td>\n",
              "      <td>6</td>\n",
              "      <td>6</td>\n",
              "      <td>0.0</td>\n",
              "      <td>Ride</td>\n",
              "      <td>Ride</td>\n",
              "      <td>NaN</td>\n",
              "      <td>7127406869</td>\n",
              "      <td>...</td>\n",
              "      <td></td>\n",
              "      <td>2</td>\n",
              "      <td>NaN</td>\n",
              "      <td>NaN</td>\n",
              "      <td>NaN</td>\n",
              "      <td>NaN</td>\n",
              "      <td>NaN</td>\n",
              "      <td>NaN</td>\n",
              "      <td>NaN</td>\n",
              "      <td>NaN</td>\n",
              "    </tr>\n",
              "    <tr>\n",
              "      <th>10</th>\n",
              "      <td>2</td>\n",
              "      <td>Morning Run</td>\n",
              "      <td>1320.5</td>\n",
              "      <td>632</td>\n",
              "      <td>1391</td>\n",
              "      <td>0.0</td>\n",
              "      <td>Run</td>\n",
              "      <td>Run</td>\n",
              "      <td>NaN</td>\n",
              "      <td>7127406894</td>\n",
              "      <td>...</td>\n",
              "      <td>utlcFvrshVCQSUYUWMG?YDa@L_@Xq@N_@VQHAh@Ml@Y|B?...</td>\n",
              "      <td>2</td>\n",
              "      <td>15.0</td>\n",
              "      <td>0.0</td>\n",
              "      <td>73.7</td>\n",
              "      <td>161.8</td>\n",
              "      <td>210.0</td>\n",
              "      <td>137.0</td>\n",
              "      <td>102.2</td>\n",
              "      <td>True</td>\n",
              "    </tr>\n",
              "    <tr>\n",
              "      <th>11</th>\n",
              "      <td>2</td>\n",
              "      <td>Afternoon Walk</td>\n",
              "      <td>2229.2</td>\n",
              "      <td>1872</td>\n",
              "      <td>5902</td>\n",
              "      <td>6.0</td>\n",
              "      <td>Walk</td>\n",
              "      <td>Walk</td>\n",
              "      <td>NaN</td>\n",
              "      <td>7127406851</td>\n",
              "      <td>...</td>\n",
              "      <td>akicFdvihVFJj@`@\\H^Rf@PPNJR?BSHc@r@O@UIMAKZCRI...</td>\n",
              "      <td>2</td>\n",
              "      <td>25.0</td>\n",
              "      <td>20.0</td>\n",
              "      <td>53.9</td>\n",
              "      <td>NaN</td>\n",
              "      <td>NaN</td>\n",
              "      <td>NaN</td>\n",
              "      <td>NaN</td>\n",
              "      <td>NaN</td>\n",
              "    </tr>\n",
              "    <tr>\n",
              "      <th>12</th>\n",
              "      <td>2</td>\n",
              "      <td>Lunch Run</td>\n",
              "      <td>3512.8</td>\n",
              "      <td>1442</td>\n",
              "      <td>1464</td>\n",
              "      <td>18.0</td>\n",
              "      <td>Run</td>\n",
              "      <td>Run</td>\n",
              "      <td>NaN</td>\n",
              "      <td>7067738002</td>\n",
              "      <td>...</td>\n",
              "      <td>amlcFhushVEGWGOIgA?g@Wu@ISSOYIGo@IUBM?aASWBe@R...</td>\n",
              "      <td>2</td>\n",
              "      <td>34.0</td>\n",
              "      <td>23.0</td>\n",
              "      <td>77.0</td>\n",
              "      <td>196.5</td>\n",
              "      <td>331.0</td>\n",
              "      <td>200.0</td>\n",
              "      <td>283.3</td>\n",
              "      <td>True</td>\n",
              "    </tr>\n",
              "    <tr>\n",
              "      <th>13</th>\n",
              "      <td>2</td>\n",
              "      <td>Lunch Run</td>\n",
              "      <td>3994.2</td>\n",
              "      <td>1767</td>\n",
              "      <td>1811</td>\n",
              "      <td>30.0</td>\n",
              "      <td>Run</td>\n",
              "      <td>Run</td>\n",
              "      <td>NaN</td>\n",
              "      <td>7056276906</td>\n",
              "      <td>...</td>\n",
              "      <td>iomcFb_shVIA]DMAG@_@Vg@LIAKEe@]G?K\\m@^UXa@LKN[...</td>\n",
              "      <td>2</td>\n",
              "      <td>34.0</td>\n",
              "      <td>13.0</td>\n",
              "      <td>77.3</td>\n",
              "      <td>182.1</td>\n",
              "      <td>246.0</td>\n",
              "      <td>182.0</td>\n",
              "      <td>321.8</td>\n",
              "      <td>True</td>\n",
              "    </tr>\n",
              "  </tbody>\n",
              "</table>\n",
              "<p>14 rows × 58 columns</p>\n",
              "</div>\n",
              "      <button class=\"colab-df-convert\" onclick=\"convertToInteractive('df-b7e512dc-e1f7-4fb0-85cd-aebab29e01ff')\"\n",
              "              title=\"Convert this dataframe to an interactive table.\"\n",
              "              style=\"display:none;\">\n",
              "        \n",
              "  <svg xmlns=\"http://www.w3.org/2000/svg\" height=\"24px\"viewBox=\"0 0 24 24\"\n",
              "       width=\"24px\">\n",
              "    <path d=\"M0 0h24v24H0V0z\" fill=\"none\"/>\n",
              "    <path d=\"M18.56 5.44l.94 2.06.94-2.06 2.06-.94-2.06-.94-.94-2.06-.94 2.06-2.06.94zm-11 1L8.5 8.5l.94-2.06 2.06-.94-2.06-.94L8.5 2.5l-.94 2.06-2.06.94zm10 10l.94 2.06.94-2.06 2.06-.94-2.06-.94-.94-2.06-.94 2.06-2.06.94z\"/><path d=\"M17.41 7.96l-1.37-1.37c-.4-.4-.92-.59-1.43-.59-.52 0-1.04.2-1.43.59L10.3 9.45l-7.72 7.72c-.78.78-.78 2.05 0 2.83L4 21.41c.39.39.9.59 1.41.59.51 0 1.02-.2 1.41-.59l7.78-7.78 2.81-2.81c.8-.78.8-2.07 0-2.86zM5.41 20L4 18.59l7.72-7.72 1.47 1.35L5.41 20z\"/>\n",
              "  </svg>\n",
              "      </button>\n",
              "      \n",
              "  <style>\n",
              "    .colab-df-container {\n",
              "      display:flex;\n",
              "      flex-wrap:wrap;\n",
              "      gap: 12px;\n",
              "    }\n",
              "\n",
              "    .colab-df-convert {\n",
              "      background-color: #E8F0FE;\n",
              "      border: none;\n",
              "      border-radius: 50%;\n",
              "      cursor: pointer;\n",
              "      display: none;\n",
              "      fill: #1967D2;\n",
              "      height: 32px;\n",
              "      padding: 0 0 0 0;\n",
              "      width: 32px;\n",
              "    }\n",
              "\n",
              "    .colab-df-convert:hover {\n",
              "      background-color: #E2EBFA;\n",
              "      box-shadow: 0px 1px 2px rgba(60, 64, 67, 0.3), 0px 1px 3px 1px rgba(60, 64, 67, 0.15);\n",
              "      fill: #174EA6;\n",
              "    }\n",
              "\n",
              "    [theme=dark] .colab-df-convert {\n",
              "      background-color: #3B4455;\n",
              "      fill: #D2E3FC;\n",
              "    }\n",
              "\n",
              "    [theme=dark] .colab-df-convert:hover {\n",
              "      background-color: #434B5C;\n",
              "      box-shadow: 0px 1px 3px 1px rgba(0, 0, 0, 0.15);\n",
              "      filter: drop-shadow(0px 1px 2px rgba(0, 0, 0, 0.3));\n",
              "      fill: #FFFFFF;\n",
              "    }\n",
              "  </style>\n",
              "\n",
              "      <script>\n",
              "        const buttonEl =\n",
              "          document.querySelector('#df-b7e512dc-e1f7-4fb0-85cd-aebab29e01ff button.colab-df-convert');\n",
              "        buttonEl.style.display =\n",
              "          google.colab.kernel.accessAllowed ? 'block' : 'none';\n",
              "\n",
              "        async function convertToInteractive(key) {\n",
              "          const element = document.querySelector('#df-b7e512dc-e1f7-4fb0-85cd-aebab29e01ff');\n",
              "          const dataTable =\n",
              "            await google.colab.kernel.invokeFunction('convertToInteractive',\n",
              "                                                     [key], {});\n",
              "          if (!dataTable) return;\n",
              "\n",
              "          const docLinkHtml = 'Like what you see? Visit the ' +\n",
              "            '<a target=\"_blank\" href=https://colab.research.google.com/notebooks/data_table.ipynb>data table notebook</a>'\n",
              "            + ' to learn more about interactive tables.';\n",
              "          element.innerHTML = '';\n",
              "          dataTable['output_type'] = 'display_data';\n",
              "          await google.colab.output.renderOutput(dataTable, element);\n",
              "          const docLink = document.createElement('div');\n",
              "          docLink.innerHTML = docLinkHtml;\n",
              "          element.appendChild(docLink);\n",
              "        }\n",
              "      </script>\n",
              "    </div>\n",
              "  </div>\n",
              "  "
            ]
          },
          "metadata": {},
          "execution_count": 9
        }
      ]
    },
    {
      "cell_type": "code",
      "source": [
        "df_strava.get('average_cadence')"
      ],
      "metadata": {
        "colab": {
          "base_uri": "https://localhost:8080/"
        },
        "id": "FatgCRz8y1wB",
        "outputId": "c94b4862-f1ba-4996-affd-b2927d2ac5a9"
      },
      "execution_count": null,
      "outputs": [
        {
          "output_type": "execute_result",
          "data": {
            "text/plain": [
              "0      NaN\n",
              "1      NaN\n",
              "2      NaN\n",
              "3     77.0\n",
              "4     77.4\n",
              "5     78.4\n",
              "6     75.0\n",
              "7     78.0\n",
              "8     77.6\n",
              "9      NaN\n",
              "10    73.7\n",
              "11    53.9\n",
              "12    77.0\n",
              "13    77.3\n",
              "Name: average_cadence, dtype: float64"
            ]
          },
          "metadata": {},
          "execution_count": 35
        }
      ]
    },
    {
      "cell_type": "code",
      "source": [
        "df_strava.columns"
      ],
      "metadata": {
        "id": "oq0v3nA-YgtM",
        "outputId": "09875483-225f-43ee-c75d-e577189c5986",
        "colab": {
          "base_uri": "https://localhost:8080/"
        }
      },
      "execution_count": null,
      "outputs": [
        {
          "output_type": "execute_result",
          "data": {
            "text/plain": [
              "Index(['resource_state', 'name', 'distance', 'moving_time', 'elapsed_time',\n",
              "       'total_elevation_gain', 'type', 'sport_type', 'workout_type', 'id',\n",
              "       'start_date', 'start_date_local', 'timezone', 'utc_offset',\n",
              "       'location_city', 'location_state', 'location_country',\n",
              "       'achievement_count', 'kudos_count', 'comment_count', 'athlete_count',\n",
              "       'photo_count', 'trainer', 'commute', 'manual', 'private', 'visibility',\n",
              "       'flagged', 'gear_id', 'start_latlng', 'end_latlng', 'average_speed',\n",
              "       'max_speed', 'has_heartrate', 'average_heartrate', 'max_heartrate',\n",
              "       'heartrate_opt_out', 'display_hide_heartrate_option', 'upload_id',\n",
              "       'upload_id_str', 'external_id', 'from_accepted_tag', 'pr_count',\n",
              "       'total_photo_count', 'has_kudoed', 'athlete.id',\n",
              "       'athlete.resource_state', 'map.id', 'map.summary_polyline',\n",
              "       'map.resource_state', 'elev_high', 'elev_low', 'average_cadence',\n",
              "       'average_watts', 'max_watts', 'weighted_average_watts', 'kilojoules',\n",
              "       'device_watts'],\n",
              "      dtype='object')"
            ]
          },
          "metadata": {},
          "execution_count": 45
        }
      ]
    },
    {
      "cell_type": "markdown",
      "source": [
        "As you can see, that looks much more visually appealing than our json call. Using this DataFrame we can easily do different sorts of visualizations and Analysis on this data!"
      ],
      "metadata": {
        "id": "72QihLBreWPF"
      }
    },
    {
      "cell_type": "markdown",
      "source": [
        "#4. Data visualization"
      ],
      "metadata": {
        "id": "ecGH--zK2zQs"
      }
    },
    {
      "cell_type": "markdown",
      "source": [
        "##4.1 Visualizing participant's Overall Activity!"
      ],
      "metadata": {
        "id": "B0oIypSQesm-"
      }
    },
    {
      "cell_type": "markdown",
      "source": [
        "Whenever our participant is curious and logs into Strava to check their overall summary, the Strava app would present their data in the form of a barchart. It should look something similar to this: <br>\n",
        "<img src=\"https://i.imgur.com/cr5VYpu.png\" height=\"300\">\n",
        " <br>\n",
        "<i>Above is a plot from the app! </i><br> <br>\n",
        "\n",
        "Now that we have user's data, let's try to recreate the chart above using our python skills!"
      ],
      "metadata": {
        "id": "YNj-8VMugHj0"
      }
    },
    {
      "cell_type": "markdown",
      "source": [
        "\n",
        "<b>Note:</b> Overall summary includes distance from all the runs, walks and rides walks recorded by the participant."
      ],
      "metadata": {
        "id": "6AFSH9Ywkp9Y"
      }
    },
    {
      "cell_type": "markdown",
      "source": [
        "Based on the chart above, we can see that our total elevation gain is showed in feet while our data fetched from the API is in metre. So next lets convert our total elevation into feet. This step involves applying a formula to every elevation value (1 metre is numerically equal to 3.281 feet)."
      ],
      "metadata": {
        "id": "NanOiOjRgyfc"
      }
    },
    {
      "cell_type": "code",
      "source": [
        "#Converting all the elevation gains from metres to feet\n",
        "elevation_df = df_strava.assign(total_elevation_gain \n",
        "  = df_strava['total_elevation_gain'].apply(lambda elevation: elevation*3.281))"
      ],
      "metadata": {
        "id": "qPT2PooAe9d6"
      },
      "execution_count": null,
      "outputs": []
    },
    {
      "cell_type": "markdown",
      "source": [
        "Our data is not continuous, i.e. most participant do not run daily. In order to plot it correctly, we will create a dictionary of dates between the start and end date of our chart and store the elevation values."
      ],
      "metadata": {
        "id": "4zJ8l-oShBBN"
      }
    },
    {
      "cell_type": "code",
      "source": [
        "#@title Set date range for the chart above\n",
        "\n",
        "start = \"2022-04-25\" #@param {type:\"date\"}\n",
        "end = \"2022-05-25\" #@param {type:\"date\"}"
      ],
      "metadata": {
        "id": "g03TMiw4iYr5"
      },
      "execution_count": null,
      "outputs": []
    },
    {
      "cell_type": "code",
      "source": [
        "#Function that converts data into a date time object\n",
        "datefixer = lambda date: datetime.fromisoformat(date[0:10])\n",
        "\n",
        "#Applying datefixer function to every column of elevation_df\n",
        "elevation_df = elevation_df.assign(date \n",
        "                          = elevation_df.get('start_date').apply(datefixer))\n",
        "\n",
        "#Dictionary to store dates froms start to end date along with elevations\n",
        "date_etime = {}\n",
        "\n",
        "#Starting date of our chart\n",
        "start_date = date(int(start.split('-')[0]),int(start.split('-')[1]),\n",
        "                  int(start.split('-')[2]))\n",
        "\n",
        "#Ending date of our chart\n",
        "end_date = date(int(end.split('-')[0]),int(end.split('-')[1]),\n",
        "                int(end.split('-')[2]))\n",
        "\n",
        "#A list of all dates between start and end date\n",
        "dates = list(pd.date_range(start_date,end_date-timedelta(days=1),freq='d'))"
      ],
      "metadata": {
        "id": "HD6z_3Wpk_qG"
      },
      "execution_count": null,
      "outputs": []
    },
    {
      "cell_type": "code",
      "source": [
        "# Storing toal distance, time and elevation\n",
        "total_distance = 0\n",
        "total_time = 0\n",
        "total_elevation = 0\n",
        "\n",
        "#Loop to find the elevation for each date within the Data Frame\n",
        "for date_val in dates:\n",
        "  #Initializes the current date in the dictionary as zero\n",
        "  date_etime[str(date_val.day)+\" \"+str(date_val.month_name())[:3]] = 0\n",
        "  for actvity_index in range(len(elevation_df)):\n",
        "    #Checks if the current date is in the activity DataFrame\n",
        "      if(date_val == elevation_df.iloc[actvity_index].get('date')):\n",
        "        #Storing total time, distance and elevation\n",
        "        total_distance = (total_distance \n",
        "        + elevation_df.iloc[actvity_index].get('distance'))\n",
        "        total_time = (total_time +\n",
        "               elevation_df.iloc[actvity_index].get('moving_time'))\n",
        "        total_elevation = (total_elevation +\n",
        "               elevation_df.iloc[actvity_index].get('total_elevation_gain'))\n",
        "        #Stores the elevation of current date in dictionary\n",
        "        date_etime[(str(date_val.day)+\" \"+\n",
        "                  str(date_val.month_name())[:3])] = (date_etime[\n",
        "                  str(date_val.day)+\" \"+str(date_val.month_name())[:3]] +\n",
        "                  elevation_df.iloc[actvity_index].get('total_elevation_gain'))"
      ],
      "metadata": {
        "id": "f6M36TGAlLRH"
      },
      "execution_count": null,
      "outputs": []
    },
    {
      "cell_type": "markdown",
      "source": [
        "Below we will plot our dates dictionary to see how it looks like in its raw form."
      ],
      "metadata": {
        "id": "Ylo88gzxjk9_"
      }
    },
    {
      "cell_type": "code",
      "source": [
        "date_etime"
      ],
      "metadata": {
        "colab": {
          "base_uri": "https://localhost:8080/"
        },
        "id": "sNKHPFJUjlkN",
        "outputId": "bde6a5a3-adb2-4c12-a8af-0a0ab212695a"
      },
      "execution_count": null,
      "outputs": [
        {
          "output_type": "execute_result",
          "data": {
            "text/plain": [
              "{'25 Apr': 0,\n",
              " '26 Apr': 0,\n",
              " '27 Apr': 0,\n",
              " '28 Apr': 98.43,\n",
              " '29 Apr': 59.058,\n",
              " '30 Apr': 0,\n",
              " '1 May': 0,\n",
              " '2 May': 19.686,\n",
              " '3 May': 0.0,\n",
              " '4 May': 0,\n",
              " '5 May': 0,\n",
              " '6 May': 0,\n",
              " '7 May': 0,\n",
              " '8 May': 0,\n",
              " '9 May': 0,\n",
              " '10 May': 0,\n",
              " '11 May': 0,\n",
              " '12 May': 0,\n",
              " '13 May': 0,\n",
              " '14 May': 154.207,\n",
              " '15 May': 0,\n",
              " '16 May': 98.42999999999999,\n",
              " '17 May': 0,\n",
              " '18 May': 0,\n",
              " '19 May': 62.339000000000006,\n",
              " '20 May': 59.058,\n",
              " '21 May': 52.496,\n",
              " '22 May': 0,\n",
              " '23 May': 0,\n",
              " '24 May': 0}"
            ]
          },
          "metadata": {},
          "execution_count": 14
        }
      ]
    },
    {
      "cell_type": "markdown",
      "source": [
        "Finally, it is time to recreate the plot from above using our participant's data! We will also be installing some custom fonts to make our plot more aesthetic!"
      ],
      "metadata": {
        "id": "ryhXkXPpj3Wx"
      }
    },
    {
      "cell_type": "code",
      "source": [
        "#Resetting seaborn to prevent interference with matplotlib plots\n",
        "sns.reset_orig()\n",
        "\n",
        "\n",
        "# custom font\n",
        "# https://stackoverflow.com/questions/35668219/how-to-set-up-a-custom-font-with-custom-path-to-matplotlib-global-font\n",
        "# download the font and unzip (quiet so it does not print)\n",
        "!wget -q 'https://dl.dafont.com/dl/?f=mustica_pro'\n",
        "!unzip -qo \"index.html?f=mustica_pro\"\n",
        "\n",
        "# move to directory where fonts should be kept\n",
        "!mv MusticaPro-SemiBold.otf /usr/share/fonts/truetype/\n",
        "\n",
        "# build cache, redirect to /dev/null to suppress stdout output\n",
        "!fc-cache -f -v > /dev/null\n",
        "\n",
        "import matplotlib as mpl\n",
        "import matplotlib.font_manager as fm\n",
        "\n",
        "# try and except, just in case something fails we fallback onto the\n",
        "# default font\n",
        "try:\n",
        "    fe = fm.FontEntry(\n",
        "        #font name\n",
        "        fname='/usr/share/fonts/truetype/MusticaPro-SemiBold.otf',\n",
        "        name='mustica-pro')\n",
        "    fm.fontManager.ttflist.insert(0, fe) # or append is fine\n",
        "    mpl.rcParams['font.family'] = fe.name # = 'your custom ttf font name'\n",
        "except:\n",
        "    pass\n",
        "\n",
        "#Creating a matplotlib plot of size 16,4\n",
        "plt1 = plt.figure(figsize=(16,4))\n",
        "ax = plt1.gca()\n",
        "\n",
        "#Plotting a bar chart with our data in the dictionary\n",
        "plt.bar(date_etime.keys(),date_etime.values(),color=\"#0098DB\", width=0.9)\n",
        "\n",
        "#Adding the title to the chart\n",
        "plt.title( \"$\\\\bf{\"+str(round(total_distance / 1609,1))+\"}$mi  |  \"+\n",
        "          \"$\\\\bf{\"+str(round(total_time/3600))+\"}$h \"+\"$\\\\bf{\"+\n",
        "          str(round(total_time%60))+\"}$m  |  \"\n",
        "          +\"$\\\\bf{\"+str(round(total_elevation))+\"}$ft\")\n",
        "\n",
        "#Only showing xticks for one day/week\n",
        "ax.set_xticks(ax.get_xticks()[::7])\n",
        "\n",
        "#Limiting the y-axis based on our reference chart\n",
        "plt.ylim((0,350))\n",
        "plt.ylabel(\"Total Elevation Gain (Feet)\",color=\"#a1a1a1\")\n",
        "\n",
        "# Removing the spines on top, left and right\n",
        "ax.spines['top'].set_visible(False)\n",
        "ax.spines['right'].set_visible(False)\n",
        "ax.spines['left'].set_visible(False)\n",
        "\n",
        "ax.tick_params(left=False, bottom=True)\n",
        "\n",
        "#Setting the bottom spine to be the same color as the reference chart\n",
        "ax.spines['bottom'].set_color('#0098DB')\n",
        "plt.show()"
      ],
      "metadata": {
        "colab": {
          "base_uri": "https://localhost:8080/",
          "height": 282
        },
        "id": "_bzIjQ7okbD5",
        "outputId": "a15fe63b-44e0-4067-f31f-1945931e3dc7"
      },
      "execution_count": null,
      "outputs": [
        {
          "output_type": "display_data",
          "data": {
            "text/plain": [
              "<Figure size 1152x288 with 1 Axes>"
            ],
            "image/png": "[encoded data removed]"
          },
          "metadata": {
            "needs_background": "light"
          }
        }
      ]
    },
    {
      "cell_type": "markdown",
      "source": [
        "<i>Above is a plot we created ourselves!</i>"
      ],
      "metadata": {
        "id": "dq-VkXM5kLTC"
      }
    },
    {
      "cell_type": "markdown",
      "source": [
        "##4.2 Visualizing participant's Weekly Summary!"
      ],
      "metadata": {
        "id": "JEx6Okco23Z5"
      }
    },
    {
      "cell_type": "markdown",
      "source": [
        "If our participant is curious about a more detailed breakdown of their runs, Strava would show you their weekly summary using the following chart: <br>\n",
        "<img src=\"https://trailingclosure.com/content/images/2020/12/IMG_6409.jpg\" height=\"300\">\n",
        " <br>\n",
        "Again, Let's try to recreate it using the data we have fetched from the Strava API<br><br>\n",
        "<b>Note:</b> Weekly summary includes all the runs, walks and rides walks recorded by the participant."
      ],
      "metadata": {
        "id": "FpPTUeYB2-2H"
      }
    },
    {
      "cell_type": "markdown",
      "source": [
        "Enter the dates for the start and end dates for this chart below! "
      ],
      "metadata": {
        "id": "d162EZVSmOus"
      }
    },
    {
      "cell_type": "code",
      "source": [
        "#@title Set date range for the chart above\n",
        "\n",
        "start = \"2022-04-27\" #@param {type:\"date\"}\n",
        "end = \"2022-05-04\" #@param {type:\"date\"}"
      ],
      "metadata": {
        "id": "QRCkRnJHmXQQ"
      },
      "execution_count": null,
      "outputs": []
    },
    {
      "cell_type": "code",
      "source": [
        "#Function that converts data into a date time object\n",
        "datefixer = lambda date: datetime.fromisoformat(date[0:10])\n",
        "\n",
        "#Applying datefixer function to every column of df_strava_summary\n",
        "df_strava_summary = df_strava.assign(date \n",
        "                                =df_strava.get('start_date').apply(datefixer))\n",
        "\n",
        "#Dictionary to store the hourly frequency\n",
        "date_etime = {}\n",
        "\n",
        "#Starting date of our chart\n",
        "start_date = date(int(start.split('-')[0]),\n",
        "                  int(start.split('-')[1]),int(start.split('-')[2]))\n",
        "\n",
        "#Ending date of our chart\n",
        "end_date = date(int(end.split('-')[0]),\n",
        "                int(end.split('-')[1]),int(end.split('-')[2]))\n",
        "\n",
        "#Creating a list of dates between start and end date\n",
        "dates = list(pd.date_range(start_date,end_date-timedelta(days=1),freq='d'))"
      ],
      "metadata": {
        "id": "S0THJw6e6Rcm"
      },
      "execution_count": null,
      "outputs": []
    },
    {
      "cell_type": "markdown",
      "source": [
        "Similar to 4.1, we will be storing all the data in the dictionary and plotting it!"
      ],
      "metadata": {
        "id": "r898BMRYmTr4"
      }
    },
    {
      "cell_type": "code",
      "source": [
        "# Storing toal distance, time and elevation\n",
        "total_distance = 0\n",
        "total_time = 0\n",
        "total_elevation = 0\n",
        "\n",
        "for date_val in dates:\n",
        "  date_etime[str(date_val.day)+\" \"+str(date_val.month_name())[:3]] = 0\n",
        "  for actvity_index in range(len(df_strava_summary)):\n",
        "    #Checks if the current date is in the activity DataFrame\n",
        "      if(date_val == df_strava_summary.iloc[actvity_index].get('date')):\n",
        "\n",
        "        #Storing total time, distance and elevation\n",
        "\n",
        "        total_distance = (total_distance +\n",
        "                          df_strava_summary.iloc[actvity_index].get('distance'))\n",
        "        \n",
        "        total_time = (total_time +\n",
        "                      df_strava_summary.iloc[actvity_index].get('moving_time'))\n",
        "        \n",
        "        total_elevation = (total_elevation +\n",
        "              df_strava_summary.iloc[actvity_index].get('total_elevation_gain'))\n",
        "        \n",
        "        #Stores the elevation of moving time in dictionary\n",
        "        date_etime[str(date_val.day)+\" \"\n",
        "        +str(date_val.month_name())[:3]] = (date_etime[str(date_val.day)\n",
        "        +\" \"+str(date_val.month_name())[:3]] +\n",
        "         df_strava_summary.iloc[actvity_index].get('moving_time')/60)"
      ],
      "metadata": {
        "id": "ip-CnS8H3A0y"
      },
      "execution_count": null,
      "outputs": []
    },
    {
      "cell_type": "markdown",
      "source": [
        "Now that we have all the data required, we can finally plot the chart we saw above!"
      ],
      "metadata": {
        "id": "JTKBuHWBmxHJ"
      }
    },
    {
      "cell_type": "code",
      "source": [
        "#Resetting seaborn to prevent interference with matplotlib plots\n",
        "sns.reset_orig()\n",
        "\n",
        "# Creating a matplotlib plot of size 16,8\n",
        "plt1 = plt.figure(figsize=(16,8))\n",
        "ax = plt1.gca()\n",
        "\n",
        "\n",
        "plt.plot(list(date_etime.keys()),list(date_etime.values()),color=\"#FC5200\",\n",
        "         marker='o', fillstyle='none', lw=3, markerfacecolor='white', ms=20, \n",
        "         mew=3, markeredgecolor='#FC5200')\n",
        "\n",
        "plt.fill_between(list(date_etime.keys()),\n",
        "                 list(date_etime.values()), facecolor='#FC5200',alpha=0.1)\n",
        "\n",
        "\n",
        "\n",
        "# Adding veritcal grids\n",
        "plt.grid(axis=\"x\")\n",
        "\n",
        "# Hiding the y-ticks\n",
        "ax.axes.get_yaxis().set_visible(False)\n",
        "\n",
        "#Adding the title to the chart\n",
        "plt.suptitle(list(date_etime.keys())[0]+\" - \"+\n",
        "             list(date_etime.keys())[-1],fontsize=24,x=0.195)\n",
        "#Adding the subtitle to the chart\n",
        "plt.title( \"$\\\\bf{\"+str(round(total_distance / 1609,1))+\"}$mi  |  \"+\n",
        "          \"$\\\\bf{\"+str(round(total_time/3600))+\"}$h \"+\"$\\\\bf{\"+\n",
        "          str(round(total_time%60))+\"}$m  |  \"+\"$\\\\bf{\"+\n",
        "          str(round(total_elevation))+\"}$ft\",fontsize=18,loc='left')\n",
        "\n",
        "# Removing the spines on top, left and right\n",
        "ax.spines['top'].set_visible(False)\n",
        "ax.spines['right'].set_visible(False)\n",
        "ax.spines['left'].set_visible(False)"
      ],
      "metadata": {
        "colab": {
          "base_uri": "https://localhost:8080/",
          "height": 540
        },
        "id": "4Z2iHrlc3Ddi",
        "outputId": "0a2a606f-be8d-442a-e717-0278146278a8"
      },
      "execution_count": null,
      "outputs": [
        {
          "output_type": "display_data",
          "data": {
            "text/plain": [
              "<Figure size 1152x576 with 1 Axes>"
            ],
            "image/png": "[encoded data removed]"
          },
          "metadata": {
            "needs_background": "light"
          }
        }
      ]
    },
    {
      "cell_type": "markdown",
      "source": [
        "<i>Above is a plot we created ourselves!</i>"
      ],
      "metadata": {
        "id": "Cll2G2_pm94r"
      }
    },
    {
      "cell_type": "markdown",
      "source": [
        "##4.3 Visualizing Participant's Runs!"
      ],
      "metadata": {
        "id": "HmBrLCok3L_L"
      }
    },
    {
      "cell_type": "markdown",
      "source": [
        "Strava's website and app allows the user to visualize the routes for all their activities recorded synced on the Strava application. It is a very interesting feature as it lets the participants view the exact route they took during their activity on an actual map.\n",
        "\n",
        "<img src=\"https://blog.strava.com/wp-content/uploads/2020/03/03-Save-Sync-Share.png\"> <br>\n",
        "\n",
        "\n",
        "Let's try to recreate the plots using the participant's data! <br> <br>\n",
        "Here's a reference to how our overall result will look like\n",
        "\n",
        "<img src=\"https://cf.veloviewer.com/img/veloviewer-strava-segments-homepage.png\" width=700>"
      ],
      "metadata": {
        "id": "u5yR8QFIqSb9"
      }
    },
    {
      "cell_type": "markdown",
      "source": [
        "Interestingly, Strava provides us with this route data in the form of polylines. In the df_strava dataframe we can see a column called summary_polyline for all the individual activities. We will be using this column for our plot! <br>\n",
        "\n",
        "Polyline is a encoded format that store coordinate location and it has to be decoded before it can be used. If we have a closer look into it, it is a bunch of characters that make no sense to an average reader."
      ],
      "metadata": {
        "id": "TCphEChrsBZt"
      }
    },
    {
      "cell_type": "code",
      "source": [
        "df_strava.get(['map.summary_polyline'])"
      ],
      "metadata": {
        "colab": {
          "base_uri": "https://localhost:8080/",
          "height": 488
        },
        "id": "0jv776CHsAJa",
        "outputId": "5b1cb100-914b-4041-e0c6-d8687477bad2"
      },
      "execution_count": null,
      "outputs": [
        {
          "output_type": "execute_result",
          "data": {
            "text/plain": [
              "                                 map.summary_polyline\n",
              "0                                                    \n",
              "1   mnzrIuwlkABDIw@CCAVCCNZr@p@LFIDFFb@NVRGBs@QWk@...\n",
              "2   urwrIkyriADxDGtB[zEM|@YrA{EdOgBzEaAvCoObg@cEjN...\n",
              "3   gklcFdtshV@HIJMFO@u@Gs@SYA{@Oq@]]_@k@K_@S[KmAO...\n",
              "4   mtlcFrqshVq@IKGIMEAqAW_@CgASSMiAWYIe@Im@WWQ]BY...\n",
              "5   ailcF|lshVFKF]AEIG[AcAUi@G]Mg@?s@[i@Au@Ye@W_@M...\n",
              "6   ovlcFhrshVy@GmAWa@CUIQMQUGS?GTm@D[J]Fk@JUBQ?]I...\n",
              "7   wilcFltshVCEGCYFW@e@QSAU@GAQG]EgBg@q@Kc@BW?m@G...\n",
              "8   aflcFpzshVALPz@Rb@DFD@hAo@N@HCt@y@HGHAPBPHPh@J...\n",
              "9                                                    \n",
              "10  utlcFvrshVCQSUYUWMG?YDa@L_@Xq@N_@VQHAh@Ml@Y|B?...\n",
              "11  akicFdvihVFJj@`@\\H^Rf@PPNJR?BSHc@r@O@UIMAKZCRI...\n",
              "12  amlcFhushVEGWGOIgA?g@Wu@ISSOYIGo@IUBM?aASWBe@R...\n",
              "13  iomcFb_shVIA]DMAG@_@Vg@LIAKEe@]G?K\\m@^UXa@LKN[..."
            ],
            "text/html": [
              "\n",
              "  <div id=\"df-3c4cdfe9-c65c-4cdf-a81f-7acbe835ceb7\">\n",
              "    <div class=\"colab-df-container\">\n",
              "      <div>\n",
              "<style scoped>\n",
              "    .dataframe tbody tr th:only-of-type {\n",
              "        vertical-align: middle;\n",
              "    }\n",
              "\n",
              "    .dataframe tbody tr th {\n",
              "        vertical-align: top;\n",
              "    }\n",
              "\n",
              "    .dataframe thead th {\n",
              "        text-align: right;\n",
              "    }\n",
              "</style>\n",
              "<table border=\"1\" class=\"dataframe\">\n",
              "  <thead>\n",
              "    <tr style=\"text-align: right;\">\n",
              "      <th></th>\n",
              "      <th>map.summary_polyline</th>\n",
              "    </tr>\n",
              "  </thead>\n",
              "  <tbody>\n",
              "    <tr>\n",
              "      <th>0</th>\n",
              "      <td></td>\n",
              "    </tr>\n",
              "    <tr>\n",
              "      <th>1</th>\n",
              "      <td>mnzrIuwlkABDIw@CCAVCCNZr@p@LFIDFFb@NVRGBs@QWk@...</td>\n",
              "    </tr>\n",
              "    <tr>\n",
              "      <th>2</th>\n",
              "      <td>urwrIkyriADxDGtB[zEM|@YrA{EdOgBzEaAvCoObg@cEjN...</td>\n",
              "    </tr>\n",
              "    <tr>\n",
              "      <th>3</th>\n",
              "      <td>gklcFdtshV@HIJMFO@u@Gs@SYA{@Oq@]]_@k@K_@S[KmAO...</td>\n",
              "    </tr>\n",
              "    <tr>\n",
              "      <th>4</th>\n",
              "      <td>mtlcFrqshVq@IKGIMEAqAW_@CgASSMiAWYIe@Im@WWQ]BY...</td>\n",
              "    </tr>\n",
              "    <tr>\n",
              "      <th>5</th>\n",
              "      <td>ailcF|lshVFKF]AEIG[AcAUi@G]Mg@?s@[i@Au@Ye@W_@M...</td>\n",
              "    </tr>\n",
              "    <tr>\n",
              "      <th>6</th>\n",
              "      <td>ovlcFhrshVy@GmAWa@CUIQMQUGS?GTm@D[J]Fk@JUBQ?]I...</td>\n",
              "    </tr>\n",
              "    <tr>\n",
              "      <th>7</th>\n",
              "      <td>wilcFltshVCEGCYFW@e@QSAU@GAQG]EgBg@q@Kc@BW?m@G...</td>\n",
              "    </tr>\n",
              "    <tr>\n",
              "      <th>8</th>\n",
              "      <td>aflcFpzshVALPz@Rb@DFD@hAo@N@HCt@y@HGHAPBPHPh@J...</td>\n",
              "    </tr>\n",
              "    <tr>\n",
              "      <th>9</th>\n",
              "      <td></td>\n",
              "    </tr>\n",
              "    <tr>\n",
              "      <th>10</th>\n",
              "      <td>utlcFvrshVCQSUYUWMG?YDa@L_@Xq@N_@VQHAh@Ml@Y|B?...</td>\n",
              "    </tr>\n",
              "    <tr>\n",
              "      <th>11</th>\n",
              "      <td>akicFdvihVFJj@`@\\H^Rf@PPNJR?BSHc@r@O@UIMAKZCRI...</td>\n",
              "    </tr>\n",
              "    <tr>\n",
              "      <th>12</th>\n",
              "      <td>amlcFhushVEGWGOIgA?g@Wu@ISSOYIGo@IUBM?aASWBe@R...</td>\n",
              "    </tr>\n",
              "    <tr>\n",
              "      <th>13</th>\n",
              "      <td>iomcFb_shVIA]DMAG@_@Vg@LIAKEe@]G?K\\m@^UXa@LKN[...</td>\n",
              "    </tr>\n",
              "  </tbody>\n",
              "</table>\n",
              "</div>\n",
              "      <button class=\"colab-df-convert\" onclick=\"convertToInteractive('df-3c4cdfe9-c65c-4cdf-a81f-7acbe835ceb7')\"\n",
              "              title=\"Convert this dataframe to an interactive table.\"\n",
              "              style=\"display:none;\">\n",
              "        \n",
              "  <svg xmlns=\"http://www.w3.org/2000/svg\" height=\"24px\"viewBox=\"0 0 24 24\"\n",
              "       width=\"24px\">\n",
              "    <path d=\"M0 0h24v24H0V0z\" fill=\"none\"/>\n",
              "    <path d=\"M18.56 5.44l.94 2.06.94-2.06 2.06-.94-2.06-.94-.94-2.06-.94 2.06-2.06.94zm-11 1L8.5 8.5l.94-2.06 2.06-.94-2.06-.94L8.5 2.5l-.94 2.06-2.06.94zm10 10l.94 2.06.94-2.06 2.06-.94-2.06-.94-.94-2.06-.94 2.06-2.06.94z\"/><path d=\"M17.41 7.96l-1.37-1.37c-.4-.4-.92-.59-1.43-.59-.52 0-1.04.2-1.43.59L10.3 9.45l-7.72 7.72c-.78.78-.78 2.05 0 2.83L4 21.41c.39.39.9.59 1.41.59.51 0 1.02-.2 1.41-.59l7.78-7.78 2.81-2.81c.8-.78.8-2.07 0-2.86zM5.41 20L4 18.59l7.72-7.72 1.47 1.35L5.41 20z\"/>\n",
              "  </svg>\n",
              "      </button>\n",
              "      \n",
              "  <style>\n",
              "    .colab-df-container {\n",
              "      display:flex;\n",
              "      flex-wrap:wrap;\n",
              "      gap: 12px;\n",
              "    }\n",
              "\n",
              "    .colab-df-convert {\n",
              "      background-color: #E8F0FE;\n",
              "      border: none;\n",
              "      border-radius: 50%;\n",
              "      cursor: pointer;\n",
              "      display: none;\n",
              "      fill: #1967D2;\n",
              "      height: 32px;\n",
              "      padding: 0 0 0 0;\n",
              "      width: 32px;\n",
              "    }\n",
              "\n",
              "    .colab-df-convert:hover {\n",
              "      background-color: #E2EBFA;\n",
              "      box-shadow: 0px 1px 2px rgba(60, 64, 67, 0.3), 0px 1px 3px 1px rgba(60, 64, 67, 0.15);\n",
              "      fill: #174EA6;\n",
              "    }\n",
              "\n",
              "    [theme=dark] .colab-df-convert {\n",
              "      background-color: #3B4455;\n",
              "      fill: #D2E3FC;\n",
              "    }\n",
              "\n",
              "    [theme=dark] .colab-df-convert:hover {\n",
              "      background-color: #434B5C;\n",
              "      box-shadow: 0px 1px 3px 1px rgba(0, 0, 0, 0.15);\n",
              "      filter: drop-shadow(0px 1px 2px rgba(0, 0, 0, 0.3));\n",
              "      fill: #FFFFFF;\n",
              "    }\n",
              "  </style>\n",
              "\n",
              "      <script>\n",
              "        const buttonEl =\n",
              "          document.querySelector('#df-3c4cdfe9-c65c-4cdf-a81f-7acbe835ceb7 button.colab-df-convert');\n",
              "        buttonEl.style.display =\n",
              "          google.colab.kernel.accessAllowed ? 'block' : 'none';\n",
              "\n",
              "        async function convertToInteractive(key) {\n",
              "          const element = document.querySelector('#df-3c4cdfe9-c65c-4cdf-a81f-7acbe835ceb7');\n",
              "          const dataTable =\n",
              "            await google.colab.kernel.invokeFunction('convertToInteractive',\n",
              "                                                     [key], {});\n",
              "          if (!dataTable) return;\n",
              "\n",
              "          const docLinkHtml = 'Like what you see? Visit the ' +\n",
              "            '<a target=\"_blank\" href=https://colab.research.google.com/notebooks/data_table.ipynb>data table notebook</a>'\n",
              "            + ' to learn more about interactive tables.';\n",
              "          element.innerHTML = '';\n",
              "          dataTable['output_type'] = 'display_data';\n",
              "          await google.colab.output.renderOutput(dataTable, element);\n",
              "          const docLink = document.createElement('div');\n",
              "          docLink.innerHTML = docLinkHtml;\n",
              "          element.appendChild(docLink);\n",
              "        }\n",
              "      </script>\n",
              "    </div>\n",
              "  </div>\n",
              "  "
            ]
          },
          "metadata": {},
          "execution_count": 20
        }
      ]
    },
    {
      "cell_type": "markdown",
      "source": [
        "However, we can use a decode function to convert this sequence of characters into something meaningful. Here's an example of how the decoded summary forms the coordinates."
      ],
      "metadata": {
        "id": "5EajCS2dtheS"
      }
    },
    {
      "cell_type": "code",
      "source": [
        "# [:10] limits the number of coordinates to just the first 10\n",
        "fixed_df = df_strava.iloc[0].get(['map.summary_polyline']).apply(\n",
        "    polyline.decode)\n",
        "fixed_df['map.summary_polyline'][:10]"
      ],
      "metadata": {
        "colab": {
          "base_uri": "https://localhost:8080/"
        },
        "id": "twGpiVk7tglU",
        "outputId": "a39b28b7-e9bd-4c01-f3b1-6a72fb6804a2"
      },
      "execution_count": null,
      "outputs": [
        {
          "output_type": "execute_result",
          "data": {
            "text/plain": [
              "[]"
            ]
          },
          "metadata": {},
          "execution_count": 21
        }
      ]
    },
    {
      "cell_type": "markdown",
      "source": [
        "Interestingly, the gibbeish above turns into coordinate points after decoding!"
      ],
      "metadata": {
        "id": "J2GHTcYMoI-1"
      }
    },
    {
      "cell_type": "markdown",
      "source": [
        "Next we will save the coordinates of the first map and find its centroid to center our map. If we don't do this, our map would not be able to focus on the set of coordinates that we have!\n",
        "<br><br>\n",
        "<b>Note:</b> We will be using a library called folium to display an interactive map and plotting our polylines above it."
      ],
      "metadata": {
        "id": "6mu3OrB6onwz"
      }
    },
    {
      "cell_type": "code",
      "source": [
        "#Dictionary to save the coordinates of the first ride\n",
        "my_ride = df_strava.iloc[1].get(['map.summary_polyline']).apply(polyline.decode)['map.summary_polyline']"
      ],
      "metadata": {
        "id": "-VSGSgmz_6vu"
      },
      "execution_count": null,
      "outputs": []
    },
    {
      "cell_type": "code",
      "source": [
        "#Select one activity to find the centroid of the map.\n",
        "centroid = [\n",
        "    np.mean([coord[0] for coord in my_ride]), \n",
        "    np.mean([coord[1] for coord in my_ride])\n",
        "  ]\n",
        "\n",
        "#Creating a map \n",
        "m = folium.Map(location=centroid, zoom_start=13)\n",
        "\n",
        "# Plot all rides on map\n",
        "for i in range(len(df_strava)):\n",
        "  if len(df_strava.iloc[i].get(\n",
        "      ['map.summary_polyline'])['map.summary_polyline']) == 0:\n",
        "    continue\n",
        "\n",
        "  # Polyline.decode is a function that helps us decode this polyline data to coordinates\n",
        "  my_ride = df_strava.iloc[i].get(['map.summary_polyline']).apply(\n",
        "      polyline.decode)['map.summary_polyline']\n",
        "\n",
        "  # We plot the route on the map.\n",
        "  print(my_ride)\n",
        "  folium.PolyLine(my_ride, color='red').add_to(m)\n",
        "display(m)"
      ],
      "metadata": {
        "colab": {
          "base_uri": "https://localhost:8080/",
          "height": 1000
        },
        "id": "-7E6jadOqD-_",
        "outputId": "f5804347-c0a6-4008-a407-ab23890df742"
      },
      "execution_count": null,
      "outputs": [
        {
          "output_type": "stream",
          "name": "stdout",
          "text": [
            "[(55.68247, 12.52235), (55.68245, 12.52232), (55.6825, 12.5226), (55.68252, 12.52262), (55.68253, 12.5225), (55.68255, 12.52252), (55.68247, 12.52238), (55.68221, 12.52213), (55.68214, 12.52209), (55.68219, 12.52206), (55.68215, 12.52202), (55.68197, 12.52194), (55.68185, 12.52184), (55.68189, 12.52182), (55.68215, 12.52191), (55.68227, 12.52213), (55.68228, 12.52209), (55.68227, 12.52201), (55.68229, 12.52202), (55.68234, 12.52199), (55.68231, 12.52191), (55.68229, 12.52193), (55.68225, 12.52187)]\n",
            "[(55.66779, 12.22566), (55.66776, 12.22473), (55.6678, 12.22414), (55.66794, 12.22304), (55.66801, 12.22273), (55.66814, 12.22231), (55.66924, 12.21972), (55.66976, 12.21862), (55.67009, 12.21786), (55.67273, 12.21144), (55.67371, 12.20898), (55.67397, 12.20837), (55.674, 12.20833), (55.67405, 12.20832), (55.67411, 12.20838), (55.67458, 12.20933), (55.67533, 12.21116), (55.67563, 12.21199), (55.67575, 12.21236), (55.67589, 12.21309), (55.67611, 12.21479), (55.67616, 12.21577), (55.67631, 12.21725), (55.6764, 12.21793), (55.67651, 12.21852), (55.6766, 12.21885), (55.67674, 12.21917), (55.67686, 12.21979), (55.67695, 12.22011), (55.67745, 12.22147), (55.67781, 12.22253), (55.67802, 12.22319), (55.67894, 12.22651), (55.67906, 12.22709), (55.67912, 12.22752), (55.67914, 12.22796), (55.67915, 12.22937), (55.67915, 12.23255), (55.67912, 12.23389), (55.67907, 12.23506), (55.67901, 12.23583), (55.67885, 12.23723), (55.67839, 12.24041), (55.67823, 12.24168), (55.67814, 12.2427), (55.67804, 12.24574), (55.6779, 12.25236), (55.67788, 12.25261), (55.67786, 12.25273), (55.67782, 12.25282), (55.67777, 12.25288), (55.6777, 12.25292), (55.67684, 12.25313), (55.67531, 12.25356), (55.67436, 12.25385), (55.6741, 12.2539), (55.67158, 12.25376), (55.67079, 12.25375), (55.66911, 12.25367), (55.66854, 12.25361), (55.66846, 12.25355), (55.6684, 12.25346), (55.66835, 12.25327), (55.6683, 12.25293), (55.66802, 12.25067), (55.66762, 12.24803), (55.66752, 12.24731), (55.66718, 12.24504), (55.66654, 12.24092), (55.66644, 12.24019), (55.66642, 12.23983), (55.66643, 12.2393), (55.66646, 12.23897), (55.66665, 12.23793), (55.66673, 12.23737), (55.66706, 12.23308), (55.66727, 12.23065), (55.66775, 12.22658), (55.66779, 12.22592), (55.66774, 12.22474)]\n",
            "[(37.42404, -122.16659), (37.42403, -122.16664), (37.42408, -122.1667), (37.42415, -122.16674), (37.42423, -122.16675), (37.4245, -122.16671), (37.42476, -122.16661), (37.42489, -122.1666), (37.42519, -122.16652), (37.42544, -122.16637), (37.42559, -122.16621), (37.42581, -122.16615), (37.42597, -122.16605), (37.42611, -122.16599), (37.4265, -122.16591), (37.42665, -122.16585), (37.42692, -122.16569), (37.42707, -122.16567), (37.42754, -122.1655), (37.42769, -122.16542), (37.42795, -122.16524), (37.42829, -122.16519), (37.42865, -122.16509), (37.42882, -122.16507), (37.4291, -122.16495), (37.42939, -122.16489), (37.42961, -122.16481), (37.42981, -122.16475), (37.4301, -122.16472), (37.43073, -122.16451), (37.431, -122.16438), (37.43143, -122.16423), (37.43155, -122.16399), (37.43158, -122.16397), (37.43179, -122.16406), (37.43186, -122.16429), (37.43188, -122.16433), (37.43195, -122.16437), (37.43209, -122.16429), (37.43233, -122.1642), (37.4324, -122.16413), (37.43248, -122.16404), (37.43276, -122.16399), (37.43305, -122.16388), (37.43311, -122.16389), (37.43319, -122.16395), (37.43328, -122.164), (37.43338, -122.164), (37.43346, -122.16394), (37.43364, -122.16376), (37.43396, -122.16361), (37.43403, -122.1636), (37.43423, -122.16361), (37.43474, -122.16355), (37.43508, -122.16358), (37.43523, -122.16357), (37.43534, -122.16355), (37.43564, -122.16341), (37.43572, -122.16339), (37.43582, -122.16339), (37.43594, -122.16334), (37.43604, -122.16337), (37.43613, -122.16346), (37.43623, -122.16366), (37.43618, -122.16378), (37.43617, -122.16383), (37.43619, -122.16388), (37.43624, -122.16393), (37.43643, -122.16404), (37.43653, -122.16416), (37.43668, -122.16441), (37.43681, -122.16468), (37.43713, -122.1652), (37.43719, -122.16534), (37.43733, -122.16556), (37.43729, -122.16559), (37.43692, -122.16562), (37.43658, -122.16567), (37.43617, -122.16566), (37.43592, -122.16569), (37.4356, -122.16567), (37.43538, -122.16569), (37.43528, -122.16572), (37.4351, -122.16583), (37.43483, -122.16589), (37.43456, -122.16598), (37.43447, -122.16596), (37.43441, -122.16589), (37.43436, -122.16578), (37.43434, -122.16568), (37.43436, -122.16557), (37.43442, -122.16548), (37.43451, -122.16541), (37.43466, -122.16533), (37.43484, -122.16529), (37.43492, -122.16524), (37.43504, -122.1651), (37.4351, -122.16498), (37.43511, -122.16491), (37.4351, -122.16477), (37.43504, -122.16464), (37.43484, -122.16427), (37.4345, -122.16371), (37.43448, -122.16361), (37.4345, -122.16358), (37.43458, -122.16354), (37.43475, -122.16354), (37.43512, -122.16357), (37.4353, -122.16353), (37.43574, -122.1634), (37.43586, -122.16338), (37.43594, -122.16341), (37.43602, -122.16353), (37.4362, -122.16389), (37.43629, -122.16398), (37.43642, -122.16407), (37.4365, -122.16415), (37.4367, -122.16453), (37.43691, -122.16485), (37.43705, -122.16514), (37.43718, -122.16534), (37.43722, -122.16544), (37.43718, -122.16552), (37.4371, -122.16558), (37.43702, -122.16561), (37.43661, -122.16567), (37.43641, -122.16566), (37.43555, -122.16571), (37.43536, -122.1657), (37.43506, -122.16584), (37.43462, -122.16596), (37.43453, -122.16597), (37.43447, -122.16595), (37.43438, -122.16585), (37.43436, -122.16575), (37.43436, -122.16566), (37.4344, -122.16539), (37.43446, -122.16532), (37.4345, -122.16531), (37.43473, -122.16536), (37.43483, -122.16533), (37.43492, -122.16527), (37.435, -122.16518), (37.43506, -122.16506), (37.4351, -122.16493), (37.43509, -122.16487), (37.43504, -122.16465), (37.43496, -122.16448), (37.43475, -122.16411), (37.43441, -122.16361), (37.43433, -122.16354), (37.43407, -122.16349), (37.43382, -122.16354), (37.43353, -122.16359), (37.43303, -122.16372), (37.43269, -122.16384), (37.43247, -122.16397), (37.43226, -122.16411), (37.4318, -122.16432), (37.43157, -122.16453), (37.43148, -122.1645), (37.4314, -122.16445), (37.43131, -122.16441), (37.43122, -122.1644), (37.43107, -122.16448), (37.43095, -122.1645), (37.43081, -122.16457), (37.4303, -122.16461), (37.43011, -122.16466), (37.42988, -122.16477), (37.42954, -122.16489), (37.42937, -122.16493), (37.42916, -122.16504), (37.42901, -122.16509), (37.42891, -122.16509), (37.42878, -122.16502), (37.42867, -122.165), (37.4282, -122.16516), (37.42784, -122.16521), (37.42725, -122.16542), (37.42701, -122.16547), (37.42661, -122.16565), (37.42638, -122.16573), (37.42627, -122.16577), (37.42611, -122.16579), (37.42585, -122.16592), (37.42566, -122.16605), (37.42549, -122.16609), (37.42525, -122.16618), (37.42499, -122.16624), (37.42481, -122.16626), (37.42457, -122.16634), (37.42425, -122.16642), (37.42411, -122.16648), (37.424, -122.16651)]\n",
            "[(37.42551, -122.16618), (37.42576, -122.16613), (37.42582, -122.16609), (37.42587, -122.16602), (37.4259, -122.16601), (37.42631, -122.16589), (37.42647, -122.16587), (37.42683, -122.16577), (37.42693, -122.1657), (37.4273, -122.16558), (37.42743, -122.16553), (37.42762, -122.16548), (37.42785, -122.16536), (37.42797, -122.16527), (37.42812, -122.16529), (37.42825, -122.16526), (37.4284, -122.16526), (37.42861, -122.16518), (37.42876, -122.16514), (37.42911, -122.16499), (37.42922, -122.16497), (37.42935, -122.16492), (37.42946, -122.16491), (37.42979, -122.16479), (37.42996, -122.16477), (37.43013, -122.1647), (37.43042, -122.16462), (37.43069, -122.16446), (37.43088, -122.16437), (37.43113, -122.1643), (37.43128, -122.16424), (37.43145, -122.16412), (37.43154, -122.16393), (37.43157, -122.16391), (37.43167, -122.16398), (37.43177, -122.16403), (37.43185, -122.1643), (37.43204, -122.1645), (37.43228, -122.1647), (37.43246, -122.16492), (37.43255, -122.165), (37.43269, -122.16505), (37.43314, -122.16538), (37.43329, -122.16559), (37.43352, -122.16599), (37.43357, -122.16604), (37.43367, -122.1661), (37.4337, -122.16613), (37.43374, -122.16625), (37.43376, -122.16628), (37.43379, -122.16629), (37.43388, -122.16627), (37.43392, -122.16624), (37.43412, -122.16589), (37.43429, -122.1657), (37.43432, -122.16561), (37.43436, -122.16542), (37.43445, -122.16526), (37.43461, -122.16509), (37.43502, -122.16477), (37.43528, -122.16444), (37.43546, -122.16434), (37.43561, -122.16407), (37.43569, -122.16402), (37.43594, -122.16408), (37.4361, -122.16408), (37.43633, -122.16403), (37.43641, -122.16407), (37.43649, -122.16413), (37.43695, -122.16491), (37.43711, -122.16524), (37.43733, -122.16554), (37.43735, -122.16555), (37.43736, -122.16553), (37.43717, -122.16505), (37.43705, -122.16486), (37.43676, -122.16428), (37.43663, -122.16406), (37.43652, -122.16393), (37.43631, -122.16378), (37.43628, -122.16374), (37.43616, -122.16352), (37.43604, -122.16332), (37.43594, -122.16324), (37.43582, -122.16321), (37.43569, -122.16324), (37.43527, -122.16339), (37.43511, -122.16342), (37.43495, -122.16342), (37.43473, -122.16339), (37.43428, -122.1634), (37.43397, -122.16342), (37.43365, -122.16347), (37.43341, -122.16357), (37.43308, -122.16363), (37.43285, -122.16376), (37.4326, -122.16387), (37.43222, -122.16406), (37.43192, -122.16418), (37.43174, -122.16427), (37.43159, -122.1644), (37.43154, -122.16442), (37.43146, -122.16442), (37.43126, -122.16433), (37.43114, -122.16432), (37.43108, -122.16434), (37.43089, -122.1644), (37.43065, -122.16452), (37.43039, -122.16457), (37.42987, -122.16475), (37.42963, -122.16485), (37.4295, -122.16488), (37.42917, -122.165), (37.42876, -122.16512), (37.42851, -122.16525), (37.42828, -122.16532), (37.42806, -122.16544), (37.42805, -122.16544), (37.42804, -122.16534), (37.42796, -122.16528), (37.42783, -122.16525), (37.42769, -122.16528), (37.42742, -122.16538), (37.42728, -122.16546), (37.42713, -122.16548), (37.42687, -122.16556), (37.42676, -122.16562), (37.42644, -122.16574), (37.4259, -122.16588), (37.42571, -122.16599), (37.42552, -122.16607), (37.42532, -122.16612), (37.42503, -122.16625), (37.42458, -122.16634), (37.42428, -122.1665), (37.42383, -122.16664), (37.42374, -122.1667), (37.42364, -122.16682), (37.42362, -122.16684), (37.42354, -122.16659)]\n",
            "[(37.42369, -122.16543), (37.42365, -122.16537), (37.42361, -122.16522), (37.42362, -122.16519), (37.42367, -122.16515), (37.42381, -122.16514), (37.42415, -122.16503), (37.42436, -122.16499), (37.42451, -122.16492), (37.42471, -122.16492), (37.42497, -122.16478), (37.42518, -122.16477), (37.42545, -122.16464), (37.42564, -122.16452), (37.4258, -122.16445), (37.42612, -122.16446), (37.4262, -122.16445), (37.42637, -122.16439), (37.42652, -122.16437), (37.42662, -122.16432), (37.4268, -122.16419), (37.42714, -122.16411), (37.42734, -122.164), (37.42753, -122.16395), (37.42758, -122.16397), (37.42762, -122.16401), (37.42763, -122.16401), (37.42783, -122.16419), (37.428, -122.16492), (37.42815, -122.16502), (37.42828, -122.16515), (37.42834, -122.16515), (37.42868, -122.16503), (37.42893, -122.16497), (37.42906, -122.16499), (37.42915, -122.16506), (37.42919, -122.16507), (37.4293, -122.16506), (37.42948, -122.16502), (37.42958, -122.16504), (37.42962, -122.16504), (37.42975, -122.165), (37.42991, -122.16488), (37.43003, -122.16483), (37.4302, -122.16482), (37.43047, -122.16475), (37.43083, -122.16463), (37.43102, -122.16455), (37.43119, -122.16449), (37.43126, -122.16449), (37.4314, -122.16456), (37.43156, -122.1646), (37.43176, -122.16479), (37.43183, -122.16482), (37.43188, -122.16482), (37.43193, -122.16479), (37.43197, -122.16475), (37.43203, -122.16462), (37.43206, -122.1646), (37.43217, -122.16467), (37.43237, -122.16476), (37.43249, -122.16488), (37.43266, -122.16502), (37.43294, -122.16519), (37.43312, -122.16535), (37.4332, -122.16545), (37.43343, -122.16589), (37.4335, -122.16596), (37.43363, -122.16599), (37.43373, -122.16596), (37.43379, -122.16597), (37.43394, -122.16605), (37.43399, -122.16603), (37.43406, -122.16589), (37.4342, -122.1657), (37.43429, -122.16549), (37.43432, -122.16546), (37.43442, -122.16544), (37.4346, -122.16545), (37.43478, -122.1655), (37.43528, -122.16551), (37.43565, -122.16568), (37.43577, -122.1657), (37.43616, -122.16567), (37.43639, -122.16567), (37.43662, -122.16564), (37.43695, -122.16559), (37.43717, -122.16549), (37.43728, -122.16548), (37.43738, -122.16552), (37.43748, -122.16565), (37.43759, -122.16574), (37.43762, -122.16573), (37.43766, -122.16568), (37.43771, -122.1654), (37.43786, -122.16516), (37.43794, -122.16513), (37.43817, -122.16525), (37.43832, -122.16525), (37.43845, -122.16516), (37.43876, -122.16483), (37.43884, -122.16478), (37.43887, -122.16479), (37.43888, -122.16488), (37.43884, -122.16561), (37.43882, -122.16566), (37.43886, -122.16544), (37.43891, -122.1649), (37.43894, -122.16435), (37.4389, -122.16422), (37.43868, -122.16399), (37.43863, -122.16389), (37.43861, -122.16372), (37.43861, -122.16367), (37.43863, -122.16364), (37.43871, -122.16367), (37.439, -122.16384), (37.43931, -122.16403), (37.43946, -122.16423), (37.43978, -122.16455), (37.44015, -122.165), (37.43999, -122.16473), (37.43977, -122.16447), (37.43913, -122.16379), (37.43903, -122.16373), (37.4389, -122.16368), (37.43856, -122.16361), (37.43835, -122.16352), (37.43827, -122.16351), (37.43823, -122.16356), (37.43814, -122.16387), (37.43808, -122.16401), (37.438, -122.16413), (37.4379, -122.16422), (37.43781, -122.16424), (37.43767, -122.16424), (37.43758, -122.16422), (37.43742, -122.16414), (37.43733, -122.16413), (37.43705, -122.16418), (37.43693, -122.16411), (37.43685, -122.16397), (37.43682, -122.16394), (37.43678, -122.16394), (37.4367, -122.16399), (37.43658, -122.16414), (37.43652, -122.16419), (37.43623, -122.16435), (37.43605, -122.16442), (37.43588, -122.16451), (37.43552, -122.16475), (37.43543, -122.16486), (37.43536, -122.16491), (37.43518, -122.16495), (37.43513, -122.16497), (37.4349, -122.1652), (37.43469, -122.16535), (37.43457, -122.16554), (37.43434, -122.16585), (37.43423, -122.16611), (37.43417, -122.16617), (37.43386, -122.16627), (37.43368, -122.16628), (37.43347, -122.16633), (37.43336, -122.16638), (37.43326, -122.1664), (37.43308, -122.16649), (37.43286, -122.16653), (37.43274, -122.16652), (37.43248, -122.16662), (37.43229, -122.16664), (37.43195, -122.16675), (37.43181, -122.16678), (37.4315, -122.16692), (37.43121, -122.16702), (37.43102, -122.16706), (37.43099, -122.16708), (37.43091, -122.1672), (37.43087, -122.16723), (37.43067, -122.16732), (37.43045, -122.16747), (37.4304, -122.16749), (37.43023, -122.16753), (37.42994, -122.16756), (37.42989, -122.16757), (37.4298, -122.16765), (37.42959, -122.16776), (37.42904, -122.16793), (37.42885, -122.16802), (37.42855, -122.16813), (37.42833, -122.16822), (37.42806, -122.16831), (37.42763, -122.16841), (37.42706, -122.16861), (37.42662, -122.1688), (37.42628, -122.16889), (37.42611, -122.16891), (37.42593, -122.169), (37.42574, -122.16904), (37.42555, -122.16911), (37.42545, -122.16911), (37.4254, -122.16906), (37.42536, -122.16892), (37.42533, -122.16865), (37.42527, -122.16843), (37.42523, -122.16834), (37.42497, -122.16814), (37.42479, -122.16808), (37.42476, -122.16805), (37.42465, -122.16779), (37.42451, -122.1676), (37.42442, -122.16744), (37.42438, -122.16726), (37.42436, -122.16709), (37.42429, -122.16697)]\n",
            "[(37.42584, -122.16629), (37.42613, -122.16625), (37.42652, -122.16613), (37.42669, -122.16611), (37.4268, -122.16606), (37.42689, -122.16599), (37.42698, -122.16588), (37.42702, -122.16578), (37.42702, -122.16574), (37.42691, -122.16551), (37.42688, -122.16537), (37.42682, -122.16522), (37.42678, -122.165), (37.42672, -122.16489), (37.4267, -122.1648), (37.4267, -122.16465), (37.42675, -122.16455), (37.42682, -122.16449), (37.42692, -122.16442), (37.42712, -122.16435), (37.42728, -122.1642), (37.42743, -122.16413), (37.42765, -122.16414), (37.42795, -122.16409), (37.42806, -122.16401), (37.42814, -122.16397), (37.42827, -122.16394), (37.42857, -122.16384), (37.42868, -122.16382), (37.42889, -122.16372), (37.429, -122.16369), (37.42928, -122.16345), (37.42967, -122.16334), (37.4297, -122.16332), (37.42972, -122.16324), (37.42967, -122.16309), (37.42944, -122.16278), (37.42929, -122.16254), (37.4293, -122.16251), (37.42943, -122.16232), (37.42956, -122.16219), (37.42966, -122.162), (37.42977, -122.1619), (37.42979, -122.1619), (37.42981, -122.16193), (37.42987, -122.16209), (37.43011, -122.16255), (37.43028, -122.16276), (37.43044, -122.16292), (37.43074, -122.16318), (37.43093, -122.16331), (37.43107, -122.16344), (37.43115, -122.1636), (37.43129, -122.16384), (37.43134, -122.16389), (37.43154, -122.16405), (37.43171, -122.1641), (37.43177, -122.16415), (37.43188, -122.16436), (37.43192, -122.16441), (37.43197, -122.16443), (37.43202, -122.16443), (37.43217, -122.16435), (37.43245, -122.16428), (37.4325, -122.16427), (37.43255, -122.16429), (37.43259, -122.16432), (37.43259, -122.16442), (37.43251, -122.16465), (37.43252, -122.16485), (37.43255, -122.16492), (37.43258, -122.16496), (37.43268, -122.16505), (37.43273, -122.16506), (37.43274, -122.16505), (37.43271, -122.16501), (37.43255, -122.16493), (37.43242, -122.16477), (37.43219, -122.16462), (37.43205, -122.16451), (37.43198, -122.1644), (37.43191, -122.16437), (37.43186, -122.16439), (37.43175, -122.16456), (37.4317, -122.1646), (37.43159, -122.16458), (37.43148, -122.1645), (37.43143, -122.16448), (37.43137, -122.16449), (37.43128, -122.16448), (37.43115, -122.16452), (37.431, -122.16451), (37.43092, -122.16456), (37.43086, -122.16463), (37.43073, -122.1647), (37.43065, -122.16472), (37.43051, -122.16473), (37.43036, -122.1648), (37.42997, -122.16495), (37.42985, -122.16498), (37.42972, -122.16504), (37.42953, -122.16506), (37.42941, -122.16511), (37.42929, -122.16512), (37.42911, -122.16523), (37.42892, -122.16531), (37.42857, -122.16539), (37.4285, -122.16536), (37.42835, -122.16527), (37.4283, -122.16526), (37.42809, -122.16528), (37.42807, -122.16526), (37.42805, -122.16515), (37.42804, -122.16496), (37.428, -122.16476), (37.4279, -122.16449), (37.42787, -122.16442), (37.42772, -122.16432), (37.42756, -122.16413), (37.42747, -122.16409), (37.42725, -122.16412), (37.42705, -122.16416), (37.42676, -122.16428), (37.42657, -122.16442), (37.42637, -122.16449), (37.42613, -122.16449), (37.42597, -122.16452), (37.42576, -122.16459), (37.42562, -122.16459), (37.42541, -122.1647), (37.42499, -122.16483), (37.4245, -122.16491), (37.42384, -122.16514), (37.42368, -122.16517), (37.42364, -122.1652), (37.42357, -122.16529), (37.42356, -122.16534), (37.42358, -122.16555), (37.42369, -122.16585), (37.42371, -122.16605), (37.42376, -122.16614), (37.42389, -122.16632)]\n",
            "[(37.4238, -122.16663), (37.42382, -122.1666), (37.42386, -122.16658), (37.42399, -122.16662), (37.42411, -122.16663), (37.4243, -122.16654), (37.4244, -122.16653), (37.42451, -122.16654), (37.42455, -122.16653), (37.42464, -122.16649), (37.42479, -122.16646), (37.42531, -122.16626), (37.42556, -122.1662), (37.42574, -122.16622), (37.42586, -122.16622), (37.42609, -122.16618), (37.42628, -122.16611), (37.42642, -122.16605), (37.42653, -122.1659), (37.42662, -122.16584), (37.42684, -122.16574), (37.42702, -122.16564), (37.4275, -122.16553), (37.42784, -122.16532), (37.42823, -122.1652), (37.42847, -122.1651), (37.42894, -122.16495), (37.42939, -122.16486), (37.42979, -122.16471), (37.43028, -122.16462), (37.43057, -122.16454), (37.43068, -122.16447), (37.43083, -122.16433), (37.43091, -122.1643), (37.43104, -122.16429), (37.43134, -122.16416), (37.43142, -122.16406), (37.43151, -122.16392), (37.43154, -122.16391), (37.43166, -122.16394), (37.43174, -122.164), (37.43177, -122.16405), (37.43181, -122.16425), (37.43184, -122.1643), (37.43212, -122.16465), (37.43228, -122.16474), (37.43244, -122.16489), (37.43265, -122.16505), (37.43294, -122.16524), (37.4332, -122.1655), (37.43397, -122.16654), (37.43406, -122.16653), (37.43419, -122.16657), (37.43432, -122.16666), (37.43454, -122.1667), (37.43458, -122.16669), (37.43481, -122.16661), (37.43501, -122.16657), (37.43519, -122.16645), (37.43529, -122.16636), (37.43548, -122.16627), (37.43539, -122.16626), (37.43521, -122.16633), (37.43478, -122.16643), (37.4346, -122.1665), (37.43447, -122.16652), (37.43434, -122.16649), (37.43414, -122.16647), (37.43381, -122.16629), (37.43352, -122.16636), (37.43339, -122.16641), (37.43334, -122.16641), (37.43321, -122.16636), (37.43288, -122.16648), (37.43272, -122.16651), (37.43223, -122.16667), (37.43186, -122.16677), (37.43177, -122.16684), (37.4316, -122.16694), (37.43147, -122.16696), (37.43121, -122.16705), (37.43104, -122.16704), (37.43093, -122.16699), (37.43067, -122.16696), (37.43039, -122.16687), (37.43031, -122.16682), (37.4302, -122.16669), (37.43013, -122.16665), (37.43003, -122.16665), (37.42999, -122.16668), (37.42954, -122.16518), (37.42954, -122.16511), (37.42949, -122.16503), (37.42944, -122.16502), (37.4288, -122.16522), (37.42848, -122.16536), (37.42835, -122.1654), (37.42818, -122.16536), (37.42798, -122.16526), (37.42788, -122.16527), (37.42751, -122.16547), (37.42729, -122.16552), (37.42701, -122.16555), (37.42651, -122.16578), (37.4263, -122.16587), (37.42595, -122.16597), (37.42577, -122.16606), (37.42546, -122.16612), (37.42505, -122.16625), (37.4248, -122.16629), (37.42411, -122.16658), (37.42407, -122.16659), (37.42399, -122.16656), (37.42394, -122.16652), (37.4239, -122.16644)]\n",
            "[(37.42321, -122.16761), (37.42322, -122.16768), (37.42313, -122.16798), (37.42303, -122.16816), (37.423, -122.1682), (37.42297, -122.16821), (37.4226, -122.16797), (37.42252, -122.16798), (37.42247, -122.16796), (37.4222, -122.16767), (37.42215, -122.16763), (37.4221, -122.16762), (37.42201, -122.16764), (37.42192, -122.16769), (37.42183, -122.1679), (37.42177, -122.168), (37.42162, -122.168), (37.42158, -122.16803), (37.42153, -122.16808), (37.42144, -122.16822), (37.42139, -122.16826), (37.42136, -122.16826), (37.42132, -122.16825), (37.42118, -122.16813), (37.42089, -122.16781), (37.42066, -122.16763), (37.42032, -122.16713), (37.41952, -122.16609), (37.41936, -122.16594), (37.4191, -122.16553), (37.41886, -122.16521), (37.41849, -122.16462), (37.41832, -122.16427), (37.41825, -122.16419), (37.41819, -122.1641), (37.418, -122.16369), (37.41792, -122.16346), (37.41763, -122.16244), (37.41754, -122.162), (37.4175, -122.16169), (37.41746, -122.161), (37.41735, -122.16068), (37.41725, -122.16051), (37.41713, -122.16037), (37.41697, -122.16025), (37.41673, -122.16016), (37.41648, -122.16), (37.41621, -122.15987), (37.416, -122.15971), (37.41575, -122.15943), (37.41567, -122.15935), (37.41556, -122.15908), (37.4154, -122.15872), (37.41525, -122.15852), (37.41507, -122.15836), (37.41491, -122.15825), (37.41476, -122.15819), (37.41456, -122.15816), (37.41443, -122.15816), (37.41431, -122.1582), (37.41415, -122.15828), (37.41391, -122.15848), (37.41368, -122.15883), (37.41363, -122.15902), (37.41354, -122.15955), (37.41345, -122.15979), (37.41337, -122.16013), (37.41335, -122.16033), (37.41331, -122.16058), (37.41335, -122.16095), (37.41342, -122.16122), (37.41355, -122.16155), (37.41371, -122.16187), (37.41398, -122.16221), (37.41419, -122.16238), (37.41428, -122.16248), (37.41434, -122.16262), (37.41438, -122.16282), (37.41449, -122.16299), (37.41458, -122.16298), (37.41486, -122.16302), (37.41512, -122.163), (37.4153, -122.16303), (37.41543, -122.16303), (37.41539, -122.16301), (37.41512, -122.16294), (37.41475, -122.16288), (37.41454, -122.1629), (37.41445, -122.16294), (37.41439, -122.16302), (37.41429, -122.16387), (37.4143, -122.16418), (37.41433, -122.16439), (37.41438, -122.16456), (37.41448, -122.16475), (37.41462, -122.16491), (37.41466, -122.16491), (37.41472, -122.16489), (37.41491, -122.16463), (37.41504, -122.16454), (37.41522, -122.16454), (37.41539, -122.16457), (37.4155, -122.1645), (37.41565, -122.16448), (37.4158, -122.16441), (37.41603, -122.16437), (37.41619, -122.16432), (37.41635, -122.1643), (37.41653, -122.16423), (37.41687, -122.16401), (37.41709, -122.16383), (37.41743, -122.1636), (37.41772, -122.16342), (37.41776, -122.16344), (37.41782, -122.16356), (37.41792, -122.1638), (37.41807, -122.1641), (37.41816, -122.16436), (37.41827, -122.16452), (37.41857, -122.16513), (37.41867, -122.16531), (37.41883, -122.16551), (37.41903, -122.16581), (37.41925, -122.16608), (37.41953, -122.16648), (37.41972, -122.16672), (37.4201, -122.16729), (37.42059, -122.16787), (37.42075, -122.1681), (37.42092, -122.16826), (37.42104, -122.16841), (37.42136, -122.16867), (37.42164, -122.16886), (37.42193, -122.16897), (37.4224, -122.16918), (37.42245, -122.16919), (37.42257, -122.16914), (37.42261, -122.16914), (37.42276, -122.16922), (37.42321, -122.16938), (37.42341, -122.16943), (37.42359, -122.16954), (37.42373, -122.16958), (37.42381, -122.16955), (37.42386, -122.16952), (37.42399, -122.16936), (37.42408, -122.16928), (37.4245, -122.1692), (37.4246, -122.16917), (37.42462, -122.16912), (37.4245, -122.16878), (37.42448, -122.16854), (37.42455, -122.16825), (37.42458, -122.1682), (37.42468, -122.1682), (37.42495, -122.16803), (37.42503, -122.16794), (37.42504, -122.16783), (37.42501, -122.16766), (37.42499, -122.16744), (37.42493, -122.16735), (37.42489, -122.16733), (37.4248, -122.16733), (37.42438, -122.1674), (37.42435, -122.16739), (37.42426, -122.16697), (37.42423, -122.16692), (37.42416, -122.16684), (37.42403, -122.16673), (37.42376, -122.16664), (37.42367, -122.16665), (37.42354, -122.16671), (37.42347, -122.16673), (37.42344, -122.16668), (37.42343, -122.16661)]\n",
            "[(37.42555, -122.16636), (37.42557, -122.16627), (37.42567, -122.16616), (37.4258, -122.16605), (37.42592, -122.16598), (37.42596, -122.16598), (37.42609, -122.16601), (37.42626, -122.16608), (37.42642, -122.16621), (37.42667, -122.16629), (37.42683, -122.16641), (37.42692, -122.16646), (37.42693, -122.16667), (37.427, -122.1669), (37.42713, -122.16753), (37.42713, -122.16768), (37.42724, -122.16795), (37.42733, -122.16836), (37.42738, -122.16845), (37.42742, -122.16846), (37.4275, -122.16846), (37.4276, -122.1684), (37.42799, -122.16826), (37.42825, -122.1683), (37.42845, -122.16822), (37.4286, -122.16803), (37.42863, -122.16793), (37.42861, -122.16773), (37.42846, -122.16713), (37.42849, -122.16698), (37.42857, -122.16681), (37.42857, -122.16673), (37.42854, -122.16639), (37.4285, -122.16629), (37.42844, -122.16621), (37.42839, -122.16612), (37.42837, -122.16596), (37.42836, -122.16572), (37.42831, -122.16543), (37.42835, -122.16539), (37.42857, -122.16538), (37.42867, -122.16533), (37.42902, -122.16522), (37.42921, -122.16514), (37.42924, -122.16511), (37.4293, -122.16502), (37.42933, -122.16489), (37.4293, -122.16474), (37.4293, -122.16457), (37.42927, -122.16445), (37.42929, -122.1644), (37.42935, -122.16432), (37.42942, -122.16429), (37.42953, -122.16427), (37.42962, -122.16419), (37.42967, -122.16403), (37.4296, -122.16392), (37.42959, -122.16384)]\n",
            "[(37.40865, -122.11571), (37.40861, -122.11577), (37.40839, -122.11594), (37.40824, -122.11599), (37.40808, -122.11609), (37.40788, -122.11618), (37.40779, -122.11626), (37.40773, -122.11636), (37.40773, -122.11638), (37.40783, -122.11643), (37.40801, -122.11669), (37.40809, -122.1167), (37.4082, -122.11665), (37.40827, -122.11664), (37.40833, -122.11678), (37.40835, -122.11688), (37.4084, -122.11696), (37.40848, -122.117), (37.40861, -122.11705), (37.40866, -122.11705), (37.40874, -122.11708), (37.40892, -122.11706), (37.40918, -122.11711), (37.40931, -122.1171), (37.4095, -122.11701), (37.40958, -122.11694), (37.40967, -122.11684), (37.4098, -122.11673), (37.41004, -122.11644), (37.41019, -122.11629), (37.41032, -122.11614), (37.41067, -122.11585), (37.41074, -122.11572), (37.41086, -122.11561), (37.41093, -122.11545), (37.41096, -122.11524), (37.41094, -122.11506), (37.41079, -122.11485), (37.41069, -122.11467), (37.4106, -122.11458), (37.41051, -122.11444), (37.41035, -122.11431), (37.41012, -122.1143), (37.4096, -122.11476), (37.40931, -122.11515), (37.40898, -122.11545), (37.40875, -122.11569), (37.40852, -122.11588), (37.4084, -122.11596), (37.40821, -122.11601), (37.40819, -122.11602), (37.4082, -122.11604), (37.40805, -122.11607), (37.40795, -122.11613), (37.4078, -122.11615), (37.4077, -122.11622), (37.40763, -122.11622), (37.40759, -122.11618), (37.4074, -122.11588), (37.40733, -122.11582), (37.40676, -122.1149), (37.4067, -122.11484), (37.40656, -122.11477), (37.40628, -122.11441), (37.40621, -122.11441), (37.4061, -122.11451), (37.40596, -122.11461), (37.40543, -122.11515), (37.40532, -122.11509), (37.4052, -122.11511), (37.40514, -122.11508), (37.40504, -122.11495), (37.40494, -122.11477), (37.40482, -122.11462), (37.40474, -122.1145), (37.40463, -122.11443), (37.40448, -122.11439), (37.40423, -122.11422), (37.40405, -122.11392), (37.40381, -122.11359), (37.40371, -122.11336), (37.40361, -122.1132), (37.40338, -122.11289), (37.40332, -122.11272), (37.40326, -122.11266), (37.4032, -122.11265), (37.40315, -122.11265), (37.403, -122.11274), (37.40285, -122.11279), (37.4027, -122.11291), (37.40268, -122.11297), (37.40271, -122.11318), (37.40269, -122.11338), (37.40266, -122.11352), (37.40266, -122.1136), (37.40264, -122.11367), (37.40264, -122.11373), (37.40266, -122.11378), (37.4027, -122.11379), (37.40272, -122.11376), (37.40271, -122.11375), (37.40274, -122.11375), (37.40269, -122.11376), (37.40265, -122.11374), (37.40262, -122.1137), (37.40262, -122.11365), (37.40267, -122.11349), (37.40274, -122.1134), (37.40276, -122.11336), (37.40273, -122.11307), (37.40268, -122.11296), (37.40284, -122.11284), (37.4029, -122.11282), (37.40307, -122.11273), (37.40315, -122.11266), (37.40311, -122.11251), (37.40301, -122.11235), (37.40298, -122.11215), (37.40283, -122.11166), (37.40282, -122.11164), (37.40277, -122.11162), (37.40279, -122.11164), (37.40281, -122.11163), (37.40289, -122.11156), (37.40287, -122.11161), (37.40291, -122.11168)]\n",
            "[(37.42433, -122.16677), (37.42436, -122.16673), (37.42448, -122.16669), (37.42456, -122.16664), (37.42492, -122.16664), (37.42512, -122.16652), (37.42539, -122.16647), (37.42549, -122.16637), (37.42557, -122.16624), (37.42562, -122.1662), (37.42586, -122.16615), (37.42597, -122.16617), (37.42604, -122.16617), (37.42637, -122.16607), (37.42649, -122.16609), (37.42668, -122.16619), (37.42684, -122.16613), (37.42688, -122.16619), (37.42698, -122.16646), (37.42705, -122.16657), (37.42717, -122.16702), (37.42721, -122.16727), (37.4273, -122.16744), (37.42738, -122.16787), (37.42736, -122.16811), (37.42738, -122.16836), (37.42743, -122.16842), (37.42746, -122.16843), (37.42759, -122.16837), (37.42776, -122.16833), (37.42806, -122.16822), (37.4282, -122.16823), (37.42858, -122.16834), (37.42866, -122.16834), (37.42875, -122.16829), (37.42889, -122.16816), (37.42915, -122.16806), (37.42935, -122.1679), (37.42971, -122.16782), (37.42991, -122.16774), (37.43009, -122.16769), (37.43018, -122.16763), (37.43032, -122.16759), (37.43044, -122.16751), (37.43052, -122.16748), (37.43064, -122.1675), (37.43117, -122.16741), (37.43124, -122.16737), (37.43127, -122.16734), (37.43139, -122.16711), (37.43156, -122.16709), (37.43172, -122.16698), (37.43186, -122.16694), (37.43197, -122.16688), (37.43213, -122.16684), (37.43258, -122.16664), (37.43285, -122.16659), (37.43319, -122.16648), (37.43329, -122.16648), (37.43352, -122.16644), (37.43375, -122.16637), (37.43382, -122.16639), (37.43394, -122.16649), (37.43404, -122.16652), (37.43432, -122.16646), (37.43457, -122.1665), (37.4348, -122.16642), (37.43486, -122.16642), (37.43512, -122.1665), (37.4354, -122.16652), (37.43571, -122.16647), (37.43623, -122.16632), (37.43688, -122.16622), (37.43693, -122.16623), (37.43709, -122.16637), (37.4372, -122.16641), (37.43721, -122.16643), (37.43719, -122.16645), (37.43711, -122.16642), (37.43685, -122.16627), (37.43635, -122.16593), (37.43614, -122.16576), (37.43586, -122.16575), (37.43529, -122.16583), (37.43505, -122.16592), (37.43478, -122.16597), (37.43394, -122.16624), (37.43365, -122.16627), (37.43331, -122.16639), (37.43321, -122.16637), (37.43316, -122.16637), (37.43251, -122.16658), (37.432, -122.16669), (37.43135, -122.16696), (37.4311, -122.16702), (37.43102, -122.16708), (37.43097, -122.16717), (37.43091, -122.16723), (37.43071, -122.16729), (37.43035, -122.16745), (37.43012, -122.16746), (37.42994, -122.16755), (37.42976, -122.16768), (37.42971, -122.16769), (37.42945, -122.16777), (37.42921, -122.1678), (37.42878, -122.16796), (37.42864, -122.16808), (37.42852, -122.16811), (37.42842, -122.16817), (37.42815, -122.16821), (37.42804, -122.16824), (37.42798, -122.16824), (37.42794, -122.16821), (37.42786, -122.16821), (37.42763, -122.1683), (37.42737, -122.16834), (37.42712, -122.16844), (37.42683, -122.1685), (37.42676, -122.16848), (37.42674, -122.16843), (37.42673, -122.16811), (37.42675, -122.16798), (37.42671, -122.16788), (37.42652, -122.16772), (37.42636, -122.16757), (37.4263, -122.16748), (37.42624, -122.16732), (37.42619, -122.16727), (37.42603, -122.16721), (37.42599, -122.16717), (37.42593, -122.16695), (37.42587, -122.1669), (37.42576, -122.16687), (37.42567, -122.16663), (37.4255, -122.16639), (37.42541, -122.16631), (37.42511, -122.16624), (37.42492, -122.16623), (37.42406, -122.16654), (37.42376, -122.16657), (37.42371, -122.16658), (37.42363, -122.16666), (37.42354, -122.16668), (37.42349, -122.16666), (37.4234, -122.1665)]\n",
            "[(37.42981, -122.16322), (37.42986, -122.16321), (37.43001, -122.16324), (37.43008, -122.16323), (37.43012, -122.16324), (37.43028, -122.16336), (37.43048, -122.16343), (37.43053, -122.16342), (37.43059, -122.16339), (37.43078, -122.16324), (37.43082, -122.16324), (37.43088, -122.16339), (37.43111, -122.16355), (37.43122, -122.16368), (37.43139, -122.16375), (37.43145, -122.16383), (37.43159, -122.16392), (37.43169, -122.16393), (37.43171, -122.16395), (37.43179, -122.16426), (37.43184, -122.16434), (37.43194, -122.1644), (37.43209, -122.16445), (37.43218, -122.16455), (37.43241, -122.16464), (37.43259, -122.16464), (37.43283, -122.16438), (37.4329, -122.16433), (37.43297, -122.16429), (37.43312, -122.16424), (37.43323, -122.16417), (37.43332, -122.16415), (37.43345, -122.1641), (37.43351, -122.16401), (37.4336, -122.16393), (37.43364, -122.16381), (37.43366, -122.16379), (37.43379, -122.16387), (37.4339, -122.1639), (37.43405, -122.16409), (37.43437, -122.16424), (37.43445, -122.1643), (37.43449, -122.16431), (37.43462, -122.16426), (37.43477, -122.16414), (37.43489, -122.16406), (37.43493, -122.16405), (37.43503, -122.16407), (37.43506, -122.16406), (37.43513, -122.16398), (37.43521, -122.1638), (37.43526, -122.16374), (37.43527, -122.16388), (37.43529, -122.16392), (37.43532, -122.16395), (37.43547, -122.16396), (37.43554, -122.16399), (37.43556, -122.16403), (37.4356, -122.16416), (37.43564, -122.16418), (37.43576, -122.16415), (37.43609, -122.16397), (37.43621, -122.16392), (37.43629, -122.16392), (37.43638, -122.16395), (37.43643, -122.16399), (37.43643, -122.16404), (37.43641, -122.16407), (37.43635, -122.1641), (37.43629, -122.16416), (37.43609, -122.16428), (37.43602, -122.16429), (37.43587, -122.16424), (37.4358, -122.16425), (37.43536, -122.16445), (37.43512, -122.1647), (37.43492, -122.16479), (37.43477, -122.16484), (37.43471, -122.16489), (37.43453, -122.16516), (37.43448, -122.1653), (37.43446, -122.16559), (37.43441, -122.16583), (37.43441, -122.16604), (37.43446, -122.16622), (37.43446, -122.16635), (37.43443, -122.16639), (37.43415, -122.16641), (37.434, -122.16646), (37.43397, -122.16645), (37.43386, -122.16637), (37.43378, -122.16627), (37.43369, -122.16624), (37.4336, -122.16626), (37.43338, -122.16636), (37.43311, -122.16636), (37.43293, -122.1664), (37.43272, -122.16646), (37.43255, -122.16654), (37.43225, -122.16665), (37.43173, -122.16678), (37.43166, -122.16681), (37.43155, -122.16689), (37.4313, -122.16698), (37.43114, -122.16701), (37.43096, -122.16721), (37.43057, -122.16736), (37.43042, -122.16745), (37.43004, -122.16752), (37.42982, -122.1676), (37.42967, -122.16761), (37.42939, -122.16772), (37.42923, -122.16774), (37.42907, -122.16779), (37.42891, -122.16786), (37.42877, -122.16797), (37.4286, -122.16793), (37.42856, -122.16791), (37.42853, -122.16778), (37.42844, -122.16712), (37.42826, -122.16687), (37.42818, -122.16671), (37.42818, -122.16663), (37.42826, -122.16645), (37.42827, -122.16629), (37.4282, -122.16609), (37.42812, -122.16569), (37.428, -122.16539), (37.42798, -122.16506), (37.42787, -122.16465), (37.4278, -122.1645), (37.42764, -122.16429), (37.42758, -122.16412), (37.42743, -122.16402), (37.42727, -122.16406), (37.42724, -122.16407), (37.4272, -122.16413), (37.42711, -122.16417), (37.42672, -122.16425), (37.4266, -122.16425), (37.42644, -122.16418), (37.42609, -122.16426), (37.42598, -122.16431), (37.4258, -122.16434), (37.42521, -122.16459), (37.42481, -122.16466), (37.42463, -122.16476), (37.42441, -122.16485), (37.42403, -122.16498), (37.42374, -122.16505), (37.42362, -122.1651), (37.4236, -122.16513), (37.42359, -122.16523), (37.42364, -122.16546), (37.42369, -122.16562), (37.42369, -122.16592), (37.42366, -122.16599), (37.42363, -122.16601), (37.42341, -122.16607), (37.42334, -122.16611), (37.42333, -122.16638)]\n"
          ]
        },
        {
          "output_type": "display_data",
          "data": {
            "text/plain": [
              "<folium.folium.Map at 0x7eff0cafaac0>"
            ],
            "text/html": [
              "<div style=\"width:100%;\"><div style=\"position:relative;width:100%;height:0;padding-bottom:60%;\"><span style=\"color:#565656\">Make this Notebook Trusted to load map: File -> Trust Notebook</span><iframe srcdoc=\"&lt;!DOCTYPE html&gt;\n",
              "&lt;html&gt;\n",
              "&lt;head&gt;\n",
              "    \n",
              "    &lt;meta http-equiv=&quot;content-type&quot; content=&quot;text/html; charset=UTF-8&quot; /&gt;\n",
              "    \n",
              "        &lt;script&gt;\n",
              "            L_NO_TOUCH = false;\n",
              "            L_DISABLE_3D = false;\n",
              "        &lt;/script&gt;\n",
              "    \n",
              "    &lt;style&gt;html, body {width: 100%;height: 100%;margin: 0;padding: 0;}&lt;/style&gt;\n",
              "    &lt;style&gt;#map {position:absolute;top:0;bottom:0;right:0;left:0;}&lt;/style&gt;\n",
              "    &lt;script src=&quot;https://cdn.jsdelivr.net/npm/leaflet@1.6.0/dist/leaflet.js&quot;&gt;&lt;/script&gt;\n",
              "    &lt;script src=&quot;https://code.jquery.com/jquery-1.12.4.min.js&quot;&gt;&lt;/script&gt;\n",
              "    &lt;script src=&quot;https://maxcdn.bootstrapcdn.com/bootstrap/3.2.0/js/bootstrap.min.js&quot;&gt;&lt;/script&gt;\n",
              "    &lt;script src=&quot;https://cdnjs.cloudflare.com/ajax/libs/Leaflet.awesome-markers/2.0.2/leaflet.awesome-markers.js&quot;&gt;&lt;/script&gt;\n",
              "    &lt;link rel=&quot;stylesheet&quot; href=&quot;https://cdn.jsdelivr.net/npm/leaflet@1.6.0/dist/leaflet.css&quot;/&gt;\n",
              "    &lt;link rel=&quot;stylesheet&quot; href=&quot;https://maxcdn.bootstrapcdn.com/bootstrap/3.2.0/css/bootstrap.min.css&quot;/&gt;\n",
              "    &lt;link rel=&quot;stylesheet&quot; href=&quot;https://maxcdn.bootstrapcdn.com/bootstrap/3.2.0/css/bootstrap-theme.min.css&quot;/&gt;\n",
              "    &lt;link rel=&quot;stylesheet&quot; href=&quot;https://maxcdn.bootstrapcdn.com/font-awesome/4.6.3/css/font-awesome.min.css&quot;/&gt;\n",
              "    &lt;link rel=&quot;stylesheet&quot; href=&quot;https://cdnjs.cloudflare.com/ajax/libs/Leaflet.awesome-markers/2.0.2/leaflet.awesome-markers.css&quot;/&gt;\n",
              "    &lt;link rel=&quot;stylesheet&quot; href=&quot;https://cdn.jsdelivr.net/gh/python-visualization/folium/folium/templates/leaflet.awesome.rotate.min.css&quot;/&gt;\n",
              "    \n",
              "            &lt;meta name=&quot;viewport&quot; content=&quot;width=device-width,\n",
              "                initial-scale=1.0, maximum-scale=1.0, user-scalable=no&quot; /&gt;\n",
              "            &lt;style&gt;\n",
              "                #map_1e88317ad41f129cf67041fd68027b56 {\n",
              "                    position: relative;\n",
              "                    width: 100.0%;\n",
              "                    height: 100.0%;\n",
              "                    left: 0.0%;\n",
              "                    top: 0.0%;\n",
              "                }\n",
              "            &lt;/style&gt;\n",
              "        \n",
              "&lt;/head&gt;\n",
              "&lt;body&gt;\n",
              "    \n",
              "    \n",
              "            &lt;div class=&quot;folium-map&quot; id=&quot;map_1e88317ad41f129cf67041fd68027b56&quot; &gt;&lt;/div&gt;\n",
              "        \n",
              "&lt;/body&gt;\n",
              "&lt;script&gt;\n",
              "    \n",
              "    \n",
              "            var map_1e88317ad41f129cf67041fd68027b56 = L.map(\n",
              "                &quot;map_1e88317ad41f129cf67041fd68027b56&quot;,\n",
              "                {\n",
              "                    center: [55.682275652173914, 12.52213260869565],\n",
              "                    crs: L.CRS.EPSG3857,\n",
              "                    zoom: 13,\n",
              "                    zoomControl: true,\n",
              "                    preferCanvas: false,\n",
              "                }\n",
              "            );\n",
              "\n",
              "            \n",
              "\n",
              "        \n",
              "    \n",
              "            var tile_layer_7e0cc0aaaf8d0d6cc72f9bda963d419d = L.tileLayer(\n",
              "                &quot;https://{s}.tile.openstreetmap.org/{z}/{x}/{y}.png&quot;,\n",
              "                {&quot;attribution&quot;: &quot;Data by \\u0026copy; \\u003ca href=\\&quot;http://openstreetmap.org\\&quot;\\u003eOpenStreetMap\\u003c/a\\u003e, under \\u003ca href=\\&quot;http://www.openstreetmap.org/copyright\\&quot;\\u003eODbL\\u003c/a\\u003e.&quot;, &quot;detectRetina&quot;: false, &quot;maxNativeZoom&quot;: 18, &quot;maxZoom&quot;: 18, &quot;minZoom&quot;: 0, &quot;noWrap&quot;: false, &quot;opacity&quot;: 1, &quot;subdomains&quot;: &quot;abc&quot;, &quot;tms&quot;: false}\n",
              "            ).addTo(map_1e88317ad41f129cf67041fd68027b56);\n",
              "        \n",
              "    \n",
              "            var poly_line_2ffd0d4118d07b9c028da7402f59ec33 = L.polyline(\n",
              "                [[55.68247, 12.52235], [55.68245, 12.52232], [55.6825, 12.5226], [55.68252, 12.52262], [55.68253, 12.5225], [55.68255, 12.52252], [55.68247, 12.52238], [55.68221, 12.52213], [55.68214, 12.52209], [55.68219, 12.52206], [55.68215, 12.52202], [55.68197, 12.52194], [55.68185, 12.52184], [55.68189, 12.52182], [55.68215, 12.52191], [55.68227, 12.52213], [55.68228, 12.52209], [55.68227, 12.52201], [55.68229, 12.52202], [55.68234, 12.52199], [55.68231, 12.52191], [55.68229, 12.52193], [55.68225, 12.52187]],\n",
              "                {&quot;bubblingMouseEvents&quot;: true, &quot;color&quot;: &quot;red&quot;, &quot;dashArray&quot;: null, &quot;dashOffset&quot;: null, &quot;fill&quot;: false, &quot;fillColor&quot;: &quot;red&quot;, &quot;fillOpacity&quot;: 0.2, &quot;fillRule&quot;: &quot;evenodd&quot;, &quot;lineCap&quot;: &quot;round&quot;, &quot;lineJoin&quot;: &quot;round&quot;, &quot;noClip&quot;: false, &quot;opacity&quot;: 1.0, &quot;smoothFactor&quot;: 1.0, &quot;stroke&quot;: true, &quot;weight&quot;: 3}\n",
              "            ).addTo(map_1e88317ad41f129cf67041fd68027b56);\n",
              "        \n",
              "    \n",
              "            var poly_line_33a932a39650600ab517627ab4d6321b = L.polyline(\n",
              "                [[55.66779, 12.22566], [55.66776, 12.22473], [55.6678, 12.22414], [55.66794, 12.22304], [55.66801, 12.22273], [55.66814, 12.22231], [55.66924, 12.21972], [55.66976, 12.21862], [55.67009, 12.21786], [55.67273, 12.21144], [55.67371, 12.20898], [55.67397, 12.20837], [55.674, 12.20833], [55.67405, 12.20832], [55.67411, 12.20838], [55.67458, 12.20933], [55.67533, 12.21116], [55.67563, 12.21199], [55.67575, 12.21236], [55.67589, 12.21309], [55.67611, 12.21479], [55.67616, 12.21577], [55.67631, 12.21725], [55.6764, 12.21793], [55.67651, 12.21852], [55.6766, 12.21885], [55.67674, 12.21917], [55.67686, 12.21979], [55.67695, 12.22011], [55.67745, 12.22147], [55.67781, 12.22253], [55.67802, 12.22319], [55.67894, 12.22651], [55.67906, 12.22709], [55.67912, 12.22752], [55.67914, 12.22796], [55.67915, 12.22937], [55.67915, 12.23255], [55.67912, 12.23389], [55.67907, 12.23506], [55.67901, 12.23583], [55.67885, 12.23723], [55.67839, 12.24041], [55.67823, 12.24168], [55.67814, 12.2427], [55.67804, 12.24574], [55.6779, 12.25236], [55.67788, 12.25261], [55.67786, 12.25273], [55.67782, 12.25282], [55.67777, 12.25288], [55.6777, 12.25292], [55.67684, 12.25313], [55.67531, 12.25356], [55.67436, 12.25385], [55.6741, 12.2539], [55.67158, 12.25376], [55.67079, 12.25375], [55.66911, 12.25367], [55.66854, 12.25361], [55.66846, 12.25355], [55.6684, 12.25346], [55.66835, 12.25327], [55.6683, 12.25293], [55.66802, 12.25067], [55.66762, 12.24803], [55.66752, 12.24731], [55.66718, 12.24504], [55.66654, 12.24092], [55.66644, 12.24019], [55.66642, 12.23983], [55.66643, 12.2393], [55.66646, 12.23897], [55.66665, 12.23793], [55.66673, 12.23737], [55.66706, 12.23308], [55.66727, 12.23065], [55.66775, 12.22658], [55.66779, 12.22592], [55.66774, 12.22474]],\n",
              "                {&quot;bubblingMouseEvents&quot;: true, &quot;color&quot;: &quot;red&quot;, &quot;dashArray&quot;: null, &quot;dashOffset&quot;: null, &quot;fill&quot;: false, &quot;fillColor&quot;: &quot;red&quot;, &quot;fillOpacity&quot;: 0.2, &quot;fillRule&quot;: &quot;evenodd&quot;, &quot;lineCap&quot;: &quot;round&quot;, &quot;lineJoin&quot;: &quot;round&quot;, &quot;noClip&quot;: false, &quot;opacity&quot;: 1.0, &quot;smoothFactor&quot;: 1.0, &quot;stroke&quot;: true, &quot;weight&quot;: 3}\n",
              "            ).addTo(map_1e88317ad41f129cf67041fd68027b56);\n",
              "        \n",
              "    \n",
              "            var poly_line_a271b85b5dd4d0fa61b860e70f265ad6 = L.polyline(\n",
              "                [[37.42404, -122.16659], [37.42403, -122.16664], [37.42408, -122.1667], [37.42415, -122.16674], [37.42423, -122.16675], [37.4245, -122.16671], [37.42476, -122.16661], [37.42489, -122.1666], [37.42519, -122.16652], [37.42544, -122.16637], [37.42559, -122.16621], [37.42581, -122.16615], [37.42597, -122.16605], [37.42611, -122.16599], [37.4265, -122.16591], [37.42665, -122.16585], [37.42692, -122.16569], [37.42707, -122.16567], [37.42754, -122.1655], [37.42769, -122.16542], [37.42795, -122.16524], [37.42829, -122.16519], [37.42865, -122.16509], [37.42882, -122.16507], [37.4291, -122.16495], [37.42939, -122.16489], [37.42961, -122.16481], [37.42981, -122.16475], [37.4301, -122.16472], [37.43073, -122.16451], [37.431, -122.16438], [37.43143, -122.16423], [37.43155, -122.16399], [37.43158, -122.16397], [37.43179, -122.16406], [37.43186, -122.16429], [37.43188, -122.16433], [37.43195, -122.16437], [37.43209, -122.16429], [37.43233, -122.1642], [37.4324, -122.16413], [37.43248, -122.16404], [37.43276, -122.16399], [37.43305, -122.16388], [37.43311, -122.16389], [37.43319, -122.16395], [37.43328, -122.164], [37.43338, -122.164], [37.43346, -122.16394], [37.43364, -122.16376], [37.43396, -122.16361], [37.43403, -122.1636], [37.43423, -122.16361], [37.43474, -122.16355], [37.43508, -122.16358], [37.43523, -122.16357], [37.43534, -122.16355], [37.43564, -122.16341], [37.43572, -122.16339], [37.43582, -122.16339], [37.43594, -122.16334], [37.43604, -122.16337], [37.43613, -122.16346], [37.43623, -122.16366], [37.43618, -122.16378], [37.43617, -122.16383], [37.43619, -122.16388], [37.43624, -122.16393], [37.43643, -122.16404], [37.43653, -122.16416], [37.43668, -122.16441], [37.43681, -122.16468], [37.43713, -122.1652], [37.43719, -122.16534], [37.43733, -122.16556], [37.43729, -122.16559], [37.43692, -122.16562], [37.43658, -122.16567], [37.43617, -122.16566], [37.43592, -122.16569], [37.4356, -122.16567], [37.43538, -122.16569], [37.43528, -122.16572], [37.4351, -122.16583], [37.43483, -122.16589], [37.43456, -122.16598], [37.43447, -122.16596], [37.43441, -122.16589], [37.43436, -122.16578], [37.43434, -122.16568], [37.43436, -122.16557], [37.43442, -122.16548], [37.43451, -122.16541], [37.43466, -122.16533], [37.43484, -122.16529], [37.43492, -122.16524], [37.43504, -122.1651], [37.4351, -122.16498], [37.43511, -122.16491], [37.4351, -122.16477], [37.43504, -122.16464], [37.43484, -122.16427], [37.4345, -122.16371], [37.43448, -122.16361], [37.4345, -122.16358], [37.43458, -122.16354], [37.43475, -122.16354], [37.43512, -122.16357], [37.4353, -122.16353], [37.43574, -122.1634], [37.43586, -122.16338], [37.43594, -122.16341], [37.43602, -122.16353], [37.4362, -122.16389], [37.43629, -122.16398], [37.43642, -122.16407], [37.4365, -122.16415], [37.4367, -122.16453], [37.43691, -122.16485], [37.43705, -122.16514], [37.43718, -122.16534], [37.43722, -122.16544], [37.43718, -122.16552], [37.4371, -122.16558], [37.43702, -122.16561], [37.43661, -122.16567], [37.43641, -122.16566], [37.43555, -122.16571], [37.43536, -122.1657], [37.43506, -122.16584], [37.43462, -122.16596], [37.43453, -122.16597], [37.43447, -122.16595], [37.43438, -122.16585], [37.43436, -122.16575], [37.43436, -122.16566], [37.4344, -122.16539], [37.43446, -122.16532], [37.4345, -122.16531], [37.43473, -122.16536], [37.43483, -122.16533], [37.43492, -122.16527], [37.435, -122.16518], [37.43506, -122.16506], [37.4351, -122.16493], [37.43509, -122.16487], [37.43504, -122.16465], [37.43496, -122.16448], [37.43475, -122.16411], [37.43441, -122.16361], [37.43433, -122.16354], [37.43407, -122.16349], [37.43382, -122.16354], [37.43353, -122.16359], [37.43303, -122.16372], [37.43269, -122.16384], [37.43247, -122.16397], [37.43226, -122.16411], [37.4318, -122.16432], [37.43157, -122.16453], [37.43148, -122.1645], [37.4314, -122.16445], [37.43131, -122.16441], [37.43122, -122.1644], [37.43107, -122.16448], [37.43095, -122.1645], [37.43081, -122.16457], [37.4303, -122.16461], [37.43011, -122.16466], [37.42988, -122.16477], [37.42954, -122.16489], [37.42937, -122.16493], [37.42916, -122.16504], [37.42901, -122.16509], [37.42891, -122.16509], [37.42878, -122.16502], [37.42867, -122.165], [37.4282, -122.16516], [37.42784, -122.16521], [37.42725, -122.16542], [37.42701, -122.16547], [37.42661, -122.16565], [37.42638, -122.16573], [37.42627, -122.16577], [37.42611, -122.16579], [37.42585, -122.16592], [37.42566, -122.16605], [37.42549, -122.16609], [37.42525, -122.16618], [37.42499, -122.16624], [37.42481, -122.16626], [37.42457, -122.16634], [37.42425, -122.16642], [37.42411, -122.16648], [37.424, -122.16651]],\n",
              "                {&quot;bubblingMouseEvents&quot;: true, &quot;color&quot;: &quot;red&quot;, &quot;dashArray&quot;: null, &quot;dashOffset&quot;: null, &quot;fill&quot;: false, &quot;fillColor&quot;: &quot;red&quot;, &quot;fillOpacity&quot;: 0.2, &quot;fillRule&quot;: &quot;evenodd&quot;, &quot;lineCap&quot;: &quot;round&quot;, &quot;lineJoin&quot;: &quot;round&quot;, &quot;noClip&quot;: false, &quot;opacity&quot;: 1.0, &quot;smoothFactor&quot;: 1.0, &quot;stroke&quot;: true, &quot;weight&quot;: 3}\n",
              "            ).addTo(map_1e88317ad41f129cf67041fd68027b56);\n",
              "        \n",
              "    \n",
              "            var poly_line_d2251de4c0250047b0afadc137791e66 = L.polyline(\n",
              "                [[37.42551, -122.16618], [37.42576, -122.16613], [37.42582, -122.16609], [37.42587, -122.16602], [37.4259, -122.16601], [37.42631, -122.16589], [37.42647, -122.16587], [37.42683, -122.16577], [37.42693, -122.1657], [37.4273, -122.16558], [37.42743, -122.16553], [37.42762, -122.16548], [37.42785, -122.16536], [37.42797, -122.16527], [37.42812, -122.16529], [37.42825, -122.16526], [37.4284, -122.16526], [37.42861, -122.16518], [37.42876, -122.16514], [37.42911, -122.16499], [37.42922, -122.16497], [37.42935, -122.16492], [37.42946, -122.16491], [37.42979, -122.16479], [37.42996, -122.16477], [37.43013, -122.1647], [37.43042, -122.16462], [37.43069, -122.16446], [37.43088, -122.16437], [37.43113, -122.1643], [37.43128, -122.16424], [37.43145, -122.16412], [37.43154, -122.16393], [37.43157, -122.16391], [37.43167, -122.16398], [37.43177, -122.16403], [37.43185, -122.1643], [37.43204, -122.1645], [37.43228, -122.1647], [37.43246, -122.16492], [37.43255, -122.165], [37.43269, -122.16505], [37.43314, -122.16538], [37.43329, -122.16559], [37.43352, -122.16599], [37.43357, -122.16604], [37.43367, -122.1661], [37.4337, -122.16613], [37.43374, -122.16625], [37.43376, -122.16628], [37.43379, -122.16629], [37.43388, -122.16627], [37.43392, -122.16624], [37.43412, -122.16589], [37.43429, -122.1657], [37.43432, -122.16561], [37.43436, -122.16542], [37.43445, -122.16526], [37.43461, -122.16509], [37.43502, -122.16477], [37.43528, -122.16444], [37.43546, -122.16434], [37.43561, -122.16407], [37.43569, -122.16402], [37.43594, -122.16408], [37.4361, -122.16408], [37.43633, -122.16403], [37.43641, -122.16407], [37.43649, -122.16413], [37.43695, -122.16491], [37.43711, -122.16524], [37.43733, -122.16554], [37.43735, -122.16555], [37.43736, -122.16553], [37.43717, -122.16505], [37.43705, -122.16486], [37.43676, -122.16428], [37.43663, -122.16406], [37.43652, -122.16393], [37.43631, -122.16378], [37.43628, -122.16374], [37.43616, -122.16352], [37.43604, -122.16332], [37.43594, -122.16324], [37.43582, -122.16321], [37.43569, -122.16324], [37.43527, -122.16339], [37.43511, -122.16342], [37.43495, -122.16342], [37.43473, -122.16339], [37.43428, -122.1634], [37.43397, -122.16342], [37.43365, -122.16347], [37.43341, -122.16357], [37.43308, -122.16363], [37.43285, -122.16376], [37.4326, -122.16387], [37.43222, -122.16406], [37.43192, -122.16418], [37.43174, -122.16427], [37.43159, -122.1644], [37.43154, -122.16442], [37.43146, -122.16442], [37.43126, -122.16433], [37.43114, -122.16432], [37.43108, -122.16434], [37.43089, -122.1644], [37.43065, -122.16452], [37.43039, -122.16457], [37.42987, -122.16475], [37.42963, -122.16485], [37.4295, -122.16488], [37.42917, -122.165], [37.42876, -122.16512], [37.42851, -122.16525], [37.42828, -122.16532], [37.42806, -122.16544], [37.42805, -122.16544], [37.42804, -122.16534], [37.42796, -122.16528], [37.42783, -122.16525], [37.42769, -122.16528], [37.42742, -122.16538], [37.42728, -122.16546], [37.42713, -122.16548], [37.42687, -122.16556], [37.42676, -122.16562], [37.42644, -122.16574], [37.4259, -122.16588], [37.42571, -122.16599], [37.42552, -122.16607], [37.42532, -122.16612], [37.42503, -122.16625], [37.42458, -122.16634], [37.42428, -122.1665], [37.42383, -122.16664], [37.42374, -122.1667], [37.42364, -122.16682], [37.42362, -122.16684], [37.42354, -122.16659]],\n",
              "                {&quot;bubblingMouseEvents&quot;: true, &quot;color&quot;: &quot;red&quot;, &quot;dashArray&quot;: null, &quot;dashOffset&quot;: null, &quot;fill&quot;: false, &quot;fillColor&quot;: &quot;red&quot;, &quot;fillOpacity&quot;: 0.2, &quot;fillRule&quot;: &quot;evenodd&quot;, &quot;lineCap&quot;: &quot;round&quot;, &quot;lineJoin&quot;: &quot;round&quot;, &quot;noClip&quot;: false, &quot;opacity&quot;: 1.0, &quot;smoothFactor&quot;: 1.0, &quot;stroke&quot;: true, &quot;weight&quot;: 3}\n",
              "            ).addTo(map_1e88317ad41f129cf67041fd68027b56);\n",
              "        \n",
              "    \n",
              "            var poly_line_482acf3a7d54ff00618fe2685142a632 = L.polyline(\n",
              "                [[37.42369, -122.16543], [37.42365, -122.16537], [37.42361, -122.16522], [37.42362, -122.16519], [37.42367, -122.16515], [37.42381, -122.16514], [37.42415, -122.16503], [37.42436, -122.16499], [37.42451, -122.16492], [37.42471, -122.16492], [37.42497, -122.16478], [37.42518, -122.16477], [37.42545, -122.16464], [37.42564, -122.16452], [37.4258, -122.16445], [37.42612, -122.16446], [37.4262, -122.16445], [37.42637, -122.16439], [37.42652, -122.16437], [37.42662, -122.16432], [37.4268, -122.16419], [37.42714, -122.16411], [37.42734, -122.164], [37.42753, -122.16395], [37.42758, -122.16397], [37.42762, -122.16401], [37.42763, -122.16401], [37.42783, -122.16419], [37.428, -122.16492], [37.42815, -122.16502], [37.42828, -122.16515], [37.42834, -122.16515], [37.42868, -122.16503], [37.42893, -122.16497], [37.42906, -122.16499], [37.42915, -122.16506], [37.42919, -122.16507], [37.4293, -122.16506], [37.42948, -122.16502], [37.42958, -122.16504], [37.42962, -122.16504], [37.42975, -122.165], [37.42991, -122.16488], [37.43003, -122.16483], [37.4302, -122.16482], [37.43047, -122.16475], [37.43083, -122.16463], [37.43102, -122.16455], [37.43119, -122.16449], [37.43126, -122.16449], [37.4314, -122.16456], [37.43156, -122.1646], [37.43176, -122.16479], [37.43183, -122.16482], [37.43188, -122.16482], [37.43193, -122.16479], [37.43197, -122.16475], [37.43203, -122.16462], [37.43206, -122.1646], [37.43217, -122.16467], [37.43237, -122.16476], [37.43249, -122.16488], [37.43266, -122.16502], [37.43294, -122.16519], [37.43312, -122.16535], [37.4332, -122.16545], [37.43343, -122.16589], [37.4335, -122.16596], [37.43363, -122.16599], [37.43373, -122.16596], [37.43379, -122.16597], [37.43394, -122.16605], [37.43399, -122.16603], [37.43406, -122.16589], [37.4342, -122.1657], [37.43429, -122.16549], [37.43432, -122.16546], [37.43442, -122.16544], [37.4346, -122.16545], [37.43478, -122.1655], [37.43528, -122.16551], [37.43565, -122.16568], [37.43577, -122.1657], [37.43616, -122.16567], [37.43639, -122.16567], [37.43662, -122.16564], [37.43695, -122.16559], [37.43717, -122.16549], [37.43728, -122.16548], [37.43738, -122.16552], [37.43748, -122.16565], [37.43759, -122.16574], [37.43762, -122.16573], [37.43766, -122.16568], [37.43771, -122.1654], [37.43786, -122.16516], [37.43794, -122.16513], [37.43817, -122.16525], [37.43832, -122.16525], [37.43845, -122.16516], [37.43876, -122.16483], [37.43884, -122.16478], [37.43887, -122.16479], [37.43888, -122.16488], [37.43884, -122.16561], [37.43882, -122.16566], [37.43886, -122.16544], [37.43891, -122.1649], [37.43894, -122.16435], [37.4389, -122.16422], [37.43868, -122.16399], [37.43863, -122.16389], [37.43861, -122.16372], [37.43861, -122.16367], [37.43863, -122.16364], [37.43871, -122.16367], [37.439, -122.16384], [37.43931, -122.16403], [37.43946, -122.16423], [37.43978, -122.16455], [37.44015, -122.165], [37.43999, -122.16473], [37.43977, -122.16447], [37.43913, -122.16379], [37.43903, -122.16373], [37.4389, -122.16368], [37.43856, -122.16361], [37.43835, -122.16352], [37.43827, -122.16351], [37.43823, -122.16356], [37.43814, -122.16387], [37.43808, -122.16401], [37.438, -122.16413], [37.4379, -122.16422], [37.43781, -122.16424], [37.43767, -122.16424], [37.43758, -122.16422], [37.43742, -122.16414], [37.43733, -122.16413], [37.43705, -122.16418], [37.43693, -122.16411], [37.43685, -122.16397], [37.43682, -122.16394], [37.43678, -122.16394], [37.4367, -122.16399], [37.43658, -122.16414], [37.43652, -122.16419], [37.43623, -122.16435], [37.43605, -122.16442], [37.43588, -122.16451], [37.43552, -122.16475], [37.43543, -122.16486], [37.43536, -122.16491], [37.43518, -122.16495], [37.43513, -122.16497], [37.4349, -122.1652], [37.43469, -122.16535], [37.43457, -122.16554], [37.43434, -122.16585], [37.43423, -122.16611], [37.43417, -122.16617], [37.43386, -122.16627], [37.43368, -122.16628], [37.43347, -122.16633], [37.43336, -122.16638], [37.43326, -122.1664], [37.43308, -122.16649], [37.43286, -122.16653], [37.43274, -122.16652], [37.43248, -122.16662], [37.43229, -122.16664], [37.43195, -122.16675], [37.43181, -122.16678], [37.4315, -122.16692], [37.43121, -122.16702], [37.43102, -122.16706], [37.43099, -122.16708], [37.43091, -122.1672], [37.43087, -122.16723], [37.43067, -122.16732], [37.43045, -122.16747], [37.4304, -122.16749], [37.43023, -122.16753], [37.42994, -122.16756], [37.42989, -122.16757], [37.4298, -122.16765], [37.42959, -122.16776], [37.42904, -122.16793], [37.42885, -122.16802], [37.42855, -122.16813], [37.42833, -122.16822], [37.42806, -122.16831], [37.42763, -122.16841], [37.42706, -122.16861], [37.42662, -122.1688], [37.42628, -122.16889], [37.42611, -122.16891], [37.42593, -122.169], [37.42574, -122.16904], [37.42555, -122.16911], [37.42545, -122.16911], [37.4254, -122.16906], [37.42536, -122.16892], [37.42533, -122.16865], [37.42527, -122.16843], [37.42523, -122.16834], [37.42497, -122.16814], [37.42479, -122.16808], [37.42476, -122.16805], [37.42465, -122.16779], [37.42451, -122.1676], [37.42442, -122.16744], [37.42438, -122.16726], [37.42436, -122.16709], [37.42429, -122.16697]],\n",
              "                {&quot;bubblingMouseEvents&quot;: true, &quot;color&quot;: &quot;red&quot;, &quot;dashArray&quot;: null, &quot;dashOffset&quot;: null, &quot;fill&quot;: false, &quot;fillColor&quot;: &quot;red&quot;, &quot;fillOpacity&quot;: 0.2, &quot;fillRule&quot;: &quot;evenodd&quot;, &quot;lineCap&quot;: &quot;round&quot;, &quot;lineJoin&quot;: &quot;round&quot;, &quot;noClip&quot;: false, &quot;opacity&quot;: 1.0, &quot;smoothFactor&quot;: 1.0, &quot;stroke&quot;: true, &quot;weight&quot;: 3}\n",
              "            ).addTo(map_1e88317ad41f129cf67041fd68027b56);\n",
              "        \n",
              "    \n",
              "            var poly_line_a19874be16fe44f02f66b35e2ad7e27f = L.polyline(\n",
              "                [[37.42584, -122.16629], [37.42613, -122.16625], [37.42652, -122.16613], [37.42669, -122.16611], [37.4268, -122.16606], [37.42689, -122.16599], [37.42698, -122.16588], [37.42702, -122.16578], [37.42702, -122.16574], [37.42691, -122.16551], [37.42688, -122.16537], [37.42682, -122.16522], [37.42678, -122.165], [37.42672, -122.16489], [37.4267, -122.1648], [37.4267, -122.16465], [37.42675, -122.16455], [37.42682, -122.16449], [37.42692, -122.16442], [37.42712, -122.16435], [37.42728, -122.1642], [37.42743, -122.16413], [37.42765, -122.16414], [37.42795, -122.16409], [37.42806, -122.16401], [37.42814, -122.16397], [37.42827, -122.16394], [37.42857, -122.16384], [37.42868, -122.16382], [37.42889, -122.16372], [37.429, -122.16369], [37.42928, -122.16345], [37.42967, -122.16334], [37.4297, -122.16332], [37.42972, -122.16324], [37.42967, -122.16309], [37.42944, -122.16278], [37.42929, -122.16254], [37.4293, -122.16251], [37.42943, -122.16232], [37.42956, -122.16219], [37.42966, -122.162], [37.42977, -122.1619], [37.42979, -122.1619], [37.42981, -122.16193], [37.42987, -122.16209], [37.43011, -122.16255], [37.43028, -122.16276], [37.43044, -122.16292], [37.43074, -122.16318], [37.43093, -122.16331], [37.43107, -122.16344], [37.43115, -122.1636], [37.43129, -122.16384], [37.43134, -122.16389], [37.43154, -122.16405], [37.43171, -122.1641], [37.43177, -122.16415], [37.43188, -122.16436], [37.43192, -122.16441], [37.43197, -122.16443], [37.43202, -122.16443], [37.43217, -122.16435], [37.43245, -122.16428], [37.4325, -122.16427], [37.43255, -122.16429], [37.43259, -122.16432], [37.43259, -122.16442], [37.43251, -122.16465], [37.43252, -122.16485], [37.43255, -122.16492], [37.43258, -122.16496], [37.43268, -122.16505], [37.43273, -122.16506], [37.43274, -122.16505], [37.43271, -122.16501], [37.43255, -122.16493], [37.43242, -122.16477], [37.43219, -122.16462], [37.43205, -122.16451], [37.43198, -122.1644], [37.43191, -122.16437], [37.43186, -122.16439], [37.43175, -122.16456], [37.4317, -122.1646], [37.43159, -122.16458], [37.43148, -122.1645], [37.43143, -122.16448], [37.43137, -122.16449], [37.43128, -122.16448], [37.43115, -122.16452], [37.431, -122.16451], [37.43092, -122.16456], [37.43086, -122.16463], [37.43073, -122.1647], [37.43065, -122.16472], [37.43051, -122.16473], [37.43036, -122.1648], [37.42997, -122.16495], [37.42985, -122.16498], [37.42972, -122.16504], [37.42953, -122.16506], [37.42941, -122.16511], [37.42929, -122.16512], [37.42911, -122.16523], [37.42892, -122.16531], [37.42857, -122.16539], [37.4285, -122.16536], [37.42835, -122.16527], [37.4283, -122.16526], [37.42809, -122.16528], [37.42807, -122.16526], [37.42805, -122.16515], [37.42804, -122.16496], [37.428, -122.16476], [37.4279, -122.16449], [37.42787, -122.16442], [37.42772, -122.16432], [37.42756, -122.16413], [37.42747, -122.16409], [37.42725, -122.16412], [37.42705, -122.16416], [37.42676, -122.16428], [37.42657, -122.16442], [37.42637, -122.16449], [37.42613, -122.16449], [37.42597, -122.16452], [37.42576, -122.16459], [37.42562, -122.16459], [37.42541, -122.1647], [37.42499, -122.16483], [37.4245, -122.16491], [37.42384, -122.16514], [37.42368, -122.16517], [37.42364, -122.1652], [37.42357, -122.16529], [37.42356, -122.16534], [37.42358, -122.16555], [37.42369, -122.16585], [37.42371, -122.16605], [37.42376, -122.16614], [37.42389, -122.16632]],\n",
              "                {&quot;bubblingMouseEvents&quot;: true, &quot;color&quot;: &quot;red&quot;, &quot;dashArray&quot;: null, &quot;dashOffset&quot;: null, &quot;fill&quot;: false, &quot;fillColor&quot;: &quot;red&quot;, &quot;fillOpacity&quot;: 0.2, &quot;fillRule&quot;: &quot;evenodd&quot;, &quot;lineCap&quot;: &quot;round&quot;, &quot;lineJoin&quot;: &quot;round&quot;, &quot;noClip&quot;: false, &quot;opacity&quot;: 1.0, &quot;smoothFactor&quot;: 1.0, &quot;stroke&quot;: true, &quot;weight&quot;: 3}\n",
              "            ).addTo(map_1e88317ad41f129cf67041fd68027b56);\n",
              "        \n",
              "    \n",
              "            var poly_line_4bb826b46c68af0659a897e4ca75abe2 = L.polyline(\n",
              "                [[37.4238, -122.16663], [37.42382, -122.1666], [37.42386, -122.16658], [37.42399, -122.16662], [37.42411, -122.16663], [37.4243, -122.16654], [37.4244, -122.16653], [37.42451, -122.16654], [37.42455, -122.16653], [37.42464, -122.16649], [37.42479, -122.16646], [37.42531, -122.16626], [37.42556, -122.1662], [37.42574, -122.16622], [37.42586, -122.16622], [37.42609, -122.16618], [37.42628, -122.16611], [37.42642, -122.16605], [37.42653, -122.1659], [37.42662, -122.16584], [37.42684, -122.16574], [37.42702, -122.16564], [37.4275, -122.16553], [37.42784, -122.16532], [37.42823, -122.1652], [37.42847, -122.1651], [37.42894, -122.16495], [37.42939, -122.16486], [37.42979, -122.16471], [37.43028, -122.16462], [37.43057, -122.16454], [37.43068, -122.16447], [37.43083, -122.16433], [37.43091, -122.1643], [37.43104, -122.16429], [37.43134, -122.16416], [37.43142, -122.16406], [37.43151, -122.16392], [37.43154, -122.16391], [37.43166, -122.16394], [37.43174, -122.164], [37.43177, -122.16405], [37.43181, -122.16425], [37.43184, -122.1643], [37.43212, -122.16465], [37.43228, -122.16474], [37.43244, -122.16489], [37.43265, -122.16505], [37.43294, -122.16524], [37.4332, -122.1655], [37.43397, -122.16654], [37.43406, -122.16653], [37.43419, -122.16657], [37.43432, -122.16666], [37.43454, -122.1667], [37.43458, -122.16669], [37.43481, -122.16661], [37.43501, -122.16657], [37.43519, -122.16645], [37.43529, -122.16636], [37.43548, -122.16627], [37.43539, -122.16626], [37.43521, -122.16633], [37.43478, -122.16643], [37.4346, -122.1665], [37.43447, -122.16652], [37.43434, -122.16649], [37.43414, -122.16647], [37.43381, -122.16629], [37.43352, -122.16636], [37.43339, -122.16641], [37.43334, -122.16641], [37.43321, -122.16636], [37.43288, -122.16648], [37.43272, -122.16651], [37.43223, -122.16667], [37.43186, -122.16677], [37.43177, -122.16684], [37.4316, -122.16694], [37.43147, -122.16696], [37.43121, -122.16705], [37.43104, -122.16704], [37.43093, -122.16699], [37.43067, -122.16696], [37.43039, -122.16687], [37.43031, -122.16682], [37.4302, -122.16669], [37.43013, -122.16665], [37.43003, -122.16665], [37.42999, -122.16668], [37.42954, -122.16518], [37.42954, -122.16511], [37.42949, -122.16503], [37.42944, -122.16502], [37.4288, -122.16522], [37.42848, -122.16536], [37.42835, -122.1654], [37.42818, -122.16536], [37.42798, -122.16526], [37.42788, -122.16527], [37.42751, -122.16547], [37.42729, -122.16552], [37.42701, -122.16555], [37.42651, -122.16578], [37.4263, -122.16587], [37.42595, -122.16597], [37.42577, -122.16606], [37.42546, -122.16612], [37.42505, -122.16625], [37.4248, -122.16629], [37.42411, -122.16658], [37.42407, -122.16659], [37.42399, -122.16656], [37.42394, -122.16652], [37.4239, -122.16644]],\n",
              "                {&quot;bubblingMouseEvents&quot;: true, &quot;color&quot;: &quot;red&quot;, &quot;dashArray&quot;: null, &quot;dashOffset&quot;: null, &quot;fill&quot;: false, &quot;fillColor&quot;: &quot;red&quot;, &quot;fillOpacity&quot;: 0.2, &quot;fillRule&quot;: &quot;evenodd&quot;, &quot;lineCap&quot;: &quot;round&quot;, &quot;lineJoin&quot;: &quot;round&quot;, &quot;noClip&quot;: false, &quot;opacity&quot;: 1.0, &quot;smoothFactor&quot;: 1.0, &quot;stroke&quot;: true, &quot;weight&quot;: 3}\n",
              "            ).addTo(map_1e88317ad41f129cf67041fd68027b56);\n",
              "        \n",
              "    \n",
              "            var poly_line_9540f46082d0d99c8c4f117be9d99754 = L.polyline(\n",
              "                [[37.42321, -122.16761], [37.42322, -122.16768], [37.42313, -122.16798], [37.42303, -122.16816], [37.423, -122.1682], [37.42297, -122.16821], [37.4226, -122.16797], [37.42252, -122.16798], [37.42247, -122.16796], [37.4222, -122.16767], [37.42215, -122.16763], [37.4221, -122.16762], [37.42201, -122.16764], [37.42192, -122.16769], [37.42183, -122.1679], [37.42177, -122.168], [37.42162, -122.168], [37.42158, -122.16803], [37.42153, -122.16808], [37.42144, -122.16822], [37.42139, -122.16826], [37.42136, -122.16826], [37.42132, -122.16825], [37.42118, -122.16813], [37.42089, -122.16781], [37.42066, -122.16763], [37.42032, -122.16713], [37.41952, -122.16609], [37.41936, -122.16594], [37.4191, -122.16553], [37.41886, -122.16521], [37.41849, -122.16462], [37.41832, -122.16427], [37.41825, -122.16419], [37.41819, -122.1641], [37.418, -122.16369], [37.41792, -122.16346], [37.41763, -122.16244], [37.41754, -122.162], [37.4175, -122.16169], [37.41746, -122.161], [37.41735, -122.16068], [37.41725, -122.16051], [37.41713, -122.16037], [37.41697, -122.16025], [37.41673, -122.16016], [37.41648, -122.16], [37.41621, -122.15987], [37.416, -122.15971], [37.41575, -122.15943], [37.41567, -122.15935], [37.41556, -122.15908], [37.4154, -122.15872], [37.41525, -122.15852], [37.41507, -122.15836], [37.41491, -122.15825], [37.41476, -122.15819], [37.41456, -122.15816], [37.41443, -122.15816], [37.41431, -122.1582], [37.41415, -122.15828], [37.41391, -122.15848], [37.41368, -122.15883], [37.41363, -122.15902], [37.41354, -122.15955], [37.41345, -122.15979], [37.41337, -122.16013], [37.41335, -122.16033], [37.41331, -122.16058], [37.41335, -122.16095], [37.41342, -122.16122], [37.41355, -122.16155], [37.41371, -122.16187], [37.41398, -122.16221], [37.41419, -122.16238], [37.41428, -122.16248], [37.41434, -122.16262], [37.41438, -122.16282], [37.41449, -122.16299], [37.41458, -122.16298], [37.41486, -122.16302], [37.41512, -122.163], [37.4153, -122.16303], [37.41543, -122.16303], [37.41539, -122.16301], [37.41512, -122.16294], [37.41475, -122.16288], [37.41454, -122.1629], [37.41445, -122.16294], [37.41439, -122.16302], [37.41429, -122.16387], [37.4143, -122.16418], [37.41433, -122.16439], [37.41438, -122.16456], [37.41448, -122.16475], [37.41462, -122.16491], [37.41466, -122.16491], [37.41472, -122.16489], [37.41491, -122.16463], [37.41504, -122.16454], [37.41522, -122.16454], [37.41539, -122.16457], [37.4155, -122.1645], [37.41565, -122.16448], [37.4158, -122.16441], [37.41603, -122.16437], [37.41619, -122.16432], [37.41635, -122.1643], [37.41653, -122.16423], [37.41687, -122.16401], [37.41709, -122.16383], [37.41743, -122.1636], [37.41772, -122.16342], [37.41776, -122.16344], [37.41782, -122.16356], [37.41792, -122.1638], [37.41807, -122.1641], [37.41816, -122.16436], [37.41827, -122.16452], [37.41857, -122.16513], [37.41867, -122.16531], [37.41883, -122.16551], [37.41903, -122.16581], [37.41925, -122.16608], [37.41953, -122.16648], [37.41972, -122.16672], [37.4201, -122.16729], [37.42059, -122.16787], [37.42075, -122.1681], [37.42092, -122.16826], [37.42104, -122.16841], [37.42136, -122.16867], [37.42164, -122.16886], [37.42193, -122.16897], [37.4224, -122.16918], [37.42245, -122.16919], [37.42257, -122.16914], [37.42261, -122.16914], [37.42276, -122.16922], [37.42321, -122.16938], [37.42341, -122.16943], [37.42359, -122.16954], [37.42373, -122.16958], [37.42381, -122.16955], [37.42386, -122.16952], [37.42399, -122.16936], [37.42408, -122.16928], [37.4245, -122.1692], [37.4246, -122.16917], [37.42462, -122.16912], [37.4245, -122.16878], [37.42448, -122.16854], [37.42455, -122.16825], [37.42458, -122.1682], [37.42468, -122.1682], [37.42495, -122.16803], [37.42503, -122.16794], [37.42504, -122.16783], [37.42501, -122.16766], [37.42499, -122.16744], [37.42493, -122.16735], [37.42489, -122.16733], [37.4248, -122.16733], [37.42438, -122.1674], [37.42435, -122.16739], [37.42426, -122.16697], [37.42423, -122.16692], [37.42416, -122.16684], [37.42403, -122.16673], [37.42376, -122.16664], [37.42367, -122.16665], [37.42354, -122.16671], [37.42347, -122.16673], [37.42344, -122.16668], [37.42343, -122.16661]],\n",
              "                {&quot;bubblingMouseEvents&quot;: true, &quot;color&quot;: &quot;red&quot;, &quot;dashArray&quot;: null, &quot;dashOffset&quot;: null, &quot;fill&quot;: false, &quot;fillColor&quot;: &quot;red&quot;, &quot;fillOpacity&quot;: 0.2, &quot;fillRule&quot;: &quot;evenodd&quot;, &quot;lineCap&quot;: &quot;round&quot;, &quot;lineJoin&quot;: &quot;round&quot;, &quot;noClip&quot;: false, &quot;opacity&quot;: 1.0, &quot;smoothFactor&quot;: 1.0, &quot;stroke&quot;: true, &quot;weight&quot;: 3}\n",
              "            ).addTo(map_1e88317ad41f129cf67041fd68027b56);\n",
              "        \n",
              "    \n",
              "            var poly_line_726baa1956cdd1d52fd8d57fe95df30b = L.polyline(\n",
              "                [[37.42555, -122.16636], [37.42557, -122.16627], [37.42567, -122.16616], [37.4258, -122.16605], [37.42592, -122.16598], [37.42596, -122.16598], [37.42609, -122.16601], [37.42626, -122.16608], [37.42642, -122.16621], [37.42667, -122.16629], [37.42683, -122.16641], [37.42692, -122.16646], [37.42693, -122.16667], [37.427, -122.1669], [37.42713, -122.16753], [37.42713, -122.16768], [37.42724, -122.16795], [37.42733, -122.16836], [37.42738, -122.16845], [37.42742, -122.16846], [37.4275, -122.16846], [37.4276, -122.1684], [37.42799, -122.16826], [37.42825, -122.1683], [37.42845, -122.16822], [37.4286, -122.16803], [37.42863, -122.16793], [37.42861, -122.16773], [37.42846, -122.16713], [37.42849, -122.16698], [37.42857, -122.16681], [37.42857, -122.16673], [37.42854, -122.16639], [37.4285, -122.16629], [37.42844, -122.16621], [37.42839, -122.16612], [37.42837, -122.16596], [37.42836, -122.16572], [37.42831, -122.16543], [37.42835, -122.16539], [37.42857, -122.16538], [37.42867, -122.16533], [37.42902, -122.16522], [37.42921, -122.16514], [37.42924, -122.16511], [37.4293, -122.16502], [37.42933, -122.16489], [37.4293, -122.16474], [37.4293, -122.16457], [37.42927, -122.16445], [37.42929, -122.1644], [37.42935, -122.16432], [37.42942, -122.16429], [37.42953, -122.16427], [37.42962, -122.16419], [37.42967, -122.16403], [37.4296, -122.16392], [37.42959, -122.16384]],\n",
              "                {&quot;bubblingMouseEvents&quot;: true, &quot;color&quot;: &quot;red&quot;, &quot;dashArray&quot;: null, &quot;dashOffset&quot;: null, &quot;fill&quot;: false, &quot;fillColor&quot;: &quot;red&quot;, &quot;fillOpacity&quot;: 0.2, &quot;fillRule&quot;: &quot;evenodd&quot;, &quot;lineCap&quot;: &quot;round&quot;, &quot;lineJoin&quot;: &quot;round&quot;, &quot;noClip&quot;: false, &quot;opacity&quot;: 1.0, &quot;smoothFactor&quot;: 1.0, &quot;stroke&quot;: true, &quot;weight&quot;: 3}\n",
              "            ).addTo(map_1e88317ad41f129cf67041fd68027b56);\n",
              "        \n",
              "    \n",
              "            var poly_line_fc50f9a9e8810272e7b10c61651f04ed = L.polyline(\n",
              "                [[37.40865, -122.11571], [37.40861, -122.11577], [37.40839, -122.11594], [37.40824, -122.11599], [37.40808, -122.11609], [37.40788, -122.11618], [37.40779, -122.11626], [37.40773, -122.11636], [37.40773, -122.11638], [37.40783, -122.11643], [37.40801, -122.11669], [37.40809, -122.1167], [37.4082, -122.11665], [37.40827, -122.11664], [37.40833, -122.11678], [37.40835, -122.11688], [37.4084, -122.11696], [37.40848, -122.117], [37.40861, -122.11705], [37.40866, -122.11705], [37.40874, -122.11708], [37.40892, -122.11706], [37.40918, -122.11711], [37.40931, -122.1171], [37.4095, -122.11701], [37.40958, -122.11694], [37.40967, -122.11684], [37.4098, -122.11673], [37.41004, -122.11644], [37.41019, -122.11629], [37.41032, -122.11614], [37.41067, -122.11585], [37.41074, -122.11572], [37.41086, -122.11561], [37.41093, -122.11545], [37.41096, -122.11524], [37.41094, -122.11506], [37.41079, -122.11485], [37.41069, -122.11467], [37.4106, -122.11458], [37.41051, -122.11444], [37.41035, -122.11431], [37.41012, -122.1143], [37.4096, -122.11476], [37.40931, -122.11515], [37.40898, -122.11545], [37.40875, -122.11569], [37.40852, -122.11588], [37.4084, -122.11596], [37.40821, -122.11601], [37.40819, -122.11602], [37.4082, -122.11604], [37.40805, -122.11607], [37.40795, -122.11613], [37.4078, -122.11615], [37.4077, -122.11622], [37.40763, -122.11622], [37.40759, -122.11618], [37.4074, -122.11588], [37.40733, -122.11582], [37.40676, -122.1149], [37.4067, -122.11484], [37.40656, -122.11477], [37.40628, -122.11441], [37.40621, -122.11441], [37.4061, -122.11451], [37.40596, -122.11461], [37.40543, -122.11515], [37.40532, -122.11509], [37.4052, -122.11511], [37.40514, -122.11508], [37.40504, -122.11495], [37.40494, -122.11477], [37.40482, -122.11462], [37.40474, -122.1145], [37.40463, -122.11443], [37.40448, -122.11439], [37.40423, -122.11422], [37.40405, -122.11392], [37.40381, -122.11359], [37.40371, -122.11336], [37.40361, -122.1132], [37.40338, -122.11289], [37.40332, -122.11272], [37.40326, -122.11266], [37.4032, -122.11265], [37.40315, -122.11265], [37.403, -122.11274], [37.40285, -122.11279], [37.4027, -122.11291], [37.40268, -122.11297], [37.40271, -122.11318], [37.40269, -122.11338], [37.40266, -122.11352], [37.40266, -122.1136], [37.40264, -122.11367], [37.40264, -122.11373], [37.40266, -122.11378], [37.4027, -122.11379], [37.40272, -122.11376], [37.40271, -122.11375], [37.40274, -122.11375], [37.40269, -122.11376], [37.40265, -122.11374], [37.40262, -122.1137], [37.40262, -122.11365], [37.40267, -122.11349], [37.40274, -122.1134], [37.40276, -122.11336], [37.40273, -122.11307], [37.40268, -122.11296], [37.40284, -122.11284], [37.4029, -122.11282], [37.40307, -122.11273], [37.40315, -122.11266], [37.40311, -122.11251], [37.40301, -122.11235], [37.40298, -122.11215], [37.40283, -122.11166], [37.40282, -122.11164], [37.40277, -122.11162], [37.40279, -122.11164], [37.40281, -122.11163], [37.40289, -122.11156], [37.40287, -122.11161], [37.40291, -122.11168]],\n",
              "                {&quot;bubblingMouseEvents&quot;: true, &quot;color&quot;: &quot;red&quot;, &quot;dashArray&quot;: null, &quot;dashOffset&quot;: null, &quot;fill&quot;: false, &quot;fillColor&quot;: &quot;red&quot;, &quot;fillOpacity&quot;: 0.2, &quot;fillRule&quot;: &quot;evenodd&quot;, &quot;lineCap&quot;: &quot;round&quot;, &quot;lineJoin&quot;: &quot;round&quot;, &quot;noClip&quot;: false, &quot;opacity&quot;: 1.0, &quot;smoothFactor&quot;: 1.0, &quot;stroke&quot;: true, &quot;weight&quot;: 3}\n",
              "            ).addTo(map_1e88317ad41f129cf67041fd68027b56);\n",
              "        \n",
              "    \n",
              "            var poly_line_504f13f7c353ec249643ff995c1cf5c0 = L.polyline(\n",
              "                [[37.42433, -122.16677], [37.42436, -122.16673], [37.42448, -122.16669], [37.42456, -122.16664], [37.42492, -122.16664], [37.42512, -122.16652], [37.42539, -122.16647], [37.42549, -122.16637], [37.42557, -122.16624], [37.42562, -122.1662], [37.42586, -122.16615], [37.42597, -122.16617], [37.42604, -122.16617], [37.42637, -122.16607], [37.42649, -122.16609], [37.42668, -122.16619], [37.42684, -122.16613], [37.42688, -122.16619], [37.42698, -122.16646], [37.42705, -122.16657], [37.42717, -122.16702], [37.42721, -122.16727], [37.4273, -122.16744], [37.42738, -122.16787], [37.42736, -122.16811], [37.42738, -122.16836], [37.42743, -122.16842], [37.42746, -122.16843], [37.42759, -122.16837], [37.42776, -122.16833], [37.42806, -122.16822], [37.4282, -122.16823], [37.42858, -122.16834], [37.42866, -122.16834], [37.42875, -122.16829], [37.42889, -122.16816], [37.42915, -122.16806], [37.42935, -122.1679], [37.42971, -122.16782], [37.42991, -122.16774], [37.43009, -122.16769], [37.43018, -122.16763], [37.43032, -122.16759], [37.43044, -122.16751], [37.43052, -122.16748], [37.43064, -122.1675], [37.43117, -122.16741], [37.43124, -122.16737], [37.43127, -122.16734], [37.43139, -122.16711], [37.43156, -122.16709], [37.43172, -122.16698], [37.43186, -122.16694], [37.43197, -122.16688], [37.43213, -122.16684], [37.43258, -122.16664], [37.43285, -122.16659], [37.43319, -122.16648], [37.43329, -122.16648], [37.43352, -122.16644], [37.43375, -122.16637], [37.43382, -122.16639], [37.43394, -122.16649], [37.43404, -122.16652], [37.43432, -122.16646], [37.43457, -122.1665], [37.4348, -122.16642], [37.43486, -122.16642], [37.43512, -122.1665], [37.4354, -122.16652], [37.43571, -122.16647], [37.43623, -122.16632], [37.43688, -122.16622], [37.43693, -122.16623], [37.43709, -122.16637], [37.4372, -122.16641], [37.43721, -122.16643], [37.43719, -122.16645], [37.43711, -122.16642], [37.43685, -122.16627], [37.43635, -122.16593], [37.43614, -122.16576], [37.43586, -122.16575], [37.43529, -122.16583], [37.43505, -122.16592], [37.43478, -122.16597], [37.43394, -122.16624], [37.43365, -122.16627], [37.43331, -122.16639], [37.43321, -122.16637], [37.43316, -122.16637], [37.43251, -122.16658], [37.432, -122.16669], [37.43135, -122.16696], [37.4311, -122.16702], [37.43102, -122.16708], [37.43097, -122.16717], [37.43091, -122.16723], [37.43071, -122.16729], [37.43035, -122.16745], [37.43012, -122.16746], [37.42994, -122.16755], [37.42976, -122.16768], [37.42971, -122.16769], [37.42945, -122.16777], [37.42921, -122.1678], [37.42878, -122.16796], [37.42864, -122.16808], [37.42852, -122.16811], [37.42842, -122.16817], [37.42815, -122.16821], [37.42804, -122.16824], [37.42798, -122.16824], [37.42794, -122.16821], [37.42786, -122.16821], [37.42763, -122.1683], [37.42737, -122.16834], [37.42712, -122.16844], [37.42683, -122.1685], [37.42676, -122.16848], [37.42674, -122.16843], [37.42673, -122.16811], [37.42675, -122.16798], [37.42671, -122.16788], [37.42652, -122.16772], [37.42636, -122.16757], [37.4263, -122.16748], [37.42624, -122.16732], [37.42619, -122.16727], [37.42603, -122.16721], [37.42599, -122.16717], [37.42593, -122.16695], [37.42587, -122.1669], [37.42576, -122.16687], [37.42567, -122.16663], [37.4255, -122.16639], [37.42541, -122.16631], [37.42511, -122.16624], [37.42492, -122.16623], [37.42406, -122.16654], [37.42376, -122.16657], [37.42371, -122.16658], [37.42363, -122.16666], [37.42354, -122.16668], [37.42349, -122.16666], [37.4234, -122.1665]],\n",
              "                {&quot;bubblingMouseEvents&quot;: true, &quot;color&quot;: &quot;red&quot;, &quot;dashArray&quot;: null, &quot;dashOffset&quot;: null, &quot;fill&quot;: false, &quot;fillColor&quot;: &quot;red&quot;, &quot;fillOpacity&quot;: 0.2, &quot;fillRule&quot;: &quot;evenodd&quot;, &quot;lineCap&quot;: &quot;round&quot;, &quot;lineJoin&quot;: &quot;round&quot;, &quot;noClip&quot;: false, &quot;opacity&quot;: 1.0, &quot;smoothFactor&quot;: 1.0, &quot;stroke&quot;: true, &quot;weight&quot;: 3}\n",
              "            ).addTo(map_1e88317ad41f129cf67041fd68027b56);\n",
              "        \n",
              "    \n",
              "            var poly_line_06a1a7e07118d7ed9ff1a855136fbe2c = L.polyline(\n",
              "                [[37.42981, -122.16322], [37.42986, -122.16321], [37.43001, -122.16324], [37.43008, -122.16323], [37.43012, -122.16324], [37.43028, -122.16336], [37.43048, -122.16343], [37.43053, -122.16342], [37.43059, -122.16339], [37.43078, -122.16324], [37.43082, -122.16324], [37.43088, -122.16339], [37.43111, -122.16355], [37.43122, -122.16368], [37.43139, -122.16375], [37.43145, -122.16383], [37.43159, -122.16392], [37.43169, -122.16393], [37.43171, -122.16395], [37.43179, -122.16426], [37.43184, -122.16434], [37.43194, -122.1644], [37.43209, -122.16445], [37.43218, -122.16455], [37.43241, -122.16464], [37.43259, -122.16464], [37.43283, -122.16438], [37.4329, -122.16433], [37.43297, -122.16429], [37.43312, -122.16424], [37.43323, -122.16417], [37.43332, -122.16415], [37.43345, -122.1641], [37.43351, -122.16401], [37.4336, -122.16393], [37.43364, -122.16381], [37.43366, -122.16379], [37.43379, -122.16387], [37.4339, -122.1639], [37.43405, -122.16409], [37.43437, -122.16424], [37.43445, -122.1643], [37.43449, -122.16431], [37.43462, -122.16426], [37.43477, -122.16414], [37.43489, -122.16406], [37.43493, -122.16405], [37.43503, -122.16407], [37.43506, -122.16406], [37.43513, -122.16398], [37.43521, -122.1638], [37.43526, -122.16374], [37.43527, -122.16388], [37.43529, -122.16392], [37.43532, -122.16395], [37.43547, -122.16396], [37.43554, -122.16399], [37.43556, -122.16403], [37.4356, -122.16416], [37.43564, -122.16418], [37.43576, -122.16415], [37.43609, -122.16397], [37.43621, -122.16392], [37.43629, -122.16392], [37.43638, -122.16395], [37.43643, -122.16399], [37.43643, -122.16404], [37.43641, -122.16407], [37.43635, -122.1641], [37.43629, -122.16416], [37.43609, -122.16428], [37.43602, -122.16429], [37.43587, -122.16424], [37.4358, -122.16425], [37.43536, -122.16445], [37.43512, -122.1647], [37.43492, -122.16479], [37.43477, -122.16484], [37.43471, -122.16489], [37.43453, -122.16516], [37.43448, -122.1653], [37.43446, -122.16559], [37.43441, -122.16583], [37.43441, -122.16604], [37.43446, -122.16622], [37.43446, -122.16635], [37.43443, -122.16639], [37.43415, -122.16641], [37.434, -122.16646], [37.43397, -122.16645], [37.43386, -122.16637], [37.43378, -122.16627], [37.43369, -122.16624], [37.4336, -122.16626], [37.43338, -122.16636], [37.43311, -122.16636], [37.43293, -122.1664], [37.43272, -122.16646], [37.43255, -122.16654], [37.43225, -122.16665], [37.43173, -122.16678], [37.43166, -122.16681], [37.43155, -122.16689], [37.4313, -122.16698], [37.43114, -122.16701], [37.43096, -122.16721], [37.43057, -122.16736], [37.43042, -122.16745], [37.43004, -122.16752], [37.42982, -122.1676], [37.42967, -122.16761], [37.42939, -122.16772], [37.42923, -122.16774], [37.42907, -122.16779], [37.42891, -122.16786], [37.42877, -122.16797], [37.4286, -122.16793], [37.42856, -122.16791], [37.42853, -122.16778], [37.42844, -122.16712], [37.42826, -122.16687], [37.42818, -122.16671], [37.42818, -122.16663], [37.42826, -122.16645], [37.42827, -122.16629], [37.4282, -122.16609], [37.42812, -122.16569], [37.428, -122.16539], [37.42798, -122.16506], [37.42787, -122.16465], [37.4278, -122.1645], [37.42764, -122.16429], [37.42758, -122.16412], [37.42743, -122.16402], [37.42727, -122.16406], [37.42724, -122.16407], [37.4272, -122.16413], [37.42711, -122.16417], [37.42672, -122.16425], [37.4266, -122.16425], [37.42644, -122.16418], [37.42609, -122.16426], [37.42598, -122.16431], [37.4258, -122.16434], [37.42521, -122.16459], [37.42481, -122.16466], [37.42463, -122.16476], [37.42441, -122.16485], [37.42403, -122.16498], [37.42374, -122.16505], [37.42362, -122.1651], [37.4236, -122.16513], [37.42359, -122.16523], [37.42364, -122.16546], [37.42369, -122.16562], [37.42369, -122.16592], [37.42366, -122.16599], [37.42363, -122.16601], [37.42341, -122.16607], [37.42334, -122.16611], [37.42333, -122.16638]],\n",
              "                {&quot;bubblingMouseEvents&quot;: true, &quot;color&quot;: &quot;red&quot;, &quot;dashArray&quot;: null, &quot;dashOffset&quot;: null, &quot;fill&quot;: false, &quot;fillColor&quot;: &quot;red&quot;, &quot;fillOpacity&quot;: 0.2, &quot;fillRule&quot;: &quot;evenodd&quot;, &quot;lineCap&quot;: &quot;round&quot;, &quot;lineJoin&quot;: &quot;round&quot;, &quot;noClip&quot;: false, &quot;opacity&quot;: 1.0, &quot;smoothFactor&quot;: 1.0, &quot;stroke&quot;: true, &quot;weight&quot;: 3}\n",
              "            ).addTo(map_1e88317ad41f129cf67041fd68027b56);\n",
              "        \n",
              "&lt;/script&gt;\n",
              "&lt;/html&gt;\" style=\"position:absolute;width:100%;height:100%;left:0;top:0;border:none !important;\" allowfullscreen webkitallowfullscreen mozallowfullscreen></iframe></div></div>"
            ]
          },
          "metadata": {}
        }
      ]
    },
    {
      "cell_type": "markdown",
      "source": [
        "<i>Above is an interactive map that we plotted ourselves</i>"
      ],
      "metadata": {
        "id": "hblc8ryqpSzD"
      }
    },
    {
      "cell_type": "markdown",
      "source": [
        "#5. Data Analysis"
      ],
      "metadata": {
        "id": "B01Xn40Vmrh-"
      }
    },
    {
      "cell_type": "markdown",
      "source": [
        "Now that we have found, the weekly summary for the participant's activity time, let's plot some graphs to see if there is a correlation between the various metrics of the participants data."
      ],
      "metadata": {
        "id": "S2emE5BmPOzi"
      }
    },
    {
      "cell_type": "markdown",
      "source": [
        "First let's replot our original dataframe to see what all parameters we have access to."
      ],
      "metadata": {
        "id": "m_-AzgaGpgAF"
      }
    },
    {
      "cell_type": "code",
      "source": [
        "df_strava"
      ],
      "metadata": {
        "id": "fVtjQpfO3Es2"
      },
      "execution_count": null,
      "outputs": []
    },
    {
      "cell_type": "markdown",
      "source": [
        "In order to focus on the just the runs, we will have to clean the dataframe and only keep activities of the type 'Run'."
      ],
      "metadata": {
        "id": "Df6TZaNA5XVz"
      }
    },
    {
      "cell_type": "code",
      "source": [
        "# This will help us restrict our dataset to only the activities which are classified as 'Run'\n",
        "df_runs = df_strava[df_strava.get('type')=='Run']"
      ],
      "metadata": {
        "id": "htl91WPi3KeA"
      },
      "execution_count": null,
      "outputs": []
    },
    {
      "cell_type": "markdown",
      "source": [
        "Additionally, there are a lot of NaN values in our dataset that are incomplete to assist in our analysis. Let's remove them below!"
      ],
      "metadata": {
        "id": "SfSj1OL6pvSf"
      }
    },
    {
      "cell_type": "code",
      "source": [
        "# We will drop the null values and only get the columns we need\n",
        "df_runs_cleaned = df_runs.get(['max_speed','max_heartrate']).dropna()"
      ],
      "metadata": {
        "id": "MNeotN237OJJ"
      },
      "execution_count": null,
      "outputs": []
    },
    {
      "cell_type": "markdown",
      "source": [
        "As the strava api returns the max_speed values in meters/second and our above plots use miles, we will convert max speed to km/hour to maintain consistency."
      ],
      "metadata": {
        "id": "2-fQ5q_Ox83F"
      }
    },
    {
      "cell_type": "code",
      "source": [
        "df_runs_cleaned = df_runs_cleaned.assign(max_speed =\n",
        "                    df_runs_cleaned.get('max_speed').apply(lambda x: x*3.6))"
      ],
      "metadata": {
        "id": "LC_AssrByHcn"
      },
      "execution_count": null,
      "outputs": []
    },
    {
      "cell_type": "markdown",
      "source": [
        "Let's plot the cleaned Data Frame below!"
      ],
      "metadata": {
        "id": "RQ-v2D4jAIYc"
      }
    },
    {
      "cell_type": "code",
      "source": [
        "df_runs_cleaned"
      ],
      "metadata": {
        "id": "ell2Vn6KAHBs"
      },
      "execution_count": null,
      "outputs": []
    },
    {
      "cell_type": "markdown",
      "source": [
        "## 5.1 Heart Rate vs. Max Speed\n",
        "Maybe the heart rate is correlated with how fast you run. Let's test if this hypothesis is true. We will do so by plotting a scatterplot between those two metrics and finding the correlation."
      ],
      "metadata": {
        "id": "dFUj5DLzRbQt"
      }
    },
    {
      "cell_type": "markdown",
      "source": [
        "First, we will plot a chart to see if there is a visual correlation between a partcipant's max heart rate and their max speed."
      ],
      "metadata": {
        "id": "fqyJgYR8Oim4"
      }
    },
    {
      "cell_type": "code",
      "source": [
        "# Setting Figure Size in Seaborn\n",
        "sns.set(rc={'figure.figsize':(16,8)})\n",
        "\n",
        "# Setting Seaborn plot style\n",
        "sns.set_style(\"darkgrid\")\n",
        "\n",
        "#Plotting our data\n",
        "plot = sns.regplot(data=df_runs_cleaned, x=\"max_speed\", y=\"max_heartrate\")\n",
        "\n",
        "#Renaming x and y labels\n",
        "plot.set_ylabel(\"Maximum Heart Rate (bpm)\", fontsize = 16)\n",
        "plot.set_xlabel(\"Maximum Speed (km/hr)\", fontsize = 16)\n"
      ],
      "metadata": {
        "id": "PRSvXh7ato5V"
      },
      "execution_count": null,
      "outputs": []
    },
    {
      "cell_type": "markdown",
      "source": [
        "As we can see from the scatterplot above, our regression line hints that there might be a correlation between maximum speed and maximum heart rate. Let's compute $R^2$ just to see exactly how correlated.\n",
        "\n",
        "We'll follow [this documentation](https://docs.scipy.org/doc/scipy-0.15.1/reference/generated/scipy.stats.linregress.html) and perform a linear regression to obtain the coefficient of determination."
      ],
      "metadata": {
        "id": "Pb3_Ea6NzauR"
      }
    },
    {
      "cell_type": "code",
      "source": [
        "from scipy import stats\n",
        "\n",
        "slope, intercept, r_value, p_value, std_err = stats.linregress(\n",
        "    df_runs_cleaned.get('max_speed'), df_runs_cleaned.get('max_heartrate'))\n",
        "\n",
        "print(f'Slope: {slope:.3g}')\n",
        "print(f'Coefficient of determination: {r_value**2:.3g}')\n",
        "print(f'p-value: {p_value:.3g}')"
      ],
      "metadata": {
        "id": "6XSUa3E8zctK"
      },
      "execution_count": null,
      "outputs": []
    },
    {
      "cell_type": "markdown",
      "source": [
        "As we can see that the p-value is slightly over 5% which means that there is not enough evidence to convincingly conclude that that there is a correlation between heart rate and speed. However, our p-value is very close to the 5% mark. Let's try to locate the outliers in this data and find points that might be skewing our dataset and preventing us from gathering enough evidence to prove our correlation."
      ],
      "metadata": {
        "id": "mZb4bec41LUW"
      }
    },
    {
      "cell_type": "markdown",
      "source": [
        "##5.2 Outlier Detection"
      ],
      "metadata": {
        "id": "RxSmXOTbkv0d"
      }
    },
    {
      "cell_type": "markdown",
      "source": [
        "Before finding the individual outlier values, it would be interesting to see the summary of our max_speed and max_heartrate parameters. It will give us a clear idea of what values are typical and which values can be considered atypical based on the data that we recieved from Strava."
      ],
      "metadata": {
        "id": "K3e4GXr_64QC"
      }
    },
    {
      "cell_type": "code",
      "source": [
        "df_runs_cleaned_summary = df_runs_cleaned.describe().get(\n",
        "    ['max_speed','max_heartrate'])\n",
        "df_runs_cleaned_summary"
      ],
      "metadata": {
        "id": "9tEf7tzUzzCC"
      },
      "execution_count": null,
      "outputs": []
    },
    {
      "cell_type": "markdown",
      "source": [
        "To locate the outliers we will be using a supervised as well as unsupervised algorithm called the Elliptic Envelope. In statistical studies, Elliptic Envelope created an imaginary elliptical area around a given dataset where values inside that imaginary area is considered to be normal data, and anything else is assumed to be outliers. It assumes that the given Data follows a gaussian distribution.\n",
        "\n",
        "\"The main idea is to define the shape of the data and anomalies are those observations that lie far outside the shape. First a robust estimate of covariance of data is fitted into an ellipse around the central mode. Then, the Mahalanobis distance that is obtained from this estimate is used to define the threshold for determining outliers or anomalies.\" [(S. Shriram and E. Sivasankar ,2019, pp. 221-225)](https://ieeexplore.ieee.org/document/9004325)"
      ],
      "metadata": {
        "id": "pmNbSjjGkvMW"
      }
    },
    {
      "cell_type": "code",
      "source": [
        "#create the model, set the contamination as 0.02\n",
        "EE_model = EllipticEnvelope(contamination = 0.02)\n",
        "\n",
        "#implement the model on the data\n",
        "outliers = EE_model.fit_predict(df_runs_cleaned[[\"max_speed\", \"max_heartrate\"]])\n",
        "\n",
        "#extract the labels\n",
        "df_runs_cleaned[\"outlier\"] = outliers\n",
        "\n",
        "#change the labels\n",
        "# We use -1 to mark an outlier and +1 for an inliner\n",
        "df_runs_cleaned[\"outlier\"] = df_runs_cleaned[\"outlier\"].apply(\n",
        "    lambda x: str(-1) if x == -1 else str(1))\n",
        "\n",
        "#extract the score\n",
        "df_runs_cleaned[\"EE_scores\"] = EE_model.score_samples(\n",
        "    df_runs_cleaned[[\"max_speed\", \"max_heartrate\"]])\n",
        "\n",
        "#print the value counts for inlier and outliers\n",
        "print(df_runs_cleaned[\"outlier\"].value_counts())"
      ],
      "metadata": {
        "id": "ryavKTRA4fPy"
      },
      "execution_count": null,
      "outputs": []
    },
    {
      "cell_type": "markdown",
      "source": [
        "Below we will replot the df_runs_cleaned dataframe to see how the two new columns were applied to it!"
      ],
      "metadata": {
        "id": "ULxuA7fmrYm1"
      }
    },
    {
      "cell_type": "code",
      "source": [
        "df_runs_cleaned"
      ],
      "metadata": {
        "id": "di9EieSF4xJK"
      },
      "execution_count": null,
      "outputs": []
    },
    {
      "cell_type": "markdown",
      "source": [
        "Now that we have labeled the outliers as -1, let's try to see which values of max heartrate and max speed are being considered as outliers by our Elliptic Envelope Algorithm."
      ],
      "metadata": {
        "id": "19w2eGERXBxI"
      }
    },
    {
      "cell_type": "code",
      "source": [
        "outlier_df = df_runs_cleaned[df_runs_cleaned.get('outlier')=='-1'].get(\n",
        "    ['max_heartrate','max_speed'])\n",
        "outlier_df"
      ],
      "metadata": {
        "id": "b6RRRtyWM_oG"
      },
      "execution_count": null,
      "outputs": []
    },
    {
      "cell_type": "markdown",
      "source": [
        "Using the dataframe above, we can highlight these outlier values in our original scatterplot in order to visually asses which pair/s of max speed and max heart rate values are not following the general trend seen in our scatterplot."
      ],
      "metadata": {
        "id": "nyhKAYCxDpT1"
      }
    },
    {
      "cell_type": "code",
      "source": [
        "df_runs_cleaned.drop(outlier_df.index)"
      ],
      "metadata": {
        "id": "DuF9zTA7GjNi"
      },
      "execution_count": null,
      "outputs": []
    },
    {
      "cell_type": "code",
      "source": [
        "# Setting Figure Size in Seaborn\n",
        "sns.set(rc={'figure.figsize':(16,8)})\n",
        "\n",
        "# Setting Seaborn plot style\n",
        "sns.set_style(\"darkgrid\")\n",
        "\n",
        "# Plotting our data\n",
        "# We will calculate the regression line while not accounting for our outliers\n",
        "plot = sns.regplot(data=df_runs_cleaned.drop(outlier_df.index), x=\"max_speed\",\n",
        "                   y=\"max_heartrate\")\n",
        "\n",
        "#Renaming x and y labels\n",
        "plot.set_ylabel(\"Maximum Heart Rate (bpm)\", fontsize = 16)\n",
        "plot.set_xlabel(\"Maximum Speed (km/hr)\", fontsize = 16)\n",
        "\n",
        "# Plotting the outlier and highlighting it\n",
        "plt.scatter(outlier_df.get('max_speed'),outlier_df.get('max_heartrate'))\n",
        "plt.scatter(outlier_df.get('max_speed'),outlier_df.get('max_heartrate'),\n",
        "            facecolors='red',alpha=.35, s=500)"
      ],
      "metadata": {
        "id": "VCG6LICwDoya"
      },
      "execution_count": null,
      "outputs": []
    },
    {
      "cell_type": "markdown",
      "source": [
        "Thus, the points highlighted in red are ones that seem to not be following the general trend of our dataset. Lastly, let's see what the new p-value is after outlier removal!"
      ],
      "metadata": {
        "id": "QyIjZhjMHnty"
      }
    },
    {
      "cell_type": "code",
      "source": [
        "slope, intercept, r_value, p_value, std_err = stats.linregress(\n",
        "    df_runs_cleaned.drop(outlier_df.index).get('max_speed'), \n",
        "    df_runs_cleaned.drop(outlier_df.index).get('max_heartrate'))\n",
        "\n",
        "print(f'Slope: {slope:.3g}')\n",
        "print(f'Coefficient of determination: {r_value**2:.3g}')\n",
        "print(f'p-value: {p_value:.3g}')"
      ],
      "metadata": {
        "id": "KPTThpPQzstk"
      },
      "execution_count": null,
      "outputs": []
    },
    {
      "cell_type": "markdown",
      "source": [
        "Our new p-value after removing any outliers is 1.2% which is less than  5%. Therefore, after removing the outliers, our result is statistically significant which means that there is enough evidence to conclude that that there is a correlation between maximum speed and the maximum heart rate."
      ],
      "metadata": {
        "id": "xh7MkjIt0MTd"
      }
    }
  ]
}